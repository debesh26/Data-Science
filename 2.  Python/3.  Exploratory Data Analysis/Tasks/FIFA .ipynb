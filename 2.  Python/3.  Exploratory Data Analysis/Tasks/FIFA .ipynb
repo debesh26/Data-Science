{
 "cells": [
  {
   "cell_type": "markdown",
   "metadata": {},
   "source": [
    "# **Table of Contents**\n",
    "* [Data Preprocessing](#section_a)\n",
    "    * [Drop](#section_1)\n",
    "    * [Convert](#section_2)\n",
    "    * [Null treatment](#section_3)\n",
    "    <br><br>\n",
    "* [EDA](#section_b)\n",
    "    * [Q 1](#section_4)\n",
    "    * [Q 2](#section_5)"
   ]
  },
  {
   "cell_type": "code",
   "execution_count": 1,
   "metadata": {},
   "outputs": [],
   "source": [
    "import numpy                as np\n",
    "import pandas               as pd\n",
    "import matplotlib.pyplot    as plt\n",
    "import seaborn              as sns\n",
    "\n",
    "import warnings\n",
    "warnings.simplefilter(\"ignore\")"
   ]
  },
  {
   "cell_type": "code",
   "execution_count": 2,
   "metadata": {},
   "outputs": [
    {
     "data": {
      "text/html": [
       "<div>\n",
       "<style scoped>\n",
       "    .dataframe tbody tr th:only-of-type {\n",
       "        vertical-align: middle;\n",
       "    }\n",
       "\n",
       "    .dataframe tbody tr th {\n",
       "        vertical-align: top;\n",
       "    }\n",
       "\n",
       "    .dataframe thead th {\n",
       "        text-align: right;\n",
       "    }\n",
       "</style>\n",
       "<table border=\"1\" class=\"dataframe\">\n",
       "  <thead>\n",
       "    <tr style=\"text-align: right;\">\n",
       "      <th></th>\n",
       "      <th>ID</th>\n",
       "      <th>Name</th>\n",
       "      <th>Age</th>\n",
       "      <th>Photo</th>\n",
       "      <th>Nationality</th>\n",
       "      <th>Flag</th>\n",
       "      <th>Overall</th>\n",
       "      <th>Potential</th>\n",
       "      <th>Club</th>\n",
       "      <th>Club Logo</th>\n",
       "      <th>...</th>\n",
       "      <th>Work Rate</th>\n",
       "      <th>Body Type</th>\n",
       "      <th>Position</th>\n",
       "      <th>Jersey Number</th>\n",
       "      <th>Joined</th>\n",
       "      <th>Loaned From</th>\n",
       "      <th>Contract Valid Until</th>\n",
       "      <th>Height</th>\n",
       "      <th>Weight</th>\n",
       "      <th>Release Clause</th>\n",
       "    </tr>\n",
       "  </thead>\n",
       "  <tbody>\n",
       "    <tr>\n",
       "      <th>14213</th>\n",
       "      <td>231522</td>\n",
       "      <td>A. Stadler</td>\n",
       "      <td>30</td>\n",
       "      <td>https://cdn.sofifa.org/players/4/19/231522.png</td>\n",
       "      <td>United States</td>\n",
       "      <td>https://cdn.sofifa.org/flags/95.png</td>\n",
       "      <td>61</td>\n",
       "      <td>61</td>\n",
       "      <td>Dalkurd FF</td>\n",
       "      <td>https://cdn.sofifa.org/teams/2/light/113876.png</td>\n",
       "      <td>...</td>\n",
       "      <td>High/ High</td>\n",
       "      <td>Lean</td>\n",
       "      <td>ST</td>\n",
       "      <td>13.0</td>\n",
       "      <td>22-Mar-17</td>\n",
       "      <td>NaN</td>\n",
       "      <td>2018</td>\n",
       "      <td>5'10</td>\n",
       "      <td>157lbs</td>\n",
       "      <td>€300K</td>\n",
       "    </tr>\n",
       "    <tr>\n",
       "      <th>16542</th>\n",
       "      <td>232113</td>\n",
       "      <td>C. Gallego</td>\n",
       "      <td>29</td>\n",
       "      <td>https://cdn.sofifa.org/players/4/19/232113.png</td>\n",
       "      <td>Colombia</td>\n",
       "      <td>https://cdn.sofifa.org/flags/56.png</td>\n",
       "      <td>57</td>\n",
       "      <td>57</td>\n",
       "      <td>Itagüí Leones FC</td>\n",
       "      <td>https://cdn.sofifa.org/teams/2/light/112970.png</td>\n",
       "      <td>...</td>\n",
       "      <td>Medium/ Medium</td>\n",
       "      <td>Normal</td>\n",
       "      <td>LB</td>\n",
       "      <td>4.0</td>\n",
       "      <td>09-Jul-18</td>\n",
       "      <td>NaN</td>\n",
       "      <td>2021</td>\n",
       "      <td>5'9</td>\n",
       "      <td>157lbs</td>\n",
       "      <td>€108K</td>\n",
       "    </tr>\n",
       "    <tr>\n",
       "      <th>3114</th>\n",
       "      <td>228821</td>\n",
       "      <td>Z. Machach</td>\n",
       "      <td>22</td>\n",
       "      <td>https://cdn.sofifa.org/players/4/19/228821.png</td>\n",
       "      <td>France</td>\n",
       "      <td>https://cdn.sofifa.org/flags/18.png</td>\n",
       "      <td>73</td>\n",
       "      <td>80</td>\n",
       "      <td>Carpi</td>\n",
       "      <td>https://cdn.sofifa.org/teams/2/light/112409.png</td>\n",
       "      <td>...</td>\n",
       "      <td>Medium/ Medium</td>\n",
       "      <td>Normal</td>\n",
       "      <td>CAM</td>\n",
       "      <td>27.0</td>\n",
       "      <td>NaN</td>\n",
       "      <td>Napoli</td>\n",
       "      <td>30-Jun-19</td>\n",
       "      <td>6'0</td>\n",
       "      <td>170lbs</td>\n",
       "      <td>NaN</td>\n",
       "    </tr>\n",
       "  </tbody>\n",
       "</table>\n",
       "<p>3 rows × 26 columns</p>\n",
       "</div>"
      ],
      "text/plain": [
       "           ID        Name  Age  \\\n",
       "14213  231522  A. Stadler   30   \n",
       "16542  232113  C. Gallego   29   \n",
       "3114   228821  Z. Machach   22   \n",
       "\n",
       "                                                Photo    Nationality  \\\n",
       "14213  https://cdn.sofifa.org/players/4/19/231522.png  United States   \n",
       "16542  https://cdn.sofifa.org/players/4/19/232113.png       Colombia   \n",
       "3114   https://cdn.sofifa.org/players/4/19/228821.png         France   \n",
       "\n",
       "                                      Flag  Overall  Potential  \\\n",
       "14213  https://cdn.sofifa.org/flags/95.png       61         61   \n",
       "16542  https://cdn.sofifa.org/flags/56.png       57         57   \n",
       "3114   https://cdn.sofifa.org/flags/18.png       73         80   \n",
       "\n",
       "                   Club                                        Club Logo  ...  \\\n",
       "14213        Dalkurd FF  https://cdn.sofifa.org/teams/2/light/113876.png  ...   \n",
       "16542  Itagüí Leones FC  https://cdn.sofifa.org/teams/2/light/112970.png  ...   \n",
       "3114              Carpi  https://cdn.sofifa.org/teams/2/light/112409.png  ...   \n",
       "\n",
       "            Work Rate Body Type Position  Jersey Number     Joined  \\\n",
       "14213      High/ High      Lean       ST           13.0  22-Mar-17   \n",
       "16542  Medium/ Medium    Normal       LB            4.0  09-Jul-18   \n",
       "3114   Medium/ Medium    Normal      CAM           27.0        NaN   \n",
       "\n",
       "       Loaned From Contract Valid Until Height  Weight  Release Clause  \n",
       "14213          NaN                 2018   5'10  157lbs           €300K  \n",
       "16542          NaN                 2021    5'9  157lbs           €108K  \n",
       "3114        Napoli            30-Jun-19    6'0  170lbs             NaN  \n",
       "\n",
       "[3 rows x 26 columns]"
      ]
     },
     "execution_count": 2,
     "metadata": {},
     "output_type": "execute_result"
    }
   ],
   "source": [
    "df = pd.read_csv('datasets/FIFA.csv')\n",
    "\n",
    "df.sample(3)"
   ]
  },
  {
   "cell_type": "markdown",
   "metadata": {},
   "source": [
    "<a id='section_a'></a>\n",
    "# **1. Data Pre-Processing**"
   ]
  },
  {
   "cell_type": "markdown",
   "metadata": {},
   "source": [
    "<a id='section_1'></a>\n",
    "## **Drop**"
   ]
  },
  {
   "cell_type": "code",
   "execution_count": 3,
   "metadata": {},
   "outputs": [],
   "source": [
    "df.drop  ( [    'Photo', 'Nationality', 'Flag','Club Logo', 'Preferred Foot', \n",
    "                'Skill Moves' , 'Body Type', 'Jersey Number', 'Weak Foot', \n",
    "                'Work Rate', 'Loaned From', 'Club','Joined' \n",
    "           ] , axis=1 , inplace=True )"
   ]
  },
  {
   "cell_type": "markdown",
   "metadata": {},
   "source": [
    "<a id='section_2'></a>\n",
    "## **Convert**"
   ]
  },
  {
   "cell_type": "code",
   "execution_count": 4,
   "metadata": {},
   "outputs": [],
   "source": [
    "df['Value']  =  [ 1000000*float(i.strip('M').strip('€'))    \n",
    "                  if 'M' in i    \n",
    "                  else  1000*float(i.strip('K').strip('€'))    \n",
    "                  for i in df['Value']\n",
    "                ]"
   ]
  },
  {
   "cell_type": "code",
   "execution_count": 5,
   "metadata": {},
   "outputs": [],
   "source": [
    "df['Wage']   =  [ 1000000*float(i.strip('M').strip('€'))  \n",
    "                  if 'M' in i \n",
    "                  else 1000*float(i.strip('K').strip('€')) \n",
    "                  for i in df['Wage']\n",
    "                ]"
   ]
  },
  {
   "cell_type": "code",
   "execution_count": 6,
   "metadata": {},
   "outputs": [],
   "source": [
    "l=[]\n",
    "\n",
    "for i in df['Release Clause']:\n",
    "    if isinstance(i,float)!=True:\n",
    "        if 'M' in i:\n",
    "            l.append(1000000*float(i.strip('M').strip('€')))\n",
    "        elif 'K' in i:\n",
    "            l.append(1000*float(i.strip('K').strip('€')))\n",
    "    else:\n",
    "         l.append(i)\n",
    "            \n",
    "df['Release Clause']=l"
   ]
  },
  {
   "cell_type": "code",
   "execution_count": 7,
   "metadata": {},
   "outputs": [],
   "source": [
    "df['Height']  =  [ i \n",
    "                  if isinstance(i,float)==True \n",
    "                  else ((float(i.split(\"'\")[0])*12) + float(i.split(\"'\")[1]))  \n",
    "                  for i in df['Height']\n",
    "                 ]"
   ]
  },
  {
   "cell_type": "code",
   "execution_count": 8,
   "metadata": {},
   "outputs": [],
   "source": [
    "df['Weight']  =  [ i \n",
    "                   if isinstance(i,float)==True \n",
    "                   else float(i.strip('lbs')) \n",
    "                   for i in df['Weight']\n",
    "                 ]"
   ]
  },
  {
   "cell_type": "code",
   "execution_count": 9,
   "metadata": {},
   "outputs": [],
   "source": [
    "df['Contract Valid Until']  =   pd.to_datetime ( df['Contract Valid Until'] )"
   ]
  },
  {
   "cell_type": "markdown",
   "metadata": {},
   "source": [
    "<a id='section_3'></a>\n",
    "## **Null treatment**"
   ]
  },
  {
   "cell_type": "code",
   "execution_count": 10,
   "metadata": {},
   "outputs": [
    {
     "data": {
      "text/plain": [
       "ID                             0\n",
       "Name                           0\n",
       "Age                            0\n",
       "Overall                        0\n",
       "Potential                      0\n",
       "Value                          0\n",
       "Wage                           0\n",
       "International Reputation      48\n",
       "Position                      60\n",
       "Contract Valid Until         289\n",
       "Height                        48\n",
       "Weight                        48\n",
       "Release Clause              1564\n",
       "dtype: int64"
      ]
     },
     "execution_count": 10,
     "metadata": {},
     "output_type": "execute_result"
    }
   ],
   "source": [
    "df.isnull().sum()"
   ]
  },
  {
   "cell_type": "code",
   "execution_count": 11,
   "metadata": {},
   "outputs": [],
   "source": [
    "df['International Reputation'].fillna ( df['International Reputation'].mean()  ,  inplace=True)\n",
    "\n",
    "df['Height']                  .fillna ( df['Height'].mean()        ,   inplace=True )\n",
    "\n",
    "df['Weight']                  .fillna ( df['Weight'].mean()        ,   inplace=True )\n",
    "\n",
    "df['Position']                .fillna ( df['Position'].mode()[0]   ,   inplace=True )"
   ]
  },
  {
   "cell_type": "code",
   "execution_count": 12,
   "metadata": {},
   "outputs": [
    {
     "data": {
      "text/plain": [
       "ID                             0\n",
       "Name                           0\n",
       "Age                            0\n",
       "Overall                        0\n",
       "Potential                      0\n",
       "Value                          0\n",
       "Wage                           0\n",
       "International Reputation       0\n",
       "Position                       0\n",
       "Contract Valid Until         289\n",
       "Height                         0\n",
       "Weight                         0\n",
       "Release Clause              1564\n",
       "dtype: int64"
      ]
     },
     "execution_count": 12,
     "metadata": {},
     "output_type": "execute_result"
    }
   ],
   "source": [
    "df.isnull().sum()"
   ]
  },
  {
   "cell_type": "markdown",
   "metadata": {},
   "source": [
    "<a id='section_b'></a>\n",
    "# **2. EDA**"
   ]
  },
  {
   "cell_type": "markdown",
   "metadata": {},
   "source": [
    "<a id='section_4'></a>\n",
    "## **Q 1** "
   ]
  },
  {
   "cell_type": "code",
   "execution_count": 13,
   "metadata": {},
   "outputs": [
    {
     "data": {
      "image/png": "[encoded data removed]",
      "text/plain": [
       "<Figure size 432x288 with 1 Axes>"
      ]
     },
     "metadata": {
      "needs_background": "light"
     },
     "output_type": "display_data"
    }
   ],
   "source": [
    "sns.distplot ( df['Overall'] ) ;"
   ]
  },
  {
   "cell_type": "code",
   "execution_count": 14,
   "metadata": {},
   "outputs": [
    {
     "name": "stdout",
     "output_type": "stream",
     "text": [
      "66.0\n",
      "66\n"
     ]
    }
   ],
   "source": [
    "print  (df['Overall'].median())\n",
    "print  (df['Overall'].mode()[0])"
   ]
  },
  {
   "cell_type": "code",
   "execution_count": 15,
   "metadata": {},
   "outputs": [
    {
     "name": "stdout",
     "output_type": "stream",
     "text": [
      "94\n",
      "46\n"
     ]
    }
   ],
   "source": [
    "print  (df['Overall'].max())\n",
    "print  (df['Overall'].min())"
   ]
  },
  {
   "cell_type": "markdown",
   "metadata": {},
   "source": [
    "<a id='section_5'></a>\n",
    "## **Q 2**\n",
    "### Table"
   ]
  },
  {
   "cell_type": "code",
   "execution_count": 17,
   "metadata": {},
   "outputs": [],
   "source": [
    "top10 = df [ df.sort_values('Overall',ascending=False) ['Contract Valid Until']=='2020'] . head(10)"
   ]
  },
  {
   "cell_type": "code",
   "execution_count": 18,
   "metadata": {},
   "outputs": [
    {
     "data": {
      "text/html": [
       "<div>\n",
       "<style scoped>\n",
       "    .dataframe tbody tr th:only-of-type {\n",
       "        vertical-align: middle;\n",
       "    }\n",
       "\n",
       "    .dataframe tbody tr th {\n",
       "        vertical-align: top;\n",
       "    }\n",
       "\n",
       "    .dataframe thead th {\n",
       "        text-align: right;\n",
       "    }\n",
       "</style>\n",
       "<table border=\"1\" class=\"dataframe\">\n",
       "  <thead>\n",
       "    <tr style=\"text-align: right;\">\n",
       "      <th></th>\n",
       "      <th>ID</th>\n",
       "      <th>Name</th>\n",
       "      <th>Age</th>\n",
       "      <th>Overall</th>\n",
       "      <th>Potential</th>\n",
       "      <th>Value</th>\n",
       "      <th>Wage</th>\n",
       "      <th>International Reputation</th>\n",
       "      <th>Position</th>\n",
       "      <th>Contract Valid Until</th>\n",
       "      <th>Height</th>\n",
       "      <th>Weight</th>\n",
       "      <th>Release Clause</th>\n",
       "    </tr>\n",
       "  </thead>\n",
       "  <tbody>\n",
       "    <tr>\n",
       "      <th>3</th>\n",
       "      <td>193080</td>\n",
       "      <td>De Gea</td>\n",
       "      <td>27</td>\n",
       "      <td>91</td>\n",
       "      <td>93</td>\n",
       "      <td>72000000.0</td>\n",
       "      <td>260000.0</td>\n",
       "      <td>4.0</td>\n",
       "      <td>GK</td>\n",
       "      <td>2020-01-01</td>\n",
       "      <td>76.0</td>\n",
       "      <td>168.0</td>\n",
       "      <td>138600000.0</td>\n",
       "    </tr>\n",
       "    <tr>\n",
       "      <th>5</th>\n",
       "      <td>183277</td>\n",
       "      <td>E. Hazard</td>\n",
       "      <td>27</td>\n",
       "      <td>91</td>\n",
       "      <td>91</td>\n",
       "      <td>93000000.0</td>\n",
       "      <td>340000.0</td>\n",
       "      <td>4.0</td>\n",
       "      <td>LF</td>\n",
       "      <td>2020-01-01</td>\n",
       "      <td>68.0</td>\n",
       "      <td>163.0</td>\n",
       "      <td>172100000.0</td>\n",
       "    </tr>\n",
       "    <tr>\n",
       "      <th>6</th>\n",
       "      <td>177003</td>\n",
       "      <td>L. Modrić</td>\n",
       "      <td>32</td>\n",
       "      <td>91</td>\n",
       "      <td>91</td>\n",
       "      <td>67000000.0</td>\n",
       "      <td>420000.0</td>\n",
       "      <td>4.0</td>\n",
       "      <td>RCM</td>\n",
       "      <td>2020-01-01</td>\n",
       "      <td>68.0</td>\n",
       "      <td>146.0</td>\n",
       "      <td>137400000.0</td>\n",
       "    </tr>\n",
       "    <tr>\n",
       "      <th>8</th>\n",
       "      <td>155862</td>\n",
       "      <td>Sergio Ramos</td>\n",
       "      <td>32</td>\n",
       "      <td>91</td>\n",
       "      <td>91</td>\n",
       "      <td>51000000.0</td>\n",
       "      <td>380000.0</td>\n",
       "      <td>4.0</td>\n",
       "      <td>RCB</td>\n",
       "      <td>2020-01-01</td>\n",
       "      <td>72.0</td>\n",
       "      <td>181.0</td>\n",
       "      <td>104600000.0</td>\n",
       "    </tr>\n",
       "    <tr>\n",
       "      <th>13</th>\n",
       "      <td>168542</td>\n",
       "      <td>David Silva</td>\n",
       "      <td>32</td>\n",
       "      <td>90</td>\n",
       "      <td>90</td>\n",
       "      <td>60000000.0</td>\n",
       "      <td>285000.0</td>\n",
       "      <td>4.0</td>\n",
       "      <td>LCM</td>\n",
       "      <td>2020-01-01</td>\n",
       "      <td>68.0</td>\n",
       "      <td>148.0</td>\n",
       "      <td>111000000.0</td>\n",
       "    </tr>\n",
       "    <tr>\n",
       "      <th>21</th>\n",
       "      <td>179813</td>\n",
       "      <td>E. Cavani</td>\n",
       "      <td>31</td>\n",
       "      <td>89</td>\n",
       "      <td>89</td>\n",
       "      <td>60000000.0</td>\n",
       "      <td>200000.0</td>\n",
       "      <td>4.0</td>\n",
       "      <td>LS</td>\n",
       "      <td>2020-01-01</td>\n",
       "      <td>73.0</td>\n",
       "      <td>170.0</td>\n",
       "      <td>111000000.0</td>\n",
       "    </tr>\n",
       "    <tr>\n",
       "      <th>24</th>\n",
       "      <td>138956</td>\n",
       "      <td>G. Chiellini</td>\n",
       "      <td>33</td>\n",
       "      <td>89</td>\n",
       "      <td>89</td>\n",
       "      <td>27000000.0</td>\n",
       "      <td>215000.0</td>\n",
       "      <td>4.0</td>\n",
       "      <td>LCB</td>\n",
       "      <td>2020-01-01</td>\n",
       "      <td>74.0</td>\n",
       "      <td>187.0</td>\n",
       "      <td>44600000.0</td>\n",
       "    </tr>\n",
       "    <tr>\n",
       "      <th>31</th>\n",
       "      <td>190460</td>\n",
       "      <td>C. Eriksen</td>\n",
       "      <td>26</td>\n",
       "      <td>88</td>\n",
       "      <td>91</td>\n",
       "      <td>73500000.0</td>\n",
       "      <td>205000.0</td>\n",
       "      <td>3.0</td>\n",
       "      <td>CAM</td>\n",
       "      <td>2020-01-01</td>\n",
       "      <td>71.0</td>\n",
       "      <td>168.0</td>\n",
       "      <td>141500000.0</td>\n",
       "    </tr>\n",
       "    <tr>\n",
       "      <th>39</th>\n",
       "      <td>164240</td>\n",
       "      <td>Thiago Silva</td>\n",
       "      <td>33</td>\n",
       "      <td>88</td>\n",
       "      <td>88</td>\n",
       "      <td>24000000.0</td>\n",
       "      <td>165000.0</td>\n",
       "      <td>4.0</td>\n",
       "      <td>RCB</td>\n",
       "      <td>2020-01-01</td>\n",
       "      <td>72.0</td>\n",
       "      <td>181.0</td>\n",
       "      <td>44400000.0</td>\n",
       "    </tr>\n",
       "    <tr>\n",
       "      <th>46</th>\n",
       "      <td>193041</td>\n",
       "      <td>K. Navas</td>\n",
       "      <td>31</td>\n",
       "      <td>87</td>\n",
       "      <td>87</td>\n",
       "      <td>30500000.0</td>\n",
       "      <td>195000.0</td>\n",
       "      <td>3.0</td>\n",
       "      <td>GK</td>\n",
       "      <td>2020-01-01</td>\n",
       "      <td>73.0</td>\n",
       "      <td>176.0</td>\n",
       "      <td>62500000.0</td>\n",
       "    </tr>\n",
       "  </tbody>\n",
       "</table>\n",
       "</div>"
      ],
      "text/plain": [
       "        ID          Name  Age  Overall  Potential       Value      Wage  \\\n",
       "3   193080        De Gea   27       91         93  72000000.0  260000.0   \n",
       "5   183277     E. Hazard   27       91         91  93000000.0  340000.0   \n",
       "6   177003     L. Modrić   32       91         91  67000000.0  420000.0   \n",
       "8   155862  Sergio Ramos   32       91         91  51000000.0  380000.0   \n",
       "13  168542   David Silva   32       90         90  60000000.0  285000.0   \n",
       "21  179813     E. Cavani   31       89         89  60000000.0  200000.0   \n",
       "24  138956  G. Chiellini   33       89         89  27000000.0  215000.0   \n",
       "31  190460    C. Eriksen   26       88         91  73500000.0  205000.0   \n",
       "39  164240  Thiago Silva   33       88         88  24000000.0  165000.0   \n",
       "46  193041      K. Navas   31       87         87  30500000.0  195000.0   \n",
       "\n",
       "    International Reputation Position Contract Valid Until  Height  Weight  \\\n",
       "3                        4.0       GK           2020-01-01    76.0   168.0   \n",
       "5                        4.0       LF           2020-01-01    68.0   163.0   \n",
       "6                        4.0      RCM           2020-01-01    68.0   146.0   \n",
       "8                        4.0      RCB           2020-01-01    72.0   181.0   \n",
       "13                       4.0      LCM           2020-01-01    68.0   148.0   \n",
       "21                       4.0       LS           2020-01-01    73.0   170.0   \n",
       "24                       4.0      LCB           2020-01-01    74.0   187.0   \n",
       "31                       3.0      CAM           2020-01-01    71.0   168.0   \n",
       "39                       4.0      RCB           2020-01-01    72.0   181.0   \n",
       "46                       3.0       GK           2020-01-01    73.0   176.0   \n",
       "\n",
       "    Release Clause  \n",
       "3      138600000.0  \n",
       "5      172100000.0  \n",
       "6      137400000.0  \n",
       "8      104600000.0  \n",
       "13     111000000.0  \n",
       "21     111000000.0  \n",
       "24      44600000.0  \n",
       "31     141500000.0  \n",
       "39      44400000.0  \n",
       "46      62500000.0  "
      ]
     },
     "execution_count": 18,
     "metadata": {},
     "output_type": "execute_result"
    }
   ],
   "source": [
    "top10.head(10)"
   ]
  },
  {
   "cell_type": "markdown",
   "metadata": {},
   "source": [
    "**Average wage**"
   ]
  },
  {
   "cell_type": "code",
   "execution_count": 19,
   "metadata": {},
   "outputs": [
    {
     "data": {
      "text/plain": [
       "266500.0"
      ]
     },
     "execution_count": 19,
     "metadata": {},
     "output_type": "execute_result"
    }
   ],
   "source": [
    "top10['Wage'].mean()"
   ]
  },
  {
   "cell_type": "markdown",
   "metadata": {},
   "source": [
    "**Average age**"
   ]
  },
  {
   "cell_type": "code",
   "execution_count": 20,
   "metadata": {},
   "outputs": [
    {
     "data": {
      "text/plain": [
       "30.4"
      ]
     },
     "execution_count": 20,
     "metadata": {},
     "output_type": "execute_result"
    }
   ],
   "source": [
    "top10['Age'].mean()"
   ]
  },
  {
   "cell_type": "markdown",
   "metadata": {},
   "source": [
    "**Correlation between the Overall rating and Value**"
   ]
  },
  {
   "cell_type": "code",
   "execution_count": 21,
   "metadata": {},
   "outputs": [
    {
     "data": {
      "text/html": [
       "<div>\n",
       "<style scoped>\n",
       "    .dataframe tbody tr th:only-of-type {\n",
       "        vertical-align: middle;\n",
       "    }\n",
       "\n",
       "    .dataframe tbody tr th {\n",
       "        vertical-align: top;\n",
       "    }\n",
       "\n",
       "    .dataframe thead th {\n",
       "        text-align: right;\n",
       "    }\n",
       "</style>\n",
       "<table border=\"1\" class=\"dataframe\">\n",
       "  <thead>\n",
       "    <tr style=\"text-align: right;\">\n",
       "      <th></th>\n",
       "      <th>Overall</th>\n",
       "      <th>Value</th>\n",
       "    </tr>\n",
       "  </thead>\n",
       "  <tbody>\n",
       "    <tr>\n",
       "      <th>Overall</th>\n",
       "      <td>1.000000</td>\n",
       "      <td>0.612239</td>\n",
       "    </tr>\n",
       "    <tr>\n",
       "      <th>Value</th>\n",
       "      <td>0.612239</td>\n",
       "      <td>1.000000</td>\n",
       "    </tr>\n",
       "  </tbody>\n",
       "</table>\n",
       "</div>"
      ],
      "text/plain": [
       "          Overall     Value\n",
       "Overall  1.000000  0.612239\n",
       "Value    0.612239  1.000000"
      ]
     },
     "execution_count": 21,
     "metadata": {},
     "output_type": "execute_result"
    }
   ],
   "source": [
    "top10 [['Overall','Value']] .corr()"
   ]
  }
 ],
 "metadata": {
  "kernelspec": {
   "display_name": "Python 3",
   "language": "python",
   "name": "python3"
  },
  "language_info": {
   "codemirror_mode": {
    "name": "ipython",
    "version": 3
   },
   "file_extension": ".py",
   "mimetype": "text/x-python",
   "name": "python",
   "nbconvert_exporter": "python",
   "pygments_lexer": "ipython3",
   "version": "3.7.4"
  }
 },
 "nbformat": 4,
 "nbformat_minor": 4
}
