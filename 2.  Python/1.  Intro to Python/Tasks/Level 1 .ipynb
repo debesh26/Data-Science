{
 "cells": [
  {
   "cell_type": "markdown",
   "metadata": {},
   "source": [
    "# **Table of Contents**\n",
    "* [Divisibility](#section_1)\n",
    "* [Average](#section_2)\n",
    "* [Smallest divisor](#section_3)\n",
    "* [Prime](#section_4)\n",
    "* [Positive , Negative , Zero](#section_5)\n",
    "* [Swap](#section_6)\n",
    "* [Factorial](#section_7)\n",
    "* [LCM](#section_8)\n",
    "* [Palindrome](#section_9)\n",
    "* [Pangram](#section_10)"
   ]
  },
  {
   "cell_type": "markdown",
   "metadata": {},
   "source": [
    "<a id='section_1'></a>\n",
    "## 1. **Divisibility**"
   ]
  },
  {
   "cell_type": "code",
   "execution_count": 1,
   "metadata": {},
   "outputs": [
    {
     "name": "stdin",
     "output_type": "stream",
     "text": [
      "Num 15\n"
     ]
    },
    {
     "name": "stdout",
     "output_type": "stream",
     "text": [
      "Yes\n"
     ]
    }
   ],
   "source": [
    "n = int ( input ('Num'))\n",
    "\n",
    "if ( n%3==0 and n%5==0 ):\n",
    "    print('Yes')\n",
    "    \n",
    "else:\n",
    "    print('No')"
   ]
  },
  {
   "cell_type": "markdown",
   "metadata": {},
   "source": [
    "<a id='section_2'></a>\n",
    "## 2. **Average of numbers**"
   ]
  },
  {
   "cell_type": "code",
   "execution_count": 2,
   "metadata": {},
   "outputs": [
    {
     "name": "stdin",
     "output_type": "stream",
     "text": [
      "Count  3\n",
      "Num  5\n",
      "Num  10\n",
      "Num  15\n"
     ]
    },
    {
     "name": "stdout",
     "output_type": "stream",
     "text": [
      "Avg =  10.0\n"
     ]
    }
   ],
   "source": [
    "n = int ( input (\"Count \"))\n",
    "\n",
    "ls = []\n",
    "\n",
    "for i in range(0,n):\n",
    "    \n",
    "    a = int ( input (\"Num \"))\n",
    "    ls.append(a)\n",
    "\n",
    "print ( \"Avg = \", sum(ls)/n )"
   ]
  },
  {
   "cell_type": "markdown",
   "metadata": {},
   "source": [
    "<a id='section_3'></a>\n",
    "## 3. **Smallest Divisor**"
   ]
  },
  {
   "cell_type": "code",
   "execution_count": 3,
   "metadata": {},
   "outputs": [
    {
     "name": "stdin",
     "output_type": "stream",
     "text": [
      "Num  49\n"
     ]
    },
    {
     "name": "stdout",
     "output_type": "stream",
     "text": [
      "7\n"
     ]
    }
   ],
   "source": [
    "n = int (input (\"Num \"))\n",
    "\n",
    "ls = []\n",
    "\n",
    "for i in range(2,n+1):\n",
    "    \n",
    "    if (n%i==0):\n",
    "        ls.append(i)\n",
    "        \n",
    "print ( ls[0] )"
   ]
  },
  {
   "cell_type": "markdown",
   "metadata": {},
   "source": [
    "<a id='section_4'></a>\n",
    "## 4. **Prime**"
   ]
  },
  {
   "cell_type": "code",
   "execution_count": 4,
   "metadata": {},
   "outputs": [
    {
     "name": "stdin",
     "output_type": "stream",
     "text": [
      "Num  17\n"
     ]
    },
    {
     "name": "stdout",
     "output_type": "stream",
     "text": [
      "Prime\n"
     ]
    }
   ],
   "source": [
    "n = int (input (\"Num \"))\n",
    "\n",
    "c=0 \n",
    "\n",
    "for i in range(1,n+1):\n",
    "    \n",
    "    if (n%i==0):\n",
    "        c = c+1\n",
    "        \n",
    "if c==2:\n",
    "    print(\"Prime\")\n",
    "else:\n",
    "    print(\"Non-prime\")"
   ]
  },
  {
   "cell_type": "markdown",
   "metadata": {},
   "source": [
    "<a id='section_5'></a>\n",
    "## 5. **Positive , Negative , Zero**"
   ]
  },
  {
   "cell_type": "code",
   "execution_count": 5,
   "metadata": {},
   "outputs": [
    {
     "name": "stdin",
     "output_type": "stream",
     "text": [
      "Count 5\n",
      " 1\n",
      " 2\n",
      " -1\n",
      " -2\n",
      " 0\n"
     ]
    },
    {
     "name": "stdout",
     "output_type": "stream",
     "text": [
      "[1, 2]\n",
      "[-1, -2]\n",
      "[0]\n"
     ]
    }
   ],
   "source": [
    "c = int (input (\"Count\"))\n",
    "\n",
    "lsp , lsn , lsz = [] , [] , []\n",
    "\n",
    "\n",
    "for i in range(0,c):\n",
    "    \n",
    "    n = int (input())\n",
    "    \n",
    "    if (n>0):\n",
    "        lsp.append(n)\n",
    "        \n",
    "    elif (n<0):\n",
    "        lsn.append(n)\n",
    "        \n",
    "    else:\n",
    "        lsz.append(n)\n",
    "        \n",
    "\n",
    "print ( lsp )\n",
    "print ( lsn )\n",
    "print ( lsz )"
   ]
  },
  {
   "cell_type": "markdown",
   "metadata": {},
   "source": [
    "<a id='section_6'></a>\n",
    "## 6. **Swap**"
   ]
  },
  {
   "cell_type": "code",
   "execution_count": 6,
   "metadata": {},
   "outputs": [
    {
     "name": "stdin",
     "output_type": "stream",
     "text": [
      "Num 1  5\n",
      "Num 2  10\n"
     ]
    },
    {
     "name": "stdout",
     "output_type": "stream",
     "text": [
      "10\n",
      "5\n"
     ]
    }
   ],
   "source": [
    "a = int ( input (\"Num 1 \"))\n",
    "b = int ( input (\"Num 2 \"))\n",
    "\n",
    "a , b = b , a\n",
    "\n",
    "print (a)\n",
    "print (b)"
   ]
  },
  {
   "cell_type": "markdown",
   "metadata": {},
   "source": [
    "<a id='section_7'></a>\n",
    "## 7. **Factorial**"
   ]
  },
  {
   "cell_type": "code",
   "execution_count": 7,
   "metadata": {},
   "outputs": [
    {
     "name": "stdin",
     "output_type": "stream",
     "text": [
      "Num  5\n"
     ]
    },
    {
     "name": "stdout",
     "output_type": "stream",
     "text": [
      "120\n"
     ]
    }
   ],
   "source": [
    "n = int ( input (\"Num \"))\n",
    "\n",
    "f = 1\n",
    "\n",
    "for i in range (1,n+1):\n",
    "    f = f * i\n",
    "    \n",
    "print(f)"
   ]
  },
  {
   "cell_type": "markdown",
   "metadata": {},
   "source": [
    "* Recursion"
   ]
  },
  {
   "cell_type": "code",
   "execution_count": 8,
   "metadata": {
    "colab": {},
    "colab_type": "code",
    "id": "Hhmj0f_nl3tY",
    "outputId": "c5deea88-3bb8-4bf1-92c6-49446bb3f1d6"
   },
   "outputs": [
    {
     "name": "stdin",
     "output_type": "stream",
     "text": [
      " 5\n"
     ]
    },
    {
     "data": {
      "text/plain": [
       "120"
      ]
     },
     "execution_count": 8,
     "metadata": {},
     "output_type": "execute_result"
    }
   ],
   "source": [
    "def fun(n):\n",
    "    \n",
    "    if n == 0:\n",
    "        return 1\n",
    "    else:\n",
    "        return n * fun(n-1)\n",
    "\n",
    "\n",
    "n = int ( input() )\n",
    "fun (n)"
   ]
  },
  {
   "cell_type": "markdown",
   "metadata": {},
   "source": [
    "<a id='section_8'></a>\n",
    "## 8. **LCM**"
   ]
  },
  {
   "cell_type": "markdown",
   "metadata": {},
   "source": [
    "* Recursion"
   ]
  },
  {
   "cell_type": "code",
   "execution_count": 9,
   "metadata": {},
   "outputs": [
    {
     "name": "stdin",
     "output_type": "stream",
     "text": [
      "Num 1  5\n",
      "Num 2  12\n"
     ]
    },
    {
     "name": "stdout",
     "output_type": "stream",
     "text": [
      "60\n"
     ]
    }
   ],
   "source": [
    "def fun(a, b):\n",
    "    \n",
    "    if(b == 0):\n",
    "        return a;\n",
    "    else:\n",
    "        return fun (b , a % b)   \n",
    "    \n",
    "    \n",
    "a = int ( input(\"Num 1 \"))\n",
    "b = int ( input(\"Num 2 \"))\n",
    "\n",
    "\n",
    "gcd = fun (a, b)   \n",
    "\n",
    "lcm = (a * b) // gcd\n",
    "\n",
    "print (lcm)"
   ]
  },
  {
   "cell_type": "markdown",
   "metadata": {},
   "source": [
    "<a id='section_9'></a>\n",
    "## 9. **Palindrome**"
   ]
  },
  {
   "cell_type": "code",
   "execution_count": 10,
   "metadata": {},
   "outputs": [
    {
     "name": "stdin",
     "output_type": "stream",
     "text": [
      "Enter string  madam\n"
     ]
    },
    {
     "name": "stdout",
     "output_type": "stream",
     "text": [
      "Palindrome\n"
     ]
    }
   ],
   "source": [
    "s   =  input (\"Enter string \")\n",
    "\n",
    "rev =  s[::-1]\n",
    "\n",
    "if s==rev:\n",
    "    print(\"Palindrome\")\n",
    "else:\n",
    "    print(\"Not Palindrome\")"
   ]
  },
  {
   "cell_type": "markdown",
   "metadata": {},
   "source": [
    "<a id='section_10'></a>\n",
    "## 10. **Pangram**"
   ]
  },
  {
   "cell_type": "code",
   "execution_count": 11,
   "metadata": {},
   "outputs": [
    {
     "data": {
      "text/plain": [
       "True"
      ]
     },
     "execution_count": 11,
     "metadata": {},
     "output_type": "execute_result"
    }
   ],
   "source": [
    "def fun (s):  \n",
    "    \n",
    "    alphabet = \"abcdefghijklmnopqrstuvwxyz\"\n",
    "    \n",
    "    for i in alphabet: \n",
    "        if i not in s.lower(): \n",
    "            return False\n",
    "    return True\n",
    "    \n",
    "    \n",
    "fun ('the quick brown fox jumps over the lazy dog')"
   ]
  }
 ],
 "metadata": {
  "kernelspec": {
   "display_name": "Python 3",
   "language": "python",
   "name": "python3"
  },
  "language_info": {
   "codemirror_mode": {
    "name": "ipython",
    "version": 3
   },
   "file_extension": ".py",
   "mimetype": "text/x-python",
   "name": "python",
   "nbconvert_exporter": "python",
   "pygments_lexer": "ipython3",
   "version": "3.7.4"
  }
 },
 "nbformat": 4,
 "nbformat_minor": 4
}
