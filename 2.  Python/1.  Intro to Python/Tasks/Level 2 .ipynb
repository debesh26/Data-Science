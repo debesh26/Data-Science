{
 "cells": [
  {
   "cell_type": "markdown",
   "metadata": {},
   "source": [
    "# **Table of Contents**\n",
    "* [Area of shapes](#section_1)\n",
    "* [Prime](#section_2)\n",
    "* [Grocery items](#section_3)\n",
    "* [Encryptor , Decryptor](#section_4)\n",
    "* [Eliminated Contestant](#section_5)\n",
    "* [Scientific Calculator](#section_6)\n",
    "* [Air traffic control](#section_7)\n",
    "* [Ecommerce Portal](#section_8)\n",
    "* [Credit Card](#section_9)\n",
    "* [Pascal's Triangle](#section_10)"
   ]
  },
  {
   "cell_type": "markdown",
   "metadata": {},
   "source": [
    "<a id='section_1'></a>\n",
    "# 1. **Area of shapes**"
   ]
  },
  {
   "cell_type": "code",
   "execution_count": 1,
   "metadata": {},
   "outputs": [
    {
     "name": "stdout",
     "output_type": "stream",
     "text": [
      "Which shape ? \n",
      "1. Square\n",
      "2. Rectangle\n",
      "3. Triangle\n",
      "4. Circle\n"
     ]
    },
    {
     "name": "stdin",
     "output_type": "stream",
     "text": [
      "Enter Option :  3\n",
      "Enter length of side 1  3\n",
      "Enter length of side 2  4\n",
      "Enter length of side 3  5\n"
     ]
    },
    {
     "name": "stdout",
     "output_type": "stream",
     "text": [
      "The area of the triangle is  6.0\n"
     ]
    }
   ],
   "source": [
    "print (\"Which shape ? \")\n",
    "print (\"1. Square\",)\n",
    "print (\"2. Rectangle\",)\n",
    "print (\"3. Triangle\",)\n",
    "print (\"4. Circle\",)\n",
    "\n",
    "choice = int(input(\"Enter Option : \"))\n",
    "\n",
    "if choice==1:\n",
    "    while True:\n",
    "        try:\n",
    "            a = int(input(\"Please enter the length of a side: \"))\n",
    "            print(\"The area of the square is \",a*a)\n",
    "            break\n",
    "        except ValueError:\n",
    "            print(\"Invalid input, please enter a number: \")\n",
    "        \n",
    "elif choice==2:\n",
    "    while True:\n",
    "        try:\n",
    "            a=int(input(\"Enter length \"))\n",
    "            b=int(input(\"Enter breadth \"))\n",
    "            print(\"The area of the rectangle is \",a*b)\n",
    "            break\n",
    "        except ValueError:\n",
    "            print(\"Invalid input, please enter a number: \")\n",
    "            \n",
    "elif choice==3:\n",
    "    while True:\n",
    "        try:\n",
    "            a=int(input(\"Enter length of side 1 \"))\n",
    "            b=int(input(\"Enter length of side 2 \"))\n",
    "            c=int(input(\"Enter length of side 3 \"))\n",
    "            \n",
    "            if (a+b<=c) or (a+c<=b) or (b+c<=a):\n",
    "                print(\"Invalid Triangle \")\n",
    "            else:\n",
    "                s=(a+b+c)/2\n",
    "                area=(s*(s-a)*(s-b)*(s-c))**0.5\n",
    "                print(\"The area of the triangle is \",round(area,2))\n",
    "                break \n",
    "        except ValueError:\n",
    "            print(\"Invalid input, please enter a number: \")\n",
    "            \n",
    "elif choice==4:\n",
    "    while True:\n",
    "        try:\n",
    "            r=int(input(\"Enter radius \"))\n",
    "            area=3.14*r*r\n",
    "            print(\"The area of the circle is \",round(area,2))\n",
    "            break\n",
    "        except ValueError:\n",
    "            print(\"Invalid input, please enter a number: \")\n",
    "            \n",
    "else:\n",
    "    print(\"Invalid choice \")"
   ]
  },
  {
   "cell_type": "markdown",
   "metadata": {},
   "source": [
    "<a id='section_2'></a>\n",
    "# 2. **Prime nums**"
   ]
  },
  {
   "cell_type": "markdown",
   "metadata": {},
   "source": [
    "* Display next 5 prime numbers"
   ]
  },
  {
   "cell_type": "code",
   "execution_count": 2,
   "metadata": {},
   "outputs": [
    {
     "name": "stdin",
     "output_type": "stream",
     "text": [
      "Enter Num 5\n"
     ]
    },
    {
     "name": "stdout",
     "output_type": "stream",
     "text": [
      "[7, 11, 13, 17, 19]\n"
     ]
    }
   ],
   "source": [
    "ls = []\n",
    "\n",
    "\n",
    "def fun(n):\n",
    "    \n",
    "    count=0\n",
    "    \n",
    "    while count<5:\n",
    "        \n",
    "        n = n+1\n",
    "        c=0\n",
    "        \n",
    "        for i in range (1,n+1):\n",
    "            if n%i==0:\n",
    "                c+=1\n",
    "        \n",
    "        if c==2:\n",
    "            ls.append(n)\n",
    "            count+=1\n",
    "    \n",
    "    return ls\n",
    "\n",
    "\n",
    "n = int ( input (\"Enter Num\"))\n",
    "\n",
    "print ( fun(n) )"
   ]
  },
  {
   "cell_type": "markdown",
   "metadata": {},
   "source": [
    "<a id='section_3'></a>\n",
    "# 3. **Grocery items**"
   ]
  },
  {
   "cell_type": "markdown",
   "metadata": {},
   "source": [
    "* Create a dictionary with the name \"items_in_store\" = soap:5, brush:10, paste:7, chips:10\n",
    "\n",
    "* Create an empty dictionary with name shopping list.\n",
    "\n",
    "* Create a loop that takes order for the grocery items by checking availability in the store and take the order.\n",
    "\n",
    "* Note that if the items are out of the stock it will display \"out of stock”.\n"
   ]
  },
  {
   "cell_type": "code",
   "execution_count": 9,
   "metadata": {},
   "outputs": [
    {
     "name": "stdin",
     "output_type": "stream",
     "text": [
      "Number of item you want: 2\n",
      "Enter the items name: soap\n",
      "Enter the items name: paste\n",
      "Enter the amount: 1\n",
      "Enter the amount: 1\n"
     ]
    },
    {
     "name": "stdout",
     "output_type": "stream",
     "text": [
      "ShoppingList {'soap': 1, 'paste': 1}\n",
      "ItemsRemaining {'soap': 4, 'brush': 10, 'paste': 6, 'chips': 10}\n"
     ]
    }
   ],
   "source": [
    "items_in_store = {'soap':5,'brush':10,'paste':7,'chips':10}\n",
    "\n",
    "shoppinglist   = {}\n",
    "itemsremaining = {}\n",
    "\n",
    "N     =  int(input('Number of item you want:'))\n",
    "items =  [str(input('Enter the items name:')) for i in range(N)]\n",
    "\n",
    "for i in items :\n",
    "    \n",
    "    if i in list (items_in_store.keys()):\n",
    "        \n",
    "        quantity = int(input('Enter the amount:'))\n",
    "        \n",
    "        if quantity <= items_in_store.get(i):\n",
    "            shoppinglist[i] = quantity\n",
    "            items_in_store[i] = items_in_store.get(i)-quantity\n",
    "        else:\n",
    "            print('out of stock')\n",
    "    else:\n",
    "        print('out of stock')\n",
    "        \n",
    "print('ShoppingList',shoppinglist)\n",
    "print('ItemsRemaining',items_in_store)"
   ]
  },
  {
   "cell_type": "markdown",
   "metadata": {},
   "source": [
    "<a id='section_4'></a>\n",
    "# 4. **Encryptor , Decryptor**"
   ]
  },
  {
   "cell_type": "markdown",
   "metadata": {},
   "source": [
    "* 2 input parameters\n",
    "    - input text \n",
    "    - key "
   ]
  },
  {
   "cell_type": "code",
   "execution_count": 11,
   "metadata": {},
   "outputs": [
    {
     "name": "stdin",
     "output_type": "stream",
     "text": [
      "Press 1 for Encryption , 2 for Decryption  ----   1\n",
      "Enter string :  hello world\n",
      "Key :  3\n"
     ]
    },
    {
     "name": "stdout",
     "output_type": "stream",
     "text": [
      "khoor zruog\n"
     ]
    }
   ],
   "source": [
    "alpha = 'abcdefghijklmnopqrstuvwxyz' \n",
    "\n",
    "def encryption(st,key):\n",
    "    enc_list = []\n",
    "    for i in st:           \n",
    "        if i in alpha:     \n",
    "            enc_list.append(alpha[(alpha.index(i) + key) % 26])    \n",
    "        else:\n",
    "            enc_list.append(i)  \n",
    "    enc_str = ''.join(enc_list)\n",
    "    return enc_str\n",
    "    \n",
    "def decryption(st,key):\n",
    "    dec_list = []\n",
    "    for i in st:           \n",
    "        if i in alpha:     \n",
    "            dec_list.append(alpha[(alpha.index(i) - key) % 26])    \n",
    "        else:\n",
    "            dec_list.append(i)  \n",
    "    dec_str = ''.join(dec_list)\n",
    "    return dec_str\n",
    "\n",
    "\n",
    "\n",
    "choice =  int ( input ( \"Press 1 for Encryption , 2 for Decryption  ----  \"))\n",
    "\n",
    "st     =  str ( input (\"Enter string : \"))\n",
    "\n",
    "key    =  int ( input (\"Key : \"))\n",
    "\n",
    "if choice==1:\n",
    "    print(encryption(st,key))\n",
    "\n",
    "elif choice==2:\n",
    "    print(decryption(st,key))\n",
    "    \n",
    "else:\n",
    "    print(\"Invalid choice \")"
   ]
  },
  {
   "cell_type": "markdown",
   "metadata": {},
   "source": [
    "<a id='section_5'></a>\n",
    "# 5. **Eliminated contestant**"
   ]
  },
  {
   "cell_type": "markdown",
   "metadata": {},
   "source": [
    "* In a gameshow , a contestant can vote their competitor to get eliminated. \n",
    "* Each contestant gets to vote twice, there are 4 contestants. \n",
    "* Find eliminated contestant's name.\n",
    "\n",
    "- Names :\n",
    "    * Ajay\n",
    "    * Bikram\n",
    "    * Chetan\n",
    "    * Dinesh"
   ]
  },
  {
   "cell_type": "code",
   "execution_count": 12,
   "metadata": {},
   "outputs": [
    {
     "name": "stdout",
     "output_type": "stream",
     "text": [
      "Contestant  1  enter two votes\n"
     ]
    },
    {
     "name": "stdin",
     "output_type": "stream",
     "text": [
      " Ajay\n",
      " Chetan\n"
     ]
    },
    {
     "name": "stdout",
     "output_type": "stream",
     "text": [
      "Contestant  2  enter two votes\n"
     ]
    },
    {
     "name": "stdin",
     "output_type": "stream",
     "text": [
      " Bikram\n",
      " Dinesh\n"
     ]
    },
    {
     "name": "stdout",
     "output_type": "stream",
     "text": [
      "Contestant  3  enter two votes\n"
     ]
    },
    {
     "name": "stdin",
     "output_type": "stream",
     "text": [
      " Ajay\n",
      " Bikram\n"
     ]
    },
    {
     "name": "stdout",
     "output_type": "stream",
     "text": [
      "Contestant  4  enter two votes\n"
     ]
    },
    {
     "name": "stdin",
     "output_type": "stream",
     "text": [
      " Chetan\n",
      " Ajay\n"
     ]
    },
    {
     "name": "stdout",
     "output_type": "stream",
     "text": [
      "Eliminated contestant is  Ajay\n"
     ]
    }
   ],
   "source": [
    "ls = []\n",
    "\n",
    "for i in range(1,5):\n",
    "    \n",
    "    print(\"Contestant \",i,\" enter two votes\")\n",
    "    \n",
    "    a = str(input())\n",
    "    b = str(input())\n",
    "    \n",
    "    ls.append (a)\n",
    "    ls.append (b)\n",
    "\n",
    "from statistics import mode\n",
    "\n",
    "try:\n",
    "    print  ( 'Eliminated contestant is ', mode(ls) )  \n",
    "except:\n",
    "    print  (\" There's a tie....Try again\")"
   ]
  },
  {
   "cell_type": "markdown",
   "metadata": {},
   "source": [
    "<a id='section_6'></a>\n",
    "# 6. **Scientific Calculator**"
   ]
  },
  {
   "cell_type": "markdown",
   "metadata": {},
   "source": [
    "* Operations :\n",
    "    - Arithmetic\n",
    "    - Trigonometric \n",
    "    - Logarithmic "
   ]
  },
  {
   "cell_type": "code",
   "execution_count": 14,
   "metadata": {},
   "outputs": [
    {
     "name": "stdout",
     "output_type": "stream",
     "text": [
      "SCIENTIFIC CALCULATOR\n",
      "1.Arithmetic 2.Trignometric 3.Logarithm\n"
     ]
    },
    {
     "name": "stdin",
     "output_type": "stream",
     "text": [
      "Choose :  3\n",
      "Enter Num 100\n"
     ]
    },
    {
     "name": "stdout",
     "output_type": "stream",
     "text": [
      "Choose \n",
      "\n",
      "1.Base e  2.Base 2  3.Base 10\n"
     ]
    },
    {
     "name": "stdin",
     "output_type": "stream",
     "text": [
      "Choose: 3\n"
     ]
    },
    {
     "name": "stdout",
     "output_type": "stream",
     "text": [
      "2.0\n"
     ]
    }
   ],
   "source": [
    "import math\n",
    "\n",
    "print ('SCIENTIFIC CALCULATOR')\n",
    "print ('1.Arithmetic 2.Trignometric 3.Logarithm')\n",
    "\n",
    "choice = int ( input ('Choose : ') )\n",
    "\n",
    "\n",
    "if choice==1:\n",
    "    \n",
    "    a = float (input ('Enter the first number: ' ))\n",
    "    b = float (input ('Enter the second number: '))\n",
    "    \n",
    "    print('Choose \\n')\n",
    "    print('1.Addition 2.Substraction 3.Multiplication 4.Division')\n",
    "    \n",
    "    c = int(input('Choose:'))\n",
    "    \n",
    "    if c==1:\n",
    "        print('Sum = ',a+b)\n",
    "    elif c==2:\n",
    "        print('Diff = ',a-b)\n",
    "    elif c==3:\n",
    "        print('Product = ',a*b)\n",
    "    elif c==4:\n",
    "        if b!=0:\n",
    "            print('Quotient = ',a/b)\n",
    "        else:\n",
    "            print('Cannot divide by zero')\n",
    "\n",
    "\n",
    "            \n",
    "elif choice==2:\n",
    "    \n",
    "    a = float ( input ('Enter the number') )\n",
    "    \n",
    "    print('Choose \\n')\n",
    "    print('1.Sine 2.Cos 3.Tan')\n",
    "    \n",
    "    c = int(input('Choose:'))\n",
    "    \n",
    "    if c==1:\n",
    "        print('Sine = ' , math.sin(a))\n",
    "    \n",
    "    elif c==2:\n",
    "        print('Cos = ' , math.cos(a))\n",
    "    \n",
    "    elif c==3:\n",
    "        print('Cos = ' , math.tan(a))\n",
    "\n",
    "        \n",
    "        \n",
    "elif choice==3:\n",
    "    \n",
    "    a = float ( input ('Enter Num') )\n",
    "    \n",
    "    print('Choose \\n')\n",
    "    print('1.Base e  2.Base 2  3.Base 10')\n",
    "    \n",
    "    c = int(input('Choose:'))\n",
    "    \n",
    "    if c==1:\n",
    "        print(math.log(a))\n",
    "    \n",
    "    elif c==2:\n",
    "        print(math.log2(a))\n",
    "        \n",
    "    elif c==3:\n",
    "        print(math.log10(a))\n"
   ]
  },
  {
   "cell_type": "markdown",
   "metadata": {},
   "source": [
    "<a id='section_7'></a>\n",
    "# 7. **Air Traffic Control**"
   ]
  },
  {
   "cell_type": "markdown",
   "metadata": {},
   "source": [
    "* The runway should be either free or busy. \n",
    "* Each plane should request for landing \n",
    "* If the plane is given permission for landing the runway should be changed to busy and no plane should be given access to that runway. \n",
    "<br><br>\n",
    "* Make a list of free runways\n",
    "    * free = [3,4,5]\n",
    "* Make a list of busy runways.\n",
    "    * busy = [1,2]\n",
    "<br><br>\n",
    "* when pilot requests for landing give him runway from free runway and remove it from free and add to busy.\n",
    "* If the busy runway is given raise warning.\n",
    "* After landing remove runway from busy and add to free"
   ]
  },
  {
   "cell_type": "code",
   "execution_count": 15,
   "metadata": {},
   "outputs": [
    {
     "name": "stdin",
     "output_type": "stream",
     "text": [
      "Enter runway for landing: 4\n"
     ]
    },
    {
     "name": "stdout",
     "output_type": "stream",
     "text": [
      "Runway  4  free\n"
     ]
    },
    {
     "name": "stdin",
     "output_type": "stream",
     "text": [
      "Landed ? no\n"
     ]
    },
    {
     "name": "stdout",
     "output_type": "stream",
     "text": [
      "Update when landed\n"
     ]
    },
    {
     "name": "stdin",
     "output_type": "stream",
     "text": [
      " landed\n"
     ]
    },
    {
     "data": {
      "text/plain": [
       "([3, 5, 4], [1, 2])"
      ]
     },
     "execution_count": 15,
     "metadata": {},
     "output_type": "execute_result"
    }
   ],
   "source": [
    "free = [3,4,5]\n",
    "busy = [1,2]\n",
    "\n",
    "N = int ( input ('Enter runway for landing:'))\n",
    "\n",
    "def fun(N):\n",
    "    \n",
    "    if N in free:\n",
    "        print('Runway ', N ,' free')\n",
    "        free.remove(N)\n",
    "        busy.append(N)\n",
    "        \n",
    "        \n",
    "        s = str(input('Landed ?'))\n",
    "        \n",
    "        \n",
    "        if s=='YES' or s=='yes':\n",
    "            busy.remove(N)\n",
    "            free.append(N)\n",
    " \n",
    "        \n",
    "        elif s=='NO' or s=='no':\n",
    "            print('Update when landed')\n",
    "            t = str(input())\n",
    "            if t=='landed':\n",
    "                busy.remove(N)\n",
    "                free.append(N)\n",
    "       \n",
    "        return free , busy\n",
    "    \n",
    "    \n",
    "    else:\n",
    "        print('Runway ', N ,' busy')\n",
    "        \n",
    "fun(N)"
   ]
  },
  {
   "cell_type": "markdown",
   "metadata": {},
   "source": [
    "<a id='section_8'></a>\n",
    "# 8. **Ecommerce portal**"
   ]
  },
  {
   "cell_type": "markdown",
   "metadata": {},
   "source": [
    "* Search for items in a given inventory\n",
    "* If available , ask the user whether he will buy or not. \n",
    "* If not available , ask whether he will buy any other item or not."
   ]
  },
  {
   "cell_type": "code",
   "execution_count": 2,
   "metadata": {},
   "outputs": [
    {
     "name": "stdout",
     "output_type": "stream",
     "text": [
      "Item is not available\n"
     ]
    },
    {
     "name": "stdin",
     "output_type": "stream",
     "text": [
      "Would you like to buy any other item ?  yes\n",
      "Enter item ---  TV\n"
     ]
    },
    {
     "name": "stdout",
     "output_type": "stream",
     "text": [
      "Item is available\n"
     ]
    }
   ],
   "source": [
    "inventory = {   'Men'          :  ['Shirt','Suit','Trouser','Jeans'], \n",
    "                'Women'        :  ['Saree','Dress_suit','Handbag','Jewellery'],\n",
    "                'Electronics'  :  ['TV','Refrigerator'],\n",
    "                'Kids'         :  ['Toys','Bags','Books']\n",
    "               }\n",
    "\n",
    "\n",
    "def fun (inventory,item):\n",
    "    \n",
    "    found = False\n",
    "    \n",
    "    for i in inventory:\n",
    "        for j in inventory[i]:\n",
    "            if j == item:\n",
    "                print(\"Item is available\")\n",
    "                found = True\n",
    "    \n",
    "    if not found:\n",
    "        print('Item is not available')\n",
    "        st = input(\"Would you like to buy any other item ? \")\n",
    "        \n",
    "        if st==\"yes\":\n",
    "            s = str (input ('Enter item --- '))\n",
    "            fun(inventory,s)\n",
    "        else:\n",
    "            return('Thank u')\n",
    "\n",
    "\n",
    "fun (inventory,\"Pencil\")"
   ]
  },
  {
   "cell_type": "markdown",
   "metadata": {},
   "source": [
    "<a id='section_9'></a>\n",
    "# 9. **Credit Card**"
   ]
  },
  {
   "cell_type": "markdown",
   "metadata": {},
   "source": [
    "* Storing a user's Credit Card credentials in a database"
   ]
  },
  {
   "cell_type": "code",
   "execution_count": 21,
   "metadata": {},
   "outputs": [
    {
     "name": "stdin",
     "output_type": "stream",
     "text": [
      "Enter 5 digit customer ID 12345\n"
     ]
    },
    {
     "name": "stdout",
     "output_type": "stream",
     "text": [
      "Valid\n"
     ]
    },
    {
     "name": "stdin",
     "output_type": "stream",
     "text": [
      "Enter credit card num  5678980723453456\n",
      "Enter expiry year 2022\n",
      "Enter CVV 098\n"
     ]
    },
    {
     "data": {
      "text/plain": [
       "{12345: [5678980723453456, 2022, 98]}"
      ]
     },
     "execution_count": 21,
     "metadata": {},
     "output_type": "execute_result"
    }
   ],
   "source": [
    "cid   =  int ( input (\"Enter 5 digit customer ID\"))\n",
    "\n",
    "a = str (cid)\n",
    "\n",
    "\n",
    "if len(a) != 5:\n",
    "    print(\"Invalid\")\n",
    "    \n",
    "else:\n",
    "    print(\"Valid\")\n",
    "    \n",
    "    cc    =  int ( input (\"Enter credit card num \"))\n",
    "    year  =  int ( input (\"Enter expiry year\") )\n",
    "    cvv   =  int ( input (\"Enter CVV\"))\n",
    "\n",
    "    \n",
    "d  =  { cid : [cc , year , cvv] }\n",
    "d"
   ]
  },
  {
   "cell_type": "markdown",
   "metadata": {},
   "source": [
    "<a id='section_10'></a>\n",
    "# 10. **Pascal's Triangle**"
   ]
  },
  {
   "cell_type": "code",
   "execution_count": 22,
   "metadata": {
    "colab": {
     "base_uri": "https://localhost:8080/",
     "height": 204
    },
    "colab_type": "code",
    "executionInfo": {
     "elapsed": 4251,
     "status": "ok",
     "timestamp": 1582708540104,
     "user": {
      "displayName": "Sudha B G",
      "photoUrl": "",
      "userId": "11454725486752146023"
     },
     "user_tz": -330
    },
    "id": "iQAi9BG514bk",
    "outputId": "d44544f6-06f3-4856-9b7f-afaf80f3fb14"
   },
   "outputs": [
    {
     "name": "stdin",
     "output_type": "stream",
     "text": [
      " 10\n"
     ]
    },
    {
     "name": "stdout",
     "output_type": "stream",
     "text": [
      "                                    1 \n",
      "                                 1      1 \n",
      "                              1      2      1 \n",
      "                           1      3      3      1 \n",
      "                        1      4      6      4      1 \n",
      "                     1      5     10     10      5      1 \n",
      "                  1      6     15     20     15      6      1 \n",
      "               1      7     21     35     35     21      7      1 \n",
      "            1      8     28     56     70     56     28      8      1 \n",
      "         1      9     36     84    126    126     84     36      9      1 \n"
     ]
    }
   ],
   "source": [
    "n = int (input())\n",
    "\n",
    "a = []\n",
    "\n",
    "for i in range(n):\n",
    "    a.append([])\n",
    "    a[i].append(1)\n",
    "    \n",
    "    for j in range(1,i):\n",
    "        a[i].append(a[i-1][j-1]+a[i-1][j])\n",
    "    \n",
    "    if(n!=0):\n",
    "        a[i].append(1)\n",
    "\n",
    "for i in range(n):\n",
    "    print (\"   \"*(n-i) , end=\" \" , sep=\" \")\n",
    "    \n",
    "    for j in range(0,i+1):\n",
    "        print ('{0:6}'.format(a[i][j]),end=\" \",sep=\" \")\n",
    "    print()"
   ]
  }
 ],
 "metadata": {
  "kernelspec": {
   "display_name": "Python 3",
   "language": "python",
   "name": "python3"
  },
  "language_info": {
   "codemirror_mode": {
    "name": "ipython",
    "version": 3
   },
   "file_extension": ".py",
   "mimetype": "text/x-python",
   "name": "python",
   "nbconvert_exporter": "python",
   "pygments_lexer": "ipython3",
   "version": "3.7.4"
  }
 },
 "nbformat": 4,
 "nbformat_minor": 4
}
