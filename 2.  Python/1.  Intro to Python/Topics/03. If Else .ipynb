{
 "cells": [
  {
   "cell_type": "markdown",
   "metadata": {},
   "source": [
    "# **Table of Contents**\n",
    "* [With Numbers](#section_1)\n",
    "* [With Strings](#section_2)\n",
    "* [Nested If](#section_3)"
   ]
  },
  {
   "cell_type": "markdown",
   "metadata": {
    "colab_type": "text",
    "id": "sxv_kawLtKFS"
   },
   "source": [
    "    * IF \n",
    "    * IF-Else\n",
    "    * If...Elif...Else\n",
    "   "
   ]
  },
  {
   "cell_type": "markdown",
   "metadata": {},
   "source": [
    "<a id='section_1'></a>\n",
    "# 1. **With Numbers**"
   ]
  },
  {
   "cell_type": "code",
   "execution_count": 1,
   "metadata": {
    "colab": {},
    "colab_type": "code",
    "id": "-0-Oxr4YtKFf",
    "outputId": "873304a2-6320-4d82-fc3b-a16722bbe788"
   },
   "outputs": [
    {
     "name": "stdin",
     "output_type": "stream",
     "text": [
      "Enter an integer  \n",
      "  -6\n"
     ]
    },
    {
     "name": "stdout",
     "output_type": "stream",
     "text": [
      "Negative\n"
     ]
    }
   ],
   "source": [
    "a  =  int ( input (\"Enter an integer  \\n \") )\n",
    "\n",
    "if  a > 0 :\n",
    "    print(\"Positive\")\n",
    "    \n",
    "elif  a < 0 :\n",
    "    print(\"Negative\")\n",
    "    \n",
    "else:\n",
    "    print(\"Zero\")"
   ]
  },
  {
   "cell_type": "code",
   "execution_count": 2,
   "metadata": {},
   "outputs": [
    {
     "name": "stdout",
     "output_type": "stream",
     "text": [
      "60 is largest\n"
     ]
    }
   ],
   "source": [
    "a=50\n",
    "b=60\n",
    "c=30\n",
    "d=40\n",
    "\n",
    "if (a>b and a>c and a>d) :\n",
    "    print(a,\"is largest\")\n",
    "\n",
    "elif (b>a and b>c and b>d) :\n",
    "    print(b,\"is largest\")"
   ]
  },
  {
   "cell_type": "code",
   "execution_count": 3,
   "metadata": {},
   "outputs": [
    {
     "name": "stdout",
     "output_type": "stream",
     "text": [
      "3\n",
      "False\n"
     ]
    }
   ],
   "source": [
    "x=2\n",
    "y=3\n",
    "\n",
    "out1  =  x     if x>y  else y\n",
    "out2  =  True  if x>y  else False\n",
    "\n",
    "print(out1)\n",
    "print(out2)"
   ]
  },
  {
   "cell_type": "markdown",
   "metadata": {},
   "source": [
    "<a id='section_2'></a>\n",
    "# 2. **With Strings**"
   ]
  },
  {
   "cell_type": "code",
   "execution_count": 4,
   "metadata": {},
   "outputs": [
    {
     "name": "stdin",
     "output_type": "stream",
     "text": [
      "Enter the short form of United States of America  \n",
      " usa\n"
     ]
    },
    {
     "name": "stdout",
     "output_type": "stream",
     "text": [
      "Correct\n"
     ]
    }
   ],
   "source": [
    "s = input ( \"Enter the short form of United States of America  \\n\")\n",
    "\n",
    "if s == 'USA':\n",
    "    print(\"Correct\")\n",
    "\n",
    "elif s == 'usa':\n",
    "    print(\"Correct\")\n",
    "\n",
    "else:\n",
    "    print(\"Wrong\")"
   ]
  },
  {
   "cell_type": "code",
   "execution_count": 5,
   "metadata": {},
   "outputs": [
    {
     "name": "stdin",
     "output_type": "stream",
     "text": [
      "Enter username debesh\n",
      "Enter password hello123\n"
     ]
    },
    {
     "name": "stdout",
     "output_type": "stream",
     "text": [
      "Success\n"
     ]
    }
   ],
   "source": [
    "u = input ( \"Enter username\")\n",
    "p = input ( \"Enter password\")\n",
    "\n",
    "if (u == \"debesh\" and p == \"hello123\"):\n",
    "    print(\"Success\")\n",
    "else :\n",
    "    print(\"Try again\")"
   ]
  },
  {
   "cell_type": "markdown",
   "metadata": {},
   "source": [
    "<a id='section_3'></a>\n",
    "# 3. **Nested If**"
   ]
  },
  {
   "cell_type": "code",
   "execution_count": 6,
   "metadata": {},
   "outputs": [
    {
     "name": "stdin",
     "output_type": "stream",
     "text": [
      "Enter +ve integer  8\n"
     ]
    },
    {
     "name": "stdout",
     "output_type": "stream",
     "text": [
      "Even\n"
     ]
    }
   ],
   "source": [
    "j = int (input (\"Enter +ve integer \"))\n",
    "\n",
    "if (j > 0):\n",
    "    \n",
    "    if (j % 2 == 0):\n",
    "        print(\"Even\")\n",
    "    else:\n",
    "        print(\"Odd\")\n",
    "        \n",
    "else:\n",
    "    print(\"Wrong input\")"
   ]
  }
 ],
 "metadata": {
  "kernelspec": {
   "display_name": "Python 3",
   "language": "python",
   "name": "python3"
  },
  "language_info": {
   "codemirror_mode": {
    "name": "ipython",
    "version": 3
   },
   "file_extension": ".py",
   "mimetype": "text/x-python",
   "name": "python",
   "nbconvert_exporter": "python",
   "pygments_lexer": "ipython3",
   "version": "3.7.4"
  }
 },
 "nbformat": 4,
 "nbformat_minor": 4
}
