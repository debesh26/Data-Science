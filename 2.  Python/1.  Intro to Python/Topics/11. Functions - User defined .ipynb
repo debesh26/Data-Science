{
 "cells": [
  {
   "cell_type": "markdown",
   "metadata": {},
   "source": [
    "# **Table of Contents**\n",
    "* [Arguments](#section_1)\n",
    "    * [Part 1](#section_2)\n",
    "    * [Part 2](#section_3)\n",
    "    * [Part 3](#section_4)\n",
    "    <br><br>\n",
    "* [Catching](#section_5)\n",
    "* [Variable Scope](#section_6)\n",
    "* [Method Overloading](#section_7)"
   ]
  },
  {
   "cell_type": "markdown",
   "metadata": {},
   "source": [
    "<a id='section_1'></a>\n",
    "# 1. **Arguments**"
   ]
  },
  {
   "cell_type": "markdown",
   "metadata": {},
   "source": [
    "<a id='section_2'></a>\n",
    "# **Part 1**"
   ]
  },
  {
   "cell_type": "code",
   "execution_count": 1,
   "metadata": {},
   "outputs": [
    {
     "data": {
      "text/plain": [
       "15"
      ]
     },
     "execution_count": 1,
     "metadata": {},
     "output_type": "execute_result"
    }
   ],
   "source": [
    "def fun():\n",
    "    \n",
    "    c = 5 + 10\n",
    "    return c                      # print (c)\n",
    "\n",
    "fun()"
   ]
  },
  {
   "cell_type": "code",
   "execution_count": 2,
   "metadata": {},
   "outputs": [
    {
     "data": {
      "text/plain": [
       "15"
      ]
     },
     "execution_count": 2,
     "metadata": {},
     "output_type": "execute_result"
    }
   ],
   "source": [
    "def fun(a,b):\n",
    "    \n",
    "    c = a+b\n",
    "    return c\n",
    "\n",
    "fun (5,10)"
   ]
  },
  {
   "cell_type": "code",
   "execution_count": 3,
   "metadata": {},
   "outputs": [
    {
     "data": {
      "text/plain": [
       "15"
      ]
     },
     "execution_count": 3,
     "metadata": {},
     "output_type": "execute_result"
    }
   ],
   "source": [
    "def fun(a,b):\n",
    "    \n",
    "    return a+b\n",
    "\n",
    "fun (5,10)"
   ]
  },
  {
   "cell_type": "markdown",
   "metadata": {},
   "source": [
    "<a id='section_3'></a>\n",
    "# **Part 2**"
   ]
  },
  {
   "cell_type": "code",
   "execution_count": 4,
   "metadata": {},
   "outputs": [
    {
     "data": {
      "text/plain": [
       "15"
      ]
     },
     "execution_count": 4,
     "metadata": {},
     "output_type": "execute_result"
    }
   ],
   "source": [
    "def fun(a,b):\n",
    "    \n",
    "    sum = a + b\n",
    "    return sum\n",
    "\n",
    "fun ( a=5 , b=10 )"
   ]
  },
  {
   "cell_type": "code",
   "execution_count": 5,
   "metadata": {},
   "outputs": [
    {
     "name": "stdout",
     "output_type": "stream",
     "text": [
      "16\n"
     ]
    }
   ],
   "source": [
    "def fun (a,b=10):               # default argument example\n",
    "    \n",
    "    c = a+b\n",
    "    print(c)\n",
    "\n",
    "fun(6)"
   ]
  },
  {
   "cell_type": "code",
   "execution_count": 6,
   "metadata": {},
   "outputs": [
    {
     "name": "stdout",
     "output_type": "stream",
     "text": [
      "12\n"
     ]
    }
   ],
   "source": [
    "def fun (a,b=10):\n",
    "    \n",
    "    c = a+b\n",
    "    print(c)\n",
    "\n",
    "fun(5,7)              # latest value gets replaced"
   ]
  },
  {
   "cell_type": "code",
   "execution_count": 7,
   "metadata": {},
   "outputs": [
    {
     "name": "stdout",
     "output_type": "stream",
     "text": [
      "25\n",
      "None\n"
     ]
    }
   ],
   "source": [
    "def fun(a,b):\n",
    "    c = a+b\n",
    "    print(c)\n",
    "\n",
    "out = fun(10,15)\n",
    "\n",
    "print(out)                       "
   ]
  },
  {
   "cell_type": "code",
   "execution_count": 8,
   "metadata": {},
   "outputs": [
    {
     "name": "stdout",
     "output_type": "stream",
     "text": [
      "None\n"
     ]
    }
   ],
   "source": [
    "def fun(a,b):\n",
    "    c = a+b\n",
    "    return\n",
    "\n",
    "out = fun(10,15)\n",
    "\n",
    "print(out)                       "
   ]
  },
  {
   "cell_type": "markdown",
   "metadata": {},
   "source": [
    "<a id='section_4'></a>\n",
    "# **Part 3**"
   ]
  },
  {
   "cell_type": "markdown",
   "metadata": {},
   "source": [
    "* multiple arguments\n",
    "* 1 asterix"
   ]
  },
  {
   "cell_type": "code",
   "execution_count": 9,
   "metadata": {},
   "outputs": [
    {
     "name": "stdout",
     "output_type": "stream",
     "text": [
      "1\n",
      "2\n",
      "3\n"
     ]
    }
   ],
   "source": [
    "def fun (*x):  \n",
    "    \n",
    "    for i in x:  \n",
    "        print (i) \n",
    "    \n",
    "fun (1,2,3) "
   ]
  },
  {
   "cell_type": "markdown",
   "metadata": {},
   "source": [
    "## **Keyword Args**\n",
    "* Multiple arguments + Keyword specified \n",
    "* 2 asterix"
   ]
  },
  {
   "cell_type": "code",
   "execution_count": 10,
   "metadata": {},
   "outputs": [
    {
     "name": "stdout",
     "output_type": "stream",
     "text": [
      "a\n",
      "b\n",
      "c\n"
     ]
    }
   ],
   "source": [
    "def fun (**x):\n",
    "    \n",
    "    for i in x:\n",
    "        print(i)\n",
    "    \n",
    "\n",
    "fun (a=1 , b=2 , c=3) "
   ]
  },
  {
   "cell_type": "markdown",
   "metadata": {},
   "source": [
    "<a id='section_5'></a>\n",
    "# 2. **Catching**"
   ]
  },
  {
   "cell_type": "code",
   "execution_count": 11,
   "metadata": {},
   "outputs": [
    {
     "name": "stdout",
     "output_type": "stream",
     "text": [
      "(25, -5)\n"
     ]
    }
   ],
   "source": [
    "# multi-return + single catch\n",
    "\n",
    "def fun(a,b):\n",
    "    c = a+b\n",
    "    d = a-b\n",
    "    return c,d           \n",
    "\n",
    "out = fun(10,15)    \n",
    "\n",
    "print(out)"
   ]
  },
  {
   "cell_type": "code",
   "execution_count": 12,
   "metadata": {},
   "outputs": [
    {
     "name": "stdout",
     "output_type": "stream",
     "text": [
      "25 -5\n"
     ]
    }
   ],
   "source": [
    "# Multi-return + Multi-catch\n",
    "\n",
    "def fun(a,b):\n",
    "    c = a+b\n",
    "    d = a-b\n",
    "    return c,d           \n",
    "\n",
    "out , out1  =  fun(10,15)   \n",
    "\n",
    "print (out , out1)"
   ]
  },
  {
   "cell_type": "markdown",
   "metadata": {},
   "source": [
    "<a id='section_6'></a>\n",
    "# 3. **Variable Scope**"
   ]
  },
  {
   "cell_type": "code",
   "execution_count": 13,
   "metadata": {},
   "outputs": [
    {
     "name": "stdout",
     "output_type": "stream",
     "text": [
      "10\n",
      "5\n"
     ]
    }
   ],
   "source": [
    "x = 5                               # global\n",
    "\n",
    "def fun():\n",
    "    x = 10                          # local\n",
    "    print(x)\n",
    "\n",
    "\n",
    "fun()\n",
    "print(x)"
   ]
  },
  {
   "cell_type": "code",
   "execution_count": 14,
   "metadata": {},
   "outputs": [
    {
     "name": "stdout",
     "output_type": "stream",
     "text": [
      "10\n",
      "25\n"
     ]
    }
   ],
   "source": [
    "c = 25\n",
    "\n",
    "def fun(a,b):\n",
    "    c = a+b\n",
    "    print(c)\n",
    "    \n",
    "\n",
    "fun (5,5)\n",
    "print(c)"
   ]
  },
  {
   "cell_type": "markdown",
   "metadata": {},
   "source": [
    "<a id='section_7'></a>\n",
    "# 4. **Method Overloading**"
   ]
  },
  {
   "cell_type": "markdown",
   "metadata": {},
   "source": [
    "* same name , different args ----  not supported\n",
    "* hence use different function names"
   ]
  },
  {
   "cell_type": "code",
   "execution_count": 2,
   "metadata": {},
   "outputs": [
    {
     "name": "stdout",
     "output_type": "stream",
     "text": [
      "15\n",
      "15\n",
      "30\n"
     ]
    }
   ],
   "source": [
    "def fun1 ():\n",
    "    a=10\n",
    "    b=5\n",
    "    z = a+b\n",
    "    print(z)\n",
    "\n",
    "def fun2 (a,b):\n",
    "    z = a+b\n",
    "    print(z)\n",
    "\n",
    "def fun3 (a,b,c):\n",
    "    z = a+b+c\n",
    "    print(z)\n",
    "    \n",
    "fun1 ()\n",
    "fun2 (5,10)\n",
    "fun3 (5,10,15)     "
   ]
  }
 ],
 "metadata": {
  "kernelspec": {
   "display_name": "Python 3",
   "language": "python",
   "name": "python3"
  },
  "language_info": {
   "codemirror_mode": {
    "name": "ipython",
    "version": 3
   },
   "file_extension": ".py",
   "mimetype": "text/x-python",
   "name": "python",
   "nbconvert_exporter": "python",
   "pygments_lexer": "ipython3",
   "version": "3.7.4"
  }
 },
 "nbformat": 4,
 "nbformat_minor": 4
}
