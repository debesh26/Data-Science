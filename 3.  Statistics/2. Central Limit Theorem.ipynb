{
 "cells": [
  {
   "cell_type": "markdown",
   "metadata": {},
   "source": [
    "# **Table of Contents**\n",
    "* [Confidence Interval](#section_1)\n",
    "* [Sampling Error](#section_2)"
   ]
  },
  {
   "cell_type": "code",
   "execution_count": 1,
   "metadata": {},
   "outputs": [],
   "source": [
    "import numpy             as np\n",
    "import pandas            as pd\n",
    "import matplotlib.pyplot as plt\n",
    "import seaborn           as sns\n",
    "\n",
    "import scipy.stats as stats\n",
    "\n",
    "import warnings\n",
    "warnings.simplefilter(\"ignore\")"
   ]
  },
  {
   "cell_type": "markdown",
   "metadata": {},
   "source": [
    "<a id='section_1'></a>\n",
    "# **1. Confidence Interval**"
   ]
  },
  {
   "cell_type": "markdown",
   "metadata": {
    "colab_type": "text",
    "id": "NoEU5voE3_C9"
   },
   "source": [
    "* Range in which the value of a population parameter is likely to lie with certain probability."
   ]
  },
  {
   "cell_type": "markdown",
   "metadata": {},
   "source": [
    "# **Q1**"
   ]
  },
  {
   "cell_type": "markdown",
   "metadata": {
    "colab_type": "text",
    "id": "c5_dwaMNpCEG"
   },
   "source": [
    "* Hours spent on studies by 20 students on a course is given.\n",
    "* Assume that the population of hours spent follows a normal distribution and the standard deviation is 3.1 hours.\n",
    "* Calculate the 90% confidence interval for the mean hours spent by the students"
   ]
  },
  {
   "cell_type": "code",
   "execution_count": 2,
   "metadata": {
    "colab": {},
    "colab_type": "code",
    "id": "jaRRB2zIpCEK"
   },
   "outputs": [
    {
     "data": {
      "text/plain": [
       "(6.129818597900822, 8.410181402099179)"
      ]
     },
     "execution_count": 2,
     "metadata": {},
     "output_type": "execute_result"
    }
   ],
   "source": [
    "h  =  np.array  ( [4.7,9.2,9.3,11.2,8,7.6,7.4,4.9,9.2,5.3,1.7,2.8,7.2,12.3,8.6,10.6,9,5.7,6.9,3.8] )\n",
    "\n",
    "stats.norm.interval  ( 0.90,  h.mean() ,  3.1/np.sqrt(20) )"
   ]
  },
  {
   "cell_type": "markdown",
   "metadata": {},
   "source": [
    "# **Q2**"
   ]
  },
  {
   "cell_type": "markdown",
   "metadata": {
    "colab_type": "text",
    "id": "4efJdfM6pCEg"
   },
   "source": [
    "* A sample of 100 diabetic patients was chosen to estimate the length of stay of a patient at a hospital. \n",
    "* The sample mean was 4.5 days and the SD was 1.2 days\n",
    "* Calculate the 99% confidence interval for the population mean."
   ]
  },
  {
   "cell_type": "code",
   "execution_count": 3,
   "metadata": {
    "colab": {},
    "colab_type": "code",
    "id": "4G6qvfvepCEk"
   },
   "outputs": [
    {
     "data": {
      "text/plain": [
       "(4.190900483574132, 4.809099516425868)"
      ]
     },
     "execution_count": 3,
     "metadata": {},
     "output_type": "execute_result"
    }
   ],
   "source": [
    "stats.norm.interval (0.99,  4.5,  1.2/np.sqrt(100))"
   ]
  },
  {
   "cell_type": "markdown",
   "metadata": {},
   "source": [
    "# **Q3**"
   ]
  },
  {
   "cell_type": "markdown",
   "metadata": {
    "colab_type": "text",
    "id": "SjHSHwXdz42w"
   },
   "source": [
    "Pencils manufactured by Nataraj company is expected to have a mean length of 172 mm and the standard deviation of the length is 0.02 mm.\n",
    "To ensure the quality, a sample is selected at periodic intervals to determine whether the length is still 172 mm meet the quality standards set by the company.You select a random sample of 100 pencils follows a normal distribution and the mean is 170 mm.\n",
    "\n",
    "* Construct a 99% confidence interval for the pencil length."
   ]
  },
  {
   "cell_type": "code",
   "execution_count": 4,
   "metadata": {},
   "outputs": [
    {
     "data": {
      "text/plain": [
       "(169.9948483413929, 170.0051516586071)"
      ]
     },
     "execution_count": 4,
     "metadata": {},
     "output_type": "execute_result"
    }
   ],
   "source": [
    "stats.norm.interval ( 0.99,  170,  0.02/np.sqrt(100) )"
   ]
  },
  {
   "cell_type": "markdown",
   "metadata": {
    "colab_type": "text",
    "id": "1xHIxdXU3_Dh"
   },
   "source": [
    "# **Q 4**"
   ]
  },
  {
   "cell_type": "markdown",
   "metadata": {
    "colab_type": "text",
    "id": "fOq4ZLrX3_Di"
   },
   "source": [
    "A medical pharmacy was interested in finding the proportion of customers who pay cash for their medicines as against digital cash or plastic money.\n",
    "\n",
    "From a sample of 200 customers, it was found that 140 customers paid by cash. \n",
    "\n",
    "* Calculate the 95% confidence interval for proportions who pay by cash."
   ]
  },
  {
   "cell_type": "code",
   "execution_count": 5,
   "metadata": {},
   "outputs": [],
   "source": [
    "import   statsmodels.stats.proportion    as   SMP"
   ]
  },
  {
   "cell_type": "code",
   "execution_count": 6,
   "metadata": {
    "colab": {},
    "colab_type": "code",
    "id": "R2yBOlaD3_Dj",
    "outputId": "39ec44bd-fb1d-4493-d7d7-4bcd13793d6d"
   },
   "outputs": [
    {
     "data": {
      "text/plain": [
       "(0.6364899081898882, 0.7635100918101118)"
      ]
     },
     "execution_count": 6,
     "metadata": {},
     "output_type": "execute_result"
    }
   ],
   "source": [
    "n           =  200\n",
    "n_success   =  140\n",
    "\n",
    "SMP.proportion_confint  ( count = n_success , nobs = n , alpha = 0.05 , method = 'normal' )"
   ]
  },
  {
   "cell_type": "markdown",
   "metadata": {},
   "source": [
    "# **Q 5**"
   ]
  },
  {
   "cell_type": "markdown",
   "metadata": {},
   "source": [
    "A study was done to measure the blood pressure of 60 year old women with glaucoma. A random sample of 200 women with glaucoma was chosen. \n",
    "Mean = 140 mm Hg . Standard Deviation =  25 mm Hg.\n",
    "\n",
    "*\tCalculate the estimated standard error of the sample mean.\n",
    "\n",
    "*\tCalc 95% confidence interval\n",
    "\n",
    "*\tInstead of 200 , only 100 were choosen. Calc 95% confidence interval."
   ]
  },
  {
   "cell_type": "code",
   "execution_count": 7,
   "metadata": {},
   "outputs": [],
   "source": [
    "n     =  200\n",
    "x_bar =  140\n",
    "sigma =  25\n",
    "df    =  n-1"
   ]
  },
  {
   "cell_type": "code",
   "execution_count": 8,
   "metadata": {},
   "outputs": [
    {
     "data": {
      "text/plain": [
       "(136.51404038839016, 143.48595961160984)"
      ]
     },
     "execution_count": 8,
     "metadata": {},
     "output_type": "execute_result"
    }
   ],
   "source": [
    "SE  =  sigma / np.sqrt(n)\n",
    "\n",
    "stats.t.interval ( 0.95 ,  loc = x_bar ,  scale = SE ,  df = n-1 )"
   ]
  },
  {
   "cell_type": "code",
   "execution_count": 9,
   "metadata": {},
   "outputs": [
    {
     "data": {
      "text/plain": [
       "(135.03945762122828, 144.96054237877172)"
      ]
     },
     "execution_count": 9,
     "metadata": {},
     "output_type": "execute_result"
    }
   ],
   "source": [
    "n2   =  100\n",
    "\n",
    "SE2  =  sigma / np.sqrt(n2)\n",
    "\n",
    "stats.t.interval ( 0.95  ,  loc = x_bar  ,  scale = SE2  ,  df = n2-1 )"
   ]
  },
  {
   "cell_type": "markdown",
   "metadata": {},
   "source": [
    "> Comments\n",
    "\n",
    "        * CI inc with dec in sample size"
   ]
  },
  {
   "cell_type": "code",
   "execution_count": 10,
   "metadata": {},
   "outputs": [
    {
     "name": "stdout",
     "output_type": "stream",
     "text": [
      "1.7677669529663687\n",
      "2.5\n"
     ]
    }
   ],
   "source": [
    "print (SE)\n",
    "print (SE2)"
   ]
  },
  {
   "cell_type": "markdown",
   "metadata": {},
   "source": [
    "> Comments\n",
    "\n",
    "        * When the sample size increases, it moves towards attaining the population size, \n",
    "        * Hence , sample mean tends to move towards the population mean\n",
    "        * Hence , SE decreases with increase in sample size"
   ]
  },
  {
   "cell_type": "markdown",
   "metadata": {},
   "source": [
    "<a id='section_2'></a>\n",
    "# **2. Sampling error**"
   ]
  },
  {
   "cell_type": "markdown",
   "metadata": {},
   "source": [
    "* Statistical error that occurs when a sample does not represent the entire population. \n",
    "* Then , results found in the sample do not represent the results that would be obtained from the entire population."
   ]
  },
  {
   "cell_type": "markdown",
   "metadata": {},
   "source": [
    "# **Q1**"
   ]
  },
  {
   "cell_type": "markdown",
   "metadata": {},
   "source": [
    "From the given Population & Sample data :"
   ]
  },
  {
   "cell_type": "code",
   "execution_count": 11,
   "metadata": {},
   "outputs": [],
   "source": [
    "np.random.seed(10)\n",
    "\n",
    "p1  =  stats.poisson.rvs ( loc=18 , mu=35 , size=150000 )\n",
    "p2  =  stats.poisson.rvs ( loc=18 , mu=10 , size=100000 )\n",
    "\n",
    "p   =  np.concatenate (( p1, p2 ))"
   ]
  },
  {
   "cell_type": "code",
   "execution_count": 12,
   "metadata": {},
   "outputs": [],
   "source": [
    "np.random.seed(6)\n",
    "\n",
    "s  =  np.random.choice (a = p , size = 500)            # Sample 500 values"
   ]
  },
  {
   "cell_type": "markdown",
   "metadata": {
    "colab_type": "text",
    "id": "lWYKVpLXpCDq"
   },
   "source": [
    "* Plot  population data and sample data. Infer.\n",
    "* Calculate a 95% confidence to estimate the mean of the population"
   ]
  },
  {
   "cell_type": "code",
   "execution_count": 13,
   "metadata": {
    "colab": {},
    "colab_type": "code",
    "id": "2A5QyPvYpCDz"
   },
   "outputs": [
    {
     "data": {
      "image/png": "[encoded data removed]",
      "text/plain": [
       "<Figure size 432x288 with 1 Axes>"
      ]
     },
     "metadata": {
      "needs_background": "light"
     },
     "output_type": "display_data"
    }
   ],
   "source": [
    "sns.distplot ( p ,  label='Population')\n",
    "sns.distplot ( s ,  label='Sample')\n",
    "\n",
    "plt.legend()\n",
    "plt.show()"
   ]
  },
  {
   "cell_type": "markdown",
   "metadata": {},
   "source": [
    "* Sampling dist is similar to Population dist"
   ]
  },
  {
   "cell_type": "code",
   "execution_count": 14,
   "metadata": {
    "colab": {},
    "colab_type": "code",
    "id": "1WtNmxQ0pCED"
   },
   "outputs": [
    {
     "name": "stdout",
     "output_type": "stream",
     "text": [
      "42.388\n",
      "(41.22843548585789, 43.54756451414211)\n"
     ]
    }
   ],
   "source": [
    "print ( s.mean() )\n",
    "\n",
    "print ( stats.norm.interval ( 0.95 ,  s.mean() ,  p.std() / np.sqrt(500)  )   )"
   ]
  },
  {
   "cell_type": "markdown",
   "metadata": {},
   "source": [
    "## **Q2**"
   ]
  },
  {
   "cell_type": "markdown",
   "metadata": {
    "colab_type": "text",
    "id": "ZDws3VDCpCDY"
   },
   "source": [
    "* Given the population data and sample data.\n",
    "* Calculate sampling error and standard error"
   ]
  },
  {
   "cell_type": "code",
   "execution_count": 15,
   "metadata": {
    "colab": {},
    "colab_type": "code",
    "id": "kZV4KGMwpCDd"
   },
   "outputs": [],
   "source": [
    "p  =  [ 60,80,70,75,80,90,100,100,65,75,60,90,70,70,80,50,55,60,70,65,70,55,50,65,70,\n",
    "        65,70,65,75,80,90,95,95,85,90,80,75,70,80,85,90,80,75,70,60,65,70,80,75,80,90,\n",
    "        65,80,65,70,85,75,70,80,85,65,70,85,80,65,70,80,90,100,60,70,55,60,70,70,70,80,\n",
    "        85,90,80,75,70,60,65,70,80,75,80,90,70,85,80,65,70,80,90,100,60,70,80 ]\n",
    "\n",
    "s  =  [ 90,100,100,65,75,60,90,70,65,70,65,70,65,60,70,85,65,70,85,80,65,70,80,65,70 ]"
   ]
  },
  {
   "cell_type": "markdown",
   "metadata": {
    "colab_type": "text",
    "id": "MGul5KLUpCDj"
   },
   "source": [
    "**Sampling Error**"
   ]
  },
  {
   "cell_type": "code",
   "execution_count": 16,
   "metadata": {
    "colab": {},
    "colab_type": "code",
    "id": "D4GkFDkYpCDk"
   },
   "outputs": [
    {
     "data": {
      "text/plain": [
       "0.9500000000000028"
      ]
     },
     "execution_count": 16,
     "metadata": {},
     "output_type": "execute_result"
    }
   ],
   "source": [
    "np.mean(p) - np.mean(s)"
   ]
  },
  {
   "cell_type": "code",
   "execution_count": 17,
   "metadata": {},
   "outputs": [
    {
     "data": {
      "image/png": "[encoded data removed]",
      "text/plain": [
       "<Figure size 432x288 with 1 Axes>"
      ]
     },
     "metadata": {
      "needs_background": "light"
     },
     "output_type": "display_data"
    }
   ],
   "source": [
    "sns.distplot ( p ,    label='Population')\n",
    "sns.distplot ( s ,    label='Sample')\n",
    "\n",
    "plt.legend()\n",
    "plt.show()"
   ]
  },
  {
   "cell_type": "markdown",
   "metadata": {
    "colab_type": "text",
    "id": "sN3HDpHjpCDm"
   },
   "source": [
    "**Standard Error**"
   ]
  },
  {
   "cell_type": "code",
   "execution_count": 18,
   "metadata": {
    "colab": {},
    "colab_type": "code",
    "id": "oUBkd8GepCDn"
   },
   "outputs": [
    {
     "name": "stdout",
     "output_type": "stream",
     "text": [
      "2.2605087922854894\n"
     ]
    }
   ],
   "source": [
    "sigma   =  np.std (p)\n",
    "\n",
    "sqrt_n  =  np.sqrt(len(s))\n",
    "\n",
    "print (sigma / sqrt_n)"
   ]
  },
  {
   "cell_type": "markdown",
   "metadata": {},
   "source": [
    "* Standard errors can be eliminated by<br>\n",
    "        * Increasing sample size \n",
    "        * Decreasing sampling error. "
   ]
  }
 ],
 "metadata": {
  "kernelspec": {
   "display_name": "Python 3",
   "language": "python",
   "name": "python3"
  },
  "language_info": {
   "codemirror_mode": {
    "name": "ipython",
    "version": 3
   },
   "file_extension": ".py",
   "mimetype": "text/x-python",
   "name": "python",
   "nbconvert_exporter": "python",
   "pygments_lexer": "ipython3",
   "version": "3.7.4"
  }
 },
 "nbformat": 4,
 "nbformat_minor": 4
}
