{
 "cells": [
  {
   "cell_type": "markdown",
   "metadata": {},
   "source": [
    "* TTest is used to :\n",
    "    - Check significance of a `feature (X)` towards `Target Column (Y)`\n",
    "    - Check how good a predictor the feature is\n",
    "---\n",
    "* Involves a 2-step process :\n",
    "    - Distribution check\n",
    "    - ttest_ind ... (parametric test for normal dist) ............ MWNU ... (non-parametric test for non-normal dist)  \n",
    "---\n",
    "* From a pairplot , we can decide which feature to be micro-viewed wrt Target_Column predictor nature"
   ]
  },
  {
   "cell_type": "markdown",
   "metadata": {},
   "source": [
    "# **Table of Contents**\n",
    "* [Dataset 1 : Diabetes](#hello)\n",
    "* [Dataset 2 : Cancer](#hi)\n"
   ]
  },
  {
   "cell_type": "code",
   "execution_count": 1,
   "metadata": {},
   "outputs": [],
   "source": [
    "import numpy             as np\n",
    "import pandas            as pd\n",
    "import matplotlib.pyplot as plt\n",
    "import seaborn           as sns\n",
    "\n",
    "import scipy.stats       as stats\n",
    "\n",
    "import warnings\n",
    "warnings.simplefilter(\"ignore\")"
   ]
  },
  {
   "cell_type": "markdown",
   "metadata": {},
   "source": [
    "<a id='hello'></a>\n",
    "# **Dataset 1**"
   ]
  },
  {
   "cell_type": "code",
   "execution_count": 2,
   "metadata": {},
   "outputs": [
    {
     "data": {
      "text/html": [
       "<div>\n",
       "<style scoped>\n",
       "    .dataframe tbody tr th:only-of-type {\n",
       "        vertical-align: middle;\n",
       "    }\n",
       "\n",
       "    .dataframe tbody tr th {\n",
       "        vertical-align: top;\n",
       "    }\n",
       "\n",
       "    .dataframe thead th {\n",
       "        text-align: right;\n",
       "    }\n",
       "</style>\n",
       "<table border=\"1\" class=\"dataframe\">\n",
       "  <thead>\n",
       "    <tr style=\"text-align: right;\">\n",
       "      <th></th>\n",
       "      <th>Pregnancies</th>\n",
       "      <th>Glucose</th>\n",
       "      <th>BloodPressure</th>\n",
       "      <th>SkinThickness</th>\n",
       "      <th>Insulin</th>\n",
       "      <th>BMI</th>\n",
       "      <th>DiabetesPedigreeFunction</th>\n",
       "      <th>Age</th>\n",
       "      <th>Outcome</th>\n",
       "    </tr>\n",
       "  </thead>\n",
       "  <tbody>\n",
       "    <tr>\n",
       "      <th>12</th>\n",
       "      <td>10</td>\n",
       "      <td>139</td>\n",
       "      <td>80</td>\n",
       "      <td>0</td>\n",
       "      <td>0</td>\n",
       "      <td>27.1</td>\n",
       "      <td>1.441</td>\n",
       "      <td>57</td>\n",
       "      <td>0</td>\n",
       "    </tr>\n",
       "    <tr>\n",
       "      <th>746</th>\n",
       "      <td>1</td>\n",
       "      <td>147</td>\n",
       "      <td>94</td>\n",
       "      <td>41</td>\n",
       "      <td>0</td>\n",
       "      <td>49.3</td>\n",
       "      <td>0.358</td>\n",
       "      <td>27</td>\n",
       "      <td>1</td>\n",
       "    </tr>\n",
       "    <tr>\n",
       "      <th>191</th>\n",
       "      <td>9</td>\n",
       "      <td>123</td>\n",
       "      <td>70</td>\n",
       "      <td>44</td>\n",
       "      <td>94</td>\n",
       "      <td>33.1</td>\n",
       "      <td>0.374</td>\n",
       "      <td>40</td>\n",
       "      <td>0</td>\n",
       "    </tr>\n",
       "  </tbody>\n",
       "</table>\n",
       "</div>"
      ],
      "text/plain": [
       "     Pregnancies  Glucose  BloodPressure  SkinThickness  Insulin   BMI  \\\n",
       "12            10      139             80              0        0  27.1   \n",
       "746            1      147             94             41        0  49.3   \n",
       "191            9      123             70             44       94  33.1   \n",
       "\n",
       "     DiabetesPedigreeFunction  Age  Outcome  \n",
       "12                      1.441   57        0  \n",
       "746                     0.358   27        1  \n",
       "191                     0.374   40        0  "
      ]
     },
     "execution_count": 2,
     "metadata": {},
     "output_type": "execute_result"
    }
   ],
   "source": [
    "df  =  pd.read_csv(\"datasets/diabetes.csv\")\n",
    "\n",
    "df.sample(3)"
   ]
  },
  {
   "cell_type": "markdown",
   "metadata": {},
   "source": [
    "**Target Col -- Outcome**"
   ]
  },
  {
   "cell_type": "markdown",
   "metadata": {},
   "source": [
    "## **Feature - Glucose**"
   ]
  },
  {
   "cell_type": "code",
   "execution_count": 3,
   "metadata": {
    "scrolled": true
   },
   "outputs": [],
   "source": [
    "GD    =  df  [df['Outcome']==1]  ['Glucose']             \n",
    "GND   =  df  [df['Outcome']==0]  ['Glucose']     "
   ]
  },
  {
   "cell_type": "code",
   "execution_count": 4,
   "metadata": {},
   "outputs": [
    {
     "data": {
      "text/plain": [
       "<matplotlib.legend.Legend at 0x29298eb8f48>"
      ]
     },
     "execution_count": 4,
     "metadata": {},
     "output_type": "execute_result"
    },
    {
     "data": {
      "image/png": "[encoded data removed]",
      "text/plain": [
       "<Figure size 432x288 with 1 Axes>"
      ]
     },
     "metadata": {
      "needs_background": "light"
     },
     "output_type": "display_data"
    }
   ],
   "source": [
    "sns.distplot  (GD  , label='GD')\n",
    "sns.distplot  (GND , label='GND')\n",
    "\n",
    "plt.legend()"
   ]
  },
  {
   "cell_type": "code",
   "execution_count": 5,
   "metadata": {},
   "outputs": [
    {
     "data": {
      "text/plain": [
       "MannwhitneyuResult(statistic=28390.5, pvalue=6.0036342099385686e-40)"
      ]
     },
     "execution_count": 5,
     "metadata": {},
     "output_type": "execute_result"
    }
   ],
   "source": [
    "stats.mannwhitneyu  (GD, GND)"
   ]
  },
  {
   "cell_type": "markdown",
   "metadata": {},
   "source": [
    "> Comments\n",
    "    \n",
    "        * p < alpha\n",
    "        * reject null\n",
    "        * Sig difference between GD & GND\n",
    "        * Hence , Glucose is a good predictor"
   ]
  },
  {
   "cell_type": "markdown",
   "metadata": {},
   "source": [
    "<a id='hi'></a>\n",
    "# **Dataset 2**"
   ]
  },
  {
   "cell_type": "code",
   "execution_count": 6,
   "metadata": {},
   "outputs": [
    {
     "data": {
      "text/html": [
       "<div>\n",
       "<style scoped>\n",
       "    .dataframe tbody tr th:only-of-type {\n",
       "        vertical-align: middle;\n",
       "    }\n",
       "\n",
       "    .dataframe tbody tr th {\n",
       "        vertical-align: top;\n",
       "    }\n",
       "\n",
       "    .dataframe thead th {\n",
       "        text-align: right;\n",
       "    }\n",
       "</style>\n",
       "<table border=\"1\" class=\"dataframe\">\n",
       "  <thead>\n",
       "    <tr style=\"text-align: right;\">\n",
       "      <th></th>\n",
       "      <th>id</th>\n",
       "      <th>diagnosis</th>\n",
       "      <th>radius_mean</th>\n",
       "      <th>texture_mean</th>\n",
       "      <th>perimeter_mean</th>\n",
       "      <th>area_mean</th>\n",
       "      <th>smoothness_mean</th>\n",
       "      <th>compactness_mean</th>\n",
       "      <th>concavity_mean</th>\n",
       "      <th>points_mean</th>\n",
       "      <th>...</th>\n",
       "      <th>radius_worst</th>\n",
       "      <th>texture_worst</th>\n",
       "      <th>perimeter_worst</th>\n",
       "      <th>area_worst</th>\n",
       "      <th>smoothness_worst</th>\n",
       "      <th>compactness_worst</th>\n",
       "      <th>concavity_worst</th>\n",
       "      <th>points_worst</th>\n",
       "      <th>symmetry_worst</th>\n",
       "      <th>dimension_worst</th>\n",
       "    </tr>\n",
       "  </thead>\n",
       "  <tbody>\n",
       "    <tr>\n",
       "      <th>314</th>\n",
       "      <td>856106</td>\n",
       "      <td>M</td>\n",
       "      <td>13.28</td>\n",
       "      <td>20.28</td>\n",
       "      <td>87.32</td>\n",
       "      <td>545.2</td>\n",
       "      <td>0.10410</td>\n",
       "      <td>0.14360</td>\n",
       "      <td>0.09847</td>\n",
       "      <td>0.06158</td>\n",
       "      <td>...</td>\n",
       "      <td>17.38</td>\n",
       "      <td>28.0</td>\n",
       "      <td>113.10</td>\n",
       "      <td>907.2</td>\n",
       "      <td>0.1530</td>\n",
       "      <td>0.3724</td>\n",
       "      <td>0.3664</td>\n",
       "      <td>0.14920</td>\n",
       "      <td>0.3739</td>\n",
       "      <td>0.10270</td>\n",
       "    </tr>\n",
       "    <tr>\n",
       "      <th>78</th>\n",
       "      <td>89382602</td>\n",
       "      <td>B</td>\n",
       "      <td>12.76</td>\n",
       "      <td>13.37</td>\n",
       "      <td>82.29</td>\n",
       "      <td>504.1</td>\n",
       "      <td>0.08794</td>\n",
       "      <td>0.07948</td>\n",
       "      <td>0.04052</td>\n",
       "      <td>0.02548</td>\n",
       "      <td>...</td>\n",
       "      <td>14.19</td>\n",
       "      <td>16.4</td>\n",
       "      <td>92.04</td>\n",
       "      <td>618.8</td>\n",
       "      <td>0.1194</td>\n",
       "      <td>0.2208</td>\n",
       "      <td>0.1769</td>\n",
       "      <td>0.08411</td>\n",
       "      <td>0.2564</td>\n",
       "      <td>0.08253</td>\n",
       "    </tr>\n",
       "    <tr>\n",
       "      <th>211</th>\n",
       "      <td>857793</td>\n",
       "      <td>M</td>\n",
       "      <td>14.71</td>\n",
       "      <td>21.59</td>\n",
       "      <td>95.55</td>\n",
       "      <td>656.9</td>\n",
       "      <td>0.11370</td>\n",
       "      <td>0.13650</td>\n",
       "      <td>0.12930</td>\n",
       "      <td>0.08123</td>\n",
       "      <td>...</td>\n",
       "      <td>17.87</td>\n",
       "      <td>30.7</td>\n",
       "      <td>115.70</td>\n",
       "      <td>985.5</td>\n",
       "      <td>0.1368</td>\n",
       "      <td>0.4290</td>\n",
       "      <td>0.3587</td>\n",
       "      <td>0.18340</td>\n",
       "      <td>0.3698</td>\n",
       "      <td>0.10940</td>\n",
       "    </tr>\n",
       "  </tbody>\n",
       "</table>\n",
       "<p>3 rows × 32 columns</p>\n",
       "</div>"
      ],
      "text/plain": [
       "           id diagnosis  radius_mean  texture_mean  perimeter_mean  area_mean  \\\n",
       "314    856106         M        13.28         20.28           87.32      545.2   \n",
       "78   89382602         B        12.76         13.37           82.29      504.1   \n",
       "211    857793         M        14.71         21.59           95.55      656.9   \n",
       "\n",
       "     smoothness_mean  compactness_mean  concavity_mean  points_mean  ...  \\\n",
       "314          0.10410           0.14360         0.09847      0.06158  ...   \n",
       "78           0.08794           0.07948         0.04052      0.02548  ...   \n",
       "211          0.11370           0.13650         0.12930      0.08123  ...   \n",
       "\n",
       "     radius_worst  texture_worst  perimeter_worst  area_worst  \\\n",
       "314         17.38           28.0           113.10       907.2   \n",
       "78          14.19           16.4            92.04       618.8   \n",
       "211         17.87           30.7           115.70       985.5   \n",
       "\n",
       "     smoothness_worst  compactness_worst  concavity_worst  points_worst  \\\n",
       "314            0.1530             0.3724           0.3664       0.14920   \n",
       "78             0.1194             0.2208           0.1769       0.08411   \n",
       "211            0.1368             0.4290           0.3587       0.18340   \n",
       "\n",
       "     symmetry_worst  dimension_worst  \n",
       "314          0.3739          0.10270  \n",
       "78           0.2564          0.08253  \n",
       "211          0.3698          0.10940  \n",
       "\n",
       "[3 rows x 32 columns]"
      ]
     },
     "execution_count": 6,
     "metadata": {},
     "output_type": "execute_result"
    }
   ],
   "source": [
    "df  =  pd.read_csv (\"datasets/Cancer.csv\")\n",
    "\n",
    "df.sample(3)"
   ]
  },
  {
   "cell_type": "markdown",
   "metadata": {},
   "source": [
    "**Target Col -- Diagnosis**"
   ]
  },
  {
   "cell_type": "markdown",
   "metadata": {},
   "source": [
    "## **Feature - radius_mean**"
   ]
  },
  {
   "cell_type": "code",
   "execution_count": 7,
   "metadata": {},
   "outputs": [],
   "source": [
    "RB  =  df  [df['diagnosis']=='B']  ['radius_mean']\n",
    "RM  =  df  [df['diagnosis']=='M']  ['radius_mean']"
   ]
  },
  {
   "cell_type": "code",
   "execution_count": 8,
   "metadata": {},
   "outputs": [
    {
     "data": {
      "text/plain": [
       "<matplotlib.axes._subplots.AxesSubplot at 0x29299fff708>"
      ]
     },
     "execution_count": 8,
     "metadata": {},
     "output_type": "execute_result"
    },
    {
     "data": {
      "image/png": "[encoded data removed]",
      "text/plain": [
       "<Figure size 432x288 with 1 Axes>"
      ]
     },
     "metadata": {
      "needs_background": "light"
     },
     "output_type": "display_data"
    }
   ],
   "source": [
    "sns.distplot (RB)\n",
    "sns.distplot (RM)"
   ]
  },
  {
   "cell_type": "code",
   "execution_count": 9,
   "metadata": {},
   "outputs": [
    {
     "data": {
      "text/plain": [
       "MannwhitneyuResult(statistic=4729.0, pvalue=1.3464713863982824e-68)"
      ]
     },
     "execution_count": 9,
     "metadata": {},
     "output_type": "execute_result"
    }
   ],
   "source": [
    "stats.mannwhitneyu (RB , RM)"
   ]
  },
  {
   "cell_type": "markdown",
   "metadata": {},
   "source": [
    "> Comments\n",
    "    \n",
    "        * p < alpha\n",
    "        * reject null\n",
    "        * Sig difference between RB & RM\n",
    "        * Hence , Radius_Mean is a good predictor"
   ]
  },
  {
   "cell_type": "markdown",
   "metadata": {},
   "source": [
    "## **Feature - texture_se**"
   ]
  },
  {
   "cell_type": "code",
   "execution_count": 10,
   "metadata": {},
   "outputs": [],
   "source": [
    "TB  =  df  [df['diagnosis']=='B']  ['texture_se']\n",
    "TM  =  df  [df['diagnosis']=='M']  ['texture_se']"
   ]
  },
  {
   "cell_type": "code",
   "execution_count": 11,
   "metadata": {},
   "outputs": [
    {
     "data": {
      "text/plain": [
       "<matplotlib.axes._subplots.AxesSubplot at 0x2929a0d0408>"
      ]
     },
     "execution_count": 11,
     "metadata": {},
     "output_type": "execute_result"
    },
    {
     "data": {
      "image/png": "[encoded data removed]",
      "text/plain": [
       "<Figure size 432x288 with 1 Axes>"
      ]
     },
     "metadata": {
      "needs_background": "light"
     },
     "output_type": "display_data"
    }
   ],
   "source": [
    "sns.distplot (TB)\n",
    "sns.distplot (TM)"
   ]
  },
  {
   "cell_type": "code",
   "execution_count": 12,
   "metadata": {},
   "outputs": [
    {
     "data": {
      "text/plain": [
       "Ttest_indResult(statistic=0.1977238031013334, pvalue=0.8433320287670163)"
      ]
     },
     "execution_count": 12,
     "metadata": {},
     "output_type": "execute_result"
    }
   ],
   "source": [
    "stats.ttest_ind (TB , TM)"
   ]
  },
  {
   "cell_type": "markdown",
   "metadata": {},
   "source": [
    "> Comments\n",
    "    \n",
    "        * p > alpha\n",
    "        * accept null\n",
    "        * NO sig difference between TB & TM\n",
    "        * Hence , Texture_se is a bad predictor"
   ]
  }
 ],
 "metadata": {
  "kernelspec": {
   "display_name": "Python 3",
   "language": "python",
   "name": "python3"
  },
  "language_info": {
   "codemirror_mode": {
    "name": "ipython",
    "version": 3
   },
   "file_extension": ".py",
   "mimetype": "text/x-python",
   "name": "python",
   "nbconvert_exporter": "python",
   "pygments_lexer": "ipython3",
   "version": "3.7.4"
  }
 },
 "nbformat": 4,
 "nbformat_minor": 4
}
