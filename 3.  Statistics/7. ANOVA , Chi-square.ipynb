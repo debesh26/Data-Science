{
 "cells": [
  {
   "cell_type": "markdown",
   "metadata": {},
   "source": [
    "# **Table of Contents**\n",
    "* [ANOVA](#section_10)\n",
    "    * [One-way](#section_11)\n",
    "    * [Two-way](#section_12)\n",
    "    <br><br>\n",
    "* [Chi-square](#section_13)\n",
    "    * [Goodness of fit](#section_14)\n",
    "    * [Independence](#section_15)"
   ]
  },
  {
   "cell_type": "code",
   "execution_count": 1,
   "metadata": {},
   "outputs": [],
   "source": [
    "import numpy             as np\n",
    "import pandas            as pd\n",
    "import matplotlib.pyplot as plt\n",
    "import seaborn           as sns\n",
    "\n",
    "import scipy.stats       as stats\n",
    "\n",
    "import warnings\n",
    "warnings.simplefilter ('ignore')"
   ]
  },
  {
   "cell_type": "markdown",
   "metadata": {},
   "source": [
    "<a id='section_10'></a>\n",
    "# **1. ANOVA**"
   ]
  },
  {
   "cell_type": "markdown",
   "metadata": {},
   "source": [
    "-  Analysis of Variance\n",
    "-  Tests the equality of two or more population means by examining the variances of samples that are taken.\n",
    "-  Tests the general difference ,  rather than specific differences ,  among means. "
   ]
  },
  {
   "cell_type": "markdown",
   "metadata": {},
   "source": [
    "### Assumptions\n",
    "\n",
    "* All populations involved follow a normal distribution\n",
    "* All populations have the same variance\n",
    "* The samples are randomly selected and independent of one another\n"
   ]
  },
  {
   "cell_type": "markdown",
   "metadata": {},
   "source": [
    "<a id='section_11'></a>\n",
    "# **1.1 - One-way**"
   ]
  },
  {
   "cell_type": "markdown",
   "metadata": {},
   "source": [
    "## **Q 1**"
   ]
  },
  {
   "cell_type": "markdown",
   "metadata": {},
   "source": [
    "Consider the monthly income of members from three different gyms\n",
    "* Gym 1 (n = 22)\n",
    "* Gym 2 (n = 18)\n",
    "* Gym 3 (n = 23)\n",
    "* Using ANOVA, test whether the    members' mean monthly income     is equal for each Gym."
   ]
  },
  {
   "cell_type": "code",
   "execution_count": 2,
   "metadata": {},
   "outputs": [],
   "source": [
    "Gym1  =  np.array  ([60, 66, 65, 55, 62, 70, 51, 72, 58, 61, 71, 41, 70, 57, 55, 63, 64, 76, 74, 54, 58, 73]    )\n",
    "Gym2  =  np.array  ([56, 65, 65, 63, 57, 47, 72, 56, 52, 75, 66, 62, 68, 75, 60, 73, 63, 64]                    )\n",
    "Gym3  =  np.array  ([67, 56, 65, 61, 63, 59, 42, 53, 63, 65, 60, 57, 62, 70, 73, 63, 55, 52, 58, 68, 70, 72, 45])  "
   ]
  },
  {
   "cell_type": "code",
   "execution_count": 3,
   "metadata": {},
   "outputs": [
    {
     "data": {
      "text/html": [
       "<div>\n",
       "<style scoped>\n",
       "    .dataframe tbody tr th:only-of-type {\n",
       "        vertical-align: middle;\n",
       "    }\n",
       "\n",
       "    .dataframe tbody tr th {\n",
       "        vertical-align: top;\n",
       "    }\n",
       "\n",
       "    .dataframe thead th {\n",
       "        text-align: right;\n",
       "    }\n",
       "</style>\n",
       "<table border=\"1\" class=\"dataframe\">\n",
       "  <thead>\n",
       "    <tr style=\"text-align: right;\">\n",
       "      <th></th>\n",
       "      <th>Gym</th>\n",
       "      <th>Monthly_inc</th>\n",
       "    </tr>\n",
       "  </thead>\n",
       "  <tbody>\n",
       "    <tr>\n",
       "      <th>0</th>\n",
       "      <td>1</td>\n",
       "      <td>60</td>\n",
       "    </tr>\n",
       "    <tr>\n",
       "      <th>1</th>\n",
       "      <td>1</td>\n",
       "      <td>66</td>\n",
       "    </tr>\n",
       "    <tr>\n",
       "      <th>2</th>\n",
       "      <td>1</td>\n",
       "      <td>65</td>\n",
       "    </tr>\n",
       "    <tr>\n",
       "      <th>3</th>\n",
       "      <td>1</td>\n",
       "      <td>55</td>\n",
       "    </tr>\n",
       "    <tr>\n",
       "      <th>4</th>\n",
       "      <td>1</td>\n",
       "      <td>62</td>\n",
       "    </tr>\n",
       "    <tr>\n",
       "      <th>...</th>\n",
       "      <td>...</td>\n",
       "      <td>...</td>\n",
       "    </tr>\n",
       "    <tr>\n",
       "      <th>18</th>\n",
       "      <td>3</td>\n",
       "      <td>58</td>\n",
       "    </tr>\n",
       "    <tr>\n",
       "      <th>19</th>\n",
       "      <td>3</td>\n",
       "      <td>68</td>\n",
       "    </tr>\n",
       "    <tr>\n",
       "      <th>20</th>\n",
       "      <td>3</td>\n",
       "      <td>70</td>\n",
       "    </tr>\n",
       "    <tr>\n",
       "      <th>21</th>\n",
       "      <td>3</td>\n",
       "      <td>72</td>\n",
       "    </tr>\n",
       "    <tr>\n",
       "      <th>22</th>\n",
       "      <td>3</td>\n",
       "      <td>45</td>\n",
       "    </tr>\n",
       "  </tbody>\n",
       "</table>\n",
       "<p>63 rows × 2 columns</p>\n",
       "</div>"
      ],
      "text/plain": [
       "   Gym  Monthly_inc\n",
       "0    1           60\n",
       "1    1           66\n",
       "2    1           65\n",
       "3    1           55\n",
       "4    1           62\n",
       "..  ..          ...\n",
       "18   3           58\n",
       "19   3           68\n",
       "20   3           70\n",
       "21   3           72\n",
       "22   3           45\n",
       "\n",
       "[63 rows x 2 columns]"
      ]
     },
     "execution_count": 3,
     "metadata": {},
     "output_type": "execute_result"
    }
   ],
   "source": [
    "df  =  pd.DataFrame()\n",
    "\n",
    "df1     =  pd.DataFrame ( {'Gym': '1' , 'Monthly_inc':Gym1 } )\n",
    "df2     =  pd.DataFrame ( {'Gym': '2 ', 'Monthly_inc':Gym2 } )\n",
    "df3     =  pd.DataFrame ( {'Gym': '3' , 'Monthly_inc':Gym3 } )\n",
    "\n",
    "df  =  df.append (df1) \n",
    "df  =  df.append (df2) \n",
    "df  =  df.append (df3)\n",
    "\n",
    "df"
   ]
  },
  {
   "cell_type": "markdown",
   "metadata": {},
   "source": [
    "> Comments\n",
    "    \n",
    "        * Here we have 3 groups. \n",
    "        * ANOVA can determine whether the means of >=3 groups are different. \n",
    "        * ANOVA uses F-tests to statistically test the equality of means."
   ]
  },
  {
   "cell_type": "markdown",
   "metadata": {
    "colab_type": "text",
    "id": "3-LLLBzdz6ld"
   },
   "source": [
    "**State the null and alternative hypothesis**\n",
    "\n",
    "* $H_0$: $\\mu1$ = $\\mu2$ = $\\mu3$\n",
    "* $H_A$: At least one $\\mu$ differs "
   ]
  },
  {
   "cell_type": "markdown",
   "metadata": {},
   "source": [
    "## **i. f_oneway**"
   ]
  },
  {
   "cell_type": "code",
   "execution_count": 4,
   "metadata": {},
   "outputs": [
    {
     "data": {
      "text/plain": [
       "F_onewayResult(statistic=0.4970745666663714, pvalue=0.6107903864000767)"
      ]
     },
     "execution_count": 4,
     "metadata": {},
     "output_type": "execute_result"
    }
   ],
   "source": [
    "stats.f_oneway (Gym1, Gym2, Gym3)"
   ]
  },
  {
   "cell_type": "markdown",
   "metadata": {},
   "source": [
    "* p > 0.05\n",
    "* Accept Null\n",
    "* No Significant Difference (SD) between the 3 samples\n",
    "* No Significant Relation (SR) between Members_MI & Gym_they_go"
   ]
  },
  {
   "cell_type": "markdown",
   "metadata": {},
   "source": [
    "## **ii. ANOVA table**"
   ]
  },
  {
   "cell_type": "markdown",
   "metadata": {},
   "source": [
    "* ols  ------------------ creates a model from a formula and dataframe\n",
    "* anova_lm  ----------- gives an Anova table for one or more fitted linear models\n",
    "*  ~  separates model's LHS from  RHS"
   ]
  },
  {
   "cell_type": "code",
   "execution_count": 5,
   "metadata": {
    "scrolled": true
   },
   "outputs": [
    {
     "data": {
      "text/html": [
       "<div>\n",
       "<style scoped>\n",
       "    .dataframe tbody tr th:only-of-type {\n",
       "        vertical-align: middle;\n",
       "    }\n",
       "\n",
       "    .dataframe tbody tr th {\n",
       "        vertical-align: top;\n",
       "    }\n",
       "\n",
       "    .dataframe thead th {\n",
       "        text-align: right;\n",
       "    }\n",
       "</style>\n",
       "<table border=\"1\" class=\"dataframe\">\n",
       "  <thead>\n",
       "    <tr style=\"text-align: right;\">\n",
       "      <th></th>\n",
       "      <th>sum_sq</th>\n",
       "      <th>df</th>\n",
       "      <th>F</th>\n",
       "      <th>PR(&gt;F)</th>\n",
       "    </tr>\n",
       "  </thead>\n",
       "  <tbody>\n",
       "    <tr>\n",
       "      <th>Gym</th>\n",
       "      <td>66.614123</td>\n",
       "      <td>2.0</td>\n",
       "      <td>0.497075</td>\n",
       "      <td>0.61079</td>\n",
       "    </tr>\n",
       "    <tr>\n",
       "      <th>Residual</th>\n",
       "      <td>4020.370004</td>\n",
       "      <td>60.0</td>\n",
       "      <td>NaN</td>\n",
       "      <td>NaN</td>\n",
       "    </tr>\n",
       "  </tbody>\n",
       "</table>\n",
       "</div>"
      ],
      "text/plain": [
       "               sum_sq    df         F   PR(>F)\n",
       "Gym         66.614123   2.0  0.497075  0.61079\n",
       "Residual  4020.370004  60.0       NaN      NaN"
      ]
     },
     "execution_count": 5,
     "metadata": {},
     "output_type": "execute_result"
    }
   ],
   "source": [
    "import statsmodels.api           as       sm\n",
    "from   statsmodels.formula.api   import   ols\n",
    " \n",
    "model          =  ols('Monthly_inc ~ Gym' , data=df)  .fit()\n",
    "\n",
    "anova_table    =  sm.stats.anova_lm (model , typ=2)\n",
    "anova_table"
   ]
  },
  {
   "cell_type": "markdown",
   "metadata": {},
   "source": [
    "* P-value of F_calculated is > 0.05 \n",
    "* Accept Null"
   ]
  },
  {
   "cell_type": "markdown",
   "metadata": {},
   "source": [
    "## **iii. Plot**"
   ]
  },
  {
   "cell_type": "code",
   "execution_count": 6,
   "metadata": {},
   "outputs": [
    {
     "data": {
      "image/png": "[encoded data removed]",
      "text/plain": [
       "<Figure size 211.25x180 with 2 Axes>"
      ]
     },
     "metadata": {
      "needs_background": "light"
     },
     "output_type": "display_data"
    }
   ],
   "source": [
    "sns.pairplot (df,  diag_kind='kde',  hue='Gym')    ;"
   ]
  },
  {
   "cell_type": "code",
   "execution_count": 7,
   "metadata": {},
   "outputs": [
    {
     "data": {
      "image/png": "[encoded data removed]",
      "text/plain": [
       "<Figure size 432x288 with 1 Axes>"
      ]
     },
     "metadata": {
      "needs_background": "light"
     },
     "output_type": "display_data"
    }
   ],
   "source": [
    "sns.boxplot  (x=\"Gym\",  y=\"Monthly_inc\",  data=df) ;"
   ]
  },
  {
   "cell_type": "markdown",
   "metadata": {},
   "source": [
    "OBS\n",
    "*  No SD\n",
    "*  No SR"
   ]
  },
  {
   "cell_type": "markdown",
   "metadata": {},
   "source": [
    "## **Q 2**"
   ]
  },
  {
   "cell_type": "markdown",
   "metadata": {},
   "source": [
    "* Car crash test data.\n",
    "* Compact , Mid & Full sized cars\n",
    "* Given data of the pressure exerted on driver's head during a crash test \n",
    "* Test whether the means of 3 car categories are same or different , at 5%  significance level."
   ]
  },
  {
   "cell_type": "code",
   "execution_count": 8,
   "metadata": {},
   "outputs": [],
   "source": [
    "C    =  np.array ( [643, 655, 702] )\n",
    "M    =  np.array ( [469, 427, 525] )\n",
    "F    =  np.array ( [484, 456, 402] )"
   ]
  },
  {
   "cell_type": "code",
   "execution_count": 9,
   "metadata": {},
   "outputs": [
    {
     "data": {
      "text/html": [
       "<div>\n",
       "<style scoped>\n",
       "    .dataframe tbody tr th:only-of-type {\n",
       "        vertical-align: middle;\n",
       "    }\n",
       "\n",
       "    .dataframe tbody tr th {\n",
       "        vertical-align: top;\n",
       "    }\n",
       "\n",
       "    .dataframe thead th {\n",
       "        text-align: right;\n",
       "    }\n",
       "</style>\n",
       "<table border=\"1\" class=\"dataframe\">\n",
       "  <thead>\n",
       "    <tr style=\"text-align: right;\">\n",
       "      <th></th>\n",
       "      <th>Car_Type</th>\n",
       "      <th>Mean_Pressure</th>\n",
       "    </tr>\n",
       "  </thead>\n",
       "  <tbody>\n",
       "    <tr>\n",
       "      <th>0</th>\n",
       "      <td>C</td>\n",
       "      <td>643</td>\n",
       "    </tr>\n",
       "    <tr>\n",
       "      <th>1</th>\n",
       "      <td>C</td>\n",
       "      <td>655</td>\n",
       "    </tr>\n",
       "    <tr>\n",
       "      <th>2</th>\n",
       "      <td>C</td>\n",
       "      <td>702</td>\n",
       "    </tr>\n",
       "    <tr>\n",
       "      <th>0</th>\n",
       "      <td>M</td>\n",
       "      <td>469</td>\n",
       "    </tr>\n",
       "    <tr>\n",
       "      <th>1</th>\n",
       "      <td>M</td>\n",
       "      <td>427</td>\n",
       "    </tr>\n",
       "    <tr>\n",
       "      <th>2</th>\n",
       "      <td>M</td>\n",
       "      <td>525</td>\n",
       "    </tr>\n",
       "    <tr>\n",
       "      <th>0</th>\n",
       "      <td>F</td>\n",
       "      <td>484</td>\n",
       "    </tr>\n",
       "    <tr>\n",
       "      <th>1</th>\n",
       "      <td>F</td>\n",
       "      <td>456</td>\n",
       "    </tr>\n",
       "    <tr>\n",
       "      <th>2</th>\n",
       "      <td>F</td>\n",
       "      <td>402</td>\n",
       "    </tr>\n",
       "  </tbody>\n",
       "</table>\n",
       "</div>"
      ],
      "text/plain": [
       "  Car_Type  Mean_Pressure\n",
       "0        C            643\n",
       "1        C            655\n",
       "2        C            702\n",
       "0        M            469\n",
       "1        M            427\n",
       "2        M            525\n",
       "0        F            484\n",
       "1        F            456\n",
       "2        F            402"
      ]
     },
     "execution_count": 9,
     "metadata": {},
     "output_type": "execute_result"
    }
   ],
   "source": [
    "df = pd.DataFrame()\n",
    "\n",
    "df1            =  pd.DataFrame ( { 'Car_Type': 'C'  ,  'Mean_Pressure': C } )\n",
    "df2            =  pd.DataFrame ( { 'Car_Type': 'M'  ,  'Mean_Pressure': M } )\n",
    "df3            =  pd.DataFrame ( { 'Car_Type': 'F'  ,  'Mean_Pressure': F } )\n",
    "\n",
    "df = df.append (df1) \n",
    "df = df.append (df2) \n",
    "df = df.append (df3) \n",
    "\n",
    "df"
   ]
  },
  {
   "cell_type": "markdown",
   "metadata": {},
   "source": [
    "## **i. f_oneway**"
   ]
  },
  {
   "cell_type": "code",
   "execution_count": 10,
   "metadata": {},
   "outputs": [
    {
     "data": {
      "text/plain": [
       "F_onewayResult(statistic=25.175411221637088, pvalue=0.0012071270284831192)"
      ]
     },
     "execution_count": 10,
     "metadata": {},
     "output_type": "execute_result"
    }
   ],
   "source": [
    "stats.f_oneway ( C , M , F)"
   ]
  },
  {
   "cell_type": "markdown",
   "metadata": {},
   "source": [
    "> Comments\n",
    "    \n",
    "        * P < alpha\n",
    "        * Reject null\n",
    "        * SD between the mean pressures of 3 car categories \n",
    "        * SR between Car category & Pressure exerted on head"
   ]
  },
  {
   "cell_type": "markdown",
   "metadata": {},
   "source": [
    "## **ii. ANOVA table**"
   ]
  },
  {
   "cell_type": "code",
   "execution_count": 11,
   "metadata": {},
   "outputs": [
    {
     "data": {
      "text/html": [
       "<div>\n",
       "<style scoped>\n",
       "    .dataframe tbody tr th:only-of-type {\n",
       "        vertical-align: middle;\n",
       "    }\n",
       "\n",
       "    .dataframe tbody tr th {\n",
       "        vertical-align: top;\n",
       "    }\n",
       "\n",
       "    .dataframe thead th {\n",
       "        text-align: right;\n",
       "    }\n",
       "</style>\n",
       "<table border=\"1\" class=\"dataframe\">\n",
       "  <thead>\n",
       "    <tr style=\"text-align: right;\">\n",
       "      <th></th>\n",
       "      <th>sum_sq</th>\n",
       "      <th>df</th>\n",
       "      <th>F</th>\n",
       "      <th>PR(&gt;F)</th>\n",
       "    </tr>\n",
       "  </thead>\n",
       "  <tbody>\n",
       "    <tr>\n",
       "      <th>Car_Type</th>\n",
       "      <td>86049.555556</td>\n",
       "      <td>2.0</td>\n",
       "      <td>25.175411</td>\n",
       "      <td>0.001207</td>\n",
       "    </tr>\n",
       "    <tr>\n",
       "      <th>Residual</th>\n",
       "      <td>10254.000000</td>\n",
       "      <td>6.0</td>\n",
       "      <td>NaN</td>\n",
       "      <td>NaN</td>\n",
       "    </tr>\n",
       "  </tbody>\n",
       "</table>\n",
       "</div>"
      ],
      "text/plain": [
       "                sum_sq   df          F    PR(>F)\n",
       "Car_Type  86049.555556  2.0  25.175411  0.001207\n",
       "Residual  10254.000000  6.0        NaN       NaN"
      ]
     },
     "execution_count": 11,
     "metadata": {},
     "output_type": "execute_result"
    }
   ],
   "source": [
    "import statsmodels.api           as      sm\n",
    "from   statsmodels.formula.api   import  ols\n",
    " \n",
    "model         =  ols ( 'Mean_Pressure ~ Car_Type' , data=df )  .fit()\n",
    "\n",
    "anova_table   =  sm.stats.anova_lm (model, typ=2)\n",
    "anova_table"
   ]
  },
  {
   "cell_type": "markdown",
   "metadata": {},
   "source": [
    "## **iii. TukeyHSD**"
   ]
  },
  {
   "cell_type": "markdown",
   "metadata": {
    "colab_type": "text",
    "id": "uQUwrcNa32rr"
   },
   "source": [
    "### Post-hoc analysis to determine which means are different "
   ]
  },
  {
   "cell_type": "code",
   "execution_count": 12,
   "metadata": {},
   "outputs": [
    {
     "name": "stdout",
     "output_type": "stream",
     "text": [
      "   Multiple Comparison of Means - Tukey HSD, FWER=0.05   \n",
      "=========================================================\n",
      "group1 group2  meandiff p-adj    lower     upper   reject\n",
      "---------------------------------------------------------\n",
      "     C      F -219.3333 0.0015 -322.7791 -115.8876   True\n",
      "     C      M    -193.0  0.003 -296.4458  -89.5542   True\n",
      "     F      M   26.3333 0.7172  -77.1124  129.7791  False\n",
      "---------------------------------------------------------\n"
     ]
    }
   ],
   "source": [
    "from  statsmodels.stats.multicomp  import  pairwise_tukeyhsd\n",
    "\n",
    "print ( pairwise_tukeyhsd ( df[\"Mean_Pressure\"] , df[\"Car_Type\"]  , alpha=0.05 )  )\n"
   ]
  },
  {
   "cell_type": "markdown",
   "metadata": {},
   "source": [
    "## **iv. Plot**"
   ]
  },
  {
   "cell_type": "code",
   "execution_count": 13,
   "metadata": {
    "scrolled": true
   },
   "outputs": [
    {
     "data": {
      "image/png": "[encoded data removed]",
      "text/plain": [
       "<Figure size 432x288 with 1 Axes>"
      ]
     },
     "metadata": {
      "needs_background": "light"
     },
     "output_type": "display_data"
    }
   ],
   "source": [
    "sns.boxplot  ( df['Car_Type'] ,  df['Mean_Pressure'] ) ; "
   ]
  },
  {
   "cell_type": "markdown",
   "metadata": {},
   "source": [
    "## **Q 3**"
   ]
  },
  {
   "cell_type": "markdown",
   "metadata": {},
   "source": [
    "A company makes three types of electronic device.\n",
    "Life time in hours for each type of electronic device is given below:"
   ]
  },
  {
   "cell_type": "code",
   "execution_count": 14,
   "metadata": {},
   "outputs": [],
   "source": [
    "LTA  =  np.array ( [407,411,409 ]        )\n",
    "LTB  =  np.array ( [404,406,408,405,402] )\n",
    "LTC  =  np.array ( [410,408,406,408]     )"
   ]
  },
  {
   "cell_type": "code",
   "execution_count": 15,
   "metadata": {},
   "outputs": [
    {
     "data": {
      "text/html": [
       "<div>\n",
       "<style scoped>\n",
       "    .dataframe tbody tr th:only-of-type {\n",
       "        vertical-align: middle;\n",
       "    }\n",
       "\n",
       "    .dataframe tbody tr th {\n",
       "        vertical-align: top;\n",
       "    }\n",
       "\n",
       "    .dataframe thead th {\n",
       "        text-align: right;\n",
       "    }\n",
       "</style>\n",
       "<table border=\"1\" class=\"dataframe\">\n",
       "  <thead>\n",
       "    <tr style=\"text-align: right;\">\n",
       "      <th></th>\n",
       "      <th>Type</th>\n",
       "      <th>Life_hours</th>\n",
       "    </tr>\n",
       "  </thead>\n",
       "  <tbody>\n",
       "    <tr>\n",
       "      <th>0</th>\n",
       "      <td>A</td>\n",
       "      <td>407</td>\n",
       "    </tr>\n",
       "    <tr>\n",
       "      <th>1</th>\n",
       "      <td>A</td>\n",
       "      <td>411</td>\n",
       "    </tr>\n",
       "    <tr>\n",
       "      <th>2</th>\n",
       "      <td>A</td>\n",
       "      <td>409</td>\n",
       "    </tr>\n",
       "    <tr>\n",
       "      <th>0</th>\n",
       "      <td>B</td>\n",
       "      <td>404</td>\n",
       "    </tr>\n",
       "    <tr>\n",
       "      <th>1</th>\n",
       "      <td>B</td>\n",
       "      <td>406</td>\n",
       "    </tr>\n",
       "  </tbody>\n",
       "</table>\n",
       "</div>"
      ],
      "text/plain": [
       "  Type  Life_hours\n",
       "0    A         407\n",
       "1    A         411\n",
       "2    A         409\n",
       "0    B         404\n",
       "1    B         406"
      ]
     },
     "execution_count": 15,
     "metadata": {},
     "output_type": "execute_result"
    }
   ],
   "source": [
    "df  =  pd.DataFrame()\n",
    "\n",
    "df1         =  pd.DataFrame ( {'Type': 'A', 'Life_hours':LTA} )\n",
    "df2         =  pd.DataFrame ( {'Type': 'B', 'Life_hours':LTB} )\n",
    "df3         =  pd.DataFrame ( {'Type': 'C', 'Life_hours':LTC} )\n",
    "\n",
    "df  =  df.append (df1) \n",
    "df  =  df.append (df2) \n",
    "df  =  df.append (df3) \n",
    "\n",
    "df.head()"
   ]
  },
  {
   "cell_type": "markdown",
   "metadata": {},
   "source": [
    "## **i. ANOVA table**"
   ]
  },
  {
   "cell_type": "code",
   "execution_count": 16,
   "metadata": {},
   "outputs": [
    {
     "data": {
      "text/html": [
       "<div>\n",
       "<style scoped>\n",
       "    .dataframe tbody tr th:only-of-type {\n",
       "        vertical-align: middle;\n",
       "    }\n",
       "\n",
       "    .dataframe tbody tr th {\n",
       "        vertical-align: top;\n",
       "    }\n",
       "\n",
       "    .dataframe thead th {\n",
       "        text-align: right;\n",
       "    }\n",
       "</style>\n",
       "<table border=\"1\" class=\"dataframe\">\n",
       "  <thead>\n",
       "    <tr style=\"text-align: right;\">\n",
       "      <th></th>\n",
       "      <th>sum_sq</th>\n",
       "      <th>df</th>\n",
       "      <th>F</th>\n",
       "      <th>PR(&gt;F)</th>\n",
       "    </tr>\n",
       "  </thead>\n",
       "  <tbody>\n",
       "    <tr>\n",
       "      <th>Type</th>\n",
       "      <td>36.0</td>\n",
       "      <td>2.0</td>\n",
       "      <td>4.5</td>\n",
       "      <td>0.044194</td>\n",
       "    </tr>\n",
       "    <tr>\n",
       "      <th>Residual</th>\n",
       "      <td>36.0</td>\n",
       "      <td>9.0</td>\n",
       "      <td>NaN</td>\n",
       "      <td>NaN</td>\n",
       "    </tr>\n",
       "  </tbody>\n",
       "</table>\n",
       "</div>"
      ],
      "text/plain": [
       "          sum_sq   df    F    PR(>F)\n",
       "Type        36.0  2.0  4.5  0.044194\n",
       "Residual    36.0  9.0  NaN       NaN"
      ]
     },
     "execution_count": 16,
     "metadata": {},
     "output_type": "execute_result"
    }
   ],
   "source": [
    "import statsmodels.api           as       sm\n",
    "from   statsmodels.formula.api   import   ols\n",
    " \n",
    "model        =  ols ('Life_hours ~ Type' , data = df)  .fit()\n",
    "\n",
    "anova_table  =  sm.stats.anova_lm (model , typ=2)\n",
    "anova_table"
   ]
  },
  {
   "cell_type": "markdown",
   "metadata": {},
   "source": [
    "## **ii. Tukey HSD**"
   ]
  },
  {
   "cell_type": "code",
   "execution_count": 17,
   "metadata": {},
   "outputs": [
    {
     "name": "stdout",
     "output_type": "stream",
     "text": [
      "Multiple Comparison of Means - Tukey HSD, FWER=0.10\n",
      "===================================================\n",
      "group1 group2 meandiff p-adj   lower  upper  reject\n",
      "---------------------------------------------------\n",
      "     A      B     -4.0 0.0541  -7.422 -0.578   True\n",
      "     A      C     -1.0 0.7824 -4.5788 2.5788  False\n",
      "     B      C      3.0 0.1177 -0.1433 6.1433  False\n",
      "---------------------------------------------------\n"
     ]
    }
   ],
   "source": [
    "from statsmodels.stats.multicomp   import   pairwise_tukeyhsd\n",
    "\n",
    "print ( pairwise_tukeyhsd ( df ['Life_hours']  ,  df['Type']  ,  alpha=0.1)  )\n"
   ]
  },
  {
   "cell_type": "markdown",
   "metadata": {},
   "source": [
    "## **iii. Plot**"
   ]
  },
  {
   "cell_type": "code",
   "execution_count": 18,
   "metadata": {},
   "outputs": [
    {
     "data": {
      "image/png": "[encoded data removed]",
      "text/plain": [
       "<Figure size 210.75x180 with 2 Axes>"
      ]
     },
     "metadata": {
      "needs_background": "light"
     },
     "output_type": "display_data"
    }
   ],
   "source": [
    "sns.pairplot (df , hue='Type') ;"
   ]
  },
  {
   "cell_type": "code",
   "execution_count": 19,
   "metadata": {},
   "outputs": [
    {
     "data": {
      "image/png": "[encoded data removed]",
      "text/plain": [
       "<Figure size 432x288 with 1 Axes>"
      ]
     },
     "metadata": {
      "needs_background": "light"
     },
     "output_type": "display_data"
    }
   ],
   "source": [
    "sns.boxplot  (x=\"Type\",  y=\"Life_hours\",  data=df) ;"
   ]
  },
  {
   "cell_type": "markdown",
   "metadata": {},
   "source": [
    "## **Q 4**"
   ]
  },
  {
   "cell_type": "markdown",
   "metadata": {
    "colab_type": "text",
    "id": "LgJ3GXi7Hi3h"
   },
   "source": [
    "* Given annual return of stocks under different sectors:\n",
    "* Is there any evidence that the stock return depends on sector ?"
   ]
  },
  {
   "cell_type": "code",
   "execution_count": 20,
   "metadata": {
    "colab": {},
    "colab_type": "code",
    "id": "_-81jM8XHi3i",
    "outputId": "afb094d4-4607-4591-97bd-43e1a427f682"
   },
   "outputs": [],
   "source": [
    "C  =  np.array ( [ 0.0632, 0.1473, 0.1195, 0.1236, 0.1028, 0.0381, 0.1015, 0.1106, 0.0629, 0.0515, \n",
    "                   0.0844, 0.1428, 0.0889, 0.0598,0.0696, 0.1162, 0.0522, 0.0534, 0.0593, 0.0710,  \n",
    "                   0.1091, 0.0820, 0.1019, 0.0904, 0.0861, 0.0939, 0.0263, 0.0277, 0.0476, 0.0960 ]\n",
    "               )\n",
    "\n",
    "\n",
    "\n",
    "S  =  np.array ( [ 0.1370, 0.0358, 0.0136, 0.1741, 0.1001, 0.1088, 0.1563, -0.0004, 0.1032, 0.0740, \n",
    "                   0.1148, 0.0971, 0.1119, 0.0821, 0.0164, 0.0145, 0.1012, 0.1385, -0.1027, 0.0526, \n",
    "                   0.1205, 0.0447, 0.0871, 0.0559, 0.1002, 0.0765, 0.1003, 0.0787, 0.0659, 0.1360 ]\n",
    "               )\n",
    "\n",
    "\n",
    "I  =  np.array ( [ 0.0674, 0.0711, 0.0569, 0.0248, 0.0542, 0.0800, 0.0255, 0.0834, 0.0499, 0.0339,\n",
    "                   0.0873, 0.1385, 0.0529, 0.0906, 0.0284, 0.0582, 0.0766, 0.0412, 0.0910, 0.0876, \n",
    "                   0.1077, 0.0148, 0.0471, 0.1066, 0.0044, 0.0294, 0.0655, 0.0284, 0.0390, 0.0728 ]\n",
    "               )"
   ]
  },
  {
   "cell_type": "code",
   "execution_count": 21,
   "metadata": {
    "colab": {},
    "colab_type": "code",
    "id": "bOIKDKygHi3t",
    "outputId": "f39f2730-7635-46f6-9f35-099404c9bcbb"
   },
   "outputs": [
    {
     "data": {
      "text/html": [
       "<div>\n",
       "<style scoped>\n",
       "    .dataframe tbody tr th:only-of-type {\n",
       "        vertical-align: middle;\n",
       "    }\n",
       "\n",
       "    .dataframe tbody tr th {\n",
       "        vertical-align: top;\n",
       "    }\n",
       "\n",
       "    .dataframe thead th {\n",
       "        text-align: right;\n",
       "    }\n",
       "</style>\n",
       "<table border=\"1\" class=\"dataframe\">\n",
       "  <thead>\n",
       "    <tr style=\"text-align: right;\">\n",
       "      <th></th>\n",
       "      <th>Sector</th>\n",
       "      <th>Stock_Return</th>\n",
       "    </tr>\n",
       "  </thead>\n",
       "  <tbody>\n",
       "    <tr>\n",
       "      <th>0</th>\n",
       "      <td>Consumer</td>\n",
       "      <td>0.0632</td>\n",
       "    </tr>\n",
       "    <tr>\n",
       "      <th>1</th>\n",
       "      <td>Consumer</td>\n",
       "      <td>0.1473</td>\n",
       "    </tr>\n",
       "    <tr>\n",
       "      <th>2</th>\n",
       "      <td>Consumer</td>\n",
       "      <td>0.1195</td>\n",
       "    </tr>\n",
       "    <tr>\n",
       "      <th>3</th>\n",
       "      <td>Consumer</td>\n",
       "      <td>0.1236</td>\n",
       "    </tr>\n",
       "    <tr>\n",
       "      <th>4</th>\n",
       "      <td>Consumer</td>\n",
       "      <td>0.1028</td>\n",
       "    </tr>\n",
       "  </tbody>\n",
       "</table>\n",
       "</div>"
      ],
      "text/plain": [
       "     Sector  Stock_Return\n",
       "0  Consumer        0.0632\n",
       "1  Consumer        0.1473\n",
       "2  Consumer        0.1195\n",
       "3  Consumer        0.1236\n",
       "4  Consumer        0.1028"
      ]
     },
     "execution_count": 21,
     "metadata": {},
     "output_type": "execute_result"
    }
   ],
   "source": [
    "df      =  pd.DataFrame()\n",
    "\n",
    "df1     =  pd.DataFrame ( { 'Sector': 'Consumer'  ,   'Stock_Return': C } )\n",
    "df2     =  pd.DataFrame ( { 'Sector': 'Service'   ,   'Stock_Return': S } )\n",
    "df3     =  pd.DataFrame ( { 'Sector': 'Industrial',   'Stock_Return': I } )\n",
    "\n",
    "\n",
    "\n",
    "df   =  df.append (df1) \n",
    "df   =  df.append (df2) \n",
    "df   =  df.append (df3) \n",
    "\n",
    "\n",
    "df.head()"
   ]
  },
  {
   "cell_type": "markdown",
   "metadata": {},
   "source": [
    "## **i. ANOVA table**"
   ]
  },
  {
   "cell_type": "code",
   "execution_count": 22,
   "metadata": {},
   "outputs": [
    {
     "data": {
      "text/html": [
       "<div>\n",
       "<style scoped>\n",
       "    .dataframe tbody tr th:only-of-type {\n",
       "        vertical-align: middle;\n",
       "    }\n",
       "\n",
       "    .dataframe tbody tr th {\n",
       "        vertical-align: top;\n",
       "    }\n",
       "\n",
       "    .dataframe thead th {\n",
       "        text-align: right;\n",
       "    }\n",
       "</style>\n",
       "<table border=\"1\" class=\"dataframe\">\n",
       "  <thead>\n",
       "    <tr style=\"text-align: right;\">\n",
       "      <th></th>\n",
       "      <th>sum_sq</th>\n",
       "      <th>df</th>\n",
       "      <th>F</th>\n",
       "      <th>PR(&gt;F)</th>\n",
       "    </tr>\n",
       "  </thead>\n",
       "  <tbody>\n",
       "    <tr>\n",
       "      <th>Sector</th>\n",
       "      <td>0.008719</td>\n",
       "      <td>2.0</td>\n",
       "      <td>2.59173</td>\n",
       "      <td>0.080664</td>\n",
       "    </tr>\n",
       "    <tr>\n",
       "      <th>Residual</th>\n",
       "      <td>0.146340</td>\n",
       "      <td>87.0</td>\n",
       "      <td>NaN</td>\n",
       "      <td>NaN</td>\n",
       "    </tr>\n",
       "  </tbody>\n",
       "</table>\n",
       "</div>"
      ],
      "text/plain": [
       "            sum_sq    df        F    PR(>F)\n",
       "Sector    0.008719   2.0  2.59173  0.080664\n",
       "Residual  0.146340  87.0      NaN       NaN"
      ]
     },
     "execution_count": 22,
     "metadata": {},
     "output_type": "execute_result"
    }
   ],
   "source": [
    "import statsmodels.api           as       sm\n",
    "from   statsmodels.formula.api   import   ols\n",
    " \n",
    "model        =  ols ('Stock_Return ~ Sector' , data = df)  .fit()\n",
    "\n",
    "anova_table  =  sm.stats.anova_lm (model , typ=2)\n",
    "anova_table"
   ]
  },
  {
   "cell_type": "markdown",
   "metadata": {},
   "source": [
    "> Comments :\n",
    "    \n",
    "    * p > 0.05\n",
    "    * Accept Null\n",
    "    * No sig difference in stock returns among 3 sectors\n",
    "    * No sig relation between stock returns & sectors"
   ]
  },
  {
   "cell_type": "markdown",
   "metadata": {},
   "source": [
    "## **ii. Tukey HSD**"
   ]
  },
  {
   "cell_type": "code",
   "execution_count": 23,
   "metadata": {},
   "outputs": [
    {
     "name": "stdout",
     "output_type": "stream",
     "text": [
      "    Multiple Comparison of Means - Tukey HSD, FWER=0.10     \n",
      "============================================================\n",
      "  group1     group2   meandiff p-adj   lower   upper  reject\n",
      "------------------------------------------------------------\n",
      "  Consumer Industrial  -0.0222 0.0975 -0.0442 -0.0001   True\n",
      "  Consumer    Service  -0.0028    0.9 -0.0249  0.0192  False\n",
      "Industrial    Service   0.0193 0.1678 -0.0027  0.0413  False\n",
      "------------------------------------------------------------\n"
     ]
    }
   ],
   "source": [
    "from statsmodels.stats.multicomp   import   pairwise_tukeyhsd\n",
    "\n",
    "print ( pairwise_tukeyhsd ( df ['Stock_Return']  ,  df ['Sector']  ,  alpha=0.1)  )\n"
   ]
  },
  {
   "cell_type": "markdown",
   "metadata": {},
   "source": [
    "## **iii. Plot**"
   ]
  },
  {
   "cell_type": "code",
   "execution_count": 24,
   "metadata": {},
   "outputs": [
    {
     "data": {
      "image/png": "[encoded data removed]",
      "text/plain": [
       "<Figure size 219.875x180 with 2 Axes>"
      ]
     },
     "metadata": {
      "needs_background": "light"
     },
     "output_type": "display_data"
    },
    {
     "data": {
      "image/png": "[encoded data removed]",
      "text/plain": [
       "<Figure size 432x288 with 1 Axes>"
      ]
     },
     "metadata": {
      "needs_background": "light"
     },
     "output_type": "display_data"
    }
   ],
   "source": [
    "sns.pairplot ( df , hue='Sector')\n",
    "plt.show()\n",
    "\n",
    "sns.boxplot  ( x=\"Sector\" ,  y=\"Stock_Return\",  data=df )\n",
    "plt.show()"
   ]
  },
  {
   "cell_type": "markdown",
   "metadata": {},
   "source": [
    "<a id='section_12'></a>\n",
    "# **1.2 - Two-Way**"
   ]
  },
  {
   "cell_type": "markdown",
   "metadata": {},
   "source": [
    "## **Q 1**"
   ]
  },
  {
   "cell_type": "markdown",
   "metadata": {},
   "source": [
    "* Table shows Quantity of soaps sold at different Discounts at different Locations.\n",
    "* This is a two-way ANOVA with replication since the data contains values for multiple locations.\n",
    "* Test the effects of Discount and Location wrt Qty sold.\n",
    "---\n",
    "* Mod : Test the effects of Brand (A,B,C) and Location (1,2) ...... wrt Qty sold"
   ]
  },
  {
   "cell_type": "code",
   "execution_count": 25,
   "metadata": {
    "scrolled": true
   },
   "outputs": [
    {
     "data": {
      "text/html": [
       "<div>\n",
       "<style scoped>\n",
       "    .dataframe tbody tr th:only-of-type {\n",
       "        vertical-align: middle;\n",
       "    }\n",
       "\n",
       "    .dataframe tbody tr th {\n",
       "        vertical-align: top;\n",
       "    }\n",
       "\n",
       "    .dataframe thead th {\n",
       "        text-align: right;\n",
       "    }\n",
       "</style>\n",
       "<table border=\"1\" class=\"dataframe\">\n",
       "  <thead>\n",
       "    <tr style=\"text-align: right;\">\n",
       "      <th></th>\n",
       "      <th>Loc</th>\n",
       "      <th>Dis0</th>\n",
       "      <th>Dis10</th>\n",
       "      <th>Dis20</th>\n",
       "    </tr>\n",
       "  </thead>\n",
       "  <tbody>\n",
       "    <tr>\n",
       "      <th>0</th>\n",
       "      <td>1</td>\n",
       "      <td>20</td>\n",
       "      <td>28</td>\n",
       "      <td>32</td>\n",
       "    </tr>\n",
       "    <tr>\n",
       "      <th>1</th>\n",
       "      <td>2</td>\n",
       "      <td>20</td>\n",
       "      <td>19</td>\n",
       "      <td>20</td>\n",
       "    </tr>\n",
       "    <tr>\n",
       "      <th>2</th>\n",
       "      <td>1</td>\n",
       "      <td>16</td>\n",
       "      <td>23</td>\n",
       "      <td>29</td>\n",
       "    </tr>\n",
       "    <tr>\n",
       "      <th>3</th>\n",
       "      <td>2</td>\n",
       "      <td>21</td>\n",
       "      <td>27</td>\n",
       "      <td>31</td>\n",
       "    </tr>\n",
       "    <tr>\n",
       "      <th>4</th>\n",
       "      <td>1</td>\n",
       "      <td>24</td>\n",
       "      <td>25</td>\n",
       "      <td>28</td>\n",
       "    </tr>\n",
       "  </tbody>\n",
       "</table>\n",
       "</div>"
      ],
      "text/plain": [
       "   Loc  Dis0  Dis10  Dis20\n",
       "0    1    20     28     32\n",
       "1    2    20     19     20\n",
       "2    1    16     23     29\n",
       "3    2    21     27     31\n",
       "4    1    24     25     28"
      ]
     },
     "execution_count": 25,
     "metadata": {},
     "output_type": "execute_result"
    }
   ],
   "source": [
    "table   = [  ['Loc','Dis0','Dis10','Dis20'], \n",
    "             \n",
    "           [ 1, 20, 28, 32], [ 2, 20, 19, 20], [ 1, 16, 23, 29 ],[ 2, 21, 27, 31 ],\n",
    "           [ 1, 24, 25, 28 ],[ 2, 23, 23, 35 ],[ 1, 20, 31, 27 ],[ 2, 19, 30, 25 ],\n",
    "           [ 1, 19, 25, 30 ],[ 2, 25, 25, 31 ],[ 1, 10, 24, 26 ],[ 2, 22, 21, 31 ],\n",
    "           [ 1, 24, 28, 37 ],[ 2, 25, 33, 31 ],[ 1, 16, 23, 33 ],[ 2, 21, 26, 23 ],\n",
    "           [ 1, 25, 26, 27 ],[ 2, 26, 22, 22 ],[ 1, 16, 25, 31 ],[ 2, 22, 28, 32 ],\n",
    "           [ 1, 18, 22, 37 ],[ 2, 25, 24, 22 ],[ 1, 20, 24, 28 ],[ 2, 23, 23, 29 ],\n",
    "           [ 1, 17, 26, 25 ],[ 2, 23, 26, 25 ],[ 1, 26, 28, 23 ],[ 2, 24, 16, 34 ],\n",
    "           [ 1, 16, 21, 26 ],[ 2, 20, 30, 30 ],[ 1, 21, 27, 33 ],[ 2, 23, 22, 25 ],\n",
    "           [ 1, 24, 25, 28 ],[ 2, 18, 16, 39 ],[ 1, 19, 20, 30 ],[ 2, 19, 25, 32 ],\n",
    "           [ 1, 19, 26, 30 ],[ 2, 19, 34, 29 ],[ 1, 21, 26, 26 ],[ 2, 30, 23, 22 ]     ]\n",
    "\n",
    "header = table.pop(0)\n",
    "\n",
    "df     = pd.DataFrame(table, columns=header)\n",
    "\n",
    "df.head()"
   ]
  },
  {
   "cell_type": "code",
   "execution_count": 26,
   "metadata": {},
   "outputs": [
    {
     "data": {
      "text/html": [
       "<div>\n",
       "<style scoped>\n",
       "    .dataframe tbody tr th:only-of-type {\n",
       "        vertical-align: middle;\n",
       "    }\n",
       "\n",
       "    .dataframe tbody tr th {\n",
       "        vertical-align: top;\n",
       "    }\n",
       "\n",
       "    .dataframe thead th {\n",
       "        text-align: right;\n",
       "    }\n",
       "</style>\n",
       "<table border=\"1\" class=\"dataframe\">\n",
       "  <thead>\n",
       "    <tr style=\"text-align: right;\">\n",
       "      <th></th>\n",
       "      <th>Loc</th>\n",
       "      <th>Discount</th>\n",
       "      <th>Qty</th>\n",
       "    </tr>\n",
       "  </thead>\n",
       "  <tbody>\n",
       "    <tr>\n",
       "      <th>0</th>\n",
       "      <td>1</td>\n",
       "      <td>0</td>\n",
       "      <td>20</td>\n",
       "    </tr>\n",
       "    <tr>\n",
       "      <th>1</th>\n",
       "      <td>2</td>\n",
       "      <td>0</td>\n",
       "      <td>20</td>\n",
       "    </tr>\n",
       "    <tr>\n",
       "      <th>2</th>\n",
       "      <td>1</td>\n",
       "      <td>0</td>\n",
       "      <td>16</td>\n",
       "    </tr>\n",
       "    <tr>\n",
       "      <th>3</th>\n",
       "      <td>2</td>\n",
       "      <td>0</td>\n",
       "      <td>21</td>\n",
       "    </tr>\n",
       "    <tr>\n",
       "      <th>4</th>\n",
       "      <td>1</td>\n",
       "      <td>0</td>\n",
       "      <td>24</td>\n",
       "    </tr>\n",
       "  </tbody>\n",
       "</table>\n",
       "</div>"
      ],
      "text/plain": [
       "   Loc Discount  Qty\n",
       "0    1        0   20\n",
       "1    2        0   20\n",
       "2    1        0   16\n",
       "3    2        0   21\n",
       "4    1        0   24"
      ]
     },
     "execution_count": 26,
     "metadata": {},
     "output_type": "execute_result"
    }
   ],
   "source": [
    "d0   =  df ['Dis0']  .values\n",
    "d10  =  df ['Dis10'] .values\n",
    "d20  =  df ['Dis20'] .values\n",
    "L    =  df ['Loc']   .values\n",
    " \n",
    "df1   =  pd.DataFrame ( {'Loc': L, 'Discount':'0',  'Qty': d0  })\n",
    "df2   =  pd.DataFrame ( {'Loc': L, 'Discount':'10', 'Qty': d10 })\n",
    "df3   =  pd.DataFrame ( {'Loc': L, 'Discount':'20', 'Qty': d20 })\n",
    "\n",
    "df  =  pd.DataFrame()\n",
    "\n",
    "df  =  df.append (df1) \n",
    "df  =  df.append (df2) \n",
    "df  =  df.append (df3) \n",
    "\n",
    "df.head()"
   ]
  },
  {
   "cell_type": "markdown",
   "metadata": {},
   "source": [
    "> Comments\n",
    "    \n",
    "        * Independent categories (factors) \n",
    "        * Category 1 - Discount\n",
    "        * Category 2 - Location\n",
    "        \n",
    "> Alternate hypothesis\n",
    "\n",
    "        * SSD between Category 1  means. \n",
    "        * SSD between Category 2  means.\n",
    "        * Interaction present between  2  Categories"
   ]
  },
  {
   "cell_type": "markdown",
   "metadata": {},
   "source": [
    "* Two-way ANOVA determines how TargetCol is affected by 2 factors "
   ]
  },
  {
   "cell_type": "markdown",
   "metadata": {},
   "source": [
    "## **i. ANOVA table**"
   ]
  },
  {
   "cell_type": "markdown",
   "metadata": {},
   "source": [
    "* statsmodels.formula.api.ols --------- creates a model from a formula and dataframe\n",
    "* statsmodels.api.sm.stats.anova_lm ------- gives an Anova table for one or more fitted linear models"
   ]
  },
  {
   "cell_type": "code",
   "execution_count": 27,
   "metadata": {},
   "outputs": [
    {
     "data": {
      "text/html": [
       "<div>\n",
       "<style scoped>\n",
       "    .dataframe tbody tr th:only-of-type {\n",
       "        vertical-align: middle;\n",
       "    }\n",
       "\n",
       "    .dataframe tbody tr th {\n",
       "        vertical-align: top;\n",
       "    }\n",
       "\n",
       "    .dataframe thead th {\n",
       "        text-align: right;\n",
       "    }\n",
       "</style>\n",
       "<table border=\"1\" class=\"dataframe\">\n",
       "  <thead>\n",
       "    <tr style=\"text-align: right;\">\n",
       "      <th></th>\n",
       "      <th>sum_sq</th>\n",
       "      <th>df</th>\n",
       "      <th>F</th>\n",
       "      <th>PR(&gt;F)</th>\n",
       "    </tr>\n",
       "  </thead>\n",
       "  <tbody>\n",
       "    <tr>\n",
       "      <th>Discount</th>\n",
       "      <td>1240.316667</td>\n",
       "      <td>2.0</td>\n",
       "      <td>39.279968</td>\n",
       "      <td>1.055160e-13</td>\n",
       "    </tr>\n",
       "    <tr>\n",
       "      <th>Loc</th>\n",
       "      <td>7.008333</td>\n",
       "      <td>1.0</td>\n",
       "      <td>0.443898</td>\n",
       "      <td>5.065930e-01</td>\n",
       "    </tr>\n",
       "    <tr>\n",
       "      <th>Discount:Loc</th>\n",
       "      <td>84.816667</td>\n",
       "      <td>2.0</td>\n",
       "      <td>2.686085</td>\n",
       "      <td>7.246036e-02</td>\n",
       "    </tr>\n",
       "    <tr>\n",
       "      <th>Residual</th>\n",
       "      <td>1799.850000</td>\n",
       "      <td>114.0</td>\n",
       "      <td>NaN</td>\n",
       "      <td>NaN</td>\n",
       "    </tr>\n",
       "  </tbody>\n",
       "</table>\n",
       "</div>"
      ],
      "text/plain": [
       "                   sum_sq     df          F        PR(>F)\n",
       "Discount      1240.316667    2.0  39.279968  1.055160e-13\n",
       "Loc              7.008333    1.0   0.443898  5.065930e-01\n",
       "Discount:Loc    84.816667    2.0   2.686085  7.246036e-02\n",
       "Residual      1799.850000  114.0        NaN           NaN"
      ]
     },
     "execution_count": 27,
     "metadata": {},
     "output_type": "execute_result"
    }
   ],
   "source": [
    "import statsmodels.api           as      sm\n",
    "from   statsmodels.formula.api   import  ols\n",
    "from   statsmodels.stats.anova   import  anova_lm\n",
    "\n",
    "formula      =  'Qty ~ Discount + Loc + Discount:Loc'                  # Two-way anova\n",
    "model        =   ols      (formula, df)  .fit()\n",
    "anova_table  =   anova_lm (model, typ=2)\n",
    "\n",
    "anova_table"
   ]
  },
  {
   "cell_type": "markdown",
   "metadata": {},
   "source": [
    "## **ii. TukeyHSD**"
   ]
  },
  {
   "cell_type": "code",
   "execution_count": 28,
   "metadata": {},
   "outputs": [
    {
     "name": "stdout",
     "output_type": "stream",
     "text": [
      "Multiple Comparison of Means - Tukey HSD, FWER=0.05\n",
      "==================================================\n",
      "group1 group2 meandiff p-adj lower   upper  reject\n",
      "--------------------------------------------------\n",
      "     0     10    3.925 0.001 1.7904  6.0596   True\n",
      "     0     20    7.875 0.001 5.7404 10.0096   True\n",
      "    10     20     3.95 0.001 1.8154  6.0846   True\n",
      "--------------------------------------------------\n"
     ]
    }
   ],
   "source": [
    "from statsmodels.stats.multicomp import pairwise_tukeyhsd\n",
    "\n",
    "print ( pairwise_tukeyhsd ( df['Qty'] , df['Discount'] , alpha=0.05 ) )\n"
   ]
  },
  {
   "cell_type": "markdown",
   "metadata": {},
   "source": [
    ">  OBS\n",
    "* P (Discount) < alpha ----------------------- reject null ---------------------- SR between Discount & Qty sold.\n",
    "* P (Location) > alpha ----------------------- Accept null ------------------- No SR between Location & Qty sold.\n",
    "* P (Interaction = 0.0725)  > alpha ---------- Accept null ------------------- No Interaction between Discount & Location."
   ]
  },
  {
   "cell_type": "markdown",
   "metadata": {},
   "source": [
    "## **iii. Plot**"
   ]
  },
  {
   "cell_type": "code",
   "execution_count": 29,
   "metadata": {},
   "outputs": [
    {
     "data": {
      "image/png": "[encoded data removed]",
      "text/plain": [
       "<Figure size 412x360 with 6 Axes>"
      ]
     },
     "metadata": {
      "needs_background": "light"
     },
     "output_type": "display_data"
    },
    {
     "data": {
      "image/png": "[encoded data removed]",
      "text/plain": [
       "<Figure size 204.875x180 with 2 Axes>"
      ]
     },
     "metadata": {
      "needs_background": "light"
     },
     "output_type": "display_data"
    }
   ],
   "source": [
    "sns.pairplot ( df , diag_kind='kde' , hue='Discount' )  ;\n",
    "sns.pairplot ( df , diag_kind='kde' , hue='Loc' , palette='Dark2') ;"
   ]
  },
  {
   "cell_type": "markdown",
   "metadata": {},
   "source": [
    "OBS\n",
    "* SR between Qty sold & Discount\n",
    "* No SR between Qty sold & Location"
   ]
  },
  {
   "cell_type": "markdown",
   "metadata": {},
   "source": [
    "## **Q 2**"
   ]
  },
  {
   "cell_type": "markdown",
   "metadata": {},
   "source": [
    "The table below shows the percentage of customers satisfied with the quality of service (QoS) offered by a company.\n",
    "\n",
    "Conduct a two-way ANOVA and draw your inferences about the population means of QoS corresponding to the days as well as the stores.\n"
   ]
  },
  {
   "cell_type": "code",
   "execution_count": 30,
   "metadata": {},
   "outputs": [
    {
     "data": {
      "text/html": [
       "<div>\n",
       "<style scoped>\n",
       "    .dataframe tbody tr th:only-of-type {\n",
       "        vertical-align: middle;\n",
       "    }\n",
       "\n",
       "    .dataframe tbody tr th {\n",
       "        vertical-align: top;\n",
       "    }\n",
       "\n",
       "    .dataframe thead th {\n",
       "        text-align: right;\n",
       "    }\n",
       "</style>\n",
       "<table border=\"1\" class=\"dataframe\">\n",
       "  <thead>\n",
       "    <tr style=\"text-align: right;\">\n",
       "      <th></th>\n",
       "      <th>Day</th>\n",
       "      <th>Store-A</th>\n",
       "      <th>Store-B</th>\n",
       "      <th>Store-C</th>\n",
       "      <th>Store-D</th>\n",
       "      <th>Store-E</th>\n",
       "    </tr>\n",
       "  </thead>\n",
       "  <tbody>\n",
       "    <tr>\n",
       "      <th>0</th>\n",
       "      <td>1</td>\n",
       "      <td>79</td>\n",
       "      <td>81</td>\n",
       "      <td>74</td>\n",
       "      <td>77</td>\n",
       "      <td>66</td>\n",
       "    </tr>\n",
       "    <tr>\n",
       "      <th>1</th>\n",
       "      <td>2</td>\n",
       "      <td>78</td>\n",
       "      <td>86</td>\n",
       "      <td>89</td>\n",
       "      <td>97</td>\n",
       "      <td>86</td>\n",
       "    </tr>\n",
       "    <tr>\n",
       "      <th>2</th>\n",
       "      <td>3</td>\n",
       "      <td>81</td>\n",
       "      <td>87</td>\n",
       "      <td>84</td>\n",
       "      <td>94</td>\n",
       "      <td>82</td>\n",
       "    </tr>\n",
       "    <tr>\n",
       "      <th>3</th>\n",
       "      <td>4</td>\n",
       "      <td>80</td>\n",
       "      <td>83</td>\n",
       "      <td>81</td>\n",
       "      <td>88</td>\n",
       "      <td>83</td>\n",
       "    </tr>\n",
       "    <tr>\n",
       "      <th>4</th>\n",
       "      <td>5</td>\n",
       "      <td>70</td>\n",
       "      <td>74</td>\n",
       "      <td>77</td>\n",
       "      <td>89</td>\n",
       "      <td>68</td>\n",
       "    </tr>\n",
       "  </tbody>\n",
       "</table>\n",
       "</div>"
      ],
      "text/plain": [
       "   Day  Store-A  Store-B  Store-C  Store-D  Store-E\n",
       "0    1       79       81       74       77       66\n",
       "1    2       78       86       89       97       86\n",
       "2    3       81       87       84       94       82\n",
       "3    4       80       83       81       88       83\n",
       "4    5       70       74       77       89       68"
      ]
     },
     "execution_count": 30,
     "metadata": {},
     "output_type": "execute_result"
    }
   ],
   "source": [
    "table  = [ ['Day','Store-A','Store-B','Store-C','Store-D','Store-E'] , \n",
    "            \n",
    "            [1, 79, 81, 74, 77, 66],\n",
    "            [2, 78, 86, 89, 97, 86], \n",
    "            [3, 81, 87, 84, 94, 82], \n",
    "            [4, 80, 83, 81, 88, 83], \n",
    "            [5, 70, 74, 77, 89, 68]    ]\n",
    "\n",
    "\n",
    "header  =  table.pop(0) \n",
    "\n",
    "df      =  pd.DataFrame (table , columns=header)\n",
    "df"
   ]
  },
  {
   "cell_type": "code",
   "execution_count": 31,
   "metadata": {},
   "outputs": [
    {
     "data": {
      "text/html": [
       "<div>\n",
       "<style scoped>\n",
       "    .dataframe tbody tr th:only-of-type {\n",
       "        vertical-align: middle;\n",
       "    }\n",
       "\n",
       "    .dataframe tbody tr th {\n",
       "        vertical-align: top;\n",
       "    }\n",
       "\n",
       "    .dataframe thead th {\n",
       "        text-align: right;\n",
       "    }\n",
       "</style>\n",
       "<table border=\"1\" class=\"dataframe\">\n",
       "  <thead>\n",
       "    <tr style=\"text-align: right;\">\n",
       "      <th></th>\n",
       "      <th>Day</th>\n",
       "      <th>Store</th>\n",
       "      <th>QoS</th>\n",
       "    </tr>\n",
       "  </thead>\n",
       "  <tbody>\n",
       "    <tr>\n",
       "      <th>0</th>\n",
       "      <td>1</td>\n",
       "      <td>A</td>\n",
       "      <td>79</td>\n",
       "    </tr>\n",
       "    <tr>\n",
       "      <th>1</th>\n",
       "      <td>2</td>\n",
       "      <td>A</td>\n",
       "      <td>78</td>\n",
       "    </tr>\n",
       "    <tr>\n",
       "      <th>2</th>\n",
       "      <td>3</td>\n",
       "      <td>A</td>\n",
       "      <td>81</td>\n",
       "    </tr>\n",
       "    <tr>\n",
       "      <th>3</th>\n",
       "      <td>4</td>\n",
       "      <td>A</td>\n",
       "      <td>80</td>\n",
       "    </tr>\n",
       "    <tr>\n",
       "      <th>4</th>\n",
       "      <td>5</td>\n",
       "      <td>A</td>\n",
       "      <td>70</td>\n",
       "    </tr>\n",
       "  </tbody>\n",
       "</table>\n",
       "</div>"
      ],
      "text/plain": [
       "   Day Store  QoS\n",
       "0    1     A   79\n",
       "1    2     A   78\n",
       "2    3     A   81\n",
       "3    4     A   80\n",
       "4    5     A   70"
      ]
     },
     "execution_count": 31,
     "metadata": {},
     "output_type": "execute_result"
    }
   ],
   "source": [
    "day  =  df ['Day']    .values\n",
    "SA   =  df ['Store-A'].values\n",
    "SB   =  df ['Store-B'].values\n",
    "SC   =  df ['Store-C'].values\n",
    "SD   =  df ['Store-D'].values\n",
    "SE   =  df ['Store-E'].values\n",
    "\n",
    "df1     =   pd.DataFrame ({ 'Day': day , 'Store':'A' , 'QoS': SA })\n",
    "df2     =   pd.DataFrame ({ 'Day': day , 'Store':'B' , 'QoS': SB })\n",
    "df3     =   pd.DataFrame ({ 'Day': day , 'Store':'C' , 'QoS': SC })\n",
    "df4     =   pd.DataFrame ({ 'Day': day , 'Store':'D' , 'QoS': SD })\n",
    "df5     =   pd.DataFrame ({ 'Day': day , 'Store':'E' , 'QoS': SE })\n",
    "\n",
    "df  =  pd.DataFrame()\n",
    "\n",
    "df  =  df.append (df1) \n",
    "df  =  df.append (df2) \n",
    "df  =  df.append (df3) \n",
    "df  =  df.append (df4) \n",
    "df  =  df.append (df5) \n",
    "\n",
    "df.head()"
   ]
  },
  {
   "cell_type": "markdown",
   "metadata": {},
   "source": [
    "### Factors : \n",
    "* 1 - Day \n",
    "* 2 - Store"
   ]
  },
  {
   "cell_type": "markdown",
   "metadata": {},
   "source": [
    "### Alternate hypothesis:\n",
    "\n",
    "*  SSD between Factor 1  means. \n",
    "*  SSD between Factor 2  means.\n",
    "*  Interaction present between  2  Factors"
   ]
  },
  {
   "cell_type": "markdown",
   "metadata": {},
   "source": [
    "### Note\n",
    "* Two-way ANOVA determines how TargetCol is affected by 2 factors \n",
    "* Here we use 2-way ANOVA without replication since each cell has only one observation."
   ]
  },
  {
   "cell_type": "markdown",
   "metadata": {},
   "source": [
    "## **i. ANOVA table**"
   ]
  },
  {
   "cell_type": "code",
   "execution_count": 32,
   "metadata": {},
   "outputs": [
    {
     "data": {
      "text/html": [
       "<div>\n",
       "<style scoped>\n",
       "    .dataframe tbody tr th:only-of-type {\n",
       "        vertical-align: middle;\n",
       "    }\n",
       "\n",
       "    .dataframe tbody tr th {\n",
       "        vertical-align: top;\n",
       "    }\n",
       "\n",
       "    .dataframe thead th {\n",
       "        text-align: right;\n",
       "    }\n",
       "</style>\n",
       "<table border=\"1\" class=\"dataframe\">\n",
       "  <thead>\n",
       "    <tr style=\"text-align: right;\">\n",
       "      <th></th>\n",
       "      <th>sum_sq</th>\n",
       "      <th>df</th>\n",
       "      <th>F</th>\n",
       "      <th>PR(&gt;F)</th>\n",
       "    </tr>\n",
       "  </thead>\n",
       "  <tbody>\n",
       "    <tr>\n",
       "      <th>Store</th>\n",
       "      <td>461.76</td>\n",
       "      <td>4.0</td>\n",
       "      <td>2.456775</td>\n",
       "      <td>0.080773</td>\n",
       "    </tr>\n",
       "    <tr>\n",
       "      <th>Day</th>\n",
       "      <td>7.22</td>\n",
       "      <td>1.0</td>\n",
       "      <td>0.153655</td>\n",
       "      <td>0.699429</td>\n",
       "    </tr>\n",
       "    <tr>\n",
       "      <th>Residual</th>\n",
       "      <td>892.78</td>\n",
       "      <td>19.0</td>\n",
       "      <td>NaN</td>\n",
       "      <td>NaN</td>\n",
       "    </tr>\n",
       "  </tbody>\n",
       "</table>\n",
       "</div>"
      ],
      "text/plain": [
       "          sum_sq    df         F    PR(>F)\n",
       "Store     461.76   4.0  2.456775  0.080773\n",
       "Day         7.22   1.0  0.153655  0.699429\n",
       "Residual  892.78  19.0       NaN       NaN"
      ]
     },
     "execution_count": 32,
     "metadata": {},
     "output_type": "execute_result"
    }
   ],
   "source": [
    "import statsmodels.api          as      sm\n",
    "from   statsmodels.formula.api  import  ols\n",
    "from   statsmodels.stats.anova  import  anova_lm\n",
    "\n",
    "formula      =   'QoS ~ Day + Store'\n",
    "model        =   ols      (formula , df)   .fit()\n",
    "anova_table  =   anova_lm (model, typ=2)\n",
    "\n",
    "anova_table"
   ]
  },
  {
   "cell_type": "markdown",
   "metadata": {},
   "source": [
    "## **ii. Tukey HSD**"
   ]
  },
  {
   "cell_type": "code",
   "execution_count": 33,
   "metadata": {},
   "outputs": [
    {
     "name": "stdout",
     "output_type": "stream",
     "text": [
      " Multiple Comparison of Means - Tukey HSD, FWER=0.05 \n",
      "=====================================================\n",
      "group1 group2 meandiff p-adj   lower    upper  reject\n",
      "-----------------------------------------------------\n",
      "     1      2     11.8 0.0437   0.2531 23.3469   True\n",
      "     1      3     10.2 0.0997  -1.3469 21.7469  False\n",
      "     1      4      7.6 0.3156  -3.9469 19.1469  False\n",
      "     1      5      0.2    0.9 -11.3469 11.7469  False\n",
      "     2      3     -1.6    0.9 -13.1469  9.9469  False\n",
      "     2      4     -4.2 0.7885 -15.7469  7.3469  False\n",
      "     2      5    -11.6 0.0486 -23.1469 -0.0531   True\n",
      "     3      4     -2.6    0.9 -14.1469  8.9469  False\n",
      "     3      5    -10.0 0.1101 -21.5469  1.5469  False\n",
      "     4      5     -7.4 0.3406 -18.9469  4.1469  False\n",
      "-----------------------------------------------------\n"
     ]
    }
   ],
   "source": [
    "from  statsmodels.stats.multicomp   import   pairwise_tukeyhsd\n",
    "\n",
    "print ( pairwise_tukeyhsd ( df[\"QoS\"] , df[\"Day\"] , alpha=0.05 ) )\n"
   ]
  },
  {
   "cell_type": "markdown",
   "metadata": {},
   "source": [
    ">  OBS\n",
    "* P (Discount) < alpha ----------------------- reject null ---------------------- SR between Discount & Qty sold.\n",
    "* P (Location) > alpha ----------------------- Accept null ------------------- No SR between Location & Qty sold.\n",
    "* P (Interaction = 0.0725)  > alpha ---------- Accept null ------------------- No Interaction between Discount & Location."
   ]
  },
  {
   "cell_type": "markdown",
   "metadata": {},
   "source": [
    "## **iii. Plot**"
   ]
  },
  {
   "cell_type": "code",
   "execution_count": 34,
   "metadata": {},
   "outputs": [
    {
     "data": {
      "image/png": "[encoded data removed]",
      "text/plain": [
       "<Figure size 207.75x180 with 2 Axes>"
      ]
     },
     "metadata": {
      "needs_background": "light"
     },
     "output_type": "display_data"
    },
    {
     "data": {
      "image/png": "[encoded data removed]",
      "text/plain": [
       "<Figure size 403.75x360 with 6 Axes>"
      ]
     },
     "metadata": {
      "needs_background": "light"
     },
     "output_type": "display_data"
    }
   ],
   "source": [
    "sns.pairplot ( df , diag_kind='kde' , hue='Day' , palette='Dark2')  ; \n",
    "sns.pairplot ( df , diag_kind='kde' , hue='Store')  ; "
   ]
  },
  {
   "cell_type": "markdown",
   "metadata": {},
   "source": [
    "<a id='section_13'></a>\n",
    "# **2. Chi-square**"
   ]
  },
  {
   "cell_type": "markdown",
   "metadata": {},
   "source": [
    "<a id='section_14'></a>\n",
    "# **2.1 - Goodness of fit test**"
   ]
  },
  {
   "cell_type": "markdown",
   "metadata": {},
   "source": [
    "* checks whether a data follows a specific probability distribution.\n",
    "* These are hypothesis tests  used to compare  observed distribution with expected distribution of the data to decide whether there is any SD between them "
   ]
  },
  {
   "cell_type": "markdown",
   "metadata": {
    "colab_type": "text",
    "id": "ymvI4lxgz6mD"
   },
   "source": [
    "This test is invalid when the observed or expected frequencies in each category are too small. <br> A typical rule is that all of the observed and expected frequencies should be at least 5."
   ]
  },
  {
   "cell_type": "markdown",
   "metadata": {},
   "source": [
    "| Hypothesis | Description                                                           |\n",
    "| ----------- | -------------------------------------------------------------------- |\n",
    "| Null hypothesis | There is no statistically significant difference between the observed frequencies and the expected frequencies from a hypothesized distribution |\n",
    "| Alternative hypothesis | There is statistically significant difference between the observed frequencies and the expected frequencies from a hypothesized distribution |\n"
   ]
  },
  {
   "cell_type": "markdown",
   "metadata": {},
   "source": [
    "## **Q 1**"
   ]
  },
  {
   "cell_type": "markdown",
   "metadata": {},
   "source": [
    "A1 airlines operated daily flights to several Indian cities. The operations manager believes that 30% of their passengers prefer vegan food, 45% prefer vegetarian food , 20% prefer non-veg food 5% request for Jain food. \n",
    "\n",
    "A sample of 500 passengers was chosen to analyse the food preferences and the data is shown in the following table:\n",
    "\n",
    "|               | Food type | Vegan | Vegetarian | Non-Vegetarian | Jain |\n",
    "| ------------------------- | ---- | ---- | ----- | ---- | ---- |\n",
    "|Number of passengers |  | 190 | 185 | 90 | 35 |\n",
    "\n",
    "At 5% level of significance, can you confirm that the meal preference is as per the belief of the operations manager?"
   ]
  },
  {
   "cell_type": "markdown",
   "metadata": {
    "colab_type": "text",
    "id": "OJ1awfEZNmmf"
   },
   "source": [
    "* $H_0$ : Meal preference is as per the perceived ratios of the operations manager\n",
    "                        \n",
    "* $H_A$ : Meal preference is different from the perceived ratios of the operations manager"
   ]
  },
  {
   "cell_type": "markdown",
   "metadata": {},
   "source": [
    "<a id='section_1'></a>\n",
    "## i. **P value**"
   ]
  },
  {
   "cell_type": "code",
   "execution_count": 35,
   "metadata": {},
   "outputs": [],
   "source": [
    "OBS    =  np.array ( [190, 185, 90, 35] )\n",
    "\n",
    "n      =  OBS.sum()\n",
    "\n",
    "EXP    =  np.array ( [0.30*n ,  0.45*n ,  0.20*n ,  0.05*n] )"
   ]
  },
  {
   "cell_type": "code",
   "execution_count": 38,
   "metadata": {},
   "outputs": [
    {
     "data": {
      "text/plain": [
       "Power_divergenceResult(statistic=22.77777777777778, pvalue=4.492718590376291e-05)"
      ]
     },
     "execution_count": 38,
     "metadata": {},
     "output_type": "execute_result"
    }
   ],
   "source": [
    "stats.chisquare  (OBS , EXP)"
   ]
  },
  {
   "cell_type": "markdown",
   "metadata": {},
   "source": [
    "> Comments :\n",
    "\n",
    "        * p < alpha\n",
    "        * Reject Null\n",
    "        * SD between OBS & EXP"
   ]
  },
  {
   "cell_type": "markdown",
   "metadata": {},
   "source": [
    "## **Q 2**"
   ]
  },
  {
   "cell_type": "markdown",
   "metadata": {
    "colab_type": "text",
    "id": "bl1E7puHHi4T"
   },
   "source": [
    "Blood group of patients of the hospital is given below:\n",
    "* Expected percentage\n",
    "\n",
    "| Blood group | Count |\n",
    "| ------ | --- |\n",
    "| O | 44%|\n",
    "| A | 45% |\n",
    "| B | 8% |\n",
    "| AB | 3% |\n",
    "\n",
    "\n",
    "* Observed frequency\n",
    "\n",
    "| Blood group | Count |\n",
    "| ----- | ----|\n",
    "| O | 67 |\n",
    "| A | 83 |\n",
    "| B | 29 |\n",
    "| C | 8 |\n",
    "\n",
    "At 5% significance level , do you have evidence to conclude that there are differences in the distribution of blood groups among patients that is expected as per our prior knowledge.\n",
    "\n"
   ]
  },
  {
   "cell_type": "code",
   "execution_count": 39,
   "metadata": {},
   "outputs": [
    {
     "data": {
      "text/plain": [
       "Power_divergenceResult(statistic=17.04810133419759, pvalue=0.000690824622923825)"
      ]
     },
     "execution_count": 39,
     "metadata": {},
     "output_type": "execute_result"
    }
   ],
   "source": [
    "obs =  np.array ( [67,83,29,8] )\n",
    "\n",
    "n   =  obs.sum()\n",
    "\n",
    "exp =  np.array ( [n*.44 , n*.45 , n*.08 , n*.03] )\n",
    "\n",
    "stats.chisquare ( obs , exp )"
   ]
  },
  {
   "cell_type": "markdown",
   "metadata": {},
   "source": [
    "> Comments :\n",
    "\n",
    "        * p < alpha\n",
    "        * Reject Null\n",
    "        * SD in dist of blood groups of patients"
   ]
  },
  {
   "cell_type": "markdown",
   "metadata": {},
   "source": [
    "<a id='section_15'></a>\n",
    "# **2.2 - Independence test**"
   ]
  },
  {
   "cell_type": "markdown",
   "metadata": {
    "colab_type": "text",
    "id": "BjP650ZVz6mE"
   },
   "source": [
    "This is a hypothesis test in which we test whether two or more groups are statistically independent or not."
   ]
  },
  {
   "cell_type": "markdown",
   "metadata": {
    "colab_type": "text",
    "id": "c4j8PJHmz6mE"
   },
   "source": [
    "| Hypothesis | Description |\n",
    "| --------------------- | ----------------------- |\n",
    "| Null Hypothesis | Two or more groups are independent |\n",
    "| Alternative Hypothesis | Two or more groups are dependent |"
   ]
  },
  {
   "cell_type": "markdown",
   "metadata": {},
   "source": [
    "## **Q 1**"
   ]
  },
  {
   "cell_type": "markdown",
   "metadata": {},
   "source": [
    "The table below contains the number of perfect, satisfactory and defective products  manufactured by male and female.\n",
    "\n",
    "| Gender  | Perfect | Satisfactory | Defective |\n",
    "| ------- | ---- | --------- | -------- |\n",
    "| Male    | 138 | 83 | 64 |\n",
    "| Female  | 64 | 67 | 84 |\n",
    "\n",
    "\n",
    "Do this data provide sufficient evidence at 5% significance level to infer that there are differences in manufacturing quality wrt Gender ?"
   ]
  },
  {
   "cell_type": "code",
   "execution_count": 40,
   "metadata": {},
   "outputs": [],
   "source": [
    "table  =  np.array ( [ [138, 83, 64] , [64, 67, 84] ] )"
   ]
  },
  {
   "cell_type": "code",
   "execution_count": 41,
   "metadata": {},
   "outputs": [
    {
     "data": {
      "text/plain": [
       "(22.152468645918482, 1.547578021398957e-05, 2, array([[115.14,  85.5 ,  84.36],\n",
       "        [ 86.86,  64.5 ,  63.64]]))"
      ]
     },
     "execution_count": 41,
     "metadata": {},
     "output_type": "execute_result"
    }
   ],
   "source": [
    "stats.chi2_contingency (table)"
   ]
  },
  {
   "cell_type": "markdown",
   "metadata": {},
   "source": [
    "> Comments :\n",
    "\n",
    "        * P (1.5 e-05) < alpha\n",
    "        * Reject Null\n",
    "        * SD in Quality wrt Gender\n",
    "        * SR between Quality & Gender"
   ]
  },
  {
   "cell_type": "markdown",
   "metadata": {},
   "source": [
    "## **Q 2**"
   ]
  },
  {
   "cell_type": "markdown",
   "metadata": {},
   "source": [
    "A Cable service provider company is interested in checking whether or not the customer churn depends on customer segment.  Use 5% as level of significance"
   ]
  },
  {
   "cell_type": "markdown",
   "metadata": {},
   "source": [
    "| Customer Segment | Churned | Retained |\n",
    "|  -------- | ----- | ---- |\n",
    "| S1 | 15 | 142 |\n",
    "| S2 | 24 | 400 |\n",
    "| S3 | 30 | 389 |\n"
   ]
  },
  {
   "cell_type": "code",
   "execution_count": 42,
   "metadata": {},
   "outputs": [],
   "source": [
    "table  =  np.array ( [ [15,142] , [24,400] , [30,389] ] )"
   ]
  },
  {
   "cell_type": "code",
   "execution_count": 43,
   "metadata": {},
   "outputs": [
    {
     "data": {
      "text/plain": [
       "(2.779977047087869, 0.24907816314986156, 2, array([[ 10.833, 146.167],\n",
       "        [ 29.256, 394.744],\n",
       "        [ 28.911, 390.089]]))"
      ]
     },
     "execution_count": 43,
     "metadata": {},
     "output_type": "execute_result"
    }
   ],
   "source": [
    "stats.chi2_contingency (table)"
   ]
  },
  {
   "cell_type": "markdown",
   "metadata": {},
   "source": [
    "> Comments :\n",
    "\n",
    "        * P (0.24) > alpha\n",
    "        * Accept null\n",
    "        * No SD in Churn wrt Segment\n",
    "        * No SR between Churn & Segment\n",
    "---"
   ]
  },
  {
   "cell_type": "markdown",
   "metadata": {},
   "source": [
    "## **Q 3**"
   ]
  },
  {
   "cell_type": "markdown",
   "metadata": {
    "colab_type": "text",
    "id": "pP_KnLXXHi4c"
   },
   "source": [
    "**The shift quality data is given below:**\n",
    "\n",
    "| Shift | Perfect | Satisfactory | Defective |\n",
    "| ---- | ----- | ----- | ----- |\n",
    "| I | 106 | 124 | 1 | \n",
    "|II |  67 | 85 | 1 |\n",
    "| III | 37 | 72 | 3 |\n",
    "\n",
    "At 5% SL do you have evidence to conclude that there are differences in quality among the three shifts?\n"
   ]
  },
  {
   "cell_type": "code",
   "execution_count": 44,
   "metadata": {},
   "outputs": [],
   "source": [
    "table  =  np.array ( [ [106,124,1] , [67,85,1] , [37,72,3] ] )"
   ]
  },
  {
   "cell_type": "code",
   "execution_count": 45,
   "metadata": {},
   "outputs": [
    {
     "data": {
      "text/plain": [
       "(8.646695992462913,\n",
       " 0.07056326693766583,\n",
       " 4,\n",
       " array([[ 97.80241935, 130.86895161,   2.32862903],\n",
       "        [ 64.77822581,  86.67943548,   1.54233871],\n",
       "        [ 47.41935484,  63.4516129 ,   1.12903226]]))"
      ]
     },
     "execution_count": 45,
     "metadata": {},
     "output_type": "execute_result"
    }
   ],
   "source": [
    "stats.chi2_contingency (table)"
   ]
  },
  {
   "cell_type": "markdown",
   "metadata": {},
   "source": [
    "> Comments :\n",
    "    \n",
    "        * p (0.07) > alpha\n",
    "        * Accept Null\n",
    "        * No SD among the 3 shifts\n",
    "        * No SR between shift & feedback"
   ]
  }
 ],
 "metadata": {
  "kernelspec": {
   "display_name": "Python 3",
   "language": "python",
   "name": "python3"
  },
  "language_info": {
   "codemirror_mode": {
    "name": "ipython",
    "version": 3
   },
   "file_extension": ".py",
   "mimetype": "text/x-python",
   "name": "python",
   "nbconvert_exporter": "python",
   "pygments_lexer": "ipython3",
   "version": "3.7.4"
  }
 },
 "nbformat": 4,
 "nbformat_minor": 4
}
