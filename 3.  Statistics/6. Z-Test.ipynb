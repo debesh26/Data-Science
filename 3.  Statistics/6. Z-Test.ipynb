{
 "cells": [
  {
   "cell_type": "markdown",
   "metadata": {},
   "source": [
    "# **Table of Contents**\n",
    "* [Test of Mean](#section_11)\n",
    "    * [1 sample](#section_12)\n",
    "    * [2 sample](#section_13)\n",
    "    <br>\n",
    "* [Test of proportion](#section_14)"
   ]
  },
  {
   "cell_type": "code",
   "execution_count": 1,
   "metadata": {},
   "outputs": [],
   "source": [
    "import numpy         as np\n",
    "import scipy.stats   as stats\n",
    "\n",
    "import warnings\n",
    "warnings.simplefilter (\"ignore\")"
   ]
  },
  {
   "cell_type": "markdown",
   "metadata": {},
   "source": [
    "<a id='section_11'></a>\n",
    "# **Test of Mean**"
   ]
  },
  {
   "cell_type": "markdown",
   "metadata": {},
   "source": [
    "<a id='section_12'></a>\n",
    "# **1 sample Ztest**"
   ]
  },
  {
   "cell_type": "markdown",
   "metadata": {},
   "source": [
    "* A principal of a prestigious city college claims that the average intelligence of the students of the college is above average. \n",
    "\n",
    "* A random sample of 100 students IQ scores have  a mean score of 115. The mean population mean IQ is 110 with a standard deviation of 15.\n",
    "\n",
    "* Is there sufficient evidence to support the principal's claim ?"
   ]
  },
  {
   "cell_type": "markdown",
   "metadata": {},
   "source": [
    "* $H_0$: $\\mu$ = 100\n",
    "* $H_A$: $\\mu$ > 100"
   ]
  },
  {
   "cell_type": "code",
   "execution_count": 2,
   "metadata": {},
   "outputs": [
    {
     "data": {
      "text/plain": [
       "1.6448536269514729"
      ]
     },
     "execution_count": 2,
     "metadata": {},
     "output_type": "execute_result"
    }
   ],
   "source": [
    "stats.norm.isf (q = 0.05)                                   # Z crit"
   ]
  },
  {
   "cell_type": "code",
   "execution_count": 3,
   "metadata": {},
   "outputs": [
    {
     "data": {
      "text/plain": [
       "3.3333333333333335"
      ]
     },
     "execution_count": 3,
     "metadata": {},
     "output_type": "execute_result"
    }
   ],
   "source": [
    "Xbar  = 115\n",
    "mu    = 110\n",
    "sigma = 15\n",
    "n     = 100\n",
    "\n",
    "Z  =  (Xbar - mu) / (sigma / np.sqrt(n))\n",
    "Z                                                            # Z stat"
   ]
  },
  {
   "cell_type": "markdown",
   "metadata": {},
   "source": [
    "> Comments :\n",
    "        \n",
    "        * Null Acceptance region is from `-1.96 to 1.96` \n",
    "        * Z-stat does not fall in Null Acceptance region \n",
    "        * Hence reject Null\n",
    "        * Hence , observed avg > claimed avg"
   ]
  },
  {
   "cell_type": "markdown",
   "metadata": {},
   "source": [
    "<a id='section_13'></a>\n",
    "# **2 sample Ztest**"
   ]
  },
  {
   "cell_type": "code",
   "execution_count": 4,
   "metadata": {
    "colab": {
     "base_uri": "https://localhost:8080/",
     "height": 34
    },
    "colab_type": "code",
    "executionInfo": {
     "elapsed": 1000,
     "status": "ok",
     "timestamp": 1592837782331,
     "user": {
      "displayName": "Sudha B G",
      "photoUrl": "",
      "userId": "11454725486752146023"
     },
     "user_tz": -330
    },
    "id": "2wTwoQK_0I5S",
    "outputId": "c63ecc3d-05d5-43c1-9273-9e06a16369f6"
   },
   "outputs": [
    {
     "data": {
      "text/plain": [
       "0.008900880601391048"
      ]
     },
     "execution_count": 4,
     "metadata": {},
     "output_type": "execute_result"
    }
   ],
   "source": [
    "# Means\n",
    "X1 = 28      \n",
    "X2 = 33     \n",
    "\n",
    "# mutual diff for hypothesis testing\n",
    "mudiff = 0   \n",
    "\n",
    "# Standard deviation\n",
    "sd1  = 14.1\n",
    "sd2  = 9.5\n",
    "\n",
    "# Sample size\n",
    "n1  = 75 \n",
    "n2  = 90\n",
    "\n",
    "\n",
    "pooled_SE  =   np.sqrt (sd1**2/n1  +  sd2**2/n2)                 # Pooled Standard Error \n",
    "\n",
    "z          =   ( (X1 - X2) - mudiff ) / pooled_SE\n",
    "\n",
    "pval       =   2*(1 - stats.norm.cdf(abs(z)))                    # Pvalue\n",
    "pval"
   ]
  },
  {
   "cell_type": "markdown",
   "metadata": {},
   "source": [
    "* p < 0.05\n",
    "* Reject Null\n",
    "* Means are different"
   ]
  },
  {
   "cell_type": "markdown",
   "metadata": {},
   "source": [
    "<a id='section_14'></a>\n",
    "# **Test of Proportion**"
   ]
  },
  {
   "cell_type": "markdown",
   "metadata": {},
   "source": [
    "* Theory \n",
    "    - A/B test for two proportions\n",
    "    - `count` --- number of success \n",
    "    - `nobs` ---  number of observations\n",
    "    ---\n",
    "* Obejective\n",
    "    - To check for statistical difference in proportion between these two groups.\n",
    "    ---\n",
    "* Hypothesis\n",
    "    - H0 : Proportions are same\n",
    "    - H1 : Proportions are different"
   ]
  },
  {
   "cell_type": "code",
   "execution_count": 5,
   "metadata": {},
   "outputs": [],
   "source": [
    "from   statsmodels.stats.proportion   import   proportions_ztest"
   ]
  },
  {
   "cell_type": "code",
   "execution_count": 6,
   "metadata": {
    "colab": {
     "base_uri": "https://localhost:8080/",
     "height": 34
    },
    "colab_type": "code",
    "executionInfo": {
     "elapsed": 1143,
     "status": "ok",
     "timestamp": 1592837805887,
     "user": {
      "displayName": "Sudha B G",
      "photoUrl": "",
      "userId": "11454725486752146023"
     },
     "user_tz": -330
    },
    "id": "hwlQBSMcZA2Q",
    "outputId": "69212851-ac03-4236-e9e1-b28159209f46"
   },
   "outputs": [
    {
     "data": {
      "text/plain": [
       "(-2.9735051672502655, 0.002944194493609887)"
      ]
     },
     "execution_count": 6,
     "metadata": {},
     "output_type": "execute_result"
    }
   ],
   "source": [
    "count    =  np.array  ([600, 700])\n",
    "nobs     =  np.array  ([5000, 5000])\n",
    "\n",
    "proportions_ztest (count, nobs, alternative = 'two-sided')"
   ]
  },
  {
   "cell_type": "markdown",
   "metadata": {},
   "source": [
    "* Output format ----  ( z_score , p_val )"
   ]
  },
  {
   "cell_type": "markdown",
   "metadata": {},
   "source": [
    "> Comments\n",
    "\n",
    "        * p < 0.05\n",
    "        * Reject Null\n",
    "        * Proportions are different"
   ]
  }
 ],
 "metadata": {
  "kernelspec": {
   "display_name": "Python 3",
   "language": "python",
   "name": "python3"
  },
  "language_info": {
   "codemirror_mode": {
    "name": "ipython",
    "version": 3
   },
   "file_extension": ".py",
   "mimetype": "text/x-python",
   "name": "python",
   "nbconvert_exporter": "python",
   "pygments_lexer": "ipython3",
   "version": "3.7.4"
  }
 },
 "nbformat": 4,
 "nbformat_minor": 4
}
