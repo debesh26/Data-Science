{
 "cells": [
  {
   "cell_type": "markdown",
   "metadata": {},
   "source": [
    "# **Table of Contents**\n",
    "* [Data Wrangling](#section_21)<br><br>\n",
    "* [Discovering Clusters](#section_2)\n",
    "    * [Finding best 'K'](#section_3)\n",
    "    * [Using best 'K'](#section_4)\n",
    "    * [Cluster labelling](#section_5)\n",
    "    * [Viewing Clusters](#section_6)<br><br>\n",
    "* [Inference from Clusters](#section_7)"
   ]
  },
  {
   "cell_type": "code",
   "execution_count": 1,
   "metadata": {},
   "outputs": [],
   "source": [
    "import numpy             as np\n",
    "import pandas            as pd\n",
    "import matplotlib.pyplot as plt\n",
    "import seaborn           as sns\n",
    "\n",
    "import warnings\n",
    "warnings.filterwarnings(\"ignore\")\n",
    "\n",
    "import time\n",
    "import datetime as dt"
   ]
  },
  {
   "cell_type": "code",
   "execution_count": 2,
   "metadata": {
    "colab": {
     "base_uri": "https://localhost:8080/",
     "height": 201
    },
    "colab_type": "code",
    "executionInfo": {
     "elapsed": 43172,
     "status": "ok",
     "timestamp": 1575559996633,
     "user": {
      "displayName": "Sayan Dey",
      "photoUrl": "https://lh3.googleusercontent.com/a-/AAuE7mC4OsyKqeOJtjScxaIFMB9Yt7ywVtnbSsla3v0-NQ=s64",
      "userId": "03603580465490055794"
     },
     "user_tz": -330
    },
    "id": "GKZLg_VgQeZQ",
    "outputId": "cb9242dd-5282-4d76-9923-03c02c8bd170"
   },
   "outputs": [
    {
     "data": {
      "text/html": [
       "<div>\n",
       "<style scoped>\n",
       "    .dataframe tbody tr th:only-of-type {\n",
       "        vertical-align: middle;\n",
       "    }\n",
       "\n",
       "    .dataframe tbody tr th {\n",
       "        vertical-align: top;\n",
       "    }\n",
       "\n",
       "    .dataframe thead th {\n",
       "        text-align: right;\n",
       "    }\n",
       "</style>\n",
       "<table border=\"1\" class=\"dataframe\">\n",
       "  <thead>\n",
       "    <tr style=\"text-align: right;\">\n",
       "      <th></th>\n",
       "      <th>InvoiceNo</th>\n",
       "      <th>StockCode</th>\n",
       "      <th>Description</th>\n",
       "      <th>Quantity</th>\n",
       "      <th>InvoiceDate</th>\n",
       "      <th>UnitPrice</th>\n",
       "      <th>CustomerID</th>\n",
       "      <th>Country</th>\n",
       "    </tr>\n",
       "  </thead>\n",
       "  <tbody>\n",
       "    <tr>\n",
       "      <th>198251</th>\n",
       "      <td>554026</td>\n",
       "      <td>22316</td>\n",
       "      <td>200 BENDY SKULL STRAWS</td>\n",
       "      <td>192</td>\n",
       "      <td>2011-05-20 13:34:00</td>\n",
       "      <td>1.06</td>\n",
       "      <td>13324.0</td>\n",
       "      <td>United Kingdom</td>\n",
       "    </tr>\n",
       "    <tr>\n",
       "      <th>470400</th>\n",
       "      <td>576617</td>\n",
       "      <td>85179A</td>\n",
       "      <td>GREEN BITTY LIGHT CHAIN</td>\n",
       "      <td>1</td>\n",
       "      <td>2011-11-15 16:57:00</td>\n",
       "      <td>2.46</td>\n",
       "      <td>NaN</td>\n",
       "      <td>United Kingdom</td>\n",
       "    </tr>\n",
       "    <tr>\n",
       "      <th>74807</th>\n",
       "      <td>542527</td>\n",
       "      <td>22988</td>\n",
       "      <td>SOLDIERS EGG CUP</td>\n",
       "      <td>24</td>\n",
       "      <td>2011-01-28 12:48:00</td>\n",
       "      <td>1.25</td>\n",
       "      <td>17188.0</td>\n",
       "      <td>United Kingdom</td>\n",
       "    </tr>\n",
       "  </tbody>\n",
       "</table>\n",
       "</div>"
      ],
      "text/plain": [
       "       InvoiceNo StockCode              Description  Quantity  \\\n",
       "198251    554026     22316   200 BENDY SKULL STRAWS       192   \n",
       "470400    576617    85179A  GREEN BITTY LIGHT CHAIN         1   \n",
       "74807     542527     22988        SOLDIERS EGG CUP         24   \n",
       "\n",
       "               InvoiceDate  UnitPrice  CustomerID         Country  \n",
       "198251 2011-05-20 13:34:00       1.06     13324.0  United Kingdom  \n",
       "470400 2011-11-15 16:57:00       2.46         NaN  United Kingdom  \n",
       "74807  2011-01-28 12:48:00       1.25     17188.0  United Kingdom  "
      ]
     },
     "execution_count": 2,
     "metadata": {},
     "output_type": "execute_result"
    }
   ],
   "source": [
    "df  =  pd.read_excel (\"datasets/Online Retail.xlsx\")\n",
    "\n",
    "df.sample(3)"
   ]
  },
  {
   "cell_type": "markdown",
   "metadata": {},
   "source": [
    "<a id='section_21'></a>\n",
    "# **1 - Data Wrangling**"
   ]
  },
  {
   "cell_type": "markdown",
   "metadata": {
    "colab_type": "text",
    "id": "uC7Dk0eSQeZa"
   },
   "source": [
    "As customer clusters may vary by geography, I’ll restrict the data to only United Kingdom customers, which contains most of our customers historical data."
   ]
  },
  {
   "cell_type": "code",
   "execution_count": 3,
   "metadata": {
    "colab": {
     "base_uri": "https://localhost:8080/",
     "height": 34
    },
    "colab_type": "code",
    "executionInfo": {
     "elapsed": 42796,
     "status": "ok",
     "timestamp": 1575559996635,
     "user": {
      "displayName": "Sayan Dey",
      "photoUrl": "https://lh3.googleusercontent.com/a-/AAuE7mC4OsyKqeOJtjScxaIFMB9Yt7ywVtnbSsla3v0-NQ=s64",
      "userId": "03603580465490055794"
     },
     "user_tz": -330
    },
    "id": "oziXPbPxQeZc",
    "outputId": "77ce47b6-3dd4-4c90-a1eb-668ad043eb6a"
   },
   "outputs": [],
   "source": [
    "uk  =  df [ df['Country']=='United Kingdom' ]"
   ]
  },
  {
   "cell_type": "code",
   "execution_count": 4,
   "metadata": {
    "colab": {
     "base_uri": "https://localhost:8080/",
     "height": 34
    },
    "colab_type": "code",
    "executionInfo": {
     "elapsed": 42693,
     "status": "ok",
     "timestamp": 1575559996636,
     "user": {
      "displayName": "Sayan Dey",
      "photoUrl": "https://lh3.googleusercontent.com/a-/AAuE7mC4OsyKqeOJtjScxaIFMB9Yt7ywVtnbSsla3v0-NQ=s64",
      "userId": "03603580465490055794"
     },
     "user_tz": -330
    },
    "id": "YeOSRYAsQeZh",
    "outputId": "42427da0-ac3d-4aa9-d7f8-0bc423b72d1c"
   },
   "outputs": [],
   "source": [
    "# Remove Canceled Orders\n",
    "\n",
    "uk  =  uk [ uk['Quantity']>0 ]"
   ]
  },
  {
   "cell_type": "code",
   "execution_count": 5,
   "metadata": {
    "colab": {
     "base_uri": "https://localhost:8080/",
     "height": 34
    },
    "colab_type": "code",
    "executionInfo": {
     "elapsed": 42597,
     "status": "ok",
     "timestamp": 1575559996638,
     "user": {
      "displayName": "Sayan Dey",
      "photoUrl": "https://lh3.googleusercontent.com/a-/AAuE7mC4OsyKqeOJtjScxaIFMB9Yt7ywVtnbSsla3v0-NQ=s64",
      "userId": "03603580465490055794"
     },
     "user_tz": -330
    },
    "id": "F-bKxIAxQeZq",
    "outputId": "d993a642-8f04-4f2b-f651-8cc82e3cc6da"
   },
   "outputs": [],
   "source": [
    "# Remove rows where customerID is NA\n",
    "\n",
    "uk.dropna ( subset=['CustomerID'] , how='all' , inplace=True)"
   ]
  },
  {
   "cell_type": "code",
   "execution_count": 6,
   "metadata": {
    "colab": {
     "base_uri": "https://localhost:8080/",
     "height": 34
    },
    "colab_type": "code",
    "executionInfo": {
     "elapsed": 42432,
     "status": "ok",
     "timestamp": 1575559996639,
     "user": {
      "displayName": "Sayan Dey",
      "photoUrl": "https://lh3.googleusercontent.com/a-/AAuE7mC4OsyKqeOJtjScxaIFMB9Yt7ywVtnbSsla3v0-NQ=s64",
      "userId": "03603580465490055794"
     },
     "user_tz": -330
    },
    "id": "sQYqgDl0QeZu",
    "outputId": "3960f258-a79a-4891-ccc0-2fa9caea52e3"
   },
   "outputs": [],
   "source": [
    "# Restrict the data to one full year because it's better to use a metric per Months or Years in RFM\n",
    "\n",
    "uk  =  uk [ uk['InvoiceDate'] >=  \"2010-12-09\" ]"
   ]
  },
  {
   "cell_type": "markdown",
   "metadata": {},
   "source": [
    "## **1.1 - Creating RFM matrix**"
   ]
  },
  {
   "cell_type": "markdown",
   "metadata": {
    "colab_type": "text",
    "id": "5gQBB8wWQeZ_"
   },
   "source": [
    "## **1.1.1 - Recency**"
   ]
  },
  {
   "cell_type": "markdown",
   "metadata": {
    "colab_type": "text",
    "id": "zdGaV0HRQeaB"
   },
   "source": [
    "To calculate recency, we need to choose a date point from which we evaluate **how many days ago was the customer's last purchase**."
   ]
  },
  {
   "cell_type": "code",
   "execution_count": 7,
   "metadata": {
    "colab": {
     "base_uri": "https://localhost:8080/",
     "height": 34
    },
    "colab_type": "code",
    "executionInfo": {
     "elapsed": 40881,
     "status": "ok",
     "timestamp": 1575559996640,
     "user": {
      "displayName": "Sayan Dey",
      "photoUrl": "https://lh3.googleusercontent.com/a-/AAuE7mC4OsyKqeOJtjScxaIFMB9Yt7ywVtnbSsla3v0-NQ=s64",
      "userId": "03603580465490055794"
     },
     "user_tz": -330
    },
    "id": "opR2PBrJQeaC",
    "outputId": "8b60eae6-7ece-48df-999e-f24c0e0632b8"
   },
   "outputs": [
    {
     "data": {
      "text/plain": [
       "Timestamp('2011-12-09 12:49:00')"
      ]
     },
     "execution_count": 7,
     "metadata": {},
     "output_type": "execute_result"
    }
   ],
   "source": [
    "# last date available in our dataset\n",
    "\n",
    "uk ['InvoiceDate'].max()"
   ]
  },
  {
   "cell_type": "markdown",
   "metadata": {
    "colab_type": "text",
    "id": "sujVcREPQeaK"
   },
   "source": [
    "The last date we have is 2011-12-09 so we will use it as reference."
   ]
  },
  {
   "cell_type": "code",
   "execution_count": 8,
   "metadata": {
    "colab": {
     "base_uri": "https://localhost:8080/",
     "height": 34
    },
    "colab_type": "code",
    "executionInfo": {
     "elapsed": 40628,
     "status": "ok",
     "timestamp": 1575559996641,
     "user": {
      "displayName": "Sayan Dey",
      "photoUrl": "https://lh3.googleusercontent.com/a-/AAuE7mC4OsyKqeOJtjScxaIFMB9Yt7ywVtnbSsla3v0-NQ=s64",
      "userId": "03603580465490055794"
     },
     "user_tz": -330
    },
    "id": "cngUjim3QeaK",
    "outputId": "c6d62897-8490-4d44-acca-44aaeaaaafb2"
   },
   "outputs": [
    {
     "name": "stdout",
     "output_type": "stream",
     "text": [
      "2011-12-09\n"
     ]
    }
   ],
   "source": [
    "now = dt.date(2011,12,9)\n",
    "\n",
    "print(now)"
   ]
  },
  {
   "cell_type": "code",
   "execution_count": 9,
   "metadata": {
    "colab": {},
    "colab_type": "code",
    "id": "KOmT3ZInQeaN"
   },
   "outputs": [],
   "source": [
    "# Create a new column called date which contains the date of invoice only\n",
    "\n",
    "uk['date']  =  uk['InvoiceDate'].dt.date"
   ]
  },
  {
   "cell_type": "code",
   "execution_count": 10,
   "metadata": {
    "colab": {
     "base_uri": "https://localhost:8080/",
     "height": 201
    },
    "colab_type": "code",
    "executionInfo": {
     "elapsed": 58057,
     "status": "ok",
     "timestamp": 1575560014436,
     "user": {
      "displayName": "Sayan Dey",
      "photoUrl": "https://lh3.googleusercontent.com/a-/AAuE7mC4OsyKqeOJtjScxaIFMB9Yt7ywVtnbSsla3v0-NQ=s64",
      "userId": "03603580465490055794"
     },
     "user_tz": -330
    },
    "id": "u-1pf7tFQeaR",
    "outputId": "ff2bb1ad-f64d-4815-e429-7a8e3d08e32e"
   },
   "outputs": [
    {
     "data": {
      "text/html": [
       "<div>\n",
       "<style scoped>\n",
       "    .dataframe tbody tr th:only-of-type {\n",
       "        vertical-align: middle;\n",
       "    }\n",
       "\n",
       "    .dataframe tbody tr th {\n",
       "        vertical-align: top;\n",
       "    }\n",
       "\n",
       "    .dataframe thead th {\n",
       "        text-align: right;\n",
       "    }\n",
       "</style>\n",
       "<table border=\"1\" class=\"dataframe\">\n",
       "  <thead>\n",
       "    <tr style=\"text-align: right;\">\n",
       "      <th></th>\n",
       "      <th>CustomerID</th>\n",
       "      <th>LastPurchaseDate</th>\n",
       "    </tr>\n",
       "  </thead>\n",
       "  <tbody>\n",
       "    <tr>\n",
       "      <th>0</th>\n",
       "      <td>12346.0</td>\n",
       "      <td>2011-01-18</td>\n",
       "    </tr>\n",
       "    <tr>\n",
       "      <th>1</th>\n",
       "      <td>12747.0</td>\n",
       "      <td>2011-12-07</td>\n",
       "    </tr>\n",
       "    <tr>\n",
       "      <th>2</th>\n",
       "      <td>12748.0</td>\n",
       "      <td>2011-12-09</td>\n",
       "    </tr>\n",
       "    <tr>\n",
       "      <th>3</th>\n",
       "      <td>12749.0</td>\n",
       "      <td>2011-12-06</td>\n",
       "    </tr>\n",
       "    <tr>\n",
       "      <th>4</th>\n",
       "      <td>12820.0</td>\n",
       "      <td>2011-12-06</td>\n",
       "    </tr>\n",
       "  </tbody>\n",
       "</table>\n",
       "</div>"
      ],
      "text/plain": [
       "   CustomerID LastPurchaseDate\n",
       "0     12346.0       2011-01-18\n",
       "1     12747.0       2011-12-07\n",
       "2     12748.0       2011-12-09\n",
       "3     12749.0       2011-12-06\n",
       "4     12820.0       2011-12-06"
      ]
     },
     "execution_count": 10,
     "metadata": {},
     "output_type": "execute_result"
    }
   ],
   "source": [
    "# Group by customers and check last date of purchase\n",
    "\n",
    "r_df  =  uk.groupby (by='CustomerID', as_index=False) ['date'].max()\n",
    "\n",
    "r_df.columns = ['CustomerID','LastPurchaseDate']\n",
    "\n",
    "r_df.head()"
   ]
  },
  {
   "cell_type": "code",
   "execution_count": 11,
   "metadata": {
    "colab": {},
    "colab_type": "code",
    "id": "BAOGoPeDQeaU"
   },
   "outputs": [],
   "source": [
    "# Calculate recency\n",
    "r_df ['Recency']     =   r_df ['LastPurchaseDate'].apply (lambda x: (now - x).days)\n",
    "\n",
    "\n",
    "# Drop LastPurchaseDate\n",
    "r_df.drop ('LastPurchaseDate' , axis=1 , inplace=True)"
   ]
  },
  {
   "cell_type": "code",
   "execution_count": 12,
   "metadata": {
    "colab": {
     "base_uri": "https://localhost:8080/",
     "height": 201
    },
    "colab_type": "code",
    "executionInfo": {
     "elapsed": 57516,
     "status": "ok",
     "timestamp": 1575560014439,
     "user": {
      "displayName": "Sayan Dey",
      "photoUrl": "https://lh3.googleusercontent.com/a-/AAuE7mC4OsyKqeOJtjScxaIFMB9Yt7ywVtnbSsla3v0-NQ=s64",
      "userId": "03603580465490055794"
     },
     "user_tz": -330
    },
    "id": "ne_GNNjlQeaa",
    "outputId": "d5c46f2e-d4cf-41e7-f384-855277a181a3"
   },
   "outputs": [
    {
     "data": {
      "text/html": [
       "<div>\n",
       "<style scoped>\n",
       "    .dataframe tbody tr th:only-of-type {\n",
       "        vertical-align: middle;\n",
       "    }\n",
       "\n",
       "    .dataframe tbody tr th {\n",
       "        vertical-align: top;\n",
       "    }\n",
       "\n",
       "    .dataframe thead th {\n",
       "        text-align: right;\n",
       "    }\n",
       "</style>\n",
       "<table border=\"1\" class=\"dataframe\">\n",
       "  <thead>\n",
       "    <tr style=\"text-align: right;\">\n",
       "      <th></th>\n",
       "      <th>CustomerID</th>\n",
       "      <th>Recency</th>\n",
       "    </tr>\n",
       "  </thead>\n",
       "  <tbody>\n",
       "    <tr>\n",
       "      <th>0</th>\n",
       "      <td>12346.0</td>\n",
       "      <td>325</td>\n",
       "    </tr>\n",
       "    <tr>\n",
       "      <th>1</th>\n",
       "      <td>12747.0</td>\n",
       "      <td>2</td>\n",
       "    </tr>\n",
       "    <tr>\n",
       "      <th>2</th>\n",
       "      <td>12748.0</td>\n",
       "      <td>0</td>\n",
       "    </tr>\n",
       "    <tr>\n",
       "      <th>3</th>\n",
       "      <td>12749.0</td>\n",
       "      <td>3</td>\n",
       "    </tr>\n",
       "    <tr>\n",
       "      <th>4</th>\n",
       "      <td>12820.0</td>\n",
       "      <td>3</td>\n",
       "    </tr>\n",
       "  </tbody>\n",
       "</table>\n",
       "</div>"
      ],
      "text/plain": [
       "   CustomerID  Recency\n",
       "0     12346.0      325\n",
       "1     12747.0        2\n",
       "2     12748.0        0\n",
       "3     12749.0        3\n",
       "4     12820.0        3"
      ]
     },
     "execution_count": 12,
     "metadata": {},
     "output_type": "execute_result"
    }
   ],
   "source": [
    "r_df.head()"
   ]
  },
  {
   "cell_type": "markdown",
   "metadata": {
    "colab_type": "text",
    "id": "Jwqs5c13Qeai"
   },
   "source": [
    "## **1.1.2 - Frequency**"
   ]
  },
  {
   "cell_type": "markdown",
   "metadata": {
    "colab_type": "text",
    "id": "hm-TgQ0UQeaj"
   },
   "source": [
    "Frequency helps us to know **how many times a customer purchased from us**. To do that we need to check how many invoices are registered by the same customer."
   ]
  },
  {
   "cell_type": "code",
   "execution_count": 13,
   "metadata": {},
   "outputs": [],
   "source": [
    "# drop duplicates\n",
    "\n",
    "uk_copy = uk\n",
    "uk_copy.drop_duplicates ( subset=['InvoiceNo', 'CustomerID'] , keep=\"first\" , inplace=True )"
   ]
  },
  {
   "cell_type": "code",
   "execution_count": 14,
   "metadata": {
    "colab": {
     "base_uri": "https://localhost:8080/",
     "height": 201
    },
    "colab_type": "code",
    "executionInfo": {
     "elapsed": 56646,
     "status": "ok",
     "timestamp": 1575560014442,
     "user": {
      "displayName": "Sayan Dey",
      "photoUrl": "https://lh3.googleusercontent.com/a-/AAuE7mC4OsyKqeOJtjScxaIFMB9Yt7ywVtnbSsla3v0-NQ=s64",
      "userId": "03603580465490055794"
     },
     "user_tz": -330
    },
    "id": "aZRxGvPxQeak",
    "outputId": "a5f1ca09-1849-4101-9e39-28bb86ffdffa"
   },
   "outputs": [
    {
     "data": {
      "text/html": [
       "<div>\n",
       "<style scoped>\n",
       "    .dataframe tbody tr th:only-of-type {\n",
       "        vertical-align: middle;\n",
       "    }\n",
       "\n",
       "    .dataframe tbody tr th {\n",
       "        vertical-align: top;\n",
       "    }\n",
       "\n",
       "    .dataframe thead th {\n",
       "        text-align: right;\n",
       "    }\n",
       "</style>\n",
       "<table border=\"1\" class=\"dataframe\">\n",
       "  <thead>\n",
       "    <tr style=\"text-align: right;\">\n",
       "      <th></th>\n",
       "      <th>CustomerID</th>\n",
       "      <th>Frequency</th>\n",
       "    </tr>\n",
       "  </thead>\n",
       "  <tbody>\n",
       "    <tr>\n",
       "      <th>0</th>\n",
       "      <td>12346.0</td>\n",
       "      <td>1</td>\n",
       "    </tr>\n",
       "    <tr>\n",
       "      <th>1</th>\n",
       "      <td>12747.0</td>\n",
       "      <td>10</td>\n",
       "    </tr>\n",
       "    <tr>\n",
       "      <th>2</th>\n",
       "      <td>12748.0</td>\n",
       "      <td>196</td>\n",
       "    </tr>\n",
       "    <tr>\n",
       "      <th>3</th>\n",
       "      <td>12749.0</td>\n",
       "      <td>5</td>\n",
       "    </tr>\n",
       "    <tr>\n",
       "      <th>4</th>\n",
       "      <td>12820.0</td>\n",
       "      <td>4</td>\n",
       "    </tr>\n",
       "  </tbody>\n",
       "</table>\n",
       "</div>"
      ],
      "text/plain": [
       "   CustomerID  Frequency\n",
       "0     12346.0          1\n",
       "1     12747.0         10\n",
       "2     12748.0        196\n",
       "3     12749.0          5\n",
       "4     12820.0          4"
      ]
     },
     "execution_count": 14,
     "metadata": {},
     "output_type": "execute_result"
    }
   ],
   "source": [
    "# Calculate frequency of purchases\n",
    "\n",
    "f_df  =  uk_copy.groupby ( by=['CustomerID'] , as_index=False)     ['InvoiceNo'].count()\n",
    "\n",
    "f_df.columns = ['CustomerID','Frequency']\n",
    "\n",
    "f_df.head()"
   ]
  },
  {
   "cell_type": "markdown",
   "metadata": {
    "colab_type": "text",
    "id": "unvIjvxUQeaq"
   },
   "source": [
    "## **1.1.3 - Monetary**"
   ]
  },
  {
   "cell_type": "markdown",
   "metadata": {
    "colab_type": "text",
    "id": "uqO7njqSQeat"
   },
   "source": [
    "Monetary attribute answers the question: **How much money did the customer spent over time?**\n",
    "\n",
    "To do that, first, we will create a new column total cost to have the total price per invoice."
   ]
  },
  {
   "cell_type": "code",
   "execution_count": 15,
   "metadata": {
    "colab": {},
    "colab_type": "code",
    "id": "SaqKGfSIQeaw"
   },
   "outputs": [],
   "source": [
    "# Create TotalCost Column\n",
    "\n",
    "uk ['TotalCost']  =  uk['Quantity'] * uk['UnitPrice']"
   ]
  },
  {
   "cell_type": "code",
   "execution_count": 16,
   "metadata": {
    "colab": {
     "base_uri": "https://localhost:8080/",
     "height": 201
    },
    "colab_type": "code",
    "executionInfo": {
     "elapsed": 56028,
     "status": "ok",
     "timestamp": 1575560014444,
     "user": {
      "displayName": "Sayan Dey",
      "photoUrl": "https://lh3.googleusercontent.com/a-/AAuE7mC4OsyKqeOJtjScxaIFMB9Yt7ywVtnbSsla3v0-NQ=s64",
      "userId": "03603580465490055794"
     },
     "user_tz": -330
    },
    "id": "tFLLN1JTQea-",
    "outputId": "922f3264-f237-4f7e-877a-c051e209be2b"
   },
   "outputs": [
    {
     "data": {
      "text/html": [
       "<div>\n",
       "<style scoped>\n",
       "    .dataframe tbody tr th:only-of-type {\n",
       "        vertical-align: middle;\n",
       "    }\n",
       "\n",
       "    .dataframe tbody tr th {\n",
       "        vertical-align: top;\n",
       "    }\n",
       "\n",
       "    .dataframe thead th {\n",
       "        text-align: right;\n",
       "    }\n",
       "</style>\n",
       "<table border=\"1\" class=\"dataframe\">\n",
       "  <thead>\n",
       "    <tr style=\"text-align: right;\">\n",
       "      <th></th>\n",
       "      <th>CustomerID</th>\n",
       "      <th>Monetary</th>\n",
       "    </tr>\n",
       "  </thead>\n",
       "  <tbody>\n",
       "    <tr>\n",
       "      <th>0</th>\n",
       "      <td>12346.0</td>\n",
       "      <td>77183.60</td>\n",
       "    </tr>\n",
       "    <tr>\n",
       "      <th>1</th>\n",
       "      <td>12747.0</td>\n",
       "      <td>658.89</td>\n",
       "    </tr>\n",
       "    <tr>\n",
       "      <th>2</th>\n",
       "      <td>12748.0</td>\n",
       "      <td>3739.23</td>\n",
       "    </tr>\n",
       "    <tr>\n",
       "      <th>3</th>\n",
       "      <td>12749.0</td>\n",
       "      <td>98.35</td>\n",
       "    </tr>\n",
       "    <tr>\n",
       "      <th>4</th>\n",
       "      <td>12820.0</td>\n",
       "      <td>58.20</td>\n",
       "    </tr>\n",
       "  </tbody>\n",
       "</table>\n",
       "</div>"
      ],
      "text/plain": [
       "   CustomerID  Monetary\n",
       "0     12346.0  77183.60\n",
       "1     12747.0    658.89\n",
       "2     12748.0   3739.23\n",
       "3     12749.0     98.35\n",
       "4     12820.0     58.20"
      ]
     },
     "execution_count": 16,
     "metadata": {},
     "output_type": "execute_result"
    }
   ],
   "source": [
    "m_df  =  uk.groupby ( by='CustomerID' , as_index=False)    .agg ({'TotalCost': 'sum'})\n",
    "\n",
    "m_df.columns = ['CustomerID','Monetary']\n",
    "\n",
    "m_df.head()"
   ]
  },
  {
   "cell_type": "markdown",
   "metadata": {
    "colab_type": "text",
    "id": "B8xM-aCEQebB"
   },
   "source": [
    "## **1.2 - Merging**"
   ]
  },
  {
   "cell_type": "code",
   "execution_count": 17,
   "metadata": {},
   "outputs": [
    {
     "data": {
      "text/html": [
       "<div>\n",
       "<style scoped>\n",
       "    .dataframe tbody tr th:only-of-type {\n",
       "        vertical-align: middle;\n",
       "    }\n",
       "\n",
       "    .dataframe tbody tr th {\n",
       "        vertical-align: top;\n",
       "    }\n",
       "\n",
       "    .dataframe thead th {\n",
       "        text-align: right;\n",
       "    }\n",
       "</style>\n",
       "<table border=\"1\" class=\"dataframe\">\n",
       "  <thead>\n",
       "    <tr style=\"text-align: right;\">\n",
       "      <th></th>\n",
       "      <th>Recency</th>\n",
       "      <th>Frequency</th>\n",
       "      <th>Monetary</th>\n",
       "    </tr>\n",
       "  </thead>\n",
       "  <tbody>\n",
       "    <tr>\n",
       "      <th>0</th>\n",
       "      <td>325</td>\n",
       "      <td>1</td>\n",
       "      <td>77183.60</td>\n",
       "    </tr>\n",
       "    <tr>\n",
       "      <th>1</th>\n",
       "      <td>2</td>\n",
       "      <td>10</td>\n",
       "      <td>658.89</td>\n",
       "    </tr>\n",
       "    <tr>\n",
       "      <th>2</th>\n",
       "      <td>0</td>\n",
       "      <td>196</td>\n",
       "      <td>3739.23</td>\n",
       "    </tr>\n",
       "    <tr>\n",
       "      <th>3</th>\n",
       "      <td>3</td>\n",
       "      <td>5</td>\n",
       "      <td>98.35</td>\n",
       "    </tr>\n",
       "    <tr>\n",
       "      <th>4</th>\n",
       "      <td>3</td>\n",
       "      <td>4</td>\n",
       "      <td>58.20</td>\n",
       "    </tr>\n",
       "  </tbody>\n",
       "</table>\n",
       "</div>"
      ],
      "text/plain": [
       "   Recency  Frequency  Monetary\n",
       "0      325          1  77183.60\n",
       "1        2         10    658.89\n",
       "2        0        196   3739.23\n",
       "3        3          5     98.35\n",
       "4        3          4     58.20"
      ]
     },
     "execution_count": 17,
     "metadata": {},
     "output_type": "execute_result"
    }
   ],
   "source": [
    "temp_df  =  r_df.merge   (f_df , on='CustomerID')\n",
    "\n",
    "rfm_df   = temp_df.merge (m_df , on='CustomerID')\n",
    "\n",
    "rfm_df.drop ('CustomerID' , axis=1 , inplace =True)\n",
    "\n",
    "rfm_df.head()"
   ]
  },
  {
   "cell_type": "markdown",
   "metadata": {},
   "source": [
    "## **1.3 - Transform**"
   ]
  },
  {
   "cell_type": "code",
   "execution_count": 18,
   "metadata": {},
   "outputs": [],
   "source": [
    "from sklearn.preprocessing import PowerTransformer\n",
    "\n",
    "pt = PowerTransformer()"
   ]
  },
  {
   "cell_type": "code",
   "execution_count": 19,
   "metadata": {},
   "outputs": [
    {
     "data": {
      "text/html": [
       "<div>\n",
       "<style scoped>\n",
       "    .dataframe tbody tr th:only-of-type {\n",
       "        vertical-align: middle;\n",
       "    }\n",
       "\n",
       "    .dataframe tbody tr th {\n",
       "        vertical-align: top;\n",
       "    }\n",
       "\n",
       "    .dataframe thead th {\n",
       "        text-align: right;\n",
       "    }\n",
       "</style>\n",
       "<table border=\"1\" class=\"dataframe\">\n",
       "  <thead>\n",
       "    <tr style=\"text-align: right;\">\n",
       "      <th></th>\n",
       "      <th>Recency</th>\n",
       "      <th>Frequency</th>\n",
       "      <th>Monetary</th>\n",
       "    </tr>\n",
       "  </thead>\n",
       "  <tbody>\n",
       "    <tr>\n",
       "      <th>0</th>\n",
       "      <td>1.682373</td>\n",
       "      <td>-1.148472</td>\n",
       "      <td>3.614781</td>\n",
       "    </tr>\n",
       "    <tr>\n",
       "      <th>1</th>\n",
       "      <td>-1.735475</td>\n",
       "      <td>1.489108</td>\n",
       "      <td>1.637693</td>\n",
       "    </tr>\n",
       "    <tr>\n",
       "      <th>2</th>\n",
       "      <td>-2.225068</td>\n",
       "      <td>2.348818</td>\n",
       "      <td>2.476262</td>\n",
       "    </tr>\n",
       "  </tbody>\n",
       "</table>\n",
       "</div>"
      ],
      "text/plain": [
       "    Recency  Frequency  Monetary\n",
       "0  1.682373  -1.148472  3.614781\n",
       "1 -1.735475   1.489108  1.637693\n",
       "2 -2.225068   2.348818  2.476262"
      ]
     },
     "execution_count": 19,
     "metadata": {},
     "output_type": "execute_result"
    }
   ],
   "source": [
    "df = pd.DataFrame ( pt.fit_transform(rfm_df)  ,  columns = list(rfm_df.columns) )\n",
    "\n",
    "df.head(3)"
   ]
  },
  {
   "cell_type": "markdown",
   "metadata": {},
   "source": [
    "## **1.4 - Feature Selection via PCA**"
   ]
  },
  {
   "cell_type": "code",
   "execution_count": 20,
   "metadata": {},
   "outputs": [
    {
     "name": "stdout",
     "output_type": "stream",
     "text": [
      "[0.69704622 0.22051142 0.08244236]\n"
     ]
    }
   ],
   "source": [
    "from sklearn.decomposition import PCA\n",
    "\n",
    "pca  =  PCA ()                     \n",
    "\n",
    "pca.fit (df)\n",
    "    \n",
    "print  ( pca.explained_variance_ratio_ )"
   ]
  },
  {
   "cell_type": "code",
   "execution_count": 21,
   "metadata": {},
   "outputs": [],
   "source": [
    "pca  =  PCA ( n_components = 2 )                               #   % explained variance\n",
    "\n",
    "df   =  pca.fit_transform(df)\n",
    "\n",
    "df   =  pd.DataFrame(df)"
   ]
  },
  {
   "cell_type": "markdown",
   "metadata": {},
   "source": [
    "<a id='section_2'></a>\n",
    "# **2 - Discovering Clusters** "
   ]
  },
  {
   "cell_type": "markdown",
   "metadata": {},
   "source": [
    "<a id='section_3'></a>\n",
    "## **2.1 - Finding Best K**"
   ]
  },
  {
   "cell_type": "markdown",
   "metadata": {},
   "source": [
    "### **2.1.1 - Pairplot**"
   ]
  },
  {
   "cell_type": "code",
   "execution_count": 22,
   "metadata": {},
   "outputs": [
    {
     "data": {
      "image/png": "[encoded data removed]",
      "text/plain": [
       "<Figure size 360x360 with 6 Axes>"
      ]
     },
     "metadata": {
      "needs_background": "light"
     },
     "output_type": "display_data"
    }
   ],
   "source": [
    "sns.pairplot ( df , diag_kind ='kde' ) ;"
   ]
  },
  {
   "cell_type": "markdown",
   "metadata": {},
   "source": [
    "### **2.1.2 - Elbow Plot**"
   ]
  },
  {
   "cell_type": "code",
   "execution_count": 23,
   "metadata": {},
   "outputs": [],
   "source": [
    "from sklearn.cluster import KMeans"
   ]
  },
  {
   "cell_type": "code",
   "execution_count": 24,
   "metadata": {},
   "outputs": [
    {
     "data": {
      "image/png": "[encoded data removed]",
      "text/plain": [
       "<Figure size 432x288 with 1 Axes>"
      ]
     },
     "metadata": {
      "needs_background": "light"
     },
     "output_type": "display_data"
    }
   ],
   "source": [
    "err    = []                      # wcss (within cluster sum square)     # inertia       # total spread\n",
    "\n",
    "for k in range(1,7):\n",
    "    \n",
    "    KM  =  KMeans ( k , n_init =5 , max_iter =1000 , random_state =2 )\n",
    "    KM.fit(df)            \n",
    "    err.append    ( KM.inertia_  ) \n",
    "    \n",
    "    \n",
    "plt.plot  ( range(1,7)  , err  , marker='o') ;"
   ]
  },
  {
   "cell_type": "markdown",
   "metadata": {},
   "source": [
    "### **2.1.3 - Silhouette Score**"
   ]
  },
  {
   "cell_type": "code",
   "execution_count": 25,
   "metadata": {},
   "outputs": [],
   "source": [
    "from   sklearn.metrics   import  silhouette_score"
   ]
  },
  {
   "cell_type": "code",
   "execution_count": 26,
   "metadata": {},
   "outputs": [],
   "source": [
    "scores = []\n",
    "\n",
    "for k in range(2,7):                                                               \n",
    "\n",
    "    KM     =  KMeans (n_clusters =k , random_state =2)\n",
    "    \n",
    "    labels =  KM.fit_predict (df)\n",
    "\n",
    "    avg    =  silhouette_score ( df , labels )\n",
    "    \n",
    "    scores.append ( {'k':k , 'Avg Silhouette Score':avg} )"
   ]
  },
  {
   "cell_type": "code",
   "execution_count": 27,
   "metadata": {},
   "outputs": [
    {
     "data": {
      "text/html": [
       "<style  type=\"text/css\" >\n",
       "</style><table id=\"T_47290afe_d50b_11eb_a97e_dcf50537764a\" ><thead>    <tr>        <th class=\"col_heading level0 col0\" >k</th>        <th class=\"col_heading level0 col1\" >Avg Silhouette Score</th>    </tr></thead><tbody>\n",
       "                <tr>\n",
       "                                <td id=\"T_47290afe_d50b_11eb_a97e_dcf50537764arow0_col0\" class=\"data row0 col0\" >2</td>\n",
       "                        <td id=\"T_47290afe_d50b_11eb_a97e_dcf50537764arow0_col1\" class=\"data row0 col1\" >0.445345</td>\n",
       "            </tr>\n",
       "            <tr>\n",
       "                                <td id=\"T_47290afe_d50b_11eb_a97e_dcf50537764arow1_col0\" class=\"data row1 col0\" >4</td>\n",
       "                        <td id=\"T_47290afe_d50b_11eb_a97e_dcf50537764arow1_col1\" class=\"data row1 col1\" >0.368571</td>\n",
       "            </tr>\n",
       "            <tr>\n",
       "                                <td id=\"T_47290afe_d50b_11eb_a97e_dcf50537764arow2_col0\" class=\"data row2 col0\" >5</td>\n",
       "                        <td id=\"T_47290afe_d50b_11eb_a97e_dcf50537764arow2_col1\" class=\"data row2 col1\" >0.361723</td>\n",
       "            </tr>\n",
       "            <tr>\n",
       "                                <td id=\"T_47290afe_d50b_11eb_a97e_dcf50537764arow3_col0\" class=\"data row3 col0\" >6</td>\n",
       "                        <td id=\"T_47290afe_d50b_11eb_a97e_dcf50537764arow3_col1\" class=\"data row3 col1\" >0.361499</td>\n",
       "            </tr>\n",
       "            <tr>\n",
       "                                <td id=\"T_47290afe_d50b_11eb_a97e_dcf50537764arow4_col0\" class=\"data row4 col0\" >3</td>\n",
       "                        <td id=\"T_47290afe_d50b_11eb_a97e_dcf50537764arow4_col1\" class=\"data row4 col1\" >0.353798</td>\n",
       "            </tr>\n",
       "    </tbody></table>"
      ],
      "text/plain": [
       "<pandas.io.formats.style.Styler at 0x1ee85651e08>"
      ]
     },
     "execution_count": 27,
     "metadata": {},
     "output_type": "execute_result"
    }
   ],
   "source": [
    "table = pd.DataFrame (scores)\n",
    "\n",
    "table.sort_values ( 'Avg Silhouette Score' , ascending=0 )  .head()    .style.hide_index()"
   ]
  },
  {
   "cell_type": "markdown",
   "metadata": {},
   "source": [
    "### **2.1.4 - Dendrogram**"
   ]
  },
  {
   "cell_type": "code",
   "execution_count": 28,
   "metadata": {},
   "outputs": [],
   "source": [
    "from sklearn.cluster          import  AgglomerativeClustering \n",
    "from scipy.cluster.hierarchy  import  dendrogram, linkage"
   ]
  },
  {
   "cell_type": "code",
   "execution_count": 29,
   "metadata": {},
   "outputs": [
    {
     "data": {
      "image/png": "[encoded data removed]",
      "text/plain": [
       "<Figure size 432x288 with 1 Axes>"
      ]
     },
     "metadata": {
      "needs_background": "light"
     },
     "output_type": "display_data"
    }
   ],
   "source": [
    "model  =  AgglomerativeClustering  (affinity ='euclidean' ,  linkage ='ward')\n",
    "\n",
    "model.fit (df)\n",
    "\n",
    "Z = linkage (df , 'ward')\n",
    "\n",
    "dendrogram ( Z  ,  p=5  ,  truncate_mode='level')                                                  \n",
    "\n",
    "plt.show()"
   ]
  },
  {
   "cell_type": "markdown",
   "metadata": {},
   "source": [
    "<a id='section_4'></a>\n",
    "## **2.2 - Using best K**"
   ]
  },
  {
   "cell_type": "markdown",
   "metadata": {},
   "source": [
    "| Method | Best K |\n",
    "| ---    | ---    |\n",
    "| Elbow  | 2 |         \n",
    "| Silhouette | 2 |\n",
    "| Dendrogram | 2 |"
   ]
  },
  {
   "cell_type": "code",
   "execution_count": 30,
   "metadata": {},
   "outputs": [],
   "source": [
    "KM    =  KMeans ( n_clusters=2 )  .fit (df)     "
   ]
  },
  {
   "cell_type": "markdown",
   "metadata": {},
   "source": [
    "<a id='section_5'></a>\n",
    "## **2.3 - Cluster labelling of records**"
   ]
  },
  {
   "cell_type": "code",
   "execution_count": 31,
   "metadata": {},
   "outputs": [],
   "source": [
    "labels      =  KM.predict (df)                                        \n",
    "\n",
    "df[\"cluster\"] =  labels"
   ]
  },
  {
   "cell_type": "markdown",
   "metadata": {},
   "source": [
    "<a id='section_6'></a>\n",
    "## **2.4 - Viewing Clusters**"
   ]
  },
  {
   "cell_type": "markdown",
   "metadata": {},
   "source": [
    "### **2.4.1 - Pairplot**"
   ]
  },
  {
   "cell_type": "code",
   "execution_count": 32,
   "metadata": {},
   "outputs": [
    {
     "data": {
      "image/png": "[encoded data removed]",
      "text/plain": [
       "<Figure size 402.375x360 with 6 Axes>"
      ]
     },
     "metadata": {
      "needs_background": "light"
     },
     "output_type": "display_data"
    }
   ],
   "source": [
    "sns.pairplot ( df , diag_kind ='kde' , hue='cluster' ) ;"
   ]
  },
  {
   "cell_type": "markdown",
   "metadata": {},
   "source": [
    "### **2.4.2 - Boxplot**"
   ]
  },
  {
   "cell_type": "code",
   "execution_count": 33,
   "metadata": {},
   "outputs": [
    {
     "data": {
      "image/png": "[encoded data removed]",
      "text/plain": [
       "<Figure size 720x504 with 2 Axes>"
      ]
     },
     "metadata": {
      "needs_background": "light"
     },
     "output_type": "display_data"
    }
   ],
   "source": [
    "df.boxplot (by='cluster', figsize=(10,7))\n",
    "\n",
    "plt.show()"
   ]
  },
  {
   "cell_type": "markdown",
   "metadata": {},
   "source": [
    "### **2.4.3 Scatterplot**"
   ]
  },
  {
   "cell_type": "code",
   "execution_count": 34,
   "metadata": {},
   "outputs": [
    {
     "data": {
      "image/png": "[encoded data removed]",
      "text/plain": [
       "<Figure size 432x288 with 1 Axes>"
      ]
     },
     "metadata": {
      "needs_background": "light"
     },
     "output_type": "display_data"
    }
   ],
   "source": [
    "sns.scatterplot ( x= df[0] ,  y = df[1]  ,  hue = 'cluster' , data=df )  \n",
    "\n",
    "plt.scatter ( x = KM.cluster_centers_[:, 0] , y = KM.cluster_centers_[:, 1] , s=150 , c='red' , marker='*' )\n",
    "\n",
    "plt.show()"
   ]
  },
  {
   "cell_type": "markdown",
   "metadata": {},
   "source": [
    "<a id='section_7'></a>\n",
    "# **3 - Inference from Clusters**"
   ]
  },
  {
   "cell_type": "markdown",
   "metadata": {},
   "source": [
    "| Label | Signifies |\n",
    "| ---    | ---    |\n",
    "| 0  | Low RFM customers |         \n",
    "| 1 |  High RFM customers |"
   ]
  }
 ],
 "metadata": {
  "colab": {
   "collapsed_sections": [
    "tvr09aomQecv"
   ],
   "name": "Customer Segmentation - Online retail.ipynb",
   "provenance": []
  },
  "kernelspec": {
   "display_name": "Python 3",
   "language": "python",
   "name": "python3"
  },
  "language_info": {
   "codemirror_mode": {
    "name": "ipython",
    "version": 3
   },
   "file_extension": ".py",
   "mimetype": "text/x-python",
   "name": "python",
   "nbconvert_exporter": "python",
   "pygments_lexer": "ipython3",
   "version": "3.7.4"
  }
 },
 "nbformat": 4,
 "nbformat_minor": 4
}
