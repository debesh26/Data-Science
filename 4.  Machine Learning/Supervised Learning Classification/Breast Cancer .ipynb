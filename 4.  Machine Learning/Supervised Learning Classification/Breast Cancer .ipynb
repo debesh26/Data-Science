{
 "cells": [
  {
   "cell_type": "markdown",
   "metadata": {},
   "source": [
    "# **Table of Contents**\n",
    "* [Exploration & Wrangling](#section_a)\n",
    "    <br><br>\n",
    "* [Model Building](#section_b)\n",
    "    * [LOR](#section_21)\n",
    "    * [KNN](#section_2)\n",
    "    * [NB](#section_3)\n",
    "    * [DT](#section_4)\n",
    "    * [RF](#section_5)\n",
    "    * [Bagging](#section_6)\n",
    "    * [Boosting](#section_7)\n",
    "    <br><br>\n",
    "* [Model Selection](#section_c)\n",
    "    * [Scores](#section_8)\n",
    "    * [Rank](#section_9)\n",
    "    * [Best Model](#section_10)"
   ]
  },
  {
   "cell_type": "code",
   "execution_count": 1,
   "metadata": {},
   "outputs": [],
   "source": [
    "import numpy             as np\n",
    "import pandas            as pd\n",
    "import matplotlib.pyplot as plt\n",
    "import seaborn           as sns\n",
    "\n",
    "import scipy.stats       as stats \n",
    "\n",
    "import warnings\n",
    "warnings.filterwarnings(\"ignore\")"
   ]
  },
  {
   "cell_type": "code",
   "execution_count": 2,
   "metadata": {},
   "outputs": [],
   "source": [
    "from  sklearn.linear_model     import   LogisticRegression\n",
    "from  sklearn.naive_bayes      import   GaussianNB\n",
    "from  sklearn.neighbors        import   KNeighborsClassifier\n",
    "from  sklearn.tree             import   DecisionTreeClassifier\n",
    "from  sklearn.ensemble         import   RandomForestClassifier , BaggingClassifier ,  AdaBoostClassifier , GradientBoostingClassifier ,  VotingClassifier\n",
    "\n",
    "\n",
    "from  sklearn.preprocessing     import   StandardScaler\n",
    "from  sklearn.model_selection   import   train_test_split , KFold , cross_val_score , GridSearchCV \n",
    "\n",
    "from  sklearn  import  metrics"
   ]
  },
  {
   "cell_type": "code",
   "execution_count": 3,
   "metadata": {},
   "outputs": [
    {
     "data": {
      "text/html": [
       "<div>\n",
       "<style scoped>\n",
       "    .dataframe tbody tr th:only-of-type {\n",
       "        vertical-align: middle;\n",
       "    }\n",
       "\n",
       "    .dataframe tbody tr th {\n",
       "        vertical-align: top;\n",
       "    }\n",
       "\n",
       "    .dataframe thead th {\n",
       "        text-align: right;\n",
       "    }\n",
       "</style>\n",
       "<table border=\"1\" class=\"dataframe\">\n",
       "  <thead>\n",
       "    <tr style=\"text-align: right;\">\n",
       "      <th></th>\n",
       "      <th>id</th>\n",
       "      <th>diagnosis</th>\n",
       "      <th>radius_mean</th>\n",
       "      <th>texture_mean</th>\n",
       "      <th>perimeter_mean</th>\n",
       "      <th>area_mean</th>\n",
       "      <th>smoothness_mean</th>\n",
       "      <th>compactness_mean</th>\n",
       "      <th>concavity_mean</th>\n",
       "      <th>points_mean</th>\n",
       "      <th>...</th>\n",
       "      <th>radius_worst</th>\n",
       "      <th>texture_worst</th>\n",
       "      <th>perimeter_worst</th>\n",
       "      <th>area_worst</th>\n",
       "      <th>smoothness_worst</th>\n",
       "      <th>compactness_worst</th>\n",
       "      <th>concavity_worst</th>\n",
       "      <th>points_worst</th>\n",
       "      <th>symmetry_worst</th>\n",
       "      <th>dimension_worst</th>\n",
       "    </tr>\n",
       "  </thead>\n",
       "  <tbody>\n",
       "    <tr>\n",
       "      <th>122</th>\n",
       "      <td>893061</td>\n",
       "      <td>B</td>\n",
       "      <td>11.60</td>\n",
       "      <td>24.49</td>\n",
       "      <td>74.23</td>\n",
       "      <td>417.2</td>\n",
       "      <td>0.07474</td>\n",
       "      <td>0.05688</td>\n",
       "      <td>0.01974</td>\n",
       "      <td>0.01313</td>\n",
       "      <td>...</td>\n",
       "      <td>12.44</td>\n",
       "      <td>31.62</td>\n",
       "      <td>81.39</td>\n",
       "      <td>476.5</td>\n",
       "      <td>0.09545</td>\n",
       "      <td>0.1361</td>\n",
       "      <td>0.07239</td>\n",
       "      <td>0.04815</td>\n",
       "      <td>0.3244</td>\n",
       "      <td>0.06745</td>\n",
       "    </tr>\n",
       "    <tr>\n",
       "      <th>274</th>\n",
       "      <td>877486</td>\n",
       "      <td>M</td>\n",
       "      <td>19.18</td>\n",
       "      <td>22.49</td>\n",
       "      <td>127.50</td>\n",
       "      <td>1148.0</td>\n",
       "      <td>0.08523</td>\n",
       "      <td>0.14280</td>\n",
       "      <td>0.11140</td>\n",
       "      <td>0.06772</td>\n",
       "      <td>...</td>\n",
       "      <td>23.36</td>\n",
       "      <td>32.06</td>\n",
       "      <td>166.40</td>\n",
       "      <td>1688.0</td>\n",
       "      <td>0.13220</td>\n",
       "      <td>0.5601</td>\n",
       "      <td>0.38650</td>\n",
       "      <td>0.17080</td>\n",
       "      <td>0.3193</td>\n",
       "      <td>0.09221</td>\n",
       "    </tr>\n",
       "    <tr>\n",
       "      <th>263</th>\n",
       "      <td>91227</td>\n",
       "      <td>B</td>\n",
       "      <td>13.90</td>\n",
       "      <td>19.24</td>\n",
       "      <td>88.73</td>\n",
       "      <td>602.9</td>\n",
       "      <td>0.07991</td>\n",
       "      <td>0.05326</td>\n",
       "      <td>0.02995</td>\n",
       "      <td>0.02070</td>\n",
       "      <td>...</td>\n",
       "      <td>16.41</td>\n",
       "      <td>26.42</td>\n",
       "      <td>104.40</td>\n",
       "      <td>830.5</td>\n",
       "      <td>0.10640</td>\n",
       "      <td>0.1415</td>\n",
       "      <td>0.16730</td>\n",
       "      <td>0.08150</td>\n",
       "      <td>0.2356</td>\n",
       "      <td>0.07603</td>\n",
       "    </tr>\n",
       "  </tbody>\n",
       "</table>\n",
       "<p>3 rows × 32 columns</p>\n",
       "</div>"
      ],
      "text/plain": [
       "         id diagnosis  radius_mean  texture_mean  perimeter_mean  area_mean  \\\n",
       "122  893061         B        11.60         24.49           74.23      417.2   \n",
       "274  877486         M        19.18         22.49          127.50     1148.0   \n",
       "263   91227         B        13.90         19.24           88.73      602.9   \n",
       "\n",
       "     smoothness_mean  compactness_mean  concavity_mean  points_mean  ...  \\\n",
       "122          0.07474           0.05688         0.01974      0.01313  ...   \n",
       "274          0.08523           0.14280         0.11140      0.06772  ...   \n",
       "263          0.07991           0.05326         0.02995      0.02070  ...   \n",
       "\n",
       "     radius_worst  texture_worst  perimeter_worst  area_worst  \\\n",
       "122         12.44          31.62            81.39       476.5   \n",
       "274         23.36          32.06           166.40      1688.0   \n",
       "263         16.41          26.42           104.40       830.5   \n",
       "\n",
       "     smoothness_worst  compactness_worst  concavity_worst  points_worst  \\\n",
       "122           0.09545             0.1361          0.07239       0.04815   \n",
       "274           0.13220             0.5601          0.38650       0.17080   \n",
       "263           0.10640             0.1415          0.16730       0.08150   \n",
       "\n",
       "     symmetry_worst  dimension_worst  \n",
       "122          0.3244          0.06745  \n",
       "274          0.3193          0.09221  \n",
       "263          0.2356          0.07603  \n",
       "\n",
       "[3 rows x 32 columns]"
      ]
     },
     "execution_count": 3,
     "metadata": {},
     "output_type": "execute_result"
    }
   ],
   "source": [
    "df = pd.read_csv ('datasets/Breast Cancer.csv')\n",
    "\n",
    "df.sample(3)"
   ]
  },
  {
   "cell_type": "markdown",
   "metadata": {},
   "source": [
    "**Target Col - Diagnosis**"
   ]
  },
  {
   "cell_type": "markdown",
   "metadata": {},
   "source": [
    "<a id='section_a'></a>\n",
    "# **Part I - Exploration & Wrangling**"
   ]
  },
  {
   "cell_type": "code",
   "execution_count": 4,
   "metadata": {},
   "outputs": [
    {
     "data": {
      "text/plain": [
       "(569, 32)"
      ]
     },
     "execution_count": 4,
     "metadata": {},
     "output_type": "execute_result"
    }
   ],
   "source": [
    "df.shape"
   ]
  },
  {
   "cell_type": "code",
   "execution_count": 5,
   "metadata": {},
   "outputs": [
    {
     "name": "stdout",
     "output_type": "stream",
     "text": [
      "<class 'pandas.core.frame.DataFrame'>\n",
      "RangeIndex: 569 entries, 0 to 568\n",
      "Data columns (total 32 columns):\n",
      " #   Column             Non-Null Count  Dtype  \n",
      "---  ------             --------------  -----  \n",
      " 0   id                 569 non-null    int64  \n",
      " 1   diagnosis          569 non-null    object \n",
      " 2   radius_mean        569 non-null    float64\n",
      " 3   texture_mean       569 non-null    float64\n",
      " 4   perimeter_mean     569 non-null    float64\n",
      " 5   area_mean          569 non-null    float64\n",
      " 6   smoothness_mean    569 non-null    float64\n",
      " 7   compactness_mean   569 non-null    float64\n",
      " 8   concavity_mean     569 non-null    float64\n",
      " 9   points_mean        569 non-null    float64\n",
      " 10  symmetry_mean      569 non-null    float64\n",
      " 11  dimension_mean     569 non-null    float64\n",
      " 12  radius_se          569 non-null    float64\n",
      " 13  texture_se         569 non-null    float64\n",
      " 14  perimeter_se       569 non-null    float64\n",
      " 15  area_se            569 non-null    float64\n",
      " 16  smoothness_se      569 non-null    float64\n",
      " 17  compactness_se     569 non-null    float64\n",
      " 18  concavity_se       569 non-null    float64\n",
      " 19  points_se          569 non-null    float64\n",
      " 20  symmetry_se        569 non-null    float64\n",
      " 21  dimension_se       569 non-null    float64\n",
      " 22  radius_worst       569 non-null    float64\n",
      " 23  texture_worst      569 non-null    float64\n",
      " 24  perimeter_worst    569 non-null    float64\n",
      " 25  area_worst         569 non-null    float64\n",
      " 26  smoothness_worst   569 non-null    float64\n",
      " 27  compactness_worst  569 non-null    float64\n",
      " 28  concavity_worst    569 non-null    float64\n",
      " 29  points_worst       569 non-null    float64\n",
      " 30  symmetry_worst     569 non-null    float64\n",
      " 31  dimension_worst    569 non-null    float64\n",
      "dtypes: float64(30), int64(1), object(1)\n",
      "memory usage: 142.4+ KB\n"
     ]
    }
   ],
   "source": [
    "df.info()"
   ]
  },
  {
   "cell_type": "code",
   "execution_count": 6,
   "metadata": {
    "colab": {
     "base_uri": "https://localhost:8080/",
     "height": 223
    },
    "colab_type": "code",
    "executionInfo": {
     "elapsed": 1539,
     "status": "ok",
     "timestamp": 1600066181359,
     "user": {
      "displayName": "Mahesh Anand",
      "photoUrl": "https://lh3.googleusercontent.com/a-/AOh14GiAxRvO4nLPhI4SJLaIoUVmhr8lm1tddyCLyKOj=s64",
      "userId": "06788086636039591358"
     },
     "user_tz": -330
    },
    "id": "hNtgB6gc_xrF",
    "outputId": "6e0c6262-e08b-4bd1-ea0e-d323e06c0e70"
   },
   "outputs": [],
   "source": [
    "df.drop('id', axis=1 , inplace=True)"
   ]
  },
  {
   "cell_type": "code",
   "execution_count": 7,
   "metadata": {
    "colab": {
     "base_uri": "https://localhost:8080/",
     "height": 68
    },
    "colab_type": "code",
    "executionInfo": {
     "elapsed": 1133,
     "status": "ok",
     "timestamp": 1600065387082,
     "user": {
      "displayName": "Mahesh Anand",
      "photoUrl": "https://lh3.googleusercontent.com/a-/AOh14GiAxRvO4nLPhI4SJLaIoUVmhr8lm1tddyCLyKOj=s64",
      "userId": "06788086636039591358"
     },
     "user_tz": -330
    },
    "id": "4YFaqHKUAWKm",
    "outputId": "861f89eb-c84c-434c-c33e-4f8f38749939"
   },
   "outputs": [
    {
     "data": {
      "text/plain": [
       "B    357\n",
       "M    212\n",
       "Name: diagnosis, dtype: int64"
      ]
     },
     "execution_count": 7,
     "metadata": {},
     "output_type": "execute_result"
    }
   ],
   "source": [
    "df['diagnosis'].value_counts()"
   ]
  },
  {
   "cell_type": "code",
   "execution_count": 8,
   "metadata": {
    "colab": {},
    "colab_type": "code",
    "executionInfo": {
     "elapsed": 901,
     "status": "ok",
     "timestamp": 1600066185946,
     "user": {
      "displayName": "Mahesh Anand",
      "photoUrl": "https://lh3.googleusercontent.com/a-/AOh14GiAxRvO4nLPhI4SJLaIoUVmhr8lm1tddyCLyKOj=s64",
      "userId": "06788086636039591358"
     },
     "user_tz": -330
    },
    "id": "OJvuO89sAJd8"
   },
   "outputs": [],
   "source": [
    "df['diagnosis']  =  df['diagnosis'] .replace ({'B':0 , 'M':1})"
   ]
  },
  {
   "cell_type": "code",
   "execution_count": 9,
   "metadata": {},
   "outputs": [
    {
     "data": {
      "text/html": [
       "<div>\n",
       "<style scoped>\n",
       "    .dataframe tbody tr th:only-of-type {\n",
       "        vertical-align: middle;\n",
       "    }\n",
       "\n",
       "    .dataframe tbody tr th {\n",
       "        vertical-align: top;\n",
       "    }\n",
       "\n",
       "    .dataframe thead th {\n",
       "        text-align: right;\n",
       "    }\n",
       "</style>\n",
       "<table border=\"1\" class=\"dataframe\">\n",
       "  <thead>\n",
       "    <tr style=\"text-align: right;\">\n",
       "      <th></th>\n",
       "      <th>diagnosis</th>\n",
       "      <th>radius_mean</th>\n",
       "      <th>texture_mean</th>\n",
       "      <th>perimeter_mean</th>\n",
       "      <th>area_mean</th>\n",
       "      <th>smoothness_mean</th>\n",
       "      <th>compactness_mean</th>\n",
       "      <th>concavity_mean</th>\n",
       "      <th>points_mean</th>\n",
       "      <th>symmetry_mean</th>\n",
       "      <th>...</th>\n",
       "      <th>radius_worst</th>\n",
       "      <th>texture_worst</th>\n",
       "      <th>perimeter_worst</th>\n",
       "      <th>area_worst</th>\n",
       "      <th>smoothness_worst</th>\n",
       "      <th>compactness_worst</th>\n",
       "      <th>concavity_worst</th>\n",
       "      <th>points_worst</th>\n",
       "      <th>symmetry_worst</th>\n",
       "      <th>dimension_worst</th>\n",
       "    </tr>\n",
       "  </thead>\n",
       "  <tbody>\n",
       "    <tr>\n",
       "      <th>diagnosis</th>\n",
       "      <td>1.000000</td>\n",
       "      <td>0.730029</td>\n",
       "      <td>0.415185</td>\n",
       "      <td>0.742636</td>\n",
       "      <td>0.708984</td>\n",
       "      <td>0.358560</td>\n",
       "      <td>0.596534</td>\n",
       "      <td>0.696360</td>\n",
       "      <td>0.776614</td>\n",
       "      <td>0.330499</td>\n",
       "      <td>...</td>\n",
       "      <td>0.776454</td>\n",
       "      <td>0.456903</td>\n",
       "      <td>0.782914</td>\n",
       "      <td>0.733825</td>\n",
       "      <td>0.421465</td>\n",
       "      <td>0.590998</td>\n",
       "      <td>0.659610</td>\n",
       "      <td>0.793566</td>\n",
       "      <td>0.416294</td>\n",
       "      <td>0.323872</td>\n",
       "    </tr>\n",
       "    <tr>\n",
       "      <th>radius_mean</th>\n",
       "      <td>0.730029</td>\n",
       "      <td>1.000000</td>\n",
       "      <td>0.323782</td>\n",
       "      <td>0.997855</td>\n",
       "      <td>0.987357</td>\n",
       "      <td>0.170581</td>\n",
       "      <td>0.506124</td>\n",
       "      <td>0.676764</td>\n",
       "      <td>0.822529</td>\n",
       "      <td>0.147741</td>\n",
       "      <td>...</td>\n",
       "      <td>0.969539</td>\n",
       "      <td>0.297008</td>\n",
       "      <td>0.965137</td>\n",
       "      <td>0.941082</td>\n",
       "      <td>0.119616</td>\n",
       "      <td>0.413463</td>\n",
       "      <td>0.526911</td>\n",
       "      <td>0.744214</td>\n",
       "      <td>0.163953</td>\n",
       "      <td>0.007066</td>\n",
       "    </tr>\n",
       "    <tr>\n",
       "      <th>texture_mean</th>\n",
       "      <td>0.415185</td>\n",
       "      <td>0.323782</td>\n",
       "      <td>1.000000</td>\n",
       "      <td>0.329533</td>\n",
       "      <td>0.321086</td>\n",
       "      <td>-0.023389</td>\n",
       "      <td>0.236702</td>\n",
       "      <td>0.302418</td>\n",
       "      <td>0.293464</td>\n",
       "      <td>0.071401</td>\n",
       "      <td>...</td>\n",
       "      <td>0.352573</td>\n",
       "      <td>0.912045</td>\n",
       "      <td>0.358040</td>\n",
       "      <td>0.343546</td>\n",
       "      <td>0.077503</td>\n",
       "      <td>0.277830</td>\n",
       "      <td>0.301025</td>\n",
       "      <td>0.295316</td>\n",
       "      <td>0.105008</td>\n",
       "      <td>0.119205</td>\n",
       "    </tr>\n",
       "    <tr>\n",
       "      <th>perimeter_mean</th>\n",
       "      <td>0.742636</td>\n",
       "      <td>0.997855</td>\n",
       "      <td>0.329533</td>\n",
       "      <td>1.000000</td>\n",
       "      <td>0.986507</td>\n",
       "      <td>0.207278</td>\n",
       "      <td>0.556936</td>\n",
       "      <td>0.716136</td>\n",
       "      <td>0.850977</td>\n",
       "      <td>0.183027</td>\n",
       "      <td>...</td>\n",
       "      <td>0.969476</td>\n",
       "      <td>0.303038</td>\n",
       "      <td>0.970387</td>\n",
       "      <td>0.941550</td>\n",
       "      <td>0.150549</td>\n",
       "      <td>0.455774</td>\n",
       "      <td>0.563879</td>\n",
       "      <td>0.771241</td>\n",
       "      <td>0.189115</td>\n",
       "      <td>0.051019</td>\n",
       "    </tr>\n",
       "    <tr>\n",
       "      <th>area_mean</th>\n",
       "      <td>0.708984</td>\n",
       "      <td>0.987357</td>\n",
       "      <td>0.321086</td>\n",
       "      <td>0.986507</td>\n",
       "      <td>1.000000</td>\n",
       "      <td>0.177028</td>\n",
       "      <td>0.498502</td>\n",
       "      <td>0.685983</td>\n",
       "      <td>0.823269</td>\n",
       "      <td>0.151293</td>\n",
       "      <td>...</td>\n",
       "      <td>0.962746</td>\n",
       "      <td>0.287489</td>\n",
       "      <td>0.959120</td>\n",
       "      <td>0.959213</td>\n",
       "      <td>0.123523</td>\n",
       "      <td>0.390410</td>\n",
       "      <td>0.512606</td>\n",
       "      <td>0.722017</td>\n",
       "      <td>0.143570</td>\n",
       "      <td>0.003738</td>\n",
       "    </tr>\n",
       "    <tr>\n",
       "      <th>smoothness_mean</th>\n",
       "      <td>0.358560</td>\n",
       "      <td>0.170581</td>\n",
       "      <td>-0.023389</td>\n",
       "      <td>0.207278</td>\n",
       "      <td>0.177028</td>\n",
       "      <td>1.000000</td>\n",
       "      <td>0.659123</td>\n",
       "      <td>0.521984</td>\n",
       "      <td>0.553695</td>\n",
       "      <td>0.557775</td>\n",
       "      <td>...</td>\n",
       "      <td>0.213120</td>\n",
       "      <td>0.036072</td>\n",
       "      <td>0.238853</td>\n",
       "      <td>0.206718</td>\n",
       "      <td>0.805324</td>\n",
       "      <td>0.472468</td>\n",
       "      <td>0.434926</td>\n",
       "      <td>0.503053</td>\n",
       "      <td>0.394309</td>\n",
       "      <td>0.499316</td>\n",
       "    </tr>\n",
       "    <tr>\n",
       "      <th>compactness_mean</th>\n",
       "      <td>0.596534</td>\n",
       "      <td>0.506124</td>\n",
       "      <td>0.236702</td>\n",
       "      <td>0.556936</td>\n",
       "      <td>0.498502</td>\n",
       "      <td>0.659123</td>\n",
       "      <td>1.000000</td>\n",
       "      <td>0.883121</td>\n",
       "      <td>0.831135</td>\n",
       "      <td>0.602641</td>\n",
       "      <td>...</td>\n",
       "      <td>0.535315</td>\n",
       "      <td>0.248133</td>\n",
       "      <td>0.590210</td>\n",
       "      <td>0.509604</td>\n",
       "      <td>0.565541</td>\n",
       "      <td>0.865809</td>\n",
       "      <td>0.816275</td>\n",
       "      <td>0.815573</td>\n",
       "      <td>0.510223</td>\n",
       "      <td>0.687382</td>\n",
       "    </tr>\n",
       "    <tr>\n",
       "      <th>concavity_mean</th>\n",
       "      <td>0.696360</td>\n",
       "      <td>0.676764</td>\n",
       "      <td>0.302418</td>\n",
       "      <td>0.716136</td>\n",
       "      <td>0.685983</td>\n",
       "      <td>0.521984</td>\n",
       "      <td>0.883121</td>\n",
       "      <td>1.000000</td>\n",
       "      <td>0.921391</td>\n",
       "      <td>0.500667</td>\n",
       "      <td>...</td>\n",
       "      <td>0.688236</td>\n",
       "      <td>0.299879</td>\n",
       "      <td>0.729565</td>\n",
       "      <td>0.675987</td>\n",
       "      <td>0.448822</td>\n",
       "      <td>0.754968</td>\n",
       "      <td>0.884103</td>\n",
       "      <td>0.861323</td>\n",
       "      <td>0.409464</td>\n",
       "      <td>0.514930</td>\n",
       "    </tr>\n",
       "    <tr>\n",
       "      <th>points_mean</th>\n",
       "      <td>0.776614</td>\n",
       "      <td>0.822529</td>\n",
       "      <td>0.293464</td>\n",
       "      <td>0.850977</td>\n",
       "      <td>0.823269</td>\n",
       "      <td>0.553695</td>\n",
       "      <td>0.831135</td>\n",
       "      <td>0.921391</td>\n",
       "      <td>1.000000</td>\n",
       "      <td>0.462497</td>\n",
       "      <td>...</td>\n",
       "      <td>0.830318</td>\n",
       "      <td>0.292752</td>\n",
       "      <td>0.855923</td>\n",
       "      <td>0.809630</td>\n",
       "      <td>0.452753</td>\n",
       "      <td>0.667454</td>\n",
       "      <td>0.752399</td>\n",
       "      <td>0.910155</td>\n",
       "      <td>0.375744</td>\n",
       "      <td>0.368661</td>\n",
       "    </tr>\n",
       "    <tr>\n",
       "      <th>symmetry_mean</th>\n",
       "      <td>0.330499</td>\n",
       "      <td>0.147741</td>\n",
       "      <td>0.071401</td>\n",
       "      <td>0.183027</td>\n",
       "      <td>0.151293</td>\n",
       "      <td>0.557775</td>\n",
       "      <td>0.602641</td>\n",
       "      <td>0.500667</td>\n",
       "      <td>0.462497</td>\n",
       "      <td>1.000000</td>\n",
       "      <td>...</td>\n",
       "      <td>0.185728</td>\n",
       "      <td>0.090651</td>\n",
       "      <td>0.219169</td>\n",
       "      <td>0.177193</td>\n",
       "      <td>0.426675</td>\n",
       "      <td>0.473200</td>\n",
       "      <td>0.433721</td>\n",
       "      <td>0.430297</td>\n",
       "      <td>0.699826</td>\n",
       "      <td>0.438413</td>\n",
       "    </tr>\n",
       "    <tr>\n",
       "      <th>dimension_mean</th>\n",
       "      <td>-0.012838</td>\n",
       "      <td>-0.311631</td>\n",
       "      <td>-0.076437</td>\n",
       "      <td>-0.261477</td>\n",
       "      <td>-0.283110</td>\n",
       "      <td>0.584792</td>\n",
       "      <td>0.565369</td>\n",
       "      <td>0.336783</td>\n",
       "      <td>0.166917</td>\n",
       "      <td>0.479921</td>\n",
       "      <td>...</td>\n",
       "      <td>-0.253691</td>\n",
       "      <td>-0.051269</td>\n",
       "      <td>-0.205151</td>\n",
       "      <td>-0.231854</td>\n",
       "      <td>0.504942</td>\n",
       "      <td>0.458798</td>\n",
       "      <td>0.346234</td>\n",
       "      <td>0.175325</td>\n",
       "      <td>0.334019</td>\n",
       "      <td>0.767297</td>\n",
       "    </tr>\n",
       "    <tr>\n",
       "      <th>radius_se</th>\n",
       "      <td>0.567134</td>\n",
       "      <td>0.679090</td>\n",
       "      <td>0.275869</td>\n",
       "      <td>0.691765</td>\n",
       "      <td>0.732562</td>\n",
       "      <td>0.301467</td>\n",
       "      <td>0.497473</td>\n",
       "      <td>0.631925</td>\n",
       "      <td>0.698050</td>\n",
       "      <td>0.303379</td>\n",
       "      <td>...</td>\n",
       "      <td>0.715065</td>\n",
       "      <td>0.194799</td>\n",
       "      <td>0.719684</td>\n",
       "      <td>0.751548</td>\n",
       "      <td>0.141919</td>\n",
       "      <td>0.287103</td>\n",
       "      <td>0.380585</td>\n",
       "      <td>0.531062</td>\n",
       "      <td>0.094543</td>\n",
       "      <td>0.049559</td>\n",
       "    </tr>\n",
       "    <tr>\n",
       "      <th>texture_se</th>\n",
       "      <td>-0.008303</td>\n",
       "      <td>-0.097317</td>\n",
       "      <td>0.386358</td>\n",
       "      <td>-0.086761</td>\n",
       "      <td>-0.066280</td>\n",
       "      <td>0.068406</td>\n",
       "      <td>0.046205</td>\n",
       "      <td>0.076218</td>\n",
       "      <td>0.021480</td>\n",
       "      <td>0.128053</td>\n",
       "      <td>...</td>\n",
       "      <td>-0.111690</td>\n",
       "      <td>0.409003</td>\n",
       "      <td>-0.102242</td>\n",
       "      <td>-0.083195</td>\n",
       "      <td>-0.073658</td>\n",
       "      <td>-0.092439</td>\n",
       "      <td>-0.068956</td>\n",
       "      <td>-0.119638</td>\n",
       "      <td>-0.128215</td>\n",
       "      <td>-0.045655</td>\n",
       "    </tr>\n",
       "    <tr>\n",
       "      <th>perimeter_se</th>\n",
       "      <td>0.556141</td>\n",
       "      <td>0.674172</td>\n",
       "      <td>0.281673</td>\n",
       "      <td>0.693135</td>\n",
       "      <td>0.726628</td>\n",
       "      <td>0.296092</td>\n",
       "      <td>0.548905</td>\n",
       "      <td>0.660391</td>\n",
       "      <td>0.710650</td>\n",
       "      <td>0.313893</td>\n",
       "      <td>...</td>\n",
       "      <td>0.697201</td>\n",
       "      <td>0.200371</td>\n",
       "      <td>0.721031</td>\n",
       "      <td>0.730713</td>\n",
       "      <td>0.130054</td>\n",
       "      <td>0.341919</td>\n",
       "      <td>0.418899</td>\n",
       "      <td>0.554897</td>\n",
       "      <td>0.109930</td>\n",
       "      <td>0.085433</td>\n",
       "    </tr>\n",
       "    <tr>\n",
       "      <th>area_se</th>\n",
       "      <td>0.548236</td>\n",
       "      <td>0.735864</td>\n",
       "      <td>0.259845</td>\n",
       "      <td>0.744983</td>\n",
       "      <td>0.800086</td>\n",
       "      <td>0.246552</td>\n",
       "      <td>0.455653</td>\n",
       "      <td>0.617427</td>\n",
       "      <td>0.690299</td>\n",
       "      <td>0.223970</td>\n",
       "      <td>...</td>\n",
       "      <td>0.757373</td>\n",
       "      <td>0.196497</td>\n",
       "      <td>0.761213</td>\n",
       "      <td>0.811408</td>\n",
       "      <td>0.125389</td>\n",
       "      <td>0.283257</td>\n",
       "      <td>0.385100</td>\n",
       "      <td>0.538166</td>\n",
       "      <td>0.074126</td>\n",
       "      <td>0.017539</td>\n",
       "    </tr>\n",
       "    <tr>\n",
       "      <th>smoothness_se</th>\n",
       "      <td>-0.067016</td>\n",
       "      <td>-0.222600</td>\n",
       "      <td>0.006614</td>\n",
       "      <td>-0.202694</td>\n",
       "      <td>-0.166777</td>\n",
       "      <td>0.332375</td>\n",
       "      <td>0.135299</td>\n",
       "      <td>0.098564</td>\n",
       "      <td>0.027653</td>\n",
       "      <td>0.187321</td>\n",
       "      <td>...</td>\n",
       "      <td>-0.230691</td>\n",
       "      <td>-0.074743</td>\n",
       "      <td>-0.217304</td>\n",
       "      <td>-0.182195</td>\n",
       "      <td>0.314457</td>\n",
       "      <td>-0.055558</td>\n",
       "      <td>-0.058298</td>\n",
       "      <td>-0.102007</td>\n",
       "      <td>-0.107342</td>\n",
       "      <td>0.101480</td>\n",
       "    </tr>\n",
       "    <tr>\n",
       "      <th>compactness_se</th>\n",
       "      <td>0.292999</td>\n",
       "      <td>0.206000</td>\n",
       "      <td>0.191975</td>\n",
       "      <td>0.250744</td>\n",
       "      <td>0.212583</td>\n",
       "      <td>0.318943</td>\n",
       "      <td>0.738722</td>\n",
       "      <td>0.670279</td>\n",
       "      <td>0.490424</td>\n",
       "      <td>0.421659</td>\n",
       "      <td>...</td>\n",
       "      <td>0.204607</td>\n",
       "      <td>0.143003</td>\n",
       "      <td>0.260516</td>\n",
       "      <td>0.199371</td>\n",
       "      <td>0.227394</td>\n",
       "      <td>0.678780</td>\n",
       "      <td>0.639147</td>\n",
       "      <td>0.483208</td>\n",
       "      <td>0.277878</td>\n",
       "      <td>0.590973</td>\n",
       "    </tr>\n",
       "    <tr>\n",
       "      <th>concavity_se</th>\n",
       "      <td>0.253730</td>\n",
       "      <td>0.194204</td>\n",
       "      <td>0.143293</td>\n",
       "      <td>0.228082</td>\n",
       "      <td>0.207660</td>\n",
       "      <td>0.248396</td>\n",
       "      <td>0.570517</td>\n",
       "      <td>0.691270</td>\n",
       "      <td>0.439167</td>\n",
       "      <td>0.342627</td>\n",
       "      <td>...</td>\n",
       "      <td>0.186904</td>\n",
       "      <td>0.100241</td>\n",
       "      <td>0.226680</td>\n",
       "      <td>0.188353</td>\n",
       "      <td>0.168481</td>\n",
       "      <td>0.484858</td>\n",
       "      <td>0.662564</td>\n",
       "      <td>0.440472</td>\n",
       "      <td>0.197788</td>\n",
       "      <td>0.439329</td>\n",
       "    </tr>\n",
       "    <tr>\n",
       "      <th>points_se</th>\n",
       "      <td>0.408042</td>\n",
       "      <td>0.376169</td>\n",
       "      <td>0.163851</td>\n",
       "      <td>0.407217</td>\n",
       "      <td>0.372320</td>\n",
       "      <td>0.380676</td>\n",
       "      <td>0.642262</td>\n",
       "      <td>0.683260</td>\n",
       "      <td>0.615634</td>\n",
       "      <td>0.393298</td>\n",
       "      <td>...</td>\n",
       "      <td>0.358127</td>\n",
       "      <td>0.086741</td>\n",
       "      <td>0.394999</td>\n",
       "      <td>0.342271</td>\n",
       "      <td>0.215351</td>\n",
       "      <td>0.452888</td>\n",
       "      <td>0.549592</td>\n",
       "      <td>0.602450</td>\n",
       "      <td>0.143116</td>\n",
       "      <td>0.310655</td>\n",
       "    </tr>\n",
       "    <tr>\n",
       "      <th>symmetry_se</th>\n",
       "      <td>-0.006522</td>\n",
       "      <td>-0.104321</td>\n",
       "      <td>0.009127</td>\n",
       "      <td>-0.081629</td>\n",
       "      <td>-0.072497</td>\n",
       "      <td>0.200774</td>\n",
       "      <td>0.229977</td>\n",
       "      <td>0.178009</td>\n",
       "      <td>0.095351</td>\n",
       "      <td>0.449137</td>\n",
       "      <td>...</td>\n",
       "      <td>-0.128121</td>\n",
       "      <td>-0.077473</td>\n",
       "      <td>-0.103753</td>\n",
       "      <td>-0.110343</td>\n",
       "      <td>-0.012662</td>\n",
       "      <td>0.060255</td>\n",
       "      <td>0.037119</td>\n",
       "      <td>-0.030413</td>\n",
       "      <td>0.389402</td>\n",
       "      <td>0.078079</td>\n",
       "    </tr>\n",
       "    <tr>\n",
       "      <th>dimension_se</th>\n",
       "      <td>0.077972</td>\n",
       "      <td>-0.042641</td>\n",
       "      <td>0.054458</td>\n",
       "      <td>-0.005523</td>\n",
       "      <td>-0.019887</td>\n",
       "      <td>0.283607</td>\n",
       "      <td>0.507318</td>\n",
       "      <td>0.449301</td>\n",
       "      <td>0.257584</td>\n",
       "      <td>0.331786</td>\n",
       "      <td>...</td>\n",
       "      <td>-0.037488</td>\n",
       "      <td>-0.003195</td>\n",
       "      <td>-0.001000</td>\n",
       "      <td>-0.022736</td>\n",
       "      <td>0.170568</td>\n",
       "      <td>0.390159</td>\n",
       "      <td>0.379975</td>\n",
       "      <td>0.215204</td>\n",
       "      <td>0.111094</td>\n",
       "      <td>0.591328</td>\n",
       "    </tr>\n",
       "    <tr>\n",
       "      <th>radius_worst</th>\n",
       "      <td>0.776454</td>\n",
       "      <td>0.969539</td>\n",
       "      <td>0.352573</td>\n",
       "      <td>0.969476</td>\n",
       "      <td>0.962746</td>\n",
       "      <td>0.213120</td>\n",
       "      <td>0.535315</td>\n",
       "      <td>0.688236</td>\n",
       "      <td>0.830318</td>\n",
       "      <td>0.185728</td>\n",
       "      <td>...</td>\n",
       "      <td>1.000000</td>\n",
       "      <td>0.359921</td>\n",
       "      <td>0.993708</td>\n",
       "      <td>0.984015</td>\n",
       "      <td>0.216574</td>\n",
       "      <td>0.475820</td>\n",
       "      <td>0.573975</td>\n",
       "      <td>0.787424</td>\n",
       "      <td>0.243529</td>\n",
       "      <td>0.093492</td>\n",
       "    </tr>\n",
       "    <tr>\n",
       "      <th>texture_worst</th>\n",
       "      <td>0.456903</td>\n",
       "      <td>0.297008</td>\n",
       "      <td>0.912045</td>\n",
       "      <td>0.303038</td>\n",
       "      <td>0.287489</td>\n",
       "      <td>0.036072</td>\n",
       "      <td>0.248133</td>\n",
       "      <td>0.299879</td>\n",
       "      <td>0.292752</td>\n",
       "      <td>0.090651</td>\n",
       "      <td>...</td>\n",
       "      <td>0.359921</td>\n",
       "      <td>1.000000</td>\n",
       "      <td>0.365098</td>\n",
       "      <td>0.345842</td>\n",
       "      <td>0.225429</td>\n",
       "      <td>0.360832</td>\n",
       "      <td>0.368366</td>\n",
       "      <td>0.359755</td>\n",
       "      <td>0.233027</td>\n",
       "      <td>0.219122</td>\n",
       "    </tr>\n",
       "    <tr>\n",
       "      <th>perimeter_worst</th>\n",
       "      <td>0.782914</td>\n",
       "      <td>0.965137</td>\n",
       "      <td>0.358040</td>\n",
       "      <td>0.970387</td>\n",
       "      <td>0.959120</td>\n",
       "      <td>0.238853</td>\n",
       "      <td>0.590210</td>\n",
       "      <td>0.729565</td>\n",
       "      <td>0.855923</td>\n",
       "      <td>0.219169</td>\n",
       "      <td>...</td>\n",
       "      <td>0.993708</td>\n",
       "      <td>0.365098</td>\n",
       "      <td>1.000000</td>\n",
       "      <td>0.977578</td>\n",
       "      <td>0.236775</td>\n",
       "      <td>0.529408</td>\n",
       "      <td>0.618344</td>\n",
       "      <td>0.816322</td>\n",
       "      <td>0.269493</td>\n",
       "      <td>0.138957</td>\n",
       "    </tr>\n",
       "    <tr>\n",
       "      <th>area_worst</th>\n",
       "      <td>0.733825</td>\n",
       "      <td>0.941082</td>\n",
       "      <td>0.343546</td>\n",
       "      <td>0.941550</td>\n",
       "      <td>0.959213</td>\n",
       "      <td>0.206718</td>\n",
       "      <td>0.509604</td>\n",
       "      <td>0.675987</td>\n",
       "      <td>0.809630</td>\n",
       "      <td>0.177193</td>\n",
       "      <td>...</td>\n",
       "      <td>0.984015</td>\n",
       "      <td>0.345842</td>\n",
       "      <td>0.977578</td>\n",
       "      <td>1.000000</td>\n",
       "      <td>0.209145</td>\n",
       "      <td>0.438296</td>\n",
       "      <td>0.543331</td>\n",
       "      <td>0.747419</td>\n",
       "      <td>0.209146</td>\n",
       "      <td>0.079647</td>\n",
       "    </tr>\n",
       "    <tr>\n",
       "      <th>smoothness_worst</th>\n",
       "      <td>0.421465</td>\n",
       "      <td>0.119616</td>\n",
       "      <td>0.077503</td>\n",
       "      <td>0.150549</td>\n",
       "      <td>0.123523</td>\n",
       "      <td>0.805324</td>\n",
       "      <td>0.565541</td>\n",
       "      <td>0.448822</td>\n",
       "      <td>0.452753</td>\n",
       "      <td>0.426675</td>\n",
       "      <td>...</td>\n",
       "      <td>0.216574</td>\n",
       "      <td>0.225429</td>\n",
       "      <td>0.236775</td>\n",
       "      <td>0.209145</td>\n",
       "      <td>1.000000</td>\n",
       "      <td>0.568187</td>\n",
       "      <td>0.518523</td>\n",
       "      <td>0.547691</td>\n",
       "      <td>0.493838</td>\n",
       "      <td>0.617624</td>\n",
       "    </tr>\n",
       "    <tr>\n",
       "      <th>compactness_worst</th>\n",
       "      <td>0.590998</td>\n",
       "      <td>0.413463</td>\n",
       "      <td>0.277830</td>\n",
       "      <td>0.455774</td>\n",
       "      <td>0.390410</td>\n",
       "      <td>0.472468</td>\n",
       "      <td>0.865809</td>\n",
       "      <td>0.754968</td>\n",
       "      <td>0.667454</td>\n",
       "      <td>0.473200</td>\n",
       "      <td>...</td>\n",
       "      <td>0.475820</td>\n",
       "      <td>0.360832</td>\n",
       "      <td>0.529408</td>\n",
       "      <td>0.438296</td>\n",
       "      <td>0.568187</td>\n",
       "      <td>1.000000</td>\n",
       "      <td>0.892261</td>\n",
       "      <td>0.801080</td>\n",
       "      <td>0.614441</td>\n",
       "      <td>0.810455</td>\n",
       "    </tr>\n",
       "    <tr>\n",
       "      <th>concavity_worst</th>\n",
       "      <td>0.659610</td>\n",
       "      <td>0.526911</td>\n",
       "      <td>0.301025</td>\n",
       "      <td>0.563879</td>\n",
       "      <td>0.512606</td>\n",
       "      <td>0.434926</td>\n",
       "      <td>0.816275</td>\n",
       "      <td>0.884103</td>\n",
       "      <td>0.752399</td>\n",
       "      <td>0.433721</td>\n",
       "      <td>...</td>\n",
       "      <td>0.573975</td>\n",
       "      <td>0.368366</td>\n",
       "      <td>0.618344</td>\n",
       "      <td>0.543331</td>\n",
       "      <td>0.518523</td>\n",
       "      <td>0.892261</td>\n",
       "      <td>1.000000</td>\n",
       "      <td>0.855434</td>\n",
       "      <td>0.532520</td>\n",
       "      <td>0.686511</td>\n",
       "    </tr>\n",
       "    <tr>\n",
       "      <th>points_worst</th>\n",
       "      <td>0.793566</td>\n",
       "      <td>0.744214</td>\n",
       "      <td>0.295316</td>\n",
       "      <td>0.771241</td>\n",
       "      <td>0.722017</td>\n",
       "      <td>0.503053</td>\n",
       "      <td>0.815573</td>\n",
       "      <td>0.861323</td>\n",
       "      <td>0.910155</td>\n",
       "      <td>0.430297</td>\n",
       "      <td>...</td>\n",
       "      <td>0.787424</td>\n",
       "      <td>0.359755</td>\n",
       "      <td>0.816322</td>\n",
       "      <td>0.747419</td>\n",
       "      <td>0.547691</td>\n",
       "      <td>0.801080</td>\n",
       "      <td>0.855434</td>\n",
       "      <td>1.000000</td>\n",
       "      <td>0.502528</td>\n",
       "      <td>0.511114</td>\n",
       "    </tr>\n",
       "    <tr>\n",
       "      <th>symmetry_worst</th>\n",
       "      <td>0.416294</td>\n",
       "      <td>0.163953</td>\n",
       "      <td>0.105008</td>\n",
       "      <td>0.189115</td>\n",
       "      <td>0.143570</td>\n",
       "      <td>0.394309</td>\n",
       "      <td>0.510223</td>\n",
       "      <td>0.409464</td>\n",
       "      <td>0.375744</td>\n",
       "      <td>0.699826</td>\n",
       "      <td>...</td>\n",
       "      <td>0.243529</td>\n",
       "      <td>0.233027</td>\n",
       "      <td>0.269493</td>\n",
       "      <td>0.209146</td>\n",
       "      <td>0.493838</td>\n",
       "      <td>0.614441</td>\n",
       "      <td>0.532520</td>\n",
       "      <td>0.502528</td>\n",
       "      <td>1.000000</td>\n",
       "      <td>0.537848</td>\n",
       "    </tr>\n",
       "    <tr>\n",
       "      <th>dimension_worst</th>\n",
       "      <td>0.323872</td>\n",
       "      <td>0.007066</td>\n",
       "      <td>0.119205</td>\n",
       "      <td>0.051019</td>\n",
       "      <td>0.003738</td>\n",
       "      <td>0.499316</td>\n",
       "      <td>0.687382</td>\n",
       "      <td>0.514930</td>\n",
       "      <td>0.368661</td>\n",
       "      <td>0.438413</td>\n",
       "      <td>...</td>\n",
       "      <td>0.093492</td>\n",
       "      <td>0.219122</td>\n",
       "      <td>0.138957</td>\n",
       "      <td>0.079647</td>\n",
       "      <td>0.617624</td>\n",
       "      <td>0.810455</td>\n",
       "      <td>0.686511</td>\n",
       "      <td>0.511114</td>\n",
       "      <td>0.537848</td>\n",
       "      <td>1.000000</td>\n",
       "    </tr>\n",
       "  </tbody>\n",
       "</table>\n",
       "<p>31 rows × 31 columns</p>\n",
       "</div>"
      ],
      "text/plain": [
       "                   diagnosis  radius_mean  texture_mean  perimeter_mean  \\\n",
       "diagnosis           1.000000     0.730029      0.415185        0.742636   \n",
       "radius_mean         0.730029     1.000000      0.323782        0.997855   \n",
       "texture_mean        0.415185     0.323782      1.000000        0.329533   \n",
       "perimeter_mean      0.742636     0.997855      0.329533        1.000000   \n",
       "area_mean           0.708984     0.987357      0.321086        0.986507   \n",
       "smoothness_mean     0.358560     0.170581     -0.023389        0.207278   \n",
       "compactness_mean    0.596534     0.506124      0.236702        0.556936   \n",
       "concavity_mean      0.696360     0.676764      0.302418        0.716136   \n",
       "points_mean         0.776614     0.822529      0.293464        0.850977   \n",
       "symmetry_mean       0.330499     0.147741      0.071401        0.183027   \n",
       "dimension_mean     -0.012838    -0.311631     -0.076437       -0.261477   \n",
       "radius_se           0.567134     0.679090      0.275869        0.691765   \n",
       "texture_se         -0.008303    -0.097317      0.386358       -0.086761   \n",
       "perimeter_se        0.556141     0.674172      0.281673        0.693135   \n",
       "area_se             0.548236     0.735864      0.259845        0.744983   \n",
       "smoothness_se      -0.067016    -0.222600      0.006614       -0.202694   \n",
       "compactness_se      0.292999     0.206000      0.191975        0.250744   \n",
       "concavity_se        0.253730     0.194204      0.143293        0.228082   \n",
       "points_se           0.408042     0.376169      0.163851        0.407217   \n",
       "symmetry_se        -0.006522    -0.104321      0.009127       -0.081629   \n",
       "dimension_se        0.077972    -0.042641      0.054458       -0.005523   \n",
       "radius_worst        0.776454     0.969539      0.352573        0.969476   \n",
       "texture_worst       0.456903     0.297008      0.912045        0.303038   \n",
       "perimeter_worst     0.782914     0.965137      0.358040        0.970387   \n",
       "area_worst          0.733825     0.941082      0.343546        0.941550   \n",
       "smoothness_worst    0.421465     0.119616      0.077503        0.150549   \n",
       "compactness_worst   0.590998     0.413463      0.277830        0.455774   \n",
       "concavity_worst     0.659610     0.526911      0.301025        0.563879   \n",
       "points_worst        0.793566     0.744214      0.295316        0.771241   \n",
       "symmetry_worst      0.416294     0.163953      0.105008        0.189115   \n",
       "dimension_worst     0.323872     0.007066      0.119205        0.051019   \n",
       "\n",
       "                   area_mean  smoothness_mean  compactness_mean  \\\n",
       "diagnosis           0.708984         0.358560          0.596534   \n",
       "radius_mean         0.987357         0.170581          0.506124   \n",
       "texture_mean        0.321086        -0.023389          0.236702   \n",
       "perimeter_mean      0.986507         0.207278          0.556936   \n",
       "area_mean           1.000000         0.177028          0.498502   \n",
       "smoothness_mean     0.177028         1.000000          0.659123   \n",
       "compactness_mean    0.498502         0.659123          1.000000   \n",
       "concavity_mean      0.685983         0.521984          0.883121   \n",
       "points_mean         0.823269         0.553695          0.831135   \n",
       "symmetry_mean       0.151293         0.557775          0.602641   \n",
       "dimension_mean     -0.283110         0.584792          0.565369   \n",
       "radius_se           0.732562         0.301467          0.497473   \n",
       "texture_se         -0.066280         0.068406          0.046205   \n",
       "perimeter_se        0.726628         0.296092          0.548905   \n",
       "area_se             0.800086         0.246552          0.455653   \n",
       "smoothness_se      -0.166777         0.332375          0.135299   \n",
       "compactness_se      0.212583         0.318943          0.738722   \n",
       "concavity_se        0.207660         0.248396          0.570517   \n",
       "points_se           0.372320         0.380676          0.642262   \n",
       "symmetry_se        -0.072497         0.200774          0.229977   \n",
       "dimension_se       -0.019887         0.283607          0.507318   \n",
       "radius_worst        0.962746         0.213120          0.535315   \n",
       "texture_worst       0.287489         0.036072          0.248133   \n",
       "perimeter_worst     0.959120         0.238853          0.590210   \n",
       "area_worst          0.959213         0.206718          0.509604   \n",
       "smoothness_worst    0.123523         0.805324          0.565541   \n",
       "compactness_worst   0.390410         0.472468          0.865809   \n",
       "concavity_worst     0.512606         0.434926          0.816275   \n",
       "points_worst        0.722017         0.503053          0.815573   \n",
       "symmetry_worst      0.143570         0.394309          0.510223   \n",
       "dimension_worst     0.003738         0.499316          0.687382   \n",
       "\n",
       "                   concavity_mean  points_mean  symmetry_mean  ...  \\\n",
       "diagnosis                0.696360     0.776614       0.330499  ...   \n",
       "radius_mean              0.676764     0.822529       0.147741  ...   \n",
       "texture_mean             0.302418     0.293464       0.071401  ...   \n",
       "perimeter_mean           0.716136     0.850977       0.183027  ...   \n",
       "area_mean                0.685983     0.823269       0.151293  ...   \n",
       "smoothness_mean          0.521984     0.553695       0.557775  ...   \n",
       "compactness_mean         0.883121     0.831135       0.602641  ...   \n",
       "concavity_mean           1.000000     0.921391       0.500667  ...   \n",
       "points_mean              0.921391     1.000000       0.462497  ...   \n",
       "symmetry_mean            0.500667     0.462497       1.000000  ...   \n",
       "dimension_mean           0.336783     0.166917       0.479921  ...   \n",
       "radius_se                0.631925     0.698050       0.303379  ...   \n",
       "texture_se               0.076218     0.021480       0.128053  ...   \n",
       "perimeter_se             0.660391     0.710650       0.313893  ...   \n",
       "area_se                  0.617427     0.690299       0.223970  ...   \n",
       "smoothness_se            0.098564     0.027653       0.187321  ...   \n",
       "compactness_se           0.670279     0.490424       0.421659  ...   \n",
       "concavity_se             0.691270     0.439167       0.342627  ...   \n",
       "points_se                0.683260     0.615634       0.393298  ...   \n",
       "symmetry_se              0.178009     0.095351       0.449137  ...   \n",
       "dimension_se             0.449301     0.257584       0.331786  ...   \n",
       "radius_worst             0.688236     0.830318       0.185728  ...   \n",
       "texture_worst            0.299879     0.292752       0.090651  ...   \n",
       "perimeter_worst          0.729565     0.855923       0.219169  ...   \n",
       "area_worst               0.675987     0.809630       0.177193  ...   \n",
       "smoothness_worst         0.448822     0.452753       0.426675  ...   \n",
       "compactness_worst        0.754968     0.667454       0.473200  ...   \n",
       "concavity_worst          0.884103     0.752399       0.433721  ...   \n",
       "points_worst             0.861323     0.910155       0.430297  ...   \n",
       "symmetry_worst           0.409464     0.375744       0.699826  ...   \n",
       "dimension_worst          0.514930     0.368661       0.438413  ...   \n",
       "\n",
       "                   radius_worst  texture_worst  perimeter_worst  area_worst  \\\n",
       "diagnosis              0.776454       0.456903         0.782914    0.733825   \n",
       "radius_mean            0.969539       0.297008         0.965137    0.941082   \n",
       "texture_mean           0.352573       0.912045         0.358040    0.343546   \n",
       "perimeter_mean         0.969476       0.303038         0.970387    0.941550   \n",
       "area_mean              0.962746       0.287489         0.959120    0.959213   \n",
       "smoothness_mean        0.213120       0.036072         0.238853    0.206718   \n",
       "compactness_mean       0.535315       0.248133         0.590210    0.509604   \n",
       "concavity_mean         0.688236       0.299879         0.729565    0.675987   \n",
       "points_mean            0.830318       0.292752         0.855923    0.809630   \n",
       "symmetry_mean          0.185728       0.090651         0.219169    0.177193   \n",
       "dimension_mean        -0.253691      -0.051269        -0.205151   -0.231854   \n",
       "radius_se              0.715065       0.194799         0.719684    0.751548   \n",
       "texture_se            -0.111690       0.409003        -0.102242   -0.083195   \n",
       "perimeter_se           0.697201       0.200371         0.721031    0.730713   \n",
       "area_se                0.757373       0.196497         0.761213    0.811408   \n",
       "smoothness_se         -0.230691      -0.074743        -0.217304   -0.182195   \n",
       "compactness_se         0.204607       0.143003         0.260516    0.199371   \n",
       "concavity_se           0.186904       0.100241         0.226680    0.188353   \n",
       "points_se              0.358127       0.086741         0.394999    0.342271   \n",
       "symmetry_se           -0.128121      -0.077473        -0.103753   -0.110343   \n",
       "dimension_se          -0.037488      -0.003195        -0.001000   -0.022736   \n",
       "radius_worst           1.000000       0.359921         0.993708    0.984015   \n",
       "texture_worst          0.359921       1.000000         0.365098    0.345842   \n",
       "perimeter_worst        0.993708       0.365098         1.000000    0.977578   \n",
       "area_worst             0.984015       0.345842         0.977578    1.000000   \n",
       "smoothness_worst       0.216574       0.225429         0.236775    0.209145   \n",
       "compactness_worst      0.475820       0.360832         0.529408    0.438296   \n",
       "concavity_worst        0.573975       0.368366         0.618344    0.543331   \n",
       "points_worst           0.787424       0.359755         0.816322    0.747419   \n",
       "symmetry_worst         0.243529       0.233027         0.269493    0.209146   \n",
       "dimension_worst        0.093492       0.219122         0.138957    0.079647   \n",
       "\n",
       "                   smoothness_worst  compactness_worst  concavity_worst  \\\n",
       "diagnosis                  0.421465           0.590998         0.659610   \n",
       "radius_mean                0.119616           0.413463         0.526911   \n",
       "texture_mean               0.077503           0.277830         0.301025   \n",
       "perimeter_mean             0.150549           0.455774         0.563879   \n",
       "area_mean                  0.123523           0.390410         0.512606   \n",
       "smoothness_mean            0.805324           0.472468         0.434926   \n",
       "compactness_mean           0.565541           0.865809         0.816275   \n",
       "concavity_mean             0.448822           0.754968         0.884103   \n",
       "points_mean                0.452753           0.667454         0.752399   \n",
       "symmetry_mean              0.426675           0.473200         0.433721   \n",
       "dimension_mean             0.504942           0.458798         0.346234   \n",
       "radius_se                  0.141919           0.287103         0.380585   \n",
       "texture_se                -0.073658          -0.092439        -0.068956   \n",
       "perimeter_se               0.130054           0.341919         0.418899   \n",
       "area_se                    0.125389           0.283257         0.385100   \n",
       "smoothness_se              0.314457          -0.055558        -0.058298   \n",
       "compactness_se             0.227394           0.678780         0.639147   \n",
       "concavity_se               0.168481           0.484858         0.662564   \n",
       "points_se                  0.215351           0.452888         0.549592   \n",
       "symmetry_se               -0.012662           0.060255         0.037119   \n",
       "dimension_se               0.170568           0.390159         0.379975   \n",
       "radius_worst               0.216574           0.475820         0.573975   \n",
       "texture_worst              0.225429           0.360832         0.368366   \n",
       "perimeter_worst            0.236775           0.529408         0.618344   \n",
       "area_worst                 0.209145           0.438296         0.543331   \n",
       "smoothness_worst           1.000000           0.568187         0.518523   \n",
       "compactness_worst          0.568187           1.000000         0.892261   \n",
       "concavity_worst            0.518523           0.892261         1.000000   \n",
       "points_worst               0.547691           0.801080         0.855434   \n",
       "symmetry_worst             0.493838           0.614441         0.532520   \n",
       "dimension_worst            0.617624           0.810455         0.686511   \n",
       "\n",
       "                   points_worst  symmetry_worst  dimension_worst  \n",
       "diagnosis              0.793566        0.416294         0.323872  \n",
       "radius_mean            0.744214        0.163953         0.007066  \n",
       "texture_mean           0.295316        0.105008         0.119205  \n",
       "perimeter_mean         0.771241        0.189115         0.051019  \n",
       "area_mean              0.722017        0.143570         0.003738  \n",
       "smoothness_mean        0.503053        0.394309         0.499316  \n",
       "compactness_mean       0.815573        0.510223         0.687382  \n",
       "concavity_mean         0.861323        0.409464         0.514930  \n",
       "points_mean            0.910155        0.375744         0.368661  \n",
       "symmetry_mean          0.430297        0.699826         0.438413  \n",
       "dimension_mean         0.175325        0.334019         0.767297  \n",
       "radius_se              0.531062        0.094543         0.049559  \n",
       "texture_se            -0.119638       -0.128215        -0.045655  \n",
       "perimeter_se           0.554897        0.109930         0.085433  \n",
       "area_se                0.538166        0.074126         0.017539  \n",
       "smoothness_se         -0.102007       -0.107342         0.101480  \n",
       "compactness_se         0.483208        0.277878         0.590973  \n",
       "concavity_se           0.440472        0.197788         0.439329  \n",
       "points_se              0.602450        0.143116         0.310655  \n",
       "symmetry_se           -0.030413        0.389402         0.078079  \n",
       "dimension_se           0.215204        0.111094         0.591328  \n",
       "radius_worst           0.787424        0.243529         0.093492  \n",
       "texture_worst          0.359755        0.233027         0.219122  \n",
       "perimeter_worst        0.816322        0.269493         0.138957  \n",
       "area_worst             0.747419        0.209146         0.079647  \n",
       "smoothness_worst       0.547691        0.493838         0.617624  \n",
       "compactness_worst      0.801080        0.614441         0.810455  \n",
       "concavity_worst        0.855434        0.532520         0.686511  \n",
       "points_worst           1.000000        0.502528         0.511114  \n",
       "symmetry_worst         0.502528        1.000000         0.537848  \n",
       "dimension_worst        0.511114        0.537848         1.000000  \n",
       "\n",
       "[31 rows x 31 columns]"
      ]
     },
     "execution_count": 9,
     "metadata": {},
     "output_type": "execute_result"
    }
   ],
   "source": [
    "df.corr()"
   ]
  },
  {
   "cell_type": "markdown",
   "metadata": {},
   "source": [
    ">  Comments\n",
    "    \n",
    "        * Weakest Corr cols are\n",
    "        * dimension_mean , texture_se , smoothness_se, symmetry_se , dimension_se "
   ]
  },
  {
   "cell_type": "markdown",
   "metadata": {},
   "source": [
    "##  Significance check of weak corr columns"
   ]
  },
  {
   "cell_type": "code",
   "execution_count": 10,
   "metadata": {
    "colab": {},
    "colab_type": "code",
    "id": "KzMSHpZVrdSA"
   },
   "outputs": [],
   "source": [
    "from  scipy.stats  import   ttest_ind , mannwhitneyu"
   ]
  },
  {
   "cell_type": "code",
   "execution_count": 11,
   "metadata": {
    "colab": {},
    "colab_type": "code",
    "id": "1darZjVts7ra"
   },
   "outputs": [],
   "source": [
    "g1 = df [ df['diagnosis'] ==0 ]\n",
    "g2 = df [ df['diagnosis'] ==1 ]"
   ]
  },
  {
   "cell_type": "code",
   "execution_count": 12,
   "metadata": {},
   "outputs": [
    {
     "name": "stdout",
     "output_type": "stream",
     "text": [
      "0.7599368037256238      0.26859280106781197\n",
      "0.8766418183858812      0.013918320482061472\n",
      "0.8433320287670163      0.32184635051298305\n",
      "0.06307355082239346      7.860826754962789e-07\n",
      "0.11029660865789295      0.10681581660023132\n"
     ]
    }
   ],
   "source": [
    "for i in [ 'dimension_mean' , 'symmetry_se','texture_se', 'dimension_se', 'smoothness_se']:\n",
    "    \n",
    "    print (   ttest_ind ( g1[i] , g2[i] ).pvalue    , \"    \",    mannwhitneyu ( g1[i] , g2[i] ).pvalue   )"
   ]
  },
  {
   "cell_type": "markdown",
   "metadata": {},
   "source": [
    "> Inference\n",
    "    \n",
    "        * Cols to drop ----- dimension_mean ,  texture_se , smoothness_se\n",
    "        * Cols to LogT ----- symmetry_se , dimension_se"
   ]
  },
  {
   "cell_type": "code",
   "execution_count": 13,
   "metadata": {},
   "outputs": [],
   "source": [
    "df.drop ( ['dimension_mean','texture_se','smoothness_se'] , axis=1 , inplace=True )"
   ]
  },
  {
   "cell_type": "code",
   "execution_count": 14,
   "metadata": {},
   "outputs": [],
   "source": [
    "for i in ['symmetry_se', 'dimension_se']:\n",
    "    \n",
    "    df[i]  =  np.log ( df[i] ) "
   ]
  },
  {
   "cell_type": "markdown",
   "metadata": {},
   "source": [
    "## ii. **Target column**"
   ]
  },
  {
   "cell_type": "code",
   "execution_count": 15,
   "metadata": {
    "colab": {
     "base_uri": "https://localhost:8080/",
     "height": 68
    },
    "colab_type": "code",
    "executionInfo": {
     "elapsed": 1133,
     "status": "ok",
     "timestamp": 1600065387082,
     "user": {
      "displayName": "Mahesh Anand",
      "photoUrl": "https://lh3.googleusercontent.com/a-/AOh14GiAxRvO4nLPhI4SJLaIoUVmhr8lm1tddyCLyKOj=s64",
      "userId": "06788086636039591358"
     },
     "user_tz": -330
    },
    "id": "4YFaqHKUAWKm",
    "outputId": "861f89eb-c84c-434c-c33e-4f8f38749939"
   },
   "outputs": [
    {
     "data": {
      "text/plain": [
       "0    357\n",
       "1    212\n",
       "Name: diagnosis, dtype: int64"
      ]
     },
     "execution_count": 15,
     "metadata": {},
     "output_type": "execute_result"
    }
   ],
   "source": [
    "df ['diagnosis'].value_counts()"
   ]
  },
  {
   "cell_type": "markdown",
   "metadata": {},
   "source": [
    "## iii. **Scaling**"
   ]
  },
  {
   "cell_type": "code",
   "execution_count": 16,
   "metadata": {
    "colab": {
     "base_uri": "https://localhost:8080/",
     "height": 223
    },
    "colab_type": "code",
    "executionInfo": {
     "elapsed": 947,
     "status": "ok",
     "timestamp": 1600066243046,
     "user": {
      "displayName": "Mahesh Anand",
      "photoUrl": "https://lh3.googleusercontent.com/a-/AOh14GiAxRvO4nLPhI4SJLaIoUVmhr8lm1tddyCLyKOj=s64",
      "userId": "06788086636039591358"
     },
     "user_tz": -330
    },
    "id": "uVOHoISTW1v1",
    "outputId": "f2b237e4-9175-493e-99f6-0e8868d7fb9c"
   },
   "outputs": [],
   "source": [
    "x  =  df.drop('diagnosis' , axis=1)\n",
    "y  =  df ['diagnosis']"
   ]
  },
  {
   "cell_type": "code",
   "execution_count": 17,
   "metadata": {
    "colab": {},
    "colab_type": "code",
    "executionInfo": {
     "elapsed": 878,
     "status": "ok",
     "timestamp": 1600066254634,
     "user": {
      "displayName": "Mahesh Anand",
      "photoUrl": "https://lh3.googleusercontent.com/a-/AOh14GiAxRvO4nLPhI4SJLaIoUVmhr8lm1tddyCLyKOj=s64",
      "userId": "06788086636039591358"
     },
     "user_tz": -330
    },
    "id": "kEVvZIsZwiY_"
   },
   "outputs": [],
   "source": [
    "from sklearn.preprocessing   import  StandardScaler\n",
    "sc = StandardScaler()\n",
    "\n",
    "x  = sc.fit_transform(x)"
   ]
  },
  {
   "cell_type": "markdown",
   "metadata": {},
   "source": [
    "<a id='section_b'></a>\n",
    "# **Part II - Model Building**"
   ]
  },
  {
   "cell_type": "code",
   "execution_count": 18,
   "metadata": {},
   "outputs": [],
   "source": [
    "x_train, x_test, y_train, y_test  =  train_test_split (x, y, test_size =0.3, random_state =0)\n",
    "\n",
    "kf  =  KFold (shuffle=True , n_splits=5 , random_state=0) "
   ]
  },
  {
   "cell_type": "markdown",
   "metadata": {},
   "source": [
    "<a id='section_21'></a>\n",
    "## **1 - LOR**"
   ]
  },
  {
   "cell_type": "code",
   "execution_count": 19,
   "metadata": {},
   "outputs": [],
   "source": [
    "LOR = LogisticRegression()           "
   ]
  },
  {
   "cell_type": "markdown",
   "metadata": {},
   "source": [
    "<a id='section_2'></a>\n",
    "## **2 - KNN**"
   ]
  },
  {
   "cell_type": "markdown",
   "metadata": {},
   "source": [
    "### Finding best hyper-parameter"
   ]
  },
  {
   "cell_type": "code",
   "execution_count": 22,
   "metadata": {},
   "outputs": [
    {
     "data": {
      "text/plain": [
       "{'n_neighbors': 23, 'weights': 'distance'}"
      ]
     },
     "execution_count": 22,
     "metadata": {},
     "output_type": "execute_result"
    }
   ],
   "source": [
    "KNN = KNeighborsClassifier ()\n",
    "\n",
    "param = { 'n_neighbors': np.arange(1,35)   ,   'weights':['uniform','distance'] } \n",
    "\n",
    "GS  =  GridSearchCV ( KNN , param , cv=kf , scoring='roc_auc' )\n",
    "\n",
    "GS.fit (x_train , y_train)\n",
    "\n",
    "GS.best_params_"
   ]
  },
  {
   "cell_type": "code",
   "execution_count": 23,
   "metadata": {},
   "outputs": [],
   "source": [
    "KNN = KNeighborsClassifier ( n_neighbors =23  ,  weights ='distance') "
   ]
  },
  {
   "cell_type": "markdown",
   "metadata": {},
   "source": [
    "<a id='section_3'></a>\n",
    "## **3 - Naive Bayes**"
   ]
  },
  {
   "cell_type": "code",
   "execution_count": 24,
   "metadata": {},
   "outputs": [],
   "source": [
    "NB = GaussianNB()"
   ]
  },
  {
   "cell_type": "markdown",
   "metadata": {},
   "source": [
    "<a id='section_4'></a>\n",
    "## **4 - Decision Tree**"
   ]
  },
  {
   "cell_type": "markdown",
   "metadata": {},
   "source": [
    "### **4.1 - Fully Grown**"
   ]
  },
  {
   "cell_type": "code",
   "execution_count": 25,
   "metadata": {},
   "outputs": [],
   "source": [
    "FDT  =  DecisionTreeClassifier (random_state=0)             "
   ]
  },
  {
   "cell_type": "markdown",
   "metadata": {},
   "source": [
    "### **4.2 - Regularised**"
   ]
  },
  {
   "cell_type": "markdown",
   "metadata": {},
   "source": [
    "* Finding best hyper-parameter"
   ]
  },
  {
   "cell_type": "code",
   "execution_count": 26,
   "metadata": {},
   "outputs": [
    {
     "data": {
      "text/plain": [
       "{'criterion': 'entropy', 'max_depth': 3}"
      ]
     },
     "execution_count": 26,
     "metadata": {},
     "output_type": "execute_result"
    }
   ],
   "source": [
    "param = { 'max_depth': np.arange(1,20)   ,   'criterion':['entropy','gini'] } \n",
    "\n",
    "GS  =  GridSearchCV ( FDT , param , cv=kf , scoring='roc_auc')\n",
    "\n",
    "GS.fit (x_train , y_train)\n",
    "\n",
    "GS.best_params_"
   ]
  },
  {
   "cell_type": "code",
   "execution_count": 42,
   "metadata": {},
   "outputs": [],
   "source": [
    "RDT = DecisionTreeClassifier (criterion='entropy' , max_depth=4 ,  random_state=0)"
   ]
  },
  {
   "cell_type": "markdown",
   "metadata": {},
   "source": [
    "<a id='section_5'></a>\n",
    "## **5 - Random Forest**"
   ]
  },
  {
   "cell_type": "markdown",
   "metadata": {},
   "source": [
    "* Finding best n_estimator for least VE"
   ]
  },
  {
   "cell_type": "code",
   "execution_count": 27,
   "metadata": {},
   "outputs": [
    {
     "data": {
      "text/plain": [
       "17"
      ]
     },
     "execution_count": 27,
     "metadata": {},
     "output_type": "execute_result"
    }
   ],
   "source": [
    "VE = []\n",
    "\n",
    "\n",
    "for i in np.arange(1,25):\n",
    "    \n",
    "    RF = RandomForestClassifier ( n_estimators =i, criterion ='entropy', random_state =0 )\n",
    "    \n",
    "    score = cross_val_score ( RF ,  x_train ,  y_train ,  cv=kf,  scoring='roc_auc' )\n",
    "    \n",
    "    VE.append ( np.std(score,ddof=1) )\n",
    "    \n",
    "    \n",
    "np.argmin(VE)"
   ]
  },
  {
   "cell_type": "code",
   "execution_count": 28,
   "metadata": {},
   "outputs": [],
   "source": [
    "RF = RandomForestClassifier ( n_estimators=18 , criterion='entropy', random_state =0 )  "
   ]
  },
  {
   "cell_type": "markdown",
   "metadata": {},
   "source": [
    "<a id='section_6'></a>\n",
    "## **6 - Bagging**"
   ]
  },
  {
   "cell_type": "markdown",
   "metadata": {},
   "source": [
    "### **6.1 - LOR_Bag**"
   ]
  },
  {
   "cell_type": "code",
   "execution_count": 29,
   "metadata": {},
   "outputs": [
    {
     "data": {
      "text/plain": [
       "6"
      ]
     },
     "execution_count": 29,
     "metadata": {},
     "output_type": "execute_result"
    }
   ],
   "source": [
    "LOR2 = LogisticRegression()\n",
    "\n",
    "VE = []\n",
    "\n",
    "for i in np.arange(1,25):                                                     # 10-15 %\n",
    "    \n",
    "    LOR_bag = BaggingClassifier   ( base_estimator = LOR2 , n_estimators =i, random_state =0 )\n",
    "    \n",
    "    score   = cross_val_score     ( LOR_bag ,  x_train ,  y_train ,  cv=kf,  scoring='roc_auc' )\n",
    "    \n",
    "    VE.append ( np.std(score,ddof=1) )\n",
    "    \n",
    "\n",
    "np.argmin(VE)"
   ]
  },
  {
   "cell_type": "code",
   "execution_count": 30,
   "metadata": {},
   "outputs": [],
   "source": [
    "LOR_bag = BaggingClassifier   ( base_estimator = LOR2 , n_estimators =7, random_state =0 )"
   ]
  },
  {
   "cell_type": "markdown",
   "metadata": {},
   "source": [
    "### **6.2 - NB_Bag**"
   ]
  },
  {
   "cell_type": "code",
   "execution_count": 31,
   "metadata": {},
   "outputs": [
    {
     "data": {
      "text/plain": [
       "13"
      ]
     },
     "execution_count": 31,
     "metadata": {},
     "output_type": "execute_result"
    }
   ],
   "source": [
    "NB2 = GaussianNB()\n",
    "\n",
    "VE = []\n",
    "\n",
    "for i in np.arange(1,25):\n",
    "    \n",
    "    NB_bag = BaggingClassifier ( base_estimator = NB2 , n_estimators =i, random_state =0 )\n",
    "    \n",
    "    score   = cross_val_score ( NB_bag ,  x_train ,  y_train ,  cv=kf,  scoring='roc_auc' )\n",
    "    \n",
    "    VE.append ( np.std(score,ddof=1) )\n",
    "    \n",
    "    \n",
    "np.argmin(VE) "
   ]
  },
  {
   "cell_type": "code",
   "execution_count": 32,
   "metadata": {},
   "outputs": [],
   "source": [
    "NB_bag = BaggingClassifier ( base_estimator = NB2 , n_estimators =14, random_state =0 )"
   ]
  },
  {
   "cell_type": "markdown",
   "metadata": {},
   "source": [
    "### **6.3 - KNN_Bag**"
   ]
  },
  {
   "cell_type": "code",
   "execution_count": 33,
   "metadata": {},
   "outputs": [
    {
     "data": {
      "text/plain": [
       "6"
      ]
     },
     "execution_count": 33,
     "metadata": {},
     "output_type": "execute_result"
    }
   ],
   "source": [
    "KNN2 = KNeighborsClassifier ()\n",
    "\n",
    "VE = []\n",
    "\n",
    "for i in np.arange(1,25):\n",
    "    \n",
    "    KNN_bag = BaggingClassifier ( base_estimator = KNN2 , n_estimators =i, random_state =0 )\n",
    "    \n",
    "    score   = cross_val_score ( KNN_bag ,  x_train ,  y_train ,  cv=kf,  scoring='roc_auc' )\n",
    "    \n",
    "    VE.append ( np.std(score,ddof=1) )\n",
    "    \n",
    "\n",
    "np.argmin(VE) "
   ]
  },
  {
   "cell_type": "code",
   "execution_count": 34,
   "metadata": {},
   "outputs": [],
   "source": [
    "KNN_bag  =  BaggingClassifier ( base_estimator = KNN2 , n_estimators =7 , random_state =0 )"
   ]
  },
  {
   "cell_type": "markdown",
   "metadata": {},
   "source": [
    "<a id='section_7'></a>\n",
    "## **7 - Boosting**"
   ]
  },
  {
   "cell_type": "markdown",
   "metadata": {},
   "source": [
    "## **7.1 - AdaBoost**"
   ]
  },
  {
   "cell_type": "markdown",
   "metadata": {},
   "source": [
    "### 7.1.1 - **Regularised DT boost** (default)"
   ]
  },
  {
   "cell_type": "code",
   "execution_count": 36,
   "metadata": {},
   "outputs": [
    {
     "data": {
      "text/plain": [
       "31"
      ]
     },
     "execution_count": 36,
     "metadata": {},
     "output_type": "execute_result"
    }
   ],
   "source": [
    "BE = []\n",
    "\n",
    "for i in np.arange(1,35):                                                                    \n",
    "    \n",
    "    RDT_boost   =  AdaBoostClassifier   ( n_estimators =i, random_state =0 )      # default base_estimator : Reg DT\n",
    "    \n",
    "    score       =  cross_val_score      ( RDT_boost ,  x_train ,  y_train ,  cv=kf,  scoring='roc_auc' )\n",
    "    \n",
    "    BE.append ( np.mean(1-score)  )\n",
    "    \n",
    "    \n",
    "np.argmin(BE)"
   ]
  },
  {
   "cell_type": "code",
   "execution_count": 37,
   "metadata": {},
   "outputs": [],
   "source": [
    "RDT_boost =  AdaBoostClassifier   ( n_estimators =31, random_state =0 )   "
   ]
  },
  {
   "cell_type": "markdown",
   "metadata": {},
   "source": [
    "### 7.1.2 - **RF boost**"
   ]
  },
  {
   "cell_type": "markdown",
   "metadata": {},
   "source": [
    "* Hyper-param tuned RF model is now boosted"
   ]
  },
  {
   "cell_type": "code",
   "execution_count": 38,
   "metadata": {},
   "outputs": [
    {
     "data": {
      "text/plain": [
       "0"
      ]
     },
     "execution_count": 38,
     "metadata": {},
     "output_type": "execute_result"
    }
   ],
   "source": [
    "BE = []\n",
    "\n",
    "for i in np.arange(1,35):                                                                    \n",
    "    \n",
    "    RF_boost =  AdaBoostClassifier ( base_estimator = RF, n_estimators =i, random_state =0 )                   \n",
    "    \n",
    "    score    = cross_val_score     ( RF_boost ,  x_train ,  y_train ,  cv=kf,  scoring='roc_auc' )\n",
    "    \n",
    "    BE.append ( np.mean(1-score)    )\n",
    "    \n",
    "    \n",
    "np.argmin(BE)"
   ]
  },
  {
   "cell_type": "markdown",
   "metadata": {},
   "source": [
    "* No scope for boosting here"
   ]
  },
  {
   "cell_type": "markdown",
   "metadata": {},
   "source": [
    "## **7.2 - XG Boost**"
   ]
  },
  {
   "cell_type": "code",
   "execution_count": 39,
   "metadata": {},
   "outputs": [
    {
     "data": {
      "text/plain": [
       "23"
      ]
     },
     "execution_count": 39,
     "metadata": {},
     "output_type": "execute_result"
    }
   ],
   "source": [
    "BE = []\n",
    "\n",
    "for i in np.arange(1,35):                                                                    \n",
    "    \n",
    "    XG_boost =  GradientBoostingClassifier  ( n_estimators = i , random_state =0 )                                   \n",
    "    \n",
    "    score    =  cross_val_score             ( XG_boost ,  x_train ,  y_train ,  cv=kf,  scoring='roc_auc' )\n",
    "    \n",
    "    BE.append ( np.mean(1-score)    )\n",
    "    \n",
    "    \n",
    "np.argmin(BE)"
   ]
  },
  {
   "cell_type": "code",
   "execution_count": 40,
   "metadata": {},
   "outputs": [],
   "source": [
    "XG_boost =  GradientBoostingClassifier  ( n_estimators =24, random_state =0 ) "
   ]
  },
  {
   "cell_type": "markdown",
   "metadata": {},
   "source": [
    "<a id='section_c'></a>\n",
    "# **Part III - Model Selection**"
   ]
  },
  {
   "cell_type": "markdown",
   "metadata": {},
   "source": [
    "<a id='section_8'></a>\n",
    "## i. **Scores**"
   ]
  },
  {
   "cell_type": "code",
   "execution_count": 43,
   "metadata": {},
   "outputs": [],
   "source": [
    "models = []\n",
    "\n",
    "models.append  (( 'LOR'       , LOR        ))\n",
    "models.append  (( 'NB'        , NB         ))\n",
    "models.append  (( 'KNN'       , KNN        ))\n",
    "\n",
    "\n",
    "\n",
    "models.append  (( 'FDT'       , FDT        ))\n",
    "models.append  (( 'RDT'       , RDT        ))\n",
    "models.append  (( 'RF'        , RF         ))\n",
    "\n",
    "\n",
    "\n",
    "models.append  (( 'LOR_bag'   , LOR_bag    ))\n",
    "models.append  (( 'NB_bag'    , NB_bag     ))\n",
    "models.append  (( 'KNN_bag'   , KNN_bag    ))\n",
    "\n",
    "\n",
    "models.append    (( 'RDT_boost' , RDT_boost  ))\n",
    "# models.append  (( 'RF_boost'  , RF_boost   ))\n",
    "models.append    (( 'XG_boost'  , XG_boost   ))"
   ]
  },
  {
   "cell_type": "code",
   "execution_count": 44,
   "metadata": {},
   "outputs": [],
   "source": [
    "result =[]\n",
    "\n",
    "for  i,j  in  models:\n",
    "    \n",
    "    score = cross_val_score ( j , x_train , y_train , cv =kf, scoring ='roc_auc' )\n",
    "    \n",
    "    result.append ( { 'Name': i   ,   'BE': np.mean(1-score)   ,   'VE': np.std(score,ddof=1)  } )                \n",
    "\n",
    "\n",
    "table = pd.DataFrame(result)"
   ]
  },
  {
   "cell_type": "markdown",
   "metadata": {},
   "source": [
    "<a id='section_9'></a>\n",
    "## ii - **Rank**"
   ]
  },
  {
   "cell_type": "markdown",
   "metadata": {},
   "source": [
    "### By least Bias Error"
   ]
  },
  {
   "cell_type": "code",
   "execution_count": 45,
   "metadata": {},
   "outputs": [
    {
     "data": {
      "text/html": [
       "<style  type=\"text/css\" >\n",
       "</style><table id=\"T_6cdf08ee_a5c5_11eb_9117_92e8483f70d5\" ><thead>    <tr>        <th class=\"col_heading level0 col0\" >Name</th>        <th class=\"col_heading level0 col1\" >BE</th>        <th class=\"col_heading level0 col2\" >VE</th>    </tr></thead><tbody>\n",
       "                <tr>\n",
       "                                <td id=\"T_6cdf08ee_a5c5_11eb_9117_92e8483f70d5row0_col0\" class=\"data row0 col0\" >LOR</td>\n",
       "                        <td id=\"T_6cdf08ee_a5c5_11eb_9117_92e8483f70d5row0_col1\" class=\"data row0 col1\" >0.005690</td>\n",
       "                        <td id=\"T_6cdf08ee_a5c5_11eb_9117_92e8483f70d5row0_col2\" class=\"data row0 col2\" >0.005976</td>\n",
       "            </tr>\n",
       "            <tr>\n",
       "                                <td id=\"T_6cdf08ee_a5c5_11eb_9117_92e8483f70d5row1_col0\" class=\"data row1 col0\" >LOR_bag</td>\n",
       "                        <td id=\"T_6cdf08ee_a5c5_11eb_9117_92e8483f70d5row1_col1\" class=\"data row1 col1\" >0.005962</td>\n",
       "                        <td id=\"T_6cdf08ee_a5c5_11eb_9117_92e8483f70d5row1_col2\" class=\"data row1 col2\" >0.005718</td>\n",
       "            </tr>\n",
       "            <tr>\n",
       "                                <td id=\"T_6cdf08ee_a5c5_11eb_9117_92e8483f70d5row2_col0\" class=\"data row2 col0\" >KNN</td>\n",
       "                        <td id=\"T_6cdf08ee_a5c5_11eb_9117_92e8483f70d5row2_col1\" class=\"data row2 col1\" >0.010135</td>\n",
       "                        <td id=\"T_6cdf08ee_a5c5_11eb_9117_92e8483f70d5row2_col2\" class=\"data row2 col2\" >0.010265</td>\n",
       "            </tr>\n",
       "            <tr>\n",
       "                                <td id=\"T_6cdf08ee_a5c5_11eb_9117_92e8483f70d5row3_col0\" class=\"data row3 col0\" >RF</td>\n",
       "                        <td id=\"T_6cdf08ee_a5c5_11eb_9117_92e8483f70d5row3_col1\" class=\"data row3 col1\" >0.013062</td>\n",
       "                        <td id=\"T_6cdf08ee_a5c5_11eb_9117_92e8483f70d5row3_col2\" class=\"data row3 col2\" >0.008820</td>\n",
       "            </tr>\n",
       "            <tr>\n",
       "                                <td id=\"T_6cdf08ee_a5c5_11eb_9117_92e8483f70d5row4_col0\" class=\"data row4 col0\" >NB_bag</td>\n",
       "                        <td id=\"T_6cdf08ee_a5c5_11eb_9117_92e8483f70d5row4_col1\" class=\"data row4 col1\" >0.013400</td>\n",
       "                        <td id=\"T_6cdf08ee_a5c5_11eb_9117_92e8483f70d5row4_col2\" class=\"data row4 col2\" >0.008573</td>\n",
       "            </tr>\n",
       "            <tr>\n",
       "                                <td id=\"T_6cdf08ee_a5c5_11eb_9117_92e8483f70d5row5_col0\" class=\"data row5 col0\" >RDT_boost</td>\n",
       "                        <td id=\"T_6cdf08ee_a5c5_11eb_9117_92e8483f70d5row5_col1\" class=\"data row5 col1\" >0.015691</td>\n",
       "                        <td id=\"T_6cdf08ee_a5c5_11eb_9117_92e8483f70d5row5_col2\" class=\"data row5 col2\" >0.010842</td>\n",
       "            </tr>\n",
       "            <tr>\n",
       "                                <td id=\"T_6cdf08ee_a5c5_11eb_9117_92e8483f70d5row6_col0\" class=\"data row6 col0\" >NB</td>\n",
       "                        <td id=\"T_6cdf08ee_a5c5_11eb_9117_92e8483f70d5row6_col1\" class=\"data row6 col1\" >0.016311</td>\n",
       "                        <td id=\"T_6cdf08ee_a5c5_11eb_9117_92e8483f70d5row6_col2\" class=\"data row6 col2\" >0.010190</td>\n",
       "            </tr>\n",
       "            <tr>\n",
       "                                <td id=\"T_6cdf08ee_a5c5_11eb_9117_92e8483f70d5row7_col0\" class=\"data row7 col0\" >XG_boost</td>\n",
       "                        <td id=\"T_6cdf08ee_a5c5_11eb_9117_92e8483f70d5row7_col1\" class=\"data row7 col1\" >0.017923</td>\n",
       "                        <td id=\"T_6cdf08ee_a5c5_11eb_9117_92e8483f70d5row7_col2\" class=\"data row7 col2\" >0.013359</td>\n",
       "            </tr>\n",
       "    </tbody></table>"
      ],
      "text/plain": [
       "<pandas.io.formats.style.Styler at 0x277b8b2da88>"
      ]
     },
     "execution_count": 45,
     "metadata": {},
     "output_type": "execute_result"
    }
   ],
   "source": [
    "table.sort_values (by='BE')    .head(8)      .style.hide_index()"
   ]
  },
  {
   "cell_type": "markdown",
   "metadata": {},
   "source": [
    "### By least Variance Error"
   ]
  },
  {
   "cell_type": "code",
   "execution_count": 46,
   "metadata": {},
   "outputs": [
    {
     "data": {
      "text/html": [
       "<style  type=\"text/css\" >\n",
       "</style><table id=\"T_7d36b4b0_a5c5_11eb_bfbb_92e8483f70d5\" ><thead>    <tr>        <th class=\"col_heading level0 col0\" >Name</th>        <th class=\"col_heading level0 col1\" >BE</th>        <th class=\"col_heading level0 col2\" >VE</th>    </tr></thead><tbody>\n",
       "                <tr>\n",
       "                                <td id=\"T_7d36b4b0_a5c5_11eb_bfbb_92e8483f70d5row0_col0\" class=\"data row0 col0\" >LOR_bag</td>\n",
       "                        <td id=\"T_7d36b4b0_a5c5_11eb_bfbb_92e8483f70d5row0_col1\" class=\"data row0 col1\" >0.005962</td>\n",
       "                        <td id=\"T_7d36b4b0_a5c5_11eb_bfbb_92e8483f70d5row0_col2\" class=\"data row0 col2\" >0.005718</td>\n",
       "            </tr>\n",
       "            <tr>\n",
       "                                <td id=\"T_7d36b4b0_a5c5_11eb_bfbb_92e8483f70d5row1_col0\" class=\"data row1 col0\" >LOR</td>\n",
       "                        <td id=\"T_7d36b4b0_a5c5_11eb_bfbb_92e8483f70d5row1_col1\" class=\"data row1 col1\" >0.005690</td>\n",
       "                        <td id=\"T_7d36b4b0_a5c5_11eb_bfbb_92e8483f70d5row1_col2\" class=\"data row1 col2\" >0.005976</td>\n",
       "            </tr>\n",
       "            <tr>\n",
       "                                <td id=\"T_7d36b4b0_a5c5_11eb_bfbb_92e8483f70d5row2_col0\" class=\"data row2 col0\" >NB_bag</td>\n",
       "                        <td id=\"T_7d36b4b0_a5c5_11eb_bfbb_92e8483f70d5row2_col1\" class=\"data row2 col1\" >0.013400</td>\n",
       "                        <td id=\"T_7d36b4b0_a5c5_11eb_bfbb_92e8483f70d5row2_col2\" class=\"data row2 col2\" >0.008573</td>\n",
       "            </tr>\n",
       "            <tr>\n",
       "                                <td id=\"T_7d36b4b0_a5c5_11eb_bfbb_92e8483f70d5row3_col0\" class=\"data row3 col0\" >RF</td>\n",
       "                        <td id=\"T_7d36b4b0_a5c5_11eb_bfbb_92e8483f70d5row3_col1\" class=\"data row3 col1\" >0.013062</td>\n",
       "                        <td id=\"T_7d36b4b0_a5c5_11eb_bfbb_92e8483f70d5row3_col2\" class=\"data row3 col2\" >0.008820</td>\n",
       "            </tr>\n",
       "            <tr>\n",
       "                                <td id=\"T_7d36b4b0_a5c5_11eb_bfbb_92e8483f70d5row4_col0\" class=\"data row4 col0\" >NB</td>\n",
       "                        <td id=\"T_7d36b4b0_a5c5_11eb_bfbb_92e8483f70d5row4_col1\" class=\"data row4 col1\" >0.016311</td>\n",
       "                        <td id=\"T_7d36b4b0_a5c5_11eb_bfbb_92e8483f70d5row4_col2\" class=\"data row4 col2\" >0.010190</td>\n",
       "            </tr>\n",
       "            <tr>\n",
       "                                <td id=\"T_7d36b4b0_a5c5_11eb_bfbb_92e8483f70d5row5_col0\" class=\"data row5 col0\" >KNN</td>\n",
       "                        <td id=\"T_7d36b4b0_a5c5_11eb_bfbb_92e8483f70d5row5_col1\" class=\"data row5 col1\" >0.010135</td>\n",
       "                        <td id=\"T_7d36b4b0_a5c5_11eb_bfbb_92e8483f70d5row5_col2\" class=\"data row5 col2\" >0.010265</td>\n",
       "            </tr>\n",
       "            <tr>\n",
       "                                <td id=\"T_7d36b4b0_a5c5_11eb_bfbb_92e8483f70d5row6_col0\" class=\"data row6 col0\" >RDT_boost</td>\n",
       "                        <td id=\"T_7d36b4b0_a5c5_11eb_bfbb_92e8483f70d5row6_col1\" class=\"data row6 col1\" >0.015691</td>\n",
       "                        <td id=\"T_7d36b4b0_a5c5_11eb_bfbb_92e8483f70d5row6_col2\" class=\"data row6 col2\" >0.010842</td>\n",
       "            </tr>\n",
       "            <tr>\n",
       "                                <td id=\"T_7d36b4b0_a5c5_11eb_bfbb_92e8483f70d5row7_col0\" class=\"data row7 col0\" >KNN_bag</td>\n",
       "                        <td id=\"T_7d36b4b0_a5c5_11eb_bfbb_92e8483f70d5row7_col1\" class=\"data row7 col1\" >0.018531</td>\n",
       "                        <td id=\"T_7d36b4b0_a5c5_11eb_bfbb_92e8483f70d5row7_col2\" class=\"data row7 col2\" >0.011067</td>\n",
       "            </tr>\n",
       "    </tbody></table>"
      ],
      "text/plain": [
       "<pandas.io.formats.style.Styler at 0x277b8c07d88>"
      ]
     },
     "execution_count": 46,
     "metadata": {},
     "output_type": "execute_result"
    }
   ],
   "source": [
    "table.sort_values (by='VE')    .head(8)      .style.hide_index()"
   ]
  },
  {
   "cell_type": "markdown",
   "metadata": {},
   "source": [
    "<a id='section_10'></a>\n",
    "## iii - **Best Model**"
   ]
  },
  {
   "cell_type": "markdown",
   "metadata": {},
   "source": [
    "## *Logistic Regressor Bagged*"
   ]
  },
  {
   "cell_type": "code",
   "execution_count": 47,
   "metadata": {},
   "outputs": [],
   "source": [
    "LOR_bag.fit      ( x_train , y_train )\n",
    "\n",
    "y_pred   =   LOR_bag.predict ( x_test )"
   ]
  },
  {
   "cell_type": "code",
   "execution_count": 48,
   "metadata": {},
   "outputs": [
    {
     "name": "stdout",
     "output_type": "stream",
     "text": [
      "0.9655172413793104\n",
      "              precision    recall  f1-score   support\n",
      "\n",
      "           0       0.98      0.98      0.98       113\n",
      "           1       0.97      0.97      0.97        58\n",
      "\n",
      "    accuracy                           0.98       171\n",
      "   macro avg       0.97      0.97      0.97       171\n",
      "weighted avg       0.98      0.98      0.98       171\n",
      "\n"
     ]
    }
   ],
   "source": [
    "print ( metrics.f1_score                ( y_pred , y_test ) )\n",
    "\n",
    "print ( metrics.classification_report   ( y_pred , y_test ) )"
   ]
  },
  {
   "cell_type": "code",
   "execution_count": 49,
   "metadata": {},
   "outputs": [
    {
     "name": "stdout",
     "output_type": "stream",
     "text": [
      "0    113\n",
      "1     58\n",
      "Name: diagnosis, dtype: int64\n",
      "0    113\n",
      "1     58\n",
      "dtype: int64\n"
     ]
    }
   ],
   "source": [
    "print  ( y_test .value_counts()        )              # ACTUAL\n",
    "\n",
    "print  ( pd .value_counts ( y_pred )   )              # PREDICTED"
   ]
  }
 ],
 "metadata": {
  "kernelspec": {
   "display_name": "Python 3",
   "language": "python",
   "name": "python3"
  },
  "language_info": {
   "codemirror_mode": {
    "name": "ipython",
    "version": 3
   },
   "file_extension": ".py",
   "mimetype": "text/x-python",
   "name": "python",
   "nbconvert_exporter": "python",
   "pygments_lexer": "ipython3",
   "version": "3.7.4"
  }
 },
 "nbformat": 4,
 "nbformat_minor": 4
}
