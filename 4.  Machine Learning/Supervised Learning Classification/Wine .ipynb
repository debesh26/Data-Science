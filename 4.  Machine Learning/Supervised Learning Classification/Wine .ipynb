{
 "cells": [
  {
   "cell_type": "markdown",
   "metadata": {},
   "source": [
    "# **Table of Contents**\n",
    "* [Exploration & Wrangling](#section_22)\n",
    "    <br><br>\n",
    "* [Model Building](#section_23)\n",
    "    * [LOR](#section_24)\n",
    "    * [KNN](#section_25)\n",
    "    * [NB](#section_3)\n",
    "    * [DT](#section_4)\n",
    "    * [RF](#section_5)\n",
    "    * [Bagging](#section_6)\n",
    "    * [Boosting](#section_7)\n",
    "    <br><br>\n",
    "* [Model Selection](#section_21)\n",
    "    * [Scores](#section_8)\n",
    "    * [Rank](#section_9)\n",
    "    * [Best Model](#section_10)"
   ]
  },
  {
   "cell_type": "code",
   "execution_count": 1,
   "metadata": {},
   "outputs": [],
   "source": [
    "import numpy             as np\n",
    "import pandas            as pd\n",
    "import matplotlib.pyplot as plt\n",
    "import seaborn           as sns\n",
    "\n",
    "import scipy.stats       as stats \n",
    "\n",
    "import warnings\n",
    "warnings.filterwarnings(\"ignore\")"
   ]
  },
  {
   "cell_type": "code",
   "execution_count": 2,
   "metadata": {},
   "outputs": [],
   "source": [
    "from  sklearn.linear_model     import   LogisticRegression\n",
    "from  sklearn.naive_bayes      import   GaussianNB\n",
    "from  sklearn.neighbors        import   KNeighborsClassifier\n",
    "from  sklearn.tree             import   DecisionTreeClassifier\n",
    "from  sklearn.ensemble         import   RandomForestClassifier , BaggingClassifier ,  AdaBoostClassifier , GradientBoostingClassifier ,  VotingClassifier\n",
    "\n",
    "\n",
    "from  sklearn.preprocessing     import   StandardScaler\n",
    "from  sklearn.model_selection   import   train_test_split , KFold , cross_val_score , GridSearchCV \n",
    "\n",
    "from  sklearn  import  metrics"
   ]
  },
  {
   "cell_type": "code",
   "execution_count": 3,
   "metadata": {},
   "outputs": [
    {
     "data": {
      "text/html": [
       "<div>\n",
       "<style scoped>\n",
       "    .dataframe tbody tr th:only-of-type {\n",
       "        vertical-align: middle;\n",
       "    }\n",
       "\n",
       "    .dataframe tbody tr th {\n",
       "        vertical-align: top;\n",
       "    }\n",
       "\n",
       "    .dataframe thead th {\n",
       "        text-align: right;\n",
       "    }\n",
       "</style>\n",
       "<table border=\"1\" class=\"dataframe\">\n",
       "  <thead>\n",
       "    <tr style=\"text-align: right;\">\n",
       "      <th></th>\n",
       "      <th>Cultivator</th>\n",
       "      <th>Alcohol</th>\n",
       "      <th>Malic_Acid</th>\n",
       "      <th>Ash</th>\n",
       "      <th>Alcalinity_of_Ash</th>\n",
       "      <th>Magnesium</th>\n",
       "      <th>Total_phenols</th>\n",
       "      <th>Falvanoids</th>\n",
       "      <th>Nonflavanoid_phenols</th>\n",
       "      <th>Proanthocyanins</th>\n",
       "      <th>Color_intensity</th>\n",
       "      <th>Hue</th>\n",
       "      <th>OD280</th>\n",
       "      <th>Proline</th>\n",
       "    </tr>\n",
       "  </thead>\n",
       "  <tbody>\n",
       "    <tr>\n",
       "      <th>9</th>\n",
       "      <td>1</td>\n",
       "      <td>13.86</td>\n",
       "      <td>1.35</td>\n",
       "      <td>2.27</td>\n",
       "      <td>16.0</td>\n",
       "      <td>98</td>\n",
       "      <td>2.98</td>\n",
       "      <td>3.15</td>\n",
       "      <td>0.22</td>\n",
       "      <td>1.85</td>\n",
       "      <td>7.22</td>\n",
       "      <td>1.01</td>\n",
       "      <td>3.55</td>\n",
       "      <td>1045</td>\n",
       "    </tr>\n",
       "    <tr>\n",
       "      <th>108</th>\n",
       "      <td>2</td>\n",
       "      <td>12.22</td>\n",
       "      <td>1.29</td>\n",
       "      <td>1.94</td>\n",
       "      <td>19.0</td>\n",
       "      <td>92</td>\n",
       "      <td>2.36</td>\n",
       "      <td>2.04</td>\n",
       "      <td>0.39</td>\n",
       "      <td>2.08</td>\n",
       "      <td>2.70</td>\n",
       "      <td>0.86</td>\n",
       "      <td>3.02</td>\n",
       "      <td>312</td>\n",
       "    </tr>\n",
       "    <tr>\n",
       "      <th>48</th>\n",
       "      <td>1</td>\n",
       "      <td>14.10</td>\n",
       "      <td>2.02</td>\n",
       "      <td>2.40</td>\n",
       "      <td>18.8</td>\n",
       "      <td>103</td>\n",
       "      <td>2.75</td>\n",
       "      <td>2.92</td>\n",
       "      <td>0.32</td>\n",
       "      <td>2.38</td>\n",
       "      <td>6.20</td>\n",
       "      <td>1.07</td>\n",
       "      <td>2.75</td>\n",
       "      <td>1060</td>\n",
       "    </tr>\n",
       "  </tbody>\n",
       "</table>\n",
       "</div>"
      ],
      "text/plain": [
       "     Cultivator  Alcohol  Malic_Acid   Ash  Alcalinity_of_Ash  Magnesium  \\\n",
       "9             1    13.86        1.35  2.27               16.0         98   \n",
       "108           2    12.22        1.29  1.94               19.0         92   \n",
       "48            1    14.10        2.02  2.40               18.8        103   \n",
       "\n",
       "     Total_phenols  Falvanoids  Nonflavanoid_phenols  Proanthocyanins  \\\n",
       "9             2.98        3.15                  0.22             1.85   \n",
       "108           2.36        2.04                  0.39             2.08   \n",
       "48            2.75        2.92                  0.32             2.38   \n",
       "\n",
       "     Color_intensity   Hue  OD280  Proline  \n",
       "9               7.22  1.01   3.55     1045  \n",
       "108             2.70  0.86   3.02      312  \n",
       "48              6.20  1.07   2.75     1060  "
      ]
     },
     "execution_count": 3,
     "metadata": {},
     "output_type": "execute_result"
    }
   ],
   "source": [
    "df = pd.read_csv (\"datasets/Wine.csv\", names =  [\"Cultivator\", \"Alcohol\", \"Malic_Acid\", \"Ash\", \"Alcalinity_of_Ash\", \"Magnesium\", \"Total_phenols\", \"Falvanoids\", \"Nonflavanoid_phenols\", \"Proanthocyanins\", \"Color_intensity\", \"Hue\", \"OD280\", \"Proline\"])\n",
    "\n",
    "df.sample(3)"
   ]
  },
  {
   "cell_type": "markdown",
   "metadata": {},
   "source": [
    "**Cultivator is the target column**"
   ]
  },
  {
   "cell_type": "markdown",
   "metadata": {},
   "source": [
    "<a id='section_22'></a>\n",
    "# **Part I - Exploration & Wrangling**"
   ]
  },
  {
   "cell_type": "code",
   "execution_count": 4,
   "metadata": {},
   "outputs": [
    {
     "data": {
      "text/plain": [
       "(178, 14)"
      ]
     },
     "execution_count": 4,
     "metadata": {},
     "output_type": "execute_result"
    }
   ],
   "source": [
    "df.shape"
   ]
  },
  {
   "cell_type": "code",
   "execution_count": 5,
   "metadata": {},
   "outputs": [
    {
     "name": "stdout",
     "output_type": "stream",
     "text": [
      "<class 'pandas.core.frame.DataFrame'>\n",
      "RangeIndex: 178 entries, 0 to 177\n",
      "Data columns (total 14 columns):\n",
      " #   Column                Non-Null Count  Dtype  \n",
      "---  ------                --------------  -----  \n",
      " 0   Cultivator            178 non-null    int64  \n",
      " 1   Alcohol               178 non-null    float64\n",
      " 2   Malic_Acid            178 non-null    float64\n",
      " 3   Ash                   178 non-null    float64\n",
      " 4   Alcalinity_of_Ash     178 non-null    float64\n",
      " 5   Magnesium             178 non-null    int64  \n",
      " 6   Total_phenols         178 non-null    float64\n",
      " 7   Falvanoids            178 non-null    float64\n",
      " 8   Nonflavanoid_phenols  178 non-null    float64\n",
      " 9   Proanthocyanins       178 non-null    float64\n",
      " 10  Color_intensity       178 non-null    float64\n",
      " 11  Hue                   178 non-null    float64\n",
      " 12  OD280                 178 non-null    float64\n",
      " 13  Proline               178 non-null    int64  \n",
      "dtypes: float64(11), int64(3)\n",
      "memory usage: 19.6 KB\n"
     ]
    }
   ],
   "source": [
    "df.info()"
   ]
  },
  {
   "cell_type": "code",
   "execution_count": 6,
   "metadata": {},
   "outputs": [
    {
     "data": {
      "text/html": [
       "<div>\n",
       "<style scoped>\n",
       "    .dataframe tbody tr th:only-of-type {\n",
       "        vertical-align: middle;\n",
       "    }\n",
       "\n",
       "    .dataframe tbody tr th {\n",
       "        vertical-align: top;\n",
       "    }\n",
       "\n",
       "    .dataframe thead th {\n",
       "        text-align: right;\n",
       "    }\n",
       "</style>\n",
       "<table border=\"1\" class=\"dataframe\">\n",
       "  <thead>\n",
       "    <tr style=\"text-align: right;\">\n",
       "      <th></th>\n",
       "      <th>Cultivator</th>\n",
       "      <th>Alcohol</th>\n",
       "      <th>Malic_Acid</th>\n",
       "      <th>Ash</th>\n",
       "      <th>Alcalinity_of_Ash</th>\n",
       "      <th>Magnesium</th>\n",
       "      <th>Total_phenols</th>\n",
       "      <th>Falvanoids</th>\n",
       "      <th>Nonflavanoid_phenols</th>\n",
       "      <th>Proanthocyanins</th>\n",
       "      <th>Color_intensity</th>\n",
       "      <th>Hue</th>\n",
       "      <th>OD280</th>\n",
       "      <th>Proline</th>\n",
       "    </tr>\n",
       "  </thead>\n",
       "  <tbody>\n",
       "    <tr>\n",
       "      <th>Cultivator</th>\n",
       "      <td>1.000000</td>\n",
       "      <td>-0.328222</td>\n",
       "      <td>0.437776</td>\n",
       "      <td>-0.049643</td>\n",
       "      <td>0.517859</td>\n",
       "      <td>-0.209179</td>\n",
       "      <td>-0.719163</td>\n",
       "      <td>-0.847498</td>\n",
       "      <td>0.489109</td>\n",
       "      <td>-0.499130</td>\n",
       "      <td>0.265668</td>\n",
       "      <td>-0.617369</td>\n",
       "      <td>-0.788230</td>\n",
       "      <td>-0.633717</td>\n",
       "    </tr>\n",
       "    <tr>\n",
       "      <th>Alcohol</th>\n",
       "      <td>-0.328222</td>\n",
       "      <td>1.000000</td>\n",
       "      <td>0.094397</td>\n",
       "      <td>0.211545</td>\n",
       "      <td>-0.310235</td>\n",
       "      <td>0.270798</td>\n",
       "      <td>0.289101</td>\n",
       "      <td>0.236815</td>\n",
       "      <td>-0.155929</td>\n",
       "      <td>0.136698</td>\n",
       "      <td>0.546364</td>\n",
       "      <td>-0.071747</td>\n",
       "      <td>0.072343</td>\n",
       "      <td>0.643720</td>\n",
       "    </tr>\n",
       "    <tr>\n",
       "      <th>Malic_Acid</th>\n",
       "      <td>0.437776</td>\n",
       "      <td>0.094397</td>\n",
       "      <td>1.000000</td>\n",
       "      <td>0.164045</td>\n",
       "      <td>0.288500</td>\n",
       "      <td>-0.054575</td>\n",
       "      <td>-0.335167</td>\n",
       "      <td>-0.411007</td>\n",
       "      <td>0.292977</td>\n",
       "      <td>-0.220746</td>\n",
       "      <td>0.248985</td>\n",
       "      <td>-0.561296</td>\n",
       "      <td>-0.368710</td>\n",
       "      <td>-0.192011</td>\n",
       "    </tr>\n",
       "    <tr>\n",
       "      <th>Ash</th>\n",
       "      <td>-0.049643</td>\n",
       "      <td>0.211545</td>\n",
       "      <td>0.164045</td>\n",
       "      <td>1.000000</td>\n",
       "      <td>0.443367</td>\n",
       "      <td>0.286587</td>\n",
       "      <td>0.128980</td>\n",
       "      <td>0.115077</td>\n",
       "      <td>0.186230</td>\n",
       "      <td>0.009652</td>\n",
       "      <td>0.258887</td>\n",
       "      <td>-0.074667</td>\n",
       "      <td>0.003911</td>\n",
       "      <td>0.223626</td>\n",
       "    </tr>\n",
       "    <tr>\n",
       "      <th>Alcalinity_of_Ash</th>\n",
       "      <td>0.517859</td>\n",
       "      <td>-0.310235</td>\n",
       "      <td>0.288500</td>\n",
       "      <td>0.443367</td>\n",
       "      <td>1.000000</td>\n",
       "      <td>-0.083333</td>\n",
       "      <td>-0.321113</td>\n",
       "      <td>-0.351370</td>\n",
       "      <td>0.361922</td>\n",
       "      <td>-0.197327</td>\n",
       "      <td>0.018732</td>\n",
       "      <td>-0.273955</td>\n",
       "      <td>-0.276769</td>\n",
       "      <td>-0.440597</td>\n",
       "    </tr>\n",
       "    <tr>\n",
       "      <th>Magnesium</th>\n",
       "      <td>-0.209179</td>\n",
       "      <td>0.270798</td>\n",
       "      <td>-0.054575</td>\n",
       "      <td>0.286587</td>\n",
       "      <td>-0.083333</td>\n",
       "      <td>1.000000</td>\n",
       "      <td>0.214401</td>\n",
       "      <td>0.195784</td>\n",
       "      <td>-0.256294</td>\n",
       "      <td>0.236441</td>\n",
       "      <td>0.199950</td>\n",
       "      <td>0.055398</td>\n",
       "      <td>0.066004</td>\n",
       "      <td>0.393351</td>\n",
       "    </tr>\n",
       "    <tr>\n",
       "      <th>Total_phenols</th>\n",
       "      <td>-0.719163</td>\n",
       "      <td>0.289101</td>\n",
       "      <td>-0.335167</td>\n",
       "      <td>0.128980</td>\n",
       "      <td>-0.321113</td>\n",
       "      <td>0.214401</td>\n",
       "      <td>1.000000</td>\n",
       "      <td>0.864564</td>\n",
       "      <td>-0.449935</td>\n",
       "      <td>0.612413</td>\n",
       "      <td>-0.055136</td>\n",
       "      <td>0.433681</td>\n",
       "      <td>0.699949</td>\n",
       "      <td>0.498115</td>\n",
       "    </tr>\n",
       "    <tr>\n",
       "      <th>Falvanoids</th>\n",
       "      <td>-0.847498</td>\n",
       "      <td>0.236815</td>\n",
       "      <td>-0.411007</td>\n",
       "      <td>0.115077</td>\n",
       "      <td>-0.351370</td>\n",
       "      <td>0.195784</td>\n",
       "      <td>0.864564</td>\n",
       "      <td>1.000000</td>\n",
       "      <td>-0.537900</td>\n",
       "      <td>0.652692</td>\n",
       "      <td>-0.172379</td>\n",
       "      <td>0.543479</td>\n",
       "      <td>0.787194</td>\n",
       "      <td>0.494193</td>\n",
       "    </tr>\n",
       "    <tr>\n",
       "      <th>Nonflavanoid_phenols</th>\n",
       "      <td>0.489109</td>\n",
       "      <td>-0.155929</td>\n",
       "      <td>0.292977</td>\n",
       "      <td>0.186230</td>\n",
       "      <td>0.361922</td>\n",
       "      <td>-0.256294</td>\n",
       "      <td>-0.449935</td>\n",
       "      <td>-0.537900</td>\n",
       "      <td>1.000000</td>\n",
       "      <td>-0.365845</td>\n",
       "      <td>0.139057</td>\n",
       "      <td>-0.262640</td>\n",
       "      <td>-0.503270</td>\n",
       "      <td>-0.311385</td>\n",
       "    </tr>\n",
       "    <tr>\n",
       "      <th>Proanthocyanins</th>\n",
       "      <td>-0.499130</td>\n",
       "      <td>0.136698</td>\n",
       "      <td>-0.220746</td>\n",
       "      <td>0.009652</td>\n",
       "      <td>-0.197327</td>\n",
       "      <td>0.236441</td>\n",
       "      <td>0.612413</td>\n",
       "      <td>0.652692</td>\n",
       "      <td>-0.365845</td>\n",
       "      <td>1.000000</td>\n",
       "      <td>-0.025250</td>\n",
       "      <td>0.295544</td>\n",
       "      <td>0.519067</td>\n",
       "      <td>0.330417</td>\n",
       "    </tr>\n",
       "    <tr>\n",
       "      <th>Color_intensity</th>\n",
       "      <td>0.265668</td>\n",
       "      <td>0.546364</td>\n",
       "      <td>0.248985</td>\n",
       "      <td>0.258887</td>\n",
       "      <td>0.018732</td>\n",
       "      <td>0.199950</td>\n",
       "      <td>-0.055136</td>\n",
       "      <td>-0.172379</td>\n",
       "      <td>0.139057</td>\n",
       "      <td>-0.025250</td>\n",
       "      <td>1.000000</td>\n",
       "      <td>-0.521813</td>\n",
       "      <td>-0.428815</td>\n",
       "      <td>0.316100</td>\n",
       "    </tr>\n",
       "    <tr>\n",
       "      <th>Hue</th>\n",
       "      <td>-0.617369</td>\n",
       "      <td>-0.071747</td>\n",
       "      <td>-0.561296</td>\n",
       "      <td>-0.074667</td>\n",
       "      <td>-0.273955</td>\n",
       "      <td>0.055398</td>\n",
       "      <td>0.433681</td>\n",
       "      <td>0.543479</td>\n",
       "      <td>-0.262640</td>\n",
       "      <td>0.295544</td>\n",
       "      <td>-0.521813</td>\n",
       "      <td>1.000000</td>\n",
       "      <td>0.565468</td>\n",
       "      <td>0.236183</td>\n",
       "    </tr>\n",
       "    <tr>\n",
       "      <th>OD280</th>\n",
       "      <td>-0.788230</td>\n",
       "      <td>0.072343</td>\n",
       "      <td>-0.368710</td>\n",
       "      <td>0.003911</td>\n",
       "      <td>-0.276769</td>\n",
       "      <td>0.066004</td>\n",
       "      <td>0.699949</td>\n",
       "      <td>0.787194</td>\n",
       "      <td>-0.503270</td>\n",
       "      <td>0.519067</td>\n",
       "      <td>-0.428815</td>\n",
       "      <td>0.565468</td>\n",
       "      <td>1.000000</td>\n",
       "      <td>0.312761</td>\n",
       "    </tr>\n",
       "    <tr>\n",
       "      <th>Proline</th>\n",
       "      <td>-0.633717</td>\n",
       "      <td>0.643720</td>\n",
       "      <td>-0.192011</td>\n",
       "      <td>0.223626</td>\n",
       "      <td>-0.440597</td>\n",
       "      <td>0.393351</td>\n",
       "      <td>0.498115</td>\n",
       "      <td>0.494193</td>\n",
       "      <td>-0.311385</td>\n",
       "      <td>0.330417</td>\n",
       "      <td>0.316100</td>\n",
       "      <td>0.236183</td>\n",
       "      <td>0.312761</td>\n",
       "      <td>1.000000</td>\n",
       "    </tr>\n",
       "  </tbody>\n",
       "</table>\n",
       "</div>"
      ],
      "text/plain": [
       "                      Cultivator   Alcohol  Malic_Acid       Ash  \\\n",
       "Cultivator              1.000000 -0.328222    0.437776 -0.049643   \n",
       "Alcohol                -0.328222  1.000000    0.094397  0.211545   \n",
       "Malic_Acid              0.437776  0.094397    1.000000  0.164045   \n",
       "Ash                    -0.049643  0.211545    0.164045  1.000000   \n",
       "Alcalinity_of_Ash       0.517859 -0.310235    0.288500  0.443367   \n",
       "Magnesium              -0.209179  0.270798   -0.054575  0.286587   \n",
       "Total_phenols          -0.719163  0.289101   -0.335167  0.128980   \n",
       "Falvanoids             -0.847498  0.236815   -0.411007  0.115077   \n",
       "Nonflavanoid_phenols    0.489109 -0.155929    0.292977  0.186230   \n",
       "Proanthocyanins        -0.499130  0.136698   -0.220746  0.009652   \n",
       "Color_intensity         0.265668  0.546364    0.248985  0.258887   \n",
       "Hue                    -0.617369 -0.071747   -0.561296 -0.074667   \n",
       "OD280                  -0.788230  0.072343   -0.368710  0.003911   \n",
       "Proline                -0.633717  0.643720   -0.192011  0.223626   \n",
       "\n",
       "                      Alcalinity_of_Ash  Magnesium  Total_phenols  Falvanoids  \\\n",
       "Cultivator                     0.517859  -0.209179      -0.719163   -0.847498   \n",
       "Alcohol                       -0.310235   0.270798       0.289101    0.236815   \n",
       "Malic_Acid                     0.288500  -0.054575      -0.335167   -0.411007   \n",
       "Ash                            0.443367   0.286587       0.128980    0.115077   \n",
       "Alcalinity_of_Ash              1.000000  -0.083333      -0.321113   -0.351370   \n",
       "Magnesium                     -0.083333   1.000000       0.214401    0.195784   \n",
       "Total_phenols                 -0.321113   0.214401       1.000000    0.864564   \n",
       "Falvanoids                    -0.351370   0.195784       0.864564    1.000000   \n",
       "Nonflavanoid_phenols           0.361922  -0.256294      -0.449935   -0.537900   \n",
       "Proanthocyanins               -0.197327   0.236441       0.612413    0.652692   \n",
       "Color_intensity                0.018732   0.199950      -0.055136   -0.172379   \n",
       "Hue                           -0.273955   0.055398       0.433681    0.543479   \n",
       "OD280                         -0.276769   0.066004       0.699949    0.787194   \n",
       "Proline                       -0.440597   0.393351       0.498115    0.494193   \n",
       "\n",
       "                      Nonflavanoid_phenols  Proanthocyanins  Color_intensity  \\\n",
       "Cultivator                        0.489109        -0.499130         0.265668   \n",
       "Alcohol                          -0.155929         0.136698         0.546364   \n",
       "Malic_Acid                        0.292977        -0.220746         0.248985   \n",
       "Ash                               0.186230         0.009652         0.258887   \n",
       "Alcalinity_of_Ash                 0.361922        -0.197327         0.018732   \n",
       "Magnesium                        -0.256294         0.236441         0.199950   \n",
       "Total_phenols                    -0.449935         0.612413        -0.055136   \n",
       "Falvanoids                       -0.537900         0.652692        -0.172379   \n",
       "Nonflavanoid_phenols              1.000000        -0.365845         0.139057   \n",
       "Proanthocyanins                  -0.365845         1.000000        -0.025250   \n",
       "Color_intensity                   0.139057        -0.025250         1.000000   \n",
       "Hue                              -0.262640         0.295544        -0.521813   \n",
       "OD280                            -0.503270         0.519067        -0.428815   \n",
       "Proline                          -0.311385         0.330417         0.316100   \n",
       "\n",
       "                           Hue     OD280   Proline  \n",
       "Cultivator           -0.617369 -0.788230 -0.633717  \n",
       "Alcohol              -0.071747  0.072343  0.643720  \n",
       "Malic_Acid           -0.561296 -0.368710 -0.192011  \n",
       "Ash                  -0.074667  0.003911  0.223626  \n",
       "Alcalinity_of_Ash    -0.273955 -0.276769 -0.440597  \n",
       "Magnesium             0.055398  0.066004  0.393351  \n",
       "Total_phenols         0.433681  0.699949  0.498115  \n",
       "Falvanoids            0.543479  0.787194  0.494193  \n",
       "Nonflavanoid_phenols -0.262640 -0.503270 -0.311385  \n",
       "Proanthocyanins       0.295544  0.519067  0.330417  \n",
       "Color_intensity      -0.521813 -0.428815  0.316100  \n",
       "Hue                   1.000000  0.565468  0.236183  \n",
       "OD280                 0.565468  1.000000  0.312761  \n",
       "Proline               0.236183  0.312761  1.000000  "
      ]
     },
     "execution_count": 6,
     "metadata": {},
     "output_type": "execute_result"
    }
   ],
   "source": [
    "df.corr()"
   ]
  },
  {
   "cell_type": "markdown",
   "metadata": {},
   "source": [
    "**Ash is the weakest column**"
   ]
  },
  {
   "cell_type": "markdown",
   "metadata": {},
   "source": [
    "## i. **Weak Correlated columns**"
   ]
  },
  {
   "cell_type": "code",
   "execution_count": 7,
   "metadata": {},
   "outputs": [
    {
     "data": {
      "image/png": "[encoded data removed]",
      "text/plain": [
       "<Figure size 432x288 with 1 Axes>"
      ]
     },
     "metadata": {
      "needs_background": "light"
     },
     "output_type": "display_data"
    }
   ],
   "source": [
    "sns.kdeplot ( df['Ash'] )  ; "
   ]
  },
  {
   "cell_type": "code",
   "execution_count": 8,
   "metadata": {},
   "outputs": [],
   "source": [
    "g1  =  df [ df['Cultivator']==1 ]\n",
    "g2  =  df [ df['Cultivator']==2 ]\n",
    "g3  =  df [ df['Cultivator']==3 ]"
   ]
  },
  {
   "cell_type": "code",
   "execution_count": 9,
   "metadata": {},
   "outputs": [
    {
     "data": {
      "text/plain": [
       "F_onewayResult(statistic=13.312901199991039, pvalue=4.149967974793239e-06)"
      ]
     },
     "execution_count": 9,
     "metadata": {},
     "output_type": "execute_result"
    }
   ],
   "source": [
    "stats.f_oneway ( g1['Ash'] , g2['Ash'] , g3['Ash'] )"
   ]
  },
  {
   "cell_type": "markdown",
   "metadata": {},
   "source": [
    "## ii. **Target column**"
   ]
  },
  {
   "cell_type": "code",
   "execution_count": 10,
   "metadata": {},
   "outputs": [
    {
     "data": {
      "text/plain": [
       "2    71\n",
       "1    59\n",
       "3    48\n",
       "Name: Cultivator, dtype: int64"
      ]
     },
     "execution_count": 10,
     "metadata": {},
     "output_type": "execute_result"
    }
   ],
   "source": [
    "df ['Cultivator'].value_counts()"
   ]
  },
  {
   "cell_type": "markdown",
   "metadata": {},
   "source": [
    "## iii. **Scaling**"
   ]
  },
  {
   "cell_type": "code",
   "execution_count": 11,
   "metadata": {},
   "outputs": [],
   "source": [
    "x = df .drop ('Cultivator' , axis=1)\n",
    "y = df ['Cultivator']"
   ]
  },
  {
   "cell_type": "code",
   "execution_count": 12,
   "metadata": {},
   "outputs": [],
   "source": [
    "sc = StandardScaler()\n",
    "\n",
    "x  = sc.fit_transform(x)"
   ]
  },
  {
   "cell_type": "markdown",
   "metadata": {},
   "source": [
    "<a id='section_23'></a>\n",
    "# **Part II - Model Building**"
   ]
  },
  {
   "cell_type": "code",
   "execution_count": 13,
   "metadata": {},
   "outputs": [],
   "source": [
    "x_train, x_test, y_train, y_test  =  train_test_split ( x, y, test_size =0.4, random_state =0 )\n",
    "\n",
    "kf  =  KFold (shuffle=True, n_splits=3, random_state=0) "
   ]
  },
  {
   "cell_type": "markdown",
   "metadata": {},
   "source": [
    "<a id='section_24'></a>\n",
    "## **1 - LOR**"
   ]
  },
  {
   "cell_type": "code",
   "execution_count": 14,
   "metadata": {},
   "outputs": [],
   "source": [
    "LOR = LogisticRegression()           "
   ]
  },
  {
   "cell_type": "markdown",
   "metadata": {},
   "source": [
    "<a id='section_25'></a>\n",
    "## **2 - KNN**"
   ]
  },
  {
   "cell_type": "markdown",
   "metadata": {},
   "source": [
    "### Finding best hyper-parameter"
   ]
  },
  {
   "cell_type": "code",
   "execution_count": 15,
   "metadata": {},
   "outputs": [
    {
     "data": {
      "text/plain": [
       "{'n_neighbors': 15, 'weights': 'distance'}"
      ]
     },
     "execution_count": 15,
     "metadata": {},
     "output_type": "execute_result"
    }
   ],
   "source": [
    "KNN = KNeighborsClassifier ()\n",
    "\n",
    "param = { 'n_neighbors': np.arange(1,20)   ,   'weights':['uniform','distance'] } \n",
    "\n",
    "GS  =  GridSearchCV ( KNN , param , cv=kf , scoring='f1_weighted' )\n",
    "\n",
    "GS.fit ( x_train , y_train )\n",
    "\n",
    "GS.best_params_"
   ]
  },
  {
   "cell_type": "code",
   "execution_count": 16,
   "metadata": {},
   "outputs": [],
   "source": [
    "KNN = KNeighborsClassifier ( n_neighbors =15  ,  weights ='distance') "
   ]
  },
  {
   "cell_type": "markdown",
   "metadata": {},
   "source": [
    "<a id='section_3'></a>\n",
    "## **3 - Naive Bayes**"
   ]
  },
  {
   "cell_type": "code",
   "execution_count": 17,
   "metadata": {},
   "outputs": [],
   "source": [
    "NB = GaussianNB()"
   ]
  },
  {
   "cell_type": "markdown",
   "metadata": {},
   "source": [
    "<a id='section_4'></a>\n",
    "## **4 - Decision Tree**"
   ]
  },
  {
   "cell_type": "markdown",
   "metadata": {},
   "source": [
    "### **4.1 - Fully Grown**"
   ]
  },
  {
   "cell_type": "code",
   "execution_count": 18,
   "metadata": {},
   "outputs": [],
   "source": [
    "FDT = DecisionTreeClassifier (random_state=0)             "
   ]
  },
  {
   "cell_type": "markdown",
   "metadata": {},
   "source": [
    "### **4.2 - Regularised**"
   ]
  },
  {
   "cell_type": "markdown",
   "metadata": {},
   "source": [
    "* Finding best hyper-parameter"
   ]
  },
  {
   "cell_type": "code",
   "execution_count": 20,
   "metadata": {},
   "outputs": [
    {
     "data": {
      "text/plain": [
       "{'criterion': 'entropy', 'max_depth': 3}"
      ]
     },
     "execution_count": 20,
     "metadata": {},
     "output_type": "execute_result"
    }
   ],
   "source": [
    "param = { 'max_depth': np.arange(1,10)   ,   'criterion':['entropy','gini'] } \n",
    "\n",
    "GS  =  GridSearchCV ( FDT , param , cv=kf , scoring='f1_weighted')\n",
    "\n",
    "GS.fit ( x_train , y_train )\n",
    "\n",
    "GS.best_params_"
   ]
  },
  {
   "cell_type": "code",
   "execution_count": 21,
   "metadata": {},
   "outputs": [],
   "source": [
    "RDT = DecisionTreeClassifier (criterion='entropy' , max_depth=3 ,  random_state=0)"
   ]
  },
  {
   "cell_type": "markdown",
   "metadata": {},
   "source": [
    "<a id='section_5'></a>\n",
    "## **5 - Random Forest**"
   ]
  },
  {
   "cell_type": "markdown",
   "metadata": {},
   "source": [
    "* Finding best n_estimator for least VE"
   ]
  },
  {
   "cell_type": "code",
   "execution_count": 22,
   "metadata": {},
   "outputs": [
    {
     "data": {
      "text/plain": [
       "11"
      ]
     },
     "execution_count": 22,
     "metadata": {},
     "output_type": "execute_result"
    }
   ],
   "source": [
    "VE = []\n",
    "\n",
    "\n",
    "for i in np.arange(1,20):\n",
    "    \n",
    "    RF = RandomForestClassifier ( n_estimators =i, criterion ='entropy', random_state =0 )\n",
    "    \n",
    "    score = cross_val_score ( RF ,  x_train ,  y_train ,  cv=kf,  scoring='f1_weighted' )\n",
    "    \n",
    "    VE.append ( np.std(score,ddof=1) )\n",
    "    \n",
    "    \n",
    "np.argmin(VE)"
   ]
  },
  {
   "cell_type": "code",
   "execution_count": 23,
   "metadata": {},
   "outputs": [],
   "source": [
    "RF = RandomForestClassifier ( n_estimators=12 , criterion='entropy', random_state =0 )  "
   ]
  },
  {
   "cell_type": "markdown",
   "metadata": {},
   "source": [
    "<a id='section_6'></a>\n",
    "## **6 - Bagging**"
   ]
  },
  {
   "cell_type": "markdown",
   "metadata": {},
   "source": [
    "### **6.1 - LOR_Bag**"
   ]
  },
  {
   "cell_type": "code",
   "execution_count": 24,
   "metadata": {},
   "outputs": [
    {
     "data": {
      "text/plain": [
       "18"
      ]
     },
     "execution_count": 24,
     "metadata": {},
     "output_type": "execute_result"
    }
   ],
   "source": [
    "VE = []\n",
    "\n",
    "for i in np.arange(1,30):                                                    \n",
    "    \n",
    "    LOR_bag = BaggingClassifier   ( base_estimator = LOR , n_estimators =i, random_state =0 )\n",
    "    \n",
    "    score   = cross_val_score     ( LOR_bag ,  x_train ,  y_train ,  cv=kf,  scoring='f1_weighted' )\n",
    "    \n",
    "    VE.append ( np.std(score,ddof=1) )\n",
    "    \n",
    "\n",
    "np.argmin(VE)"
   ]
  },
  {
   "cell_type": "code",
   "execution_count": 25,
   "metadata": {},
   "outputs": [],
   "source": [
    "LOR_bag = BaggingClassifier   ( base_estimator = LOR , n_estimators =19, random_state =0 )"
   ]
  },
  {
   "cell_type": "markdown",
   "metadata": {},
   "source": [
    "### **6.2 - NB_Bag**"
   ]
  },
  {
   "cell_type": "code",
   "execution_count": 26,
   "metadata": {},
   "outputs": [
    {
     "data": {
      "text/plain": [
       "2"
      ]
     },
     "execution_count": 26,
     "metadata": {},
     "output_type": "execute_result"
    }
   ],
   "source": [
    "VE = []\n",
    "\n",
    "for i in np.arange(1,20):\n",
    "    \n",
    "    NB_bag = BaggingClassifier ( base_estimator = NB , n_estimators =i, random_state =0 )\n",
    "    \n",
    "    score   = cross_val_score ( NB_bag ,  x_train ,  y_train ,  cv=kf,  scoring='f1_weighted' )\n",
    "    \n",
    "    VE.append ( np.std(score,ddof=1) )\n",
    "    \n",
    "    \n",
    "np.argmin(VE) "
   ]
  },
  {
   "cell_type": "code",
   "execution_count": 27,
   "metadata": {},
   "outputs": [],
   "source": [
    "NB_bag = BaggingClassifier ( base_estimator = NB , n_estimators =3, random_state =0 )"
   ]
  },
  {
   "cell_type": "markdown",
   "metadata": {},
   "source": [
    "### **6.3 - KNN_Bag**"
   ]
  },
  {
   "cell_type": "code",
   "execution_count": 28,
   "metadata": {},
   "outputs": [
    {
     "data": {
      "text/plain": [
       "18"
      ]
     },
     "execution_count": 28,
     "metadata": {},
     "output_type": "execute_result"
    }
   ],
   "source": [
    "VE = []\n",
    "\n",
    "for i in np.arange(1,20):\n",
    "    \n",
    "    KNN_bag = BaggingClassifier ( base_estimator = KNN , n_estimators =i, random_state =0 )\n",
    "    \n",
    "    score   = cross_val_score ( KNN_bag ,  x_train ,  y_train ,  cv=kf,  scoring='f1_weighted' )\n",
    "    \n",
    "    VE.append ( np.std(score,ddof=1) )\n",
    "    \n",
    "\n",
    "np.argmin(VE) "
   ]
  },
  {
   "cell_type": "code",
   "execution_count": 29,
   "metadata": {},
   "outputs": [],
   "source": [
    "KNN_bag = BaggingClassifier ( base_estimator = KNN , n_estimators =19, random_state =0 )"
   ]
  },
  {
   "cell_type": "markdown",
   "metadata": {},
   "source": [
    "<a id='section_7'></a>\n",
    "## **7 - Boosting**"
   ]
  },
  {
   "cell_type": "markdown",
   "metadata": {},
   "source": [
    "## **7.1 - AdaBoost**"
   ]
  },
  {
   "cell_type": "markdown",
   "metadata": {},
   "source": [
    "### 7.1.1 - **Regularised DT boost** (default)"
   ]
  },
  {
   "cell_type": "code",
   "execution_count": 30,
   "metadata": {},
   "outputs": [
    {
     "data": {
      "text/plain": [
       "4"
      ]
     },
     "execution_count": 30,
     "metadata": {},
     "output_type": "execute_result"
    }
   ],
   "source": [
    "BE = []\n",
    "\n",
    "for i in np.arange(1,20):                                                                    \n",
    "    \n",
    "    RDT_boost   =  AdaBoostClassifier   ( n_estimators =i, random_state =0 )      # default base_estimator : Reg DT\n",
    "    \n",
    "    score       =  cross_val_score      ( RDT_boost ,  x_train ,  y_train ,  cv=kf,  scoring='f1_weighted' )\n",
    "    \n",
    "    BE.append ( np.mean(1-score)  )\n",
    "    \n",
    "    \n",
    "np.argmin(BE)"
   ]
  },
  {
   "cell_type": "code",
   "execution_count": 31,
   "metadata": {},
   "outputs": [],
   "source": [
    "RDT_boost =  AdaBoostClassifier   ( n_estimators =5, random_state =0 )   "
   ]
  },
  {
   "cell_type": "markdown",
   "metadata": {},
   "source": [
    "### 7.1.2 - **RF boost**"
   ]
  },
  {
   "cell_type": "code",
   "execution_count": 32,
   "metadata": {},
   "outputs": [
    {
     "data": {
      "text/plain": [
       "0"
      ]
     },
     "execution_count": 32,
     "metadata": {},
     "output_type": "execute_result"
    }
   ],
   "source": [
    "BE = []\n",
    "\n",
    "for i in np.arange(1,20):                                                                    \n",
    "    \n",
    "    RF_boost =  AdaBoostClassifier  ( base_estimator = RF , n_estimators =i, random_state =0 )                                   \n",
    "    \n",
    "    score    = cross_val_score      ( RF_boost ,  x_train ,  y_train ,  cv=kf,  scoring='f1_weighted' )\n",
    "    \n",
    "    BE.append ( np.mean(1-score)    )\n",
    "    \n",
    "    \n",
    "np.argmin(BE)"
   ]
  },
  {
   "cell_type": "markdown",
   "metadata": {},
   "source": [
    "* No scope for Boosting here"
   ]
  },
  {
   "cell_type": "markdown",
   "metadata": {},
   "source": [
    "## **7.2 - XG Boost**"
   ]
  },
  {
   "cell_type": "code",
   "execution_count": 33,
   "metadata": {},
   "outputs": [
    {
     "data": {
      "text/plain": [
       "7"
      ]
     },
     "execution_count": 33,
     "metadata": {},
     "output_type": "execute_result"
    }
   ],
   "source": [
    "BE = []\n",
    "\n",
    "for i in np.arange(1,20):                                                                    \n",
    "    \n",
    "    XG_boost =  GradientBoostingClassifier  ( n_estimators = i , random_state =0 )                                   \n",
    "    \n",
    "    score    =  cross_val_score             ( XG_boost ,  x_train ,  y_train ,  cv=kf,  scoring='f1_weighted' )\n",
    "    \n",
    "    BE.append ( np.mean(1-score)    )\n",
    "    \n",
    "    \n",
    "np.argmin(BE)"
   ]
  },
  {
   "cell_type": "code",
   "execution_count": 34,
   "metadata": {},
   "outputs": [],
   "source": [
    "XG_boost =  GradientBoostingClassifier  ( n_estimators =8, random_state =0 ) "
   ]
  },
  {
   "cell_type": "markdown",
   "metadata": {},
   "source": [
    "<a id='section_21'></a>\n",
    "# **Part III - Model Selection**"
   ]
  },
  {
   "cell_type": "markdown",
   "metadata": {},
   "source": [
    "<a id='section_8'></a>\n",
    "## i. **Scores**"
   ]
  },
  {
   "cell_type": "code",
   "execution_count": 35,
   "metadata": {},
   "outputs": [],
   "source": [
    "models = []\n",
    "\n",
    "models.append  (( 'LOR'       , LOR        ))\n",
    "models.append  (( 'NB'        , NB         ))\n",
    "models.append  (( 'KNN'       , KNN        ))\n",
    "\n",
    "\n",
    "\n",
    "models.append  (( 'FDT'       , FDT        ))\n",
    "models.append  (( 'RDT'       , RDT        ))\n",
    "models.append  (( 'RF'        , RF         ))\n",
    "\n",
    "\n",
    "\n",
    "models.append  (( 'LOR_bag'   , LOR_bag    ))\n",
    "models.append  (( 'NB_bag'    , NB_bag     ))\n",
    "models.append  (( 'KNN_bag'   , KNN_bag    ))\n",
    "\n",
    "\n",
    "models.append  (( 'RDT_boost' , RDT_boost  ))\n",
    "#models.append  (( 'RF_boost'  , RF_boost   ))\n",
    "models.append  (( 'XG_boost'  , XG_boost   ))"
   ]
  },
  {
   "cell_type": "code",
   "execution_count": 36,
   "metadata": {},
   "outputs": [],
   "source": [
    "result =[]\n",
    "\n",
    "for  i,j  in  models:\n",
    "    \n",
    "    score = cross_val_score ( j , x_train , y_train , cv =kf, scoring ='f1_weighted' )\n",
    "    \n",
    "    result.append ( { 'Name': i   ,   'BE': np.mean(1-score)   ,   'VE': np.std(score,ddof=1)  } )                \n",
    "\n",
    "\n",
    "table = pd.DataFrame(result)"
   ]
  },
  {
   "cell_type": "markdown",
   "metadata": {},
   "source": [
    "<a id='section_9'></a>\n",
    "## ii - **Rank**"
   ]
  },
  {
   "cell_type": "markdown",
   "metadata": {},
   "source": [
    "### By least Bias Error"
   ]
  },
  {
   "cell_type": "code",
   "execution_count": 39,
   "metadata": {},
   "outputs": [
    {
     "data": {
      "text/html": [
       "<style  type=\"text/css\" >\n",
       "</style><table id=\"T_37868f2e_a5ce_11eb_9f4f_92e8483f70d5\" ><thead>    <tr>        <th class=\"col_heading level0 col0\" >Name</th>        <th class=\"col_heading level0 col1\" >BE</th>        <th class=\"col_heading level0 col2\" >VE</th>    </tr></thead><tbody>\n",
       "                <tr>\n",
       "                                <td id=\"T_37868f2e_a5ce_11eb_9f4f_92e8483f70d5row0_col0\" class=\"data row0 col0\" >KNN</td>\n",
       "                        <td id=\"T_37868f2e_a5ce_11eb_9f4f_92e8483f70d5row0_col1\" class=\"data row0 col1\" >0.009136</td>\n",
       "                        <td id=\"T_37868f2e_a5ce_11eb_9f4f_92e8483f70d5row0_col2\" class=\"data row0 col2\" >0.015824</td>\n",
       "            </tr>\n",
       "            <tr>\n",
       "                                <td id=\"T_37868f2e_a5ce_11eb_9f4f_92e8483f70d5row1_col0\" class=\"data row1 col0\" >KNN_bag</td>\n",
       "                        <td id=\"T_37868f2e_a5ce_11eb_9f4f_92e8483f70d5row1_col1\" class=\"data row1 col1\" >0.018496</td>\n",
       "                        <td id=\"T_37868f2e_a5ce_11eb_9f4f_92e8483f70d5row1_col2\" class=\"data row1 col2\" >0.016022</td>\n",
       "            </tr>\n",
       "            <tr>\n",
       "                                <td id=\"T_37868f2e_a5ce_11eb_9f4f_92e8483f70d5row2_col0\" class=\"data row2 col0\" >NB</td>\n",
       "                        <td id=\"T_37868f2e_a5ce_11eb_9f4f_92e8483f70d5row2_col1\" class=\"data row2 col1\" >0.028073</td>\n",
       "                        <td id=\"T_37868f2e_a5ce_11eb_9f4f_92e8483f70d5row2_col2\" class=\"data row2 col2\" >0.028412</td>\n",
       "            </tr>\n",
       "            <tr>\n",
       "                                <td id=\"T_37868f2e_a5ce_11eb_9f4f_92e8483f70d5row3_col0\" class=\"data row3 col0\" >NB_bag</td>\n",
       "                        <td id=\"T_37868f2e_a5ce_11eb_9f4f_92e8483f70d5row3_col1\" class=\"data row3 col1\" >0.028217</td>\n",
       "                        <td id=\"T_37868f2e_a5ce_11eb_9f4f_92e8483f70d5row3_col2\" class=\"data row3 col2\" >0.000714</td>\n",
       "            </tr>\n",
       "            <tr>\n",
       "                                <td id=\"T_37868f2e_a5ce_11eb_9f4f_92e8483f70d5row4_col0\" class=\"data row4 col0\" >LOR</td>\n",
       "                        <td id=\"T_37868f2e_a5ce_11eb_9f4f_92e8483f70d5row4_col1\" class=\"data row4 col1\" >0.028337</td>\n",
       "                        <td id=\"T_37868f2e_a5ce_11eb_9f4f_92e8483f70d5row4_col2\" class=\"data row4 col2\" >0.000805</td>\n",
       "            </tr>\n",
       "    </tbody></table>"
      ],
      "text/plain": [
       "<pandas.io.formats.style.Styler at 0x20f879ae088>"
      ]
     },
     "execution_count": 39,
     "metadata": {},
     "output_type": "execute_result"
    }
   ],
   "source": [
    "table.sort_values (by='BE')    .head()      .style.hide_index()"
   ]
  },
  {
   "cell_type": "markdown",
   "metadata": {},
   "source": [
    "### By least Variance Error"
   ]
  },
  {
   "cell_type": "code",
   "execution_count": 40,
   "metadata": {},
   "outputs": [
    {
     "data": {
      "text/html": [
       "<style  type=\"text/css\" >\n",
       "</style><table id=\"T_39151068_a5ce_11eb_b6d3_92e8483f70d5\" ><thead>    <tr>        <th class=\"col_heading level0 col0\" >Name</th>        <th class=\"col_heading level0 col1\" >BE</th>        <th class=\"col_heading level0 col2\" >VE</th>    </tr></thead><tbody>\n",
       "                <tr>\n",
       "                                <td id=\"T_39151068_a5ce_11eb_b6d3_92e8483f70d5row0_col0\" class=\"data row0 col0\" >NB_bag</td>\n",
       "                        <td id=\"T_39151068_a5ce_11eb_b6d3_92e8483f70d5row0_col1\" class=\"data row0 col1\" >0.028217</td>\n",
       "                        <td id=\"T_39151068_a5ce_11eb_b6d3_92e8483f70d5row0_col2\" class=\"data row0 col2\" >0.000714</td>\n",
       "            </tr>\n",
       "            <tr>\n",
       "                                <td id=\"T_39151068_a5ce_11eb_b6d3_92e8483f70d5row1_col0\" class=\"data row1 col0\" >LOR</td>\n",
       "                        <td id=\"T_39151068_a5ce_11eb_b6d3_92e8483f70d5row1_col1\" class=\"data row1 col1\" >0.028337</td>\n",
       "                        <td id=\"T_39151068_a5ce_11eb_b6d3_92e8483f70d5row1_col2\" class=\"data row1 col2\" >0.000805</td>\n",
       "            </tr>\n",
       "            <tr>\n",
       "                                <td id=\"T_39151068_a5ce_11eb_b6d3_92e8483f70d5row2_col0\" class=\"data row2 col0\" >LOR_bag</td>\n",
       "                        <td id=\"T_39151068_a5ce_11eb_b6d3_92e8483f70d5row2_col1\" class=\"data row2 col1\" >0.028337</td>\n",
       "                        <td id=\"T_39151068_a5ce_11eb_b6d3_92e8483f70d5row2_col2\" class=\"data row2 col2\" >0.000805</td>\n",
       "            </tr>\n",
       "            <tr>\n",
       "                                <td id=\"T_39151068_a5ce_11eb_b6d3_92e8483f70d5row3_col0\" class=\"data row3 col0\" >XG_boost</td>\n",
       "                        <td id=\"T_39151068_a5ce_11eb_b6d3_92e8483f70d5row3_col1\" class=\"data row3 col1\" >0.065813</td>\n",
       "                        <td id=\"T_39151068_a5ce_11eb_b6d3_92e8483f70d5row3_col2\" class=\"data row3 col2\" >0.014688</td>\n",
       "            </tr>\n",
       "            <tr>\n",
       "                                <td id=\"T_39151068_a5ce_11eb_b6d3_92e8483f70d5row4_col0\" class=\"data row4 col0\" >KNN</td>\n",
       "                        <td id=\"T_39151068_a5ce_11eb_b6d3_92e8483f70d5row4_col1\" class=\"data row4 col1\" >0.009136</td>\n",
       "                        <td id=\"T_39151068_a5ce_11eb_b6d3_92e8483f70d5row4_col2\" class=\"data row4 col2\" >0.015824</td>\n",
       "            </tr>\n",
       "    </tbody></table>"
      ],
      "text/plain": [
       "<pandas.io.formats.style.Styler at 0x20f879c3ec8>"
      ]
     },
     "execution_count": 40,
     "metadata": {},
     "output_type": "execute_result"
    }
   ],
   "source": [
    "table.sort_values (by='VE')    .head()      .style.hide_index()"
   ]
  },
  {
   "cell_type": "markdown",
   "metadata": {},
   "source": [
    "<a id='section_10'></a>\n",
    "## iii - **Best Model**"
   ]
  },
  {
   "cell_type": "markdown",
   "metadata": {},
   "source": [
    "## *Naive Bayes Bagged*"
   ]
  },
  {
   "cell_type": "code",
   "execution_count": 42,
   "metadata": {},
   "outputs": [],
   "source": [
    "NB_bag.fit      ( x_train , y_train )\n",
    "\n",
    "y_pred   =    NB_bag.predict ( x_test )"
   ]
  },
  {
   "cell_type": "code",
   "execution_count": 44,
   "metadata": {},
   "outputs": [
    {
     "name": "stdout",
     "output_type": "stream",
     "text": [
      "0.9444444444444444\n",
      "              precision    recall  f1-score   support\n",
      "\n",
      "           1       1.00      0.92      0.96        24\n",
      "           2       0.87      1.00      0.93        27\n",
      "           3       1.00      0.90      0.95        21\n",
      "\n",
      "    accuracy                           0.94        72\n",
      "   macro avg       0.96      0.94      0.95        72\n",
      "weighted avg       0.95      0.94      0.95        72\n",
      "\n"
     ]
    }
   ],
   "source": [
    "print ( metrics.f1_score                ( y_pred , y_test , average='micro') )\n",
    "\n",
    "print ( metrics.classification_report   ( y_pred , y_test ) )"
   ]
  },
  {
   "cell_type": "code",
   "execution_count": 45,
   "metadata": {},
   "outputs": [
    {
     "name": "stdout",
     "output_type": "stream",
     "text": [
      "2    31\n",
      "1    22\n",
      "3    19\n",
      "Name: Cultivator, dtype: int64\n",
      "2    27\n",
      "1    24\n",
      "3    21\n",
      "dtype: int64\n"
     ]
    }
   ],
   "source": [
    "print  ( y_test .value_counts()        )              # ACTUAL\n",
    "\n",
    "print  ( pd .value_counts ( y_pred )   )              # PREDICTED"
   ]
  }
 ],
 "metadata": {
  "kernelspec": {
   "display_name": "Python 3",
   "language": "python",
   "name": "python3"
  },
  "language_info": {
   "codemirror_mode": {
    "name": "ipython",
    "version": 3
   },
   "file_extension": ".py",
   "mimetype": "text/x-python",
   "name": "python",
   "nbconvert_exporter": "python",
   "pygments_lexer": "ipython3",
   "version": "3.7.4"
  }
 },
 "nbformat": 4,
 "nbformat_minor": 4
}
