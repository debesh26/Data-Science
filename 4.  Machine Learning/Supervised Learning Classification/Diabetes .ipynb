{
 "cells": [
  {
   "cell_type": "markdown",
   "metadata": {},
   "source": [
    "# **Table of Contents**\n",
    "* [Exploration & Wrangling](#section_a)\n",
    "    <br><br>\n",
    "* [Model Building](#section_b)\n",
    "    * [LOR](#section_21)\n",
    "    * [KNN](#section_2)\n",
    "    * [NB](#section_3)\n",
    "    * [DT](#section_4)\n",
    "    * [RF](#section_5)\n",
    "    * [Bagging](#section_6)\n",
    "    * [Boosting](#section_7)\n",
    "    <br><br>\n",
    "* [Model Selection](#section_c)\n",
    "    * [Scores](#section_8)\n",
    "    * [Rank](#section_9)\n",
    "    * [Best Model](#section_10)"
   ]
  },
  {
   "cell_type": "code",
   "execution_count": 1,
   "metadata": {},
   "outputs": [],
   "source": [
    "import numpy             as np\n",
    "import pandas            as pd\n",
    "import matplotlib.pyplot as plt\n",
    "import seaborn           as sns\n",
    "\n",
    "import scipy.stats       as stats \n",
    "\n",
    "import warnings\n",
    "warnings.filterwarnings(\"ignore\")"
   ]
  },
  {
   "cell_type": "code",
   "execution_count": 2,
   "metadata": {},
   "outputs": [],
   "source": [
    "from  sklearn.linear_model     import   LogisticRegression\n",
    "from  sklearn.naive_bayes      import   GaussianNB\n",
    "from  sklearn.neighbors        import   KNeighborsClassifier\n",
    "from  sklearn.tree             import   DecisionTreeClassifier\n",
    "from  sklearn.ensemble         import   RandomForestClassifier , BaggingClassifier ,  AdaBoostClassifier , GradientBoostingClassifier ,  VotingClassifier\n",
    "\n",
    "\n",
    "from  sklearn.preprocessing     import   StandardScaler\n",
    "from  sklearn.model_selection   import   train_test_split , KFold , cross_val_score , GridSearchCV \n",
    "\n",
    "from  sklearn                   import   metrics"
   ]
  },
  {
   "cell_type": "code",
   "execution_count": 3,
   "metadata": {},
   "outputs": [
    {
     "data": {
      "text/html": [
       "<div>\n",
       "<style scoped>\n",
       "    .dataframe tbody tr th:only-of-type {\n",
       "        vertical-align: middle;\n",
       "    }\n",
       "\n",
       "    .dataframe tbody tr th {\n",
       "        vertical-align: top;\n",
       "    }\n",
       "\n",
       "    .dataframe thead th {\n",
       "        text-align: right;\n",
       "    }\n",
       "</style>\n",
       "<table border=\"1\" class=\"dataframe\">\n",
       "  <thead>\n",
       "    <tr style=\"text-align: right;\">\n",
       "      <th></th>\n",
       "      <th>preg</th>\n",
       "      <th>glu</th>\n",
       "      <th>bp</th>\n",
       "      <th>sft</th>\n",
       "      <th>ins</th>\n",
       "      <th>bmi</th>\n",
       "      <th>dpf</th>\n",
       "      <th>age</th>\n",
       "      <th>outcome</th>\n",
       "    </tr>\n",
       "  </thead>\n",
       "  <tbody>\n",
       "    <tr>\n",
       "      <th>473</th>\n",
       "      <td>7</td>\n",
       "      <td>136</td>\n",
       "      <td>90</td>\n",
       "      <td>0</td>\n",
       "      <td>0</td>\n",
       "      <td>29.9</td>\n",
       "      <td>0.210</td>\n",
       "      <td>50</td>\n",
       "      <td>0</td>\n",
       "    </tr>\n",
       "    <tr>\n",
       "      <th>610</th>\n",
       "      <td>3</td>\n",
       "      <td>106</td>\n",
       "      <td>54</td>\n",
       "      <td>21</td>\n",
       "      <td>158</td>\n",
       "      <td>30.9</td>\n",
       "      <td>0.292</td>\n",
       "      <td>24</td>\n",
       "      <td>0</td>\n",
       "    </tr>\n",
       "    <tr>\n",
       "      <th>663</th>\n",
       "      <td>9</td>\n",
       "      <td>145</td>\n",
       "      <td>80</td>\n",
       "      <td>46</td>\n",
       "      <td>130</td>\n",
       "      <td>37.9</td>\n",
       "      <td>0.637</td>\n",
       "      <td>40</td>\n",
       "      <td>1</td>\n",
       "    </tr>\n",
       "  </tbody>\n",
       "</table>\n",
       "</div>"
      ],
      "text/plain": [
       "     preg  glu  bp  sft  ins   bmi    dpf  age  outcome\n",
       "473     7  136  90    0    0  29.9  0.210   50        0\n",
       "610     3  106  54   21  158  30.9  0.292   24        0\n",
       "663     9  145  80   46  130  37.9  0.637   40        1"
      ]
     },
     "execution_count": 3,
     "metadata": {},
     "output_type": "execute_result"
    }
   ],
   "source": [
    "df = pd.read_csv (\"datasets/Diabetes.csv\", names =  ['preg', 'glu', 'bp', 'sft', 'ins', 'bmi', 'dpf', 'age', 'outcome'] )\n",
    "\n",
    "df.sample(3)"
   ]
  },
  {
   "cell_type": "markdown",
   "metadata": {},
   "source": [
    "**Target Col -- outcome**"
   ]
  },
  {
   "cell_type": "markdown",
   "metadata": {},
   "source": [
    "<a id='section_a'></a>\n",
    "# **Part I - Exploration & Wrangling**"
   ]
  },
  {
   "cell_type": "code",
   "execution_count": 4,
   "metadata": {},
   "outputs": [
    {
     "data": {
      "text/plain": [
       "(768, 9)"
      ]
     },
     "execution_count": 4,
     "metadata": {},
     "output_type": "execute_result"
    }
   ],
   "source": [
    "df.shape"
   ]
  },
  {
   "cell_type": "code",
   "execution_count": 5,
   "metadata": {},
   "outputs": [
    {
     "name": "stdout",
     "output_type": "stream",
     "text": [
      "<class 'pandas.core.frame.DataFrame'>\n",
      "RangeIndex: 768 entries, 0 to 767\n",
      "Data columns (total 9 columns):\n",
      " #   Column   Non-Null Count  Dtype  \n",
      "---  ------   --------------  -----  \n",
      " 0   preg     768 non-null    int64  \n",
      " 1   glu      768 non-null    int64  \n",
      " 2   bp       768 non-null    int64  \n",
      " 3   sft      768 non-null    int64  \n",
      " 4   ins      768 non-null    int64  \n",
      " 5   bmi      768 non-null    float64\n",
      " 6   dpf      768 non-null    float64\n",
      " 7   age      768 non-null    int64  \n",
      " 8   outcome  768 non-null    int64  \n",
      "dtypes: float64(2), int64(7)\n",
      "memory usage: 54.1 KB\n"
     ]
    }
   ],
   "source": [
    "df.info()"
   ]
  },
  {
   "cell_type": "code",
   "execution_count": 6,
   "metadata": {},
   "outputs": [
    {
     "data": {
      "text/html": [
       "<div>\n",
       "<style scoped>\n",
       "    .dataframe tbody tr th:only-of-type {\n",
       "        vertical-align: middle;\n",
       "    }\n",
       "\n",
       "    .dataframe tbody tr th {\n",
       "        vertical-align: top;\n",
       "    }\n",
       "\n",
       "    .dataframe thead th {\n",
       "        text-align: right;\n",
       "    }\n",
       "</style>\n",
       "<table border=\"1\" class=\"dataframe\">\n",
       "  <thead>\n",
       "    <tr style=\"text-align: right;\">\n",
       "      <th></th>\n",
       "      <th>preg</th>\n",
       "      <th>glu</th>\n",
       "      <th>bp</th>\n",
       "      <th>sft</th>\n",
       "      <th>ins</th>\n",
       "      <th>bmi</th>\n",
       "      <th>dpf</th>\n",
       "      <th>age</th>\n",
       "      <th>outcome</th>\n",
       "    </tr>\n",
       "  </thead>\n",
       "  <tbody>\n",
       "    <tr>\n",
       "      <th>preg</th>\n",
       "      <td>1.000000</td>\n",
       "      <td>0.129459</td>\n",
       "      <td>0.141282</td>\n",
       "      <td>-0.081672</td>\n",
       "      <td>-0.073535</td>\n",
       "      <td>0.017683</td>\n",
       "      <td>-0.033523</td>\n",
       "      <td>0.544341</td>\n",
       "      <td>0.221898</td>\n",
       "    </tr>\n",
       "    <tr>\n",
       "      <th>glu</th>\n",
       "      <td>0.129459</td>\n",
       "      <td>1.000000</td>\n",
       "      <td>0.152590</td>\n",
       "      <td>0.057328</td>\n",
       "      <td>0.331357</td>\n",
       "      <td>0.221071</td>\n",
       "      <td>0.137337</td>\n",
       "      <td>0.263514</td>\n",
       "      <td>0.466581</td>\n",
       "    </tr>\n",
       "    <tr>\n",
       "      <th>bp</th>\n",
       "      <td>0.141282</td>\n",
       "      <td>0.152590</td>\n",
       "      <td>1.000000</td>\n",
       "      <td>0.207371</td>\n",
       "      <td>0.088933</td>\n",
       "      <td>0.281805</td>\n",
       "      <td>0.041265</td>\n",
       "      <td>0.239528</td>\n",
       "      <td>0.065068</td>\n",
       "    </tr>\n",
       "    <tr>\n",
       "      <th>sft</th>\n",
       "      <td>-0.081672</td>\n",
       "      <td>0.057328</td>\n",
       "      <td>0.207371</td>\n",
       "      <td>1.000000</td>\n",
       "      <td>0.436783</td>\n",
       "      <td>0.392573</td>\n",
       "      <td>0.183928</td>\n",
       "      <td>-0.113970</td>\n",
       "      <td>0.074752</td>\n",
       "    </tr>\n",
       "    <tr>\n",
       "      <th>ins</th>\n",
       "      <td>-0.073535</td>\n",
       "      <td>0.331357</td>\n",
       "      <td>0.088933</td>\n",
       "      <td>0.436783</td>\n",
       "      <td>1.000000</td>\n",
       "      <td>0.197859</td>\n",
       "      <td>0.185071</td>\n",
       "      <td>-0.042163</td>\n",
       "      <td>0.130548</td>\n",
       "    </tr>\n",
       "    <tr>\n",
       "      <th>bmi</th>\n",
       "      <td>0.017683</td>\n",
       "      <td>0.221071</td>\n",
       "      <td>0.281805</td>\n",
       "      <td>0.392573</td>\n",
       "      <td>0.197859</td>\n",
       "      <td>1.000000</td>\n",
       "      <td>0.140647</td>\n",
       "      <td>0.036242</td>\n",
       "      <td>0.292695</td>\n",
       "    </tr>\n",
       "    <tr>\n",
       "      <th>dpf</th>\n",
       "      <td>-0.033523</td>\n",
       "      <td>0.137337</td>\n",
       "      <td>0.041265</td>\n",
       "      <td>0.183928</td>\n",
       "      <td>0.185071</td>\n",
       "      <td>0.140647</td>\n",
       "      <td>1.000000</td>\n",
       "      <td>0.033561</td>\n",
       "      <td>0.173844</td>\n",
       "    </tr>\n",
       "    <tr>\n",
       "      <th>age</th>\n",
       "      <td>0.544341</td>\n",
       "      <td>0.263514</td>\n",
       "      <td>0.239528</td>\n",
       "      <td>-0.113970</td>\n",
       "      <td>-0.042163</td>\n",
       "      <td>0.036242</td>\n",
       "      <td>0.033561</td>\n",
       "      <td>1.000000</td>\n",
       "      <td>0.238356</td>\n",
       "    </tr>\n",
       "    <tr>\n",
       "      <th>outcome</th>\n",
       "      <td>0.221898</td>\n",
       "      <td>0.466581</td>\n",
       "      <td>0.065068</td>\n",
       "      <td>0.074752</td>\n",
       "      <td>0.130548</td>\n",
       "      <td>0.292695</td>\n",
       "      <td>0.173844</td>\n",
       "      <td>0.238356</td>\n",
       "      <td>1.000000</td>\n",
       "    </tr>\n",
       "  </tbody>\n",
       "</table>\n",
       "</div>"
      ],
      "text/plain": [
       "             preg       glu        bp       sft       ins       bmi       dpf  \\\n",
       "preg     1.000000  0.129459  0.141282 -0.081672 -0.073535  0.017683 -0.033523   \n",
       "glu      0.129459  1.000000  0.152590  0.057328  0.331357  0.221071  0.137337   \n",
       "bp       0.141282  0.152590  1.000000  0.207371  0.088933  0.281805  0.041265   \n",
       "sft     -0.081672  0.057328  0.207371  1.000000  0.436783  0.392573  0.183928   \n",
       "ins     -0.073535  0.331357  0.088933  0.436783  1.000000  0.197859  0.185071   \n",
       "bmi      0.017683  0.221071  0.281805  0.392573  0.197859  1.000000  0.140647   \n",
       "dpf     -0.033523  0.137337  0.041265  0.183928  0.185071  0.140647  1.000000   \n",
       "age      0.544341  0.263514  0.239528 -0.113970 -0.042163  0.036242  0.033561   \n",
       "outcome  0.221898  0.466581  0.065068  0.074752  0.130548  0.292695  0.173844   \n",
       "\n",
       "              age   outcome  \n",
       "preg     0.544341  0.221898  \n",
       "glu      0.263514  0.466581  \n",
       "bp       0.239528  0.065068  \n",
       "sft     -0.113970  0.074752  \n",
       "ins     -0.042163  0.130548  \n",
       "bmi      0.036242  0.292695  \n",
       "dpf      0.033561  0.173844  \n",
       "age      1.000000  0.238356  \n",
       "outcome  0.238356  1.000000  "
      ]
     },
     "execution_count": 6,
     "metadata": {},
     "output_type": "execute_result"
    }
   ],
   "source": [
    "df.corr()"
   ]
  },
  {
   "cell_type": "markdown",
   "metadata": {},
   "source": [
    ">  Comments\n",
    "    \n",
    "        * Weakest Corr cols are\n",
    "        * bp , sft"
   ]
  },
  {
   "cell_type": "markdown",
   "metadata": {},
   "source": [
    "## i. **Weak Correlated columns**"
   ]
  },
  {
   "cell_type": "code",
   "execution_count": 7,
   "metadata": {},
   "outputs": [
    {
     "data": {
      "image/png": "[encoded data removed]",
      "text/plain": [
       "<Figure size 432x288 with 1 Axes>"
      ]
     },
     "metadata": {
      "needs_background": "light"
     },
     "output_type": "display_data"
    },
    {
     "data": {
      "image/png": "[encoded data removed]",
      "text/plain": [
       "<Figure size 432x288 with 1 Axes>"
      ]
     },
     "metadata": {
      "needs_background": "light"
     },
     "output_type": "display_data"
    }
   ],
   "source": [
    "sns.kdeplot ( df['bp']  )\n",
    "plt.show()\n",
    "\n",
    "sns.kdeplot ( df['sft'] )\n",
    "plt.show()"
   ]
  },
  {
   "cell_type": "markdown",
   "metadata": {},
   "source": [
    "> Inference\n",
    "    \n",
    "        * Presence of zeroes in 'bp' col .....  means 'bp' has not been recorded for those patients"
   ]
  },
  {
   "cell_type": "markdown",
   "metadata": {},
   "source": [
    "### **Imputation**"
   ]
  },
  {
   "cell_type": "code",
   "execution_count": 8,
   "metadata": {},
   "outputs": [
    {
     "name": "stdout",
     "output_type": "stream",
     "text": [
      "72.0\n"
     ]
    }
   ],
   "source": [
    "ls=[]\n",
    "\n",
    "for i in df['bp']:\n",
    "    if i>0:\n",
    "        ls.append(i)\n",
    "\n",
    "print(np.median(ls))    "
   ]
  },
  {
   "cell_type": "code",
   "execution_count": 9,
   "metadata": {},
   "outputs": [],
   "source": [
    "for i in np.arange(df.shape[0]):\n",
    "    \n",
    "    if df['bp'][i]==0:\n",
    "        df['bp'][i] = 72"
   ]
  },
  {
   "cell_type": "markdown",
   "metadata": {},
   "source": [
    "### **Significance check of weak corr cols**"
   ]
  },
  {
   "cell_type": "code",
   "execution_count": 10,
   "metadata": {
    "colab": {},
    "colab_type": "code",
    "id": "1darZjVts7ra"
   },
   "outputs": [],
   "source": [
    "g1 = df [ df['outcome'] ==0 ]\n",
    "g2 = df [ df['outcome'] ==1 ]"
   ]
  },
  {
   "cell_type": "code",
   "execution_count": 11,
   "metadata": {},
   "outputs": [
    {
     "name": "stdout",
     "output_type": "stream",
     "text": [
      "Ttest_indResult(statistic=-4.65097622072597, pvalue=3.8908354906479115e-06)\n",
      "Ttest_indResult(statistic=-2.0747001964159613, pvalue=0.03834770482049123)\n"
     ]
    }
   ],
   "source": [
    "from  scipy.stats  import   ttest_ind \n",
    "\n",
    "print (   ttest_ind ( g1['bp']  , g2['bp'] )  )\n",
    "print (   ttest_ind ( g1['sft'] , g2['sft'])  )"
   ]
  },
  {
   "cell_type": "markdown",
   "metadata": {},
   "source": [
    "* Hence , both weak correlated columns are significant"
   ]
  },
  {
   "cell_type": "markdown",
   "metadata": {},
   "source": [
    "## ii. **Target column**"
   ]
  },
  {
   "cell_type": "code",
   "execution_count": 12,
   "metadata": {
    "colab": {
     "base_uri": "https://localhost:8080/",
     "height": 68
    },
    "colab_type": "code",
    "executionInfo": {
     "elapsed": 1133,
     "status": "ok",
     "timestamp": 1600065387082,
     "user": {
      "displayName": "Mahesh Anand",
      "photoUrl": "https://lh3.googleusercontent.com/a-/AOh14GiAxRvO4nLPhI4SJLaIoUVmhr8lm1tddyCLyKOj=s64",
      "userId": "06788086636039591358"
     },
     "user_tz": -330
    },
    "id": "4YFaqHKUAWKm",
    "outputId": "861f89eb-c84c-434c-c33e-4f8f38749939"
   },
   "outputs": [
    {
     "data": {
      "text/plain": [
       "0    500\n",
       "1    268\n",
       "Name: outcome, dtype: int64"
      ]
     },
     "execution_count": 12,
     "metadata": {},
     "output_type": "execute_result"
    }
   ],
   "source": [
    "df['outcome'].value_counts()"
   ]
  },
  {
   "cell_type": "code",
   "execution_count": 13,
   "metadata": {
    "colab": {
     "base_uri": "https://localhost:8080/",
     "height": 223
    },
    "colab_type": "code",
    "executionInfo": {
     "elapsed": 947,
     "status": "ok",
     "timestamp": 1600066243046,
     "user": {
      "displayName": "Mahesh Anand",
      "photoUrl": "https://lh3.googleusercontent.com/a-/AOh14GiAxRvO4nLPhI4SJLaIoUVmhr8lm1tddyCLyKOj=s64",
      "userId": "06788086636039591358"
     },
     "user_tz": -330
    },
    "id": "uVOHoISTW1v1",
    "outputId": "f2b237e4-9175-493e-99f6-0e8868d7fb9c"
   },
   "outputs": [],
   "source": [
    "x  =  df.drop ('outcome' , axis=1)\n",
    "y  =  df ['outcome']"
   ]
  },
  {
   "cell_type": "code",
   "execution_count": 14,
   "metadata": {},
   "outputs": [],
   "source": [
    "from    imblearn.combine     import    SMOTEENN\n",
    "\n",
    "cs   =  SMOTEENN ()                                     # cs ---> combined sampling\n",
    "\n",
    "x,y  =  cs.fit_resample(x,y)"
   ]
  },
  {
   "cell_type": "code",
   "execution_count": 15,
   "metadata": {},
   "outputs": [
    {
     "data": {
      "text/plain": [
       "1    310\n",
       "0    234\n",
       "Name: outcome, dtype: int64"
      ]
     },
     "execution_count": 15,
     "metadata": {},
     "output_type": "execute_result"
    }
   ],
   "source": [
    "y.value_counts()"
   ]
  },
  {
   "cell_type": "markdown",
   "metadata": {},
   "source": [
    "## iii. **Scaling**"
   ]
  },
  {
   "cell_type": "code",
   "execution_count": 16,
   "metadata": {
    "colab": {},
    "colab_type": "code",
    "executionInfo": {
     "elapsed": 878,
     "status": "ok",
     "timestamp": 1600066254634,
     "user": {
      "displayName": "Mahesh Anand",
      "photoUrl": "https://lh3.googleusercontent.com/a-/AOh14GiAxRvO4nLPhI4SJLaIoUVmhr8lm1tddyCLyKOj=s64",
      "userId": "06788086636039591358"
     },
     "user_tz": -330
    },
    "id": "kEVvZIsZwiY_"
   },
   "outputs": [],
   "source": [
    "from sklearn.preprocessing   import  StandardScaler\n",
    "sc = StandardScaler()\n",
    "\n",
    "x  = sc.fit_transform(x)"
   ]
  },
  {
   "cell_type": "markdown",
   "metadata": {},
   "source": [
    "<a id='section_b'></a>\n",
    "# **Part II - Model Building**"
   ]
  },
  {
   "cell_type": "code",
   "execution_count": 17,
   "metadata": {},
   "outputs": [],
   "source": [
    "x_train, x_test, y_train, y_test  =  train_test_split (x, y, test_size =0.3, random_state =0)\n",
    "\n",
    "kf  =  KFold (shuffle=True , n_splits=5 , random_state=0) "
   ]
  },
  {
   "cell_type": "markdown",
   "metadata": {},
   "source": [
    "<a id='section_21'></a>\n",
    "## **1 - LOR**"
   ]
  },
  {
   "cell_type": "code",
   "execution_count": 18,
   "metadata": {},
   "outputs": [],
   "source": [
    "LOR = LogisticRegression()           "
   ]
  },
  {
   "cell_type": "markdown",
   "metadata": {},
   "source": [
    "<a id='section_2'></a>\n",
    "## **2 - KNN**"
   ]
  },
  {
   "cell_type": "markdown",
   "metadata": {},
   "source": [
    "### Finding best hyper-parameter"
   ]
  },
  {
   "cell_type": "code",
   "execution_count": 19,
   "metadata": {},
   "outputs": [
    {
     "data": {
      "text/plain": [
       "{'n_neighbors': 10, 'weights': 'distance'}"
      ]
     },
     "execution_count": 19,
     "metadata": {},
     "output_type": "execute_result"
    }
   ],
   "source": [
    "KNN = KNeighborsClassifier ()\n",
    "\n",
    "param = { 'n_neighbors': np.arange(2,35)   ,   'weights':['uniform','distance'] } \n",
    "\n",
    "GS  =  GridSearchCV ( KNN , param , cv=kf , scoring='roc_auc' )\n",
    "\n",
    "GS.fit (x_train , y_train)\n",
    "\n",
    "GS.best_params_"
   ]
  },
  {
   "cell_type": "code",
   "execution_count": 20,
   "metadata": {},
   "outputs": [],
   "source": [
    "KNN = KNeighborsClassifier ( n_neighbors =10  ,  weights ='distance') "
   ]
  },
  {
   "cell_type": "markdown",
   "metadata": {},
   "source": [
    "<a id='section_3'></a>\n",
    "## **3 - Naive Bayes**"
   ]
  },
  {
   "cell_type": "code",
   "execution_count": 21,
   "metadata": {},
   "outputs": [],
   "source": [
    "NB = GaussianNB()"
   ]
  },
  {
   "cell_type": "markdown",
   "metadata": {},
   "source": [
    "<a id='section_4'></a>\n",
    "## **4 - Decision Tree**"
   ]
  },
  {
   "cell_type": "markdown",
   "metadata": {},
   "source": [
    "### **4.1 - Fully Grown**"
   ]
  },
  {
   "cell_type": "code",
   "execution_count": 22,
   "metadata": {},
   "outputs": [],
   "source": [
    "FDT = DecisionTreeClassifier (random_state=0)             "
   ]
  },
  {
   "cell_type": "markdown",
   "metadata": {},
   "source": [
    "### **4.2 - Regularised**"
   ]
  },
  {
   "cell_type": "markdown",
   "metadata": {},
   "source": [
    "* Finding best hyper-parameter"
   ]
  },
  {
   "cell_type": "code",
   "execution_count": 23,
   "metadata": {},
   "outputs": [
    {
     "data": {
      "text/plain": [
       "{'criterion': 'entropy', 'max_depth': 4}"
      ]
     },
     "execution_count": 23,
     "metadata": {},
     "output_type": "execute_result"
    }
   ],
   "source": [
    "param = { 'max_depth': np.arange(1,20)   ,   'criterion':['entropy','gini'] } \n",
    "\n",
    "GS  =  GridSearchCV ( FDT , param , cv=kf , scoring='roc_auc')\n",
    "\n",
    "GS.fit (x_train , y_train)\n",
    "\n",
    "GS.best_params_"
   ]
  },
  {
   "cell_type": "code",
   "execution_count": 24,
   "metadata": {},
   "outputs": [],
   "source": [
    "RDT = DecisionTreeClassifier (criterion='entropy' , max_depth=4 ,  random_state=0)"
   ]
  },
  {
   "cell_type": "markdown",
   "metadata": {},
   "source": [
    "<a id='section_5'></a>\n",
    "## **5 - Random Forest**"
   ]
  },
  {
   "cell_type": "markdown",
   "metadata": {},
   "source": [
    "* Finding best n_estimator for least VE"
   ]
  },
  {
   "cell_type": "code",
   "execution_count": 26,
   "metadata": {},
   "outputs": [
    {
     "data": {
      "text/plain": [
       "6"
      ]
     },
     "execution_count": 26,
     "metadata": {},
     "output_type": "execute_result"
    }
   ],
   "source": [
    "VE = []\n",
    "\n",
    "\n",
    "for i in np.arange(1,25):\n",
    "    \n",
    "    RF = RandomForestClassifier ( n_estimators =i, criterion ='entropy', random_state =0 )\n",
    "    \n",
    "    score = cross_val_score ( RF ,  x_train ,  y_train ,  cv=kf,  scoring='roc_auc' )\n",
    "    \n",
    "    VE.append ( np.std(score,ddof=1) )\n",
    "    \n",
    "    \n",
    "np.argmin(VE)"
   ]
  },
  {
   "cell_type": "code",
   "execution_count": 27,
   "metadata": {},
   "outputs": [],
   "source": [
    "RF = RandomForestClassifier ( n_estimators=7 , criterion='entropy', random_state =0 )  "
   ]
  },
  {
   "cell_type": "markdown",
   "metadata": {},
   "source": [
    "<a id='section_6'></a>\n",
    "## **6 - Bagging**"
   ]
  },
  {
   "cell_type": "markdown",
   "metadata": {},
   "source": [
    "### **6.1 - LOR_Bag**"
   ]
  },
  {
   "cell_type": "code",
   "execution_count": 28,
   "metadata": {},
   "outputs": [
    {
     "data": {
      "text/plain": [
       "5"
      ]
     },
     "execution_count": 28,
     "metadata": {},
     "output_type": "execute_result"
    }
   ],
   "source": [
    "LOR2 = LogisticRegression()\n",
    "\n",
    "VE = []\n",
    "\n",
    "for i in np.arange(1,25):                                                     # 10-15 %\n",
    "    \n",
    "    LOR_bag = BaggingClassifier   ( base_estimator = LOR2 , n_estimators =i, random_state =0 )\n",
    "    \n",
    "    score   = cross_val_score     ( LOR_bag ,  x_train ,  y_train ,  cv=kf,  scoring='roc_auc' )\n",
    "    \n",
    "    VE.append ( np.std(score,ddof=1) )\n",
    "    \n",
    "\n",
    "np.argmin(VE)"
   ]
  },
  {
   "cell_type": "code",
   "execution_count": 30,
   "metadata": {},
   "outputs": [],
   "source": [
    "LOR_bag = BaggingClassifier   ( base_estimator = LOR2 , n_estimators =6, random_state =0 )"
   ]
  },
  {
   "cell_type": "markdown",
   "metadata": {},
   "source": [
    "### **6.2 - NB_Bag**"
   ]
  },
  {
   "cell_type": "code",
   "execution_count": 31,
   "metadata": {},
   "outputs": [
    {
     "data": {
      "text/plain": [
       "20"
      ]
     },
     "execution_count": 31,
     "metadata": {},
     "output_type": "execute_result"
    }
   ],
   "source": [
    "NB2 = GaussianNB()\n",
    "\n",
    "VE = []\n",
    "\n",
    "for i in np.arange(1,25):\n",
    "    \n",
    "    NB_bag = BaggingClassifier ( base_estimator = NB2 , n_estimators =i, random_state =0 )\n",
    "    \n",
    "    score   = cross_val_score ( NB_bag ,  x_train ,  y_train ,  cv=kf,  scoring='roc_auc' )\n",
    "    \n",
    "    VE.append ( np.std(score,ddof=1) )\n",
    "    \n",
    "    \n",
    "np.argmin(VE) "
   ]
  },
  {
   "cell_type": "code",
   "execution_count": 32,
   "metadata": {},
   "outputs": [],
   "source": [
    "NB_bag = BaggingClassifier ( base_estimator = NB2 , n_estimators =21, random_state =0 )"
   ]
  },
  {
   "cell_type": "markdown",
   "metadata": {},
   "source": [
    "### **6.3 - KNN_Bag**"
   ]
  },
  {
   "cell_type": "code",
   "execution_count": 33,
   "metadata": {},
   "outputs": [
    {
     "data": {
      "text/plain": [
       "22"
      ]
     },
     "execution_count": 33,
     "metadata": {},
     "output_type": "execute_result"
    }
   ],
   "source": [
    "KNN2 = KNeighborsClassifier ()\n",
    "\n",
    "VE = []\n",
    "\n",
    "for i in np.arange(1,25):\n",
    "    \n",
    "    KNN_bag = BaggingClassifier ( base_estimator = KNN2 , n_estimators =i, random_state =0 )\n",
    "    \n",
    "    score   = cross_val_score ( KNN_bag ,  x_train ,  y_train ,  cv=kf,  scoring='roc_auc' )\n",
    "    \n",
    "    VE.append ( np.std(score,ddof=1) )\n",
    "    \n",
    "\n",
    "np.argmin(VE) "
   ]
  },
  {
   "cell_type": "code",
   "execution_count": 34,
   "metadata": {},
   "outputs": [],
   "source": [
    "KNN_bag  =  BaggingClassifier ( base_estimator = KNN2 , n_estimators =23 , random_state =0 )"
   ]
  },
  {
   "cell_type": "markdown",
   "metadata": {},
   "source": [
    "<a id='section_7'></a>\n",
    "## **7 - Boosting**"
   ]
  },
  {
   "cell_type": "markdown",
   "metadata": {},
   "source": [
    "## **7.1 - AdaBoost**"
   ]
  },
  {
   "cell_type": "markdown",
   "metadata": {},
   "source": [
    "### 7.1.1 - **Regularised DT boost** (default)"
   ]
  },
  {
   "cell_type": "code",
   "execution_count": 35,
   "metadata": {},
   "outputs": [
    {
     "data": {
      "text/plain": [
       "20"
      ]
     },
     "execution_count": 35,
     "metadata": {},
     "output_type": "execute_result"
    }
   ],
   "source": [
    "BE = []\n",
    "\n",
    "for i in np.arange(1,25):                                                                    \n",
    "    \n",
    "    RDT_boost   =  AdaBoostClassifier   ( n_estimators =i, random_state =0 )      # default base_estimator : Reg DT\n",
    "    \n",
    "    score       =  cross_val_score      ( RDT_boost ,  x_train ,  y_train ,  cv=kf,  scoring='roc_auc' )\n",
    "    \n",
    "    BE.append ( np.mean(1-score)  )\n",
    "    \n",
    "    \n",
    "np.argmin(BE)"
   ]
  },
  {
   "cell_type": "code",
   "execution_count": 36,
   "metadata": {},
   "outputs": [],
   "source": [
    "RDT_boost =  AdaBoostClassifier   ( n_estimators =21, random_state =0 )   "
   ]
  },
  {
   "cell_type": "markdown",
   "metadata": {},
   "source": [
    "### 7.1.2 - **RF boost**"
   ]
  },
  {
   "cell_type": "markdown",
   "metadata": {},
   "source": [
    "* Hyper-param tuned RF model is now boosted"
   ]
  },
  {
   "cell_type": "code",
   "execution_count": 38,
   "metadata": {},
   "outputs": [
    {
     "data": {
      "text/plain": [
       "27"
      ]
     },
     "execution_count": 38,
     "metadata": {},
     "output_type": "execute_result"
    }
   ],
   "source": [
    "BE = []\n",
    "\n",
    "for i in np.arange(1,35):                                                                    \n",
    "    \n",
    "    RF_boost =  AdaBoostClassifier ( base_estimator = RF, n_estimators =i, random_state =0 )                   \n",
    "    \n",
    "    score    = cross_val_score     ( RF_boost ,  x_train ,  y_train ,  cv=kf,  scoring='roc_auc' )\n",
    "    \n",
    "    BE.append ( np.mean(1-score)    )\n",
    "    \n",
    "    \n",
    "np.argmin(BE)"
   ]
  },
  {
   "cell_type": "code",
   "execution_count": 39,
   "metadata": {},
   "outputs": [],
   "source": [
    "RF_boost =  AdaBoostClassifier  ( base_estimator = RF , n_estimators =28, random_state =0 )"
   ]
  },
  {
   "cell_type": "markdown",
   "metadata": {},
   "source": [
    "## **7.2 - XG Boost**"
   ]
  },
  {
   "cell_type": "code",
   "execution_count": 43,
   "metadata": {},
   "outputs": [
    {
     "data": {
      "text/plain": [
       "59"
      ]
     },
     "execution_count": 43,
     "metadata": {},
     "output_type": "execute_result"
    }
   ],
   "source": [
    "BE = []\n",
    "\n",
    "for i in np.arange(1,65):                                                                    \n",
    "    \n",
    "    XG_boost =  GradientBoostingClassifier  ( n_estimators = i , random_state =0 )                                   \n",
    "    \n",
    "    score    =  cross_val_score             ( XG_boost ,  x_train ,  y_train ,  cv=kf,  scoring='roc_auc' )\n",
    "    \n",
    "    BE.append ( np.mean(1-score)    )\n",
    "    \n",
    "    \n",
    "np.argmin(BE)"
   ]
  },
  {
   "cell_type": "code",
   "execution_count": 44,
   "metadata": {},
   "outputs": [],
   "source": [
    "XG_boost =  GradientBoostingClassifier  ( n_estimators =60, random_state =0 ) "
   ]
  },
  {
   "cell_type": "markdown",
   "metadata": {},
   "source": [
    "<a id='section_c'></a>\n",
    "# **Part III - Model Selection**"
   ]
  },
  {
   "cell_type": "markdown",
   "metadata": {},
   "source": [
    "<a id='section_8'></a>\n",
    "## i. **Scores**"
   ]
  },
  {
   "cell_type": "code",
   "execution_count": 45,
   "metadata": {},
   "outputs": [],
   "source": [
    "models = []\n",
    "\n",
    "models.append  (( 'LOR'       , LOR        ))\n",
    "models.append  (( 'NB'        , NB         ))\n",
    "models.append  (( 'KNN'       , KNN        ))\n",
    "\n",
    "\n",
    "\n",
    "models.append  (( 'FDT'       , FDT        ))\n",
    "models.append  (( 'RDT'       , RDT        ))\n",
    "models.append  (( 'RF'        , RF         ))\n",
    "\n",
    "\n",
    "\n",
    "models.append  (( 'LOR_bag'   , LOR_bag    ))\n",
    "models.append  (( 'NB_bag'    , NB_bag     ))\n",
    "models.append  (( 'KNN_bag'   , KNN_bag    ))\n",
    "\n",
    "\n",
    "models.append  (( 'RDT_boost' , RDT_boost  ))\n",
    "models.append  (( 'RF_boost'  , RF_boost   ))\n",
    "models.append  (( 'XG_boost'  , XG_boost   ))"
   ]
  },
  {
   "cell_type": "code",
   "execution_count": 46,
   "metadata": {},
   "outputs": [],
   "source": [
    "result =[]\n",
    "\n",
    "for  i,j  in  models:\n",
    "    \n",
    "    score = cross_val_score ( j , x_train , y_train , cv =kf, scoring ='roc_auc' )\n",
    "    \n",
    "    result.append ( { 'Name': i   ,   'BE': np.mean(1-score)   ,   'VE': np.std(score,ddof=1)  } )                \n",
    "\n",
    "\n",
    "table = pd.DataFrame(result)"
   ]
  },
  {
   "cell_type": "markdown",
   "metadata": {},
   "source": [
    "<a id='section_9'></a>\n",
    "## ii - **Rank**"
   ]
  },
  {
   "cell_type": "markdown",
   "metadata": {},
   "source": [
    "### By least Bias Error"
   ]
  },
  {
   "cell_type": "code",
   "execution_count": 47,
   "metadata": {},
   "outputs": [
    {
     "data": {
      "text/html": [
       "<style  type=\"text/css\" >\n",
       "</style><table id=\"T_12e13528_a5af_11eb_ba9a_92e8483f70d5\" ><thead>    <tr>        <th class=\"col_heading level0 col0\" >Name</th>        <th class=\"col_heading level0 col1\" >BE</th>        <th class=\"col_heading level0 col2\" >VE</th>    </tr></thead><tbody>\n",
       "                <tr>\n",
       "                                <td id=\"T_12e13528_a5af_11eb_ba9a_92e8483f70d5row0_col0\" class=\"data row0 col0\" >RF_boost</td>\n",
       "                        <td id=\"T_12e13528_a5af_11eb_ba9a_92e8483f70d5row0_col1\" class=\"data row0 col1\" >0.017284</td>\n",
       "                        <td id=\"T_12e13528_a5af_11eb_ba9a_92e8483f70d5row0_col2\" class=\"data row0 col2\" >0.011324</td>\n",
       "            </tr>\n",
       "            <tr>\n",
       "                                <td id=\"T_12e13528_a5af_11eb_ba9a_92e8483f70d5row1_col0\" class=\"data row1 col0\" >XG_boost</td>\n",
       "                        <td id=\"T_12e13528_a5af_11eb_ba9a_92e8483f70d5row1_col1\" class=\"data row1 col1\" >0.020813</td>\n",
       "                        <td id=\"T_12e13528_a5af_11eb_ba9a_92e8483f70d5row1_col2\" class=\"data row1 col2\" >0.011851</td>\n",
       "            </tr>\n",
       "            <tr>\n",
       "                                <td id=\"T_12e13528_a5af_11eb_ba9a_92e8483f70d5row2_col0\" class=\"data row2 col0\" >RDT_boost</td>\n",
       "                        <td id=\"T_12e13528_a5af_11eb_ba9a_92e8483f70d5row2_col1\" class=\"data row2 col1\" >0.020903</td>\n",
       "                        <td id=\"T_12e13528_a5af_11eb_ba9a_92e8483f70d5row2_col2\" class=\"data row2 col2\" >0.013776</td>\n",
       "            </tr>\n",
       "            <tr>\n",
       "                                <td id=\"T_12e13528_a5af_11eb_ba9a_92e8483f70d5row3_col0\" class=\"data row3 col0\" >KNN</td>\n",
       "                        <td id=\"T_12e13528_a5af_11eb_ba9a_92e8483f70d5row3_col1\" class=\"data row3 col1\" >0.028696</td>\n",
       "                        <td id=\"T_12e13528_a5af_11eb_ba9a_92e8483f70d5row3_col2\" class=\"data row3 col2\" >0.011466</td>\n",
       "            </tr>\n",
       "            <tr>\n",
       "                                <td id=\"T_12e13528_a5af_11eb_ba9a_92e8483f70d5row4_col0\" class=\"data row4 col0\" >RF</td>\n",
       "                        <td id=\"T_12e13528_a5af_11eb_ba9a_92e8483f70d5row4_col1\" class=\"data row4 col1\" >0.033456</td>\n",
       "                        <td id=\"T_12e13528_a5af_11eb_ba9a_92e8483f70d5row4_col2\" class=\"data row4 col2\" >0.014202</td>\n",
       "            </tr>\n",
       "            <tr>\n",
       "                                <td id=\"T_12e13528_a5af_11eb_ba9a_92e8483f70d5row5_col0\" class=\"data row5 col0\" >KNN_bag</td>\n",
       "                        <td id=\"T_12e13528_a5af_11eb_ba9a_92e8483f70d5row5_col1\" class=\"data row5 col1\" >0.033673</td>\n",
       "                        <td id=\"T_12e13528_a5af_11eb_ba9a_92e8483f70d5row5_col2\" class=\"data row5 col2\" >0.008858</td>\n",
       "            </tr>\n",
       "            <tr>\n",
       "                                <td id=\"T_12e13528_a5af_11eb_ba9a_92e8483f70d5row6_col0\" class=\"data row6 col0\" >LOR</td>\n",
       "                        <td id=\"T_12e13528_a5af_11eb_ba9a_92e8483f70d5row6_col1\" class=\"data row6 col1\" >0.038753</td>\n",
       "                        <td id=\"T_12e13528_a5af_11eb_ba9a_92e8483f70d5row6_col2\" class=\"data row6 col2\" >0.025496</td>\n",
       "            </tr>\n",
       "            <tr>\n",
       "                                <td id=\"T_12e13528_a5af_11eb_ba9a_92e8483f70d5row7_col0\" class=\"data row7 col0\" >LOR_bag</td>\n",
       "                        <td id=\"T_12e13528_a5af_11eb_ba9a_92e8483f70d5row7_col1\" class=\"data row7 col1\" >0.039168</td>\n",
       "                        <td id=\"T_12e13528_a5af_11eb_ba9a_92e8483f70d5row7_col2\" class=\"data row7 col2\" >0.024798</td>\n",
       "            </tr>\n",
       "    </tbody></table>"
      ],
      "text/plain": [
       "<pandas.io.formats.style.Styler at 0x1edffb1dd88>"
      ]
     },
     "execution_count": 47,
     "metadata": {},
     "output_type": "execute_result"
    }
   ],
   "source": [
    "table.sort_values (by='BE')    .head(8)      .style.hide_index()"
   ]
  },
  {
   "cell_type": "markdown",
   "metadata": {},
   "source": [
    "### By least Variance Error"
   ]
  },
  {
   "cell_type": "code",
   "execution_count": 48,
   "metadata": {},
   "outputs": [
    {
     "data": {
      "text/html": [
       "<style  type=\"text/css\" >\n",
       "</style><table id=\"T_18b02d92_a5af_11eb_908d_92e8483f70d5\" ><thead>    <tr>        <th class=\"col_heading level0 col0\" >Name</th>        <th class=\"col_heading level0 col1\" >BE</th>        <th class=\"col_heading level0 col2\" >VE</th>    </tr></thead><tbody>\n",
       "                <tr>\n",
       "                                <td id=\"T_18b02d92_a5af_11eb_908d_92e8483f70d5row0_col0\" class=\"data row0 col0\" >KNN_bag</td>\n",
       "                        <td id=\"T_18b02d92_a5af_11eb_908d_92e8483f70d5row0_col1\" class=\"data row0 col1\" >0.033673</td>\n",
       "                        <td id=\"T_18b02d92_a5af_11eb_908d_92e8483f70d5row0_col2\" class=\"data row0 col2\" >0.008858</td>\n",
       "            </tr>\n",
       "            <tr>\n",
       "                                <td id=\"T_18b02d92_a5af_11eb_908d_92e8483f70d5row1_col0\" class=\"data row1 col0\" >RF_boost</td>\n",
       "                        <td id=\"T_18b02d92_a5af_11eb_908d_92e8483f70d5row1_col1\" class=\"data row1 col1\" >0.017284</td>\n",
       "                        <td id=\"T_18b02d92_a5af_11eb_908d_92e8483f70d5row1_col2\" class=\"data row1 col2\" >0.011324</td>\n",
       "            </tr>\n",
       "            <tr>\n",
       "                                <td id=\"T_18b02d92_a5af_11eb_908d_92e8483f70d5row2_col0\" class=\"data row2 col0\" >KNN</td>\n",
       "                        <td id=\"T_18b02d92_a5af_11eb_908d_92e8483f70d5row2_col1\" class=\"data row2 col1\" >0.028696</td>\n",
       "                        <td id=\"T_18b02d92_a5af_11eb_908d_92e8483f70d5row2_col2\" class=\"data row2 col2\" >0.011466</td>\n",
       "            </tr>\n",
       "            <tr>\n",
       "                                <td id=\"T_18b02d92_a5af_11eb_908d_92e8483f70d5row3_col0\" class=\"data row3 col0\" >XG_boost</td>\n",
       "                        <td id=\"T_18b02d92_a5af_11eb_908d_92e8483f70d5row3_col1\" class=\"data row3 col1\" >0.020813</td>\n",
       "                        <td id=\"T_18b02d92_a5af_11eb_908d_92e8483f70d5row3_col2\" class=\"data row3 col2\" >0.011851</td>\n",
       "            </tr>\n",
       "            <tr>\n",
       "                                <td id=\"T_18b02d92_a5af_11eb_908d_92e8483f70d5row4_col0\" class=\"data row4 col0\" >RDT_boost</td>\n",
       "                        <td id=\"T_18b02d92_a5af_11eb_908d_92e8483f70d5row4_col1\" class=\"data row4 col1\" >0.020903</td>\n",
       "                        <td id=\"T_18b02d92_a5af_11eb_908d_92e8483f70d5row4_col2\" class=\"data row4 col2\" >0.013776</td>\n",
       "            </tr>\n",
       "            <tr>\n",
       "                                <td id=\"T_18b02d92_a5af_11eb_908d_92e8483f70d5row5_col0\" class=\"data row5 col0\" >RF</td>\n",
       "                        <td id=\"T_18b02d92_a5af_11eb_908d_92e8483f70d5row5_col1\" class=\"data row5 col1\" >0.033456</td>\n",
       "                        <td id=\"T_18b02d92_a5af_11eb_908d_92e8483f70d5row5_col2\" class=\"data row5 col2\" >0.014202</td>\n",
       "            </tr>\n",
       "            <tr>\n",
       "                                <td id=\"T_18b02d92_a5af_11eb_908d_92e8483f70d5row6_col0\" class=\"data row6 col0\" >NB_bag</td>\n",
       "                        <td id=\"T_18b02d92_a5af_11eb_908d_92e8483f70d5row6_col1\" class=\"data row6 col1\" >0.069767</td>\n",
       "                        <td id=\"T_18b02d92_a5af_11eb_908d_92e8483f70d5row6_col2\" class=\"data row6 col2\" >0.023119</td>\n",
       "            </tr>\n",
       "            <tr>\n",
       "                                <td id=\"T_18b02d92_a5af_11eb_908d_92e8483f70d5row7_col0\" class=\"data row7 col0\" >NB</td>\n",
       "                        <td id=\"T_18b02d92_a5af_11eb_908d_92e8483f70d5row7_col1\" class=\"data row7 col1\" >0.072318</td>\n",
       "                        <td id=\"T_18b02d92_a5af_11eb_908d_92e8483f70d5row7_col2\" class=\"data row7 col2\" >0.024501</td>\n",
       "            </tr>\n",
       "    </tbody></table>"
      ],
      "text/plain": [
       "<pandas.io.formats.style.Styler at 0x1edffec5f48>"
      ]
     },
     "execution_count": 48,
     "metadata": {},
     "output_type": "execute_result"
    }
   ],
   "source": [
    "table.sort_values (by='VE')    .head(8)      .style.hide_index()"
   ]
  },
  {
   "cell_type": "markdown",
   "metadata": {},
   "source": [
    "<a id='section_10'></a>\n",
    "## iii - **Best Model**"
   ]
  },
  {
   "cell_type": "markdown",
   "metadata": {},
   "source": [
    "## *Random Forest Boosted*"
   ]
  },
  {
   "cell_type": "code",
   "execution_count": 49,
   "metadata": {},
   "outputs": [],
   "source": [
    "RF_boost.fit      ( x_train , y_train )\n",
    "\n",
    "y_pred   =   RF_boost.predict ( x_test )"
   ]
  },
  {
   "cell_type": "code",
   "execution_count": 50,
   "metadata": {},
   "outputs": [
    {
     "name": "stdout",
     "output_type": "stream",
     "text": [
      "0.9417989417989417\n",
      "              precision    recall  f1-score   support\n",
      "\n",
      "           0       0.94      0.90      0.92        71\n",
      "           1       0.93      0.96      0.94        93\n",
      "\n",
      "    accuracy                           0.93       164\n",
      "   macro avg       0.93      0.93      0.93       164\n",
      "weighted avg       0.93      0.93      0.93       164\n",
      "\n"
     ]
    }
   ],
   "source": [
    "print ( metrics.f1_score                ( y_pred , y_test ) )\n",
    "\n",
    "print ( metrics.classification_report   ( y_pred , y_test ) )"
   ]
  },
  {
   "cell_type": "code",
   "execution_count": 51,
   "metadata": {},
   "outputs": [
    {
     "name": "stdout",
     "output_type": "stream",
     "text": [
      "1    96\n",
      "0    68\n",
      "Name: outcome, dtype: int64\n",
      "1    93\n",
      "0    71\n",
      "dtype: int64\n"
     ]
    }
   ],
   "source": [
    "print  ( y_test .value_counts()        )              # ACTUAL\n",
    "\n",
    "print  ( pd .value_counts ( y_pred )   )              # PREDICTED"
   ]
  }
 ],
 "metadata": {
  "kernelspec": {
   "display_name": "Python 3",
   "language": "python",
   "name": "python3"
  },
  "language_info": {
   "codemirror_mode": {
    "name": "ipython",
    "version": 3
   },
   "file_extension": ".py",
   "mimetype": "text/x-python",
   "name": "python",
   "nbconvert_exporter": "python",
   "pygments_lexer": "ipython3",
   "version": "3.7.4"
  }
 },
 "nbformat": 4,
 "nbformat_minor": 4
}
