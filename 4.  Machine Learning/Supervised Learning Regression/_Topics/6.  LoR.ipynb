{
 "cells": [
  {
   "cell_type": "markdown",
   "metadata": {},
   "source": [
    "# **Table of Contents**\n",
    "* [Exploration](#section_a)\n",
    "    <br><br>\n",
    "* [LOR - Stat approach](#section_b)\n",
    "    * [Logit](#section_21)\n",
    "    * [Drop insig cols](#section_2)\n",
    "    * [Re-logit](#section_3)\n",
    "    * [Coeff interpret](#section_4)"
   ]
  },
  {
   "cell_type": "code",
   "execution_count": 1,
   "metadata": {},
   "outputs": [],
   "source": [
    "import numpy             as np\n",
    "import pandas            as pd\n",
    "import matplotlib.pyplot as plt\n",
    "import seaborn           as sns\n",
    "\n",
    "import warnings\n",
    "warnings.simplefilter (\"ignore\")"
   ]
  },
  {
   "cell_type": "markdown",
   "metadata": {},
   "source": [
    "<a id='section_a'></a>\n",
    "# Part 1 - **Exploration**"
   ]
  },
  {
   "cell_type": "code",
   "execution_count": 2,
   "metadata": {},
   "outputs": [
    {
     "data": {
      "text/html": [
       "<div>\n",
       "<style scoped>\n",
       "    .dataframe tbody tr th:only-of-type {\n",
       "        vertical-align: middle;\n",
       "    }\n",
       "\n",
       "    .dataframe tbody tr th {\n",
       "        vertical-align: top;\n",
       "    }\n",
       "\n",
       "    .dataframe thead th {\n",
       "        text-align: right;\n",
       "    }\n",
       "</style>\n",
       "<table border=\"1\" class=\"dataframe\">\n",
       "  <thead>\n",
       "    <tr style=\"text-align: right;\">\n",
       "      <th></th>\n",
       "      <th>male</th>\n",
       "      <th>age</th>\n",
       "      <th>education</th>\n",
       "      <th>currentSmoker</th>\n",
       "      <th>cigsPerDay</th>\n",
       "      <th>BPMeds</th>\n",
       "      <th>prevalentStroke</th>\n",
       "      <th>prevalentHyp</th>\n",
       "      <th>diabetes</th>\n",
       "      <th>totChol</th>\n",
       "      <th>sysBP</th>\n",
       "      <th>diaBP</th>\n",
       "      <th>BMI</th>\n",
       "      <th>heartRate</th>\n",
       "      <th>glucose</th>\n",
       "      <th>TenYearCHD</th>\n",
       "    </tr>\n",
       "  </thead>\n",
       "  <tbody>\n",
       "    <tr>\n",
       "      <th>2678</th>\n",
       "      <td>0</td>\n",
       "      <td>47</td>\n",
       "      <td>3.0</td>\n",
       "      <td>1</td>\n",
       "      <td>9.0</td>\n",
       "      <td>0.0</td>\n",
       "      <td>0</td>\n",
       "      <td>0</td>\n",
       "      <td>0</td>\n",
       "      <td>250.0</td>\n",
       "      <td>98.0</td>\n",
       "      <td>73.0</td>\n",
       "      <td>24.39</td>\n",
       "      <td>60.0</td>\n",
       "      <td>88.0</td>\n",
       "      <td>0</td>\n",
       "    </tr>\n",
       "    <tr>\n",
       "      <th>506</th>\n",
       "      <td>1</td>\n",
       "      <td>57</td>\n",
       "      <td>4.0</td>\n",
       "      <td>0</td>\n",
       "      <td>0.0</td>\n",
       "      <td>0.0</td>\n",
       "      <td>0</td>\n",
       "      <td>1</td>\n",
       "      <td>0</td>\n",
       "      <td>303.0</td>\n",
       "      <td>160.5</td>\n",
       "      <td>98.5</td>\n",
       "      <td>25.84</td>\n",
       "      <td>81.0</td>\n",
       "      <td>100.0</td>\n",
       "      <td>0</td>\n",
       "    </tr>\n",
       "    <tr>\n",
       "      <th>1310</th>\n",
       "      <td>1</td>\n",
       "      <td>50</td>\n",
       "      <td>4.0</td>\n",
       "      <td>1</td>\n",
       "      <td>15.0</td>\n",
       "      <td>0.0</td>\n",
       "      <td>0</td>\n",
       "      <td>0</td>\n",
       "      <td>0</td>\n",
       "      <td>212.0</td>\n",
       "      <td>132.0</td>\n",
       "      <td>87.0</td>\n",
       "      <td>25.90</td>\n",
       "      <td>75.0</td>\n",
       "      <td>83.0</td>\n",
       "      <td>0</td>\n",
       "    </tr>\n",
       "    <tr>\n",
       "      <th>1555</th>\n",
       "      <td>0</td>\n",
       "      <td>38</td>\n",
       "      <td>2.0</td>\n",
       "      <td>1</td>\n",
       "      <td>12.0</td>\n",
       "      <td>0.0</td>\n",
       "      <td>0</td>\n",
       "      <td>0</td>\n",
       "      <td>0</td>\n",
       "      <td>209.0</td>\n",
       "      <td>122.5</td>\n",
       "      <td>76.5</td>\n",
       "      <td>24.51</td>\n",
       "      <td>90.0</td>\n",
       "      <td>73.0</td>\n",
       "      <td>0</td>\n",
       "    </tr>\n",
       "  </tbody>\n",
       "</table>\n",
       "</div>"
      ],
      "text/plain": [
       "      male  age  education  currentSmoker  cigsPerDay  BPMeds  \\\n",
       "2678     0   47        3.0              1         9.0     0.0   \n",
       "506      1   57        4.0              0         0.0     0.0   \n",
       "1310     1   50        4.0              1        15.0     0.0   \n",
       "1555     0   38        2.0              1        12.0     0.0   \n",
       "\n",
       "      prevalentStroke  prevalentHyp  diabetes  totChol  sysBP  diaBP    BMI  \\\n",
       "2678                0             0         0    250.0   98.0   73.0  24.39   \n",
       "506                 0             1         0    303.0  160.5   98.5  25.84   \n",
       "1310                0             0         0    212.0  132.0   87.0  25.90   \n",
       "1555                0             0         0    209.0  122.5   76.5  24.51   \n",
       "\n",
       "      heartRate  glucose  TenYearCHD  \n",
       "2678       60.0     88.0           0  \n",
       "506        81.0    100.0           0  \n",
       "1310       75.0     83.0           0  \n",
       "1555       90.0     73.0           0  "
      ]
     },
     "execution_count": 2,
     "metadata": {},
     "output_type": "execute_result"
    }
   ],
   "source": [
    "df  =  pd.read_csv ('datasets/US Heart Patients.csv')\n",
    "\n",
    "df.sample(4)"
   ]
  },
  {
   "cell_type": "markdown",
   "metadata": {},
   "source": [
    "> Note :\n",
    "        \n",
    "        * TenYearCHD is the target\n",
    "        * CHD - Coronary Heart Diasease"
   ]
  },
  {
   "cell_type": "code",
   "execution_count": 3,
   "metadata": {},
   "outputs": [
    {
     "data": {
      "text/plain": [
       "(4240, 16)"
      ]
     },
     "execution_count": 3,
     "metadata": {},
     "output_type": "execute_result"
    }
   ],
   "source": [
    "df.shape"
   ]
  },
  {
   "cell_type": "code",
   "execution_count": 4,
   "metadata": {},
   "outputs": [
    {
     "data": {
      "text/plain": [
       "male                 0\n",
       "age                  0\n",
       "education          105\n",
       "currentSmoker        0\n",
       "cigsPerDay          29\n",
       "BPMeds              53\n",
       "prevalentStroke      0\n",
       "prevalentHyp         0\n",
       "diabetes             0\n",
       "totChol             50\n",
       "sysBP                0\n",
       "diaBP                0\n",
       "BMI                 19\n",
       "heartRate            1\n",
       "glucose            388\n",
       "TenYearCHD           0\n",
       "dtype: int64"
      ]
     },
     "execution_count": 4,
     "metadata": {},
     "output_type": "execute_result"
    }
   ],
   "source": [
    "df.isnull().sum()"
   ]
  },
  {
   "cell_type": "code",
   "execution_count": 5,
   "metadata": {},
   "outputs": [],
   "source": [
    "df.fillna (method ='ffill',  inplace =True)"
   ]
  },
  {
   "cell_type": "markdown",
   "metadata": {},
   "source": [
    "<a id='section_b'></a>\n",
    "# Part 2 - **LoR : Stat Approach**"
   ]
  },
  {
   "cell_type": "code",
   "execution_count": 6,
   "metadata": {},
   "outputs": [],
   "source": [
    "x  =  df.drop('TenYearCHD', axis=1)\n",
    "y  =  df['TenYearCHD']"
   ]
  },
  {
   "cell_type": "markdown",
   "metadata": {},
   "source": [
    "<a id='section_21'></a>\n",
    "## 1. **Logit**"
   ]
  },
  {
   "cell_type": "code",
   "execution_count": 7,
   "metadata": {},
   "outputs": [
    {
     "name": "stdout",
     "output_type": "stream",
     "text": [
      "Optimization terminated successfully.\n",
      "         Current function value: 0.378831\n",
      "         Iterations 7\n"
     ]
    },
    {
     "data": {
      "text/html": [
       "<table class=\"simpletable\">\n",
       "<caption>Logit Regression Results</caption>\n",
       "<tr>\n",
       "  <th>Dep. Variable:</th>      <td>TenYearCHD</td>    <th>  No. Observations:  </th>  <td>  4240</td>  \n",
       "</tr>\n",
       "<tr>\n",
       "  <th>Model:</th>                 <td>Logit</td>      <th>  Df Residuals:      </th>  <td>  4224</td>  \n",
       "</tr>\n",
       "<tr>\n",
       "  <th>Method:</th>                 <td>MLE</td>       <th>  Df Model:          </th>  <td>    15</td>  \n",
       "</tr>\n",
       "<tr>\n",
       "  <th>Date:</th>            <td>Sun, 27 Jun 2021</td> <th>  Pseudo R-squ.:     </th>  <td>0.1107</td>  \n",
       "</tr>\n",
       "<tr>\n",
       "  <th>Time:</th>                <td>22:38:41</td>     <th>  Log-Likelihood:    </th> <td> -1606.2</td> \n",
       "</tr>\n",
       "<tr>\n",
       "  <th>converged:</th>             <td>True</td>       <th>  LL-Null:           </th> <td> -1806.1</td> \n",
       "</tr>\n",
       "<tr>\n",
       "  <th>Covariance Type:</th>     <td>nonrobust</td>    <th>  LLR p-value:       </th> <td>7.904e-76</td>\n",
       "</tr>\n",
       "</table>\n",
       "<table class=\"simpletable\">\n",
       "<tr>\n",
       "         <td></td>            <th>coef</th>     <th>std err</th>      <th>z</th>      <th>P>|z|</th>  <th>[0.025</th>    <th>0.975]</th>  \n",
       "</tr>\n",
       "<tr>\n",
       "  <th>const</th>           <td>   -7.9749</td> <td>    0.659</td> <td>  -12.106</td> <td> 0.000</td> <td>   -9.266</td> <td>   -6.684</td>\n",
       "</tr>\n",
       "<tr>\n",
       "  <th>male</th>            <td>    0.5094</td> <td>    0.100</td> <td>    5.076</td> <td> 0.000</td> <td>    0.313</td> <td>    0.706</td>\n",
       "</tr>\n",
       "<tr>\n",
       "  <th>age</th>             <td>    0.0620</td> <td>    0.006</td> <td>    9.972</td> <td> 0.000</td> <td>    0.050</td> <td>    0.074</td>\n",
       "</tr>\n",
       "<tr>\n",
       "  <th>education</th>       <td>   -0.0156</td> <td>    0.046</td> <td>   -0.343</td> <td> 0.731</td> <td>   -0.105</td> <td>    0.074</td>\n",
       "</tr>\n",
       "<tr>\n",
       "  <th>currentSmoker</th>   <td>    0.0139</td> <td>    0.144</td> <td>    0.097</td> <td> 0.923</td> <td>   -0.268</td> <td>    0.296</td>\n",
       "</tr>\n",
       "<tr>\n",
       "  <th>cigsPerDay</th>      <td>    0.0209</td> <td>    0.006</td> <td>    3.681</td> <td> 0.000</td> <td>    0.010</td> <td>    0.032</td>\n",
       "</tr>\n",
       "<tr>\n",
       "  <th>BPMeds</th>          <td>    0.2311</td> <td>    0.219</td> <td>    1.054</td> <td> 0.292</td> <td>   -0.198</td> <td>    0.661</td>\n",
       "</tr>\n",
       "<tr>\n",
       "  <th>prevalentStroke</th> <td>    0.9706</td> <td>    0.441</td> <td>    2.199</td> <td> 0.028</td> <td>    0.106</td> <td>    1.836</td>\n",
       "</tr>\n",
       "<tr>\n",
       "  <th>prevalentHyp</th>    <td>    0.2346</td> <td>    0.128</td> <td>    1.828</td> <td> 0.068</td> <td>   -0.017</td> <td>    0.486</td>\n",
       "</tr>\n",
       "<tr>\n",
       "  <th>diabetes</th>        <td>    0.3055</td> <td>    0.281</td> <td>    1.086</td> <td> 0.278</td> <td>   -0.246</td> <td>    0.857</td>\n",
       "</tr>\n",
       "<tr>\n",
       "  <th>totChol</th>         <td>    0.0017</td> <td>    0.001</td> <td>    1.711</td> <td> 0.087</td> <td>   -0.000</td> <td>    0.004</td>\n",
       "</tr>\n",
       "<tr>\n",
       "  <th>sysBP</th>           <td>    0.0142</td> <td>    0.004</td> <td>    4.012</td> <td> 0.000</td> <td>    0.007</td> <td>    0.021</td>\n",
       "</tr>\n",
       "<tr>\n",
       "  <th>diaBP</th>           <td>   -0.0029</td> <td>    0.006</td> <td>   -0.477</td> <td> 0.633</td> <td>   -0.015</td> <td>    0.009</td>\n",
       "</tr>\n",
       "<tr>\n",
       "  <th>BMI</th>             <td>    0.0019</td> <td>    0.012</td> <td>    0.162</td> <td> 0.872</td> <td>   -0.021</td> <td>    0.025</td>\n",
       "</tr>\n",
       "<tr>\n",
       "  <th>heartRate</th>       <td>   -0.0014</td> <td>    0.004</td> <td>   -0.354</td> <td> 0.723</td> <td>   -0.009</td> <td>    0.006</td>\n",
       "</tr>\n",
       "<tr>\n",
       "  <th>glucose</th>         <td>    0.0055</td> <td>    0.002</td> <td>    2.794</td> <td> 0.005</td> <td>    0.002</td> <td>    0.009</td>\n",
       "</tr>\n",
       "</table>"
      ],
      "text/plain": [
       "<class 'statsmodels.iolib.summary.Summary'>\n",
       "\"\"\"\n",
       "                           Logit Regression Results                           \n",
       "==============================================================================\n",
       "Dep. Variable:             TenYearCHD   No. Observations:                 4240\n",
       "Model:                          Logit   Df Residuals:                     4224\n",
       "Method:                           MLE   Df Model:                           15\n",
       "Date:                Sun, 27 Jun 2021   Pseudo R-squ.:                  0.1107\n",
       "Time:                        22:38:41   Log-Likelihood:                -1606.2\n",
       "converged:                       True   LL-Null:                       -1806.1\n",
       "Covariance Type:            nonrobust   LLR p-value:                 7.904e-76\n",
       "===================================================================================\n",
       "                      coef    std err          z      P>|z|      [0.025      0.975]\n",
       "-----------------------------------------------------------------------------------\n",
       "const              -7.9749      0.659    -12.106      0.000      -9.266      -6.684\n",
       "male                0.5094      0.100      5.076      0.000       0.313       0.706\n",
       "age                 0.0620      0.006      9.972      0.000       0.050       0.074\n",
       "education          -0.0156      0.046     -0.343      0.731      -0.105       0.074\n",
       "currentSmoker       0.0139      0.144      0.097      0.923      -0.268       0.296\n",
       "cigsPerDay          0.0209      0.006      3.681      0.000       0.010       0.032\n",
       "BPMeds              0.2311      0.219      1.054      0.292      -0.198       0.661\n",
       "prevalentStroke     0.9706      0.441      2.199      0.028       0.106       1.836\n",
       "prevalentHyp        0.2346      0.128      1.828      0.068      -0.017       0.486\n",
       "diabetes            0.3055      0.281      1.086      0.278      -0.246       0.857\n",
       "totChol             0.0017      0.001      1.711      0.087      -0.000       0.004\n",
       "sysBP               0.0142      0.004      4.012      0.000       0.007       0.021\n",
       "diaBP              -0.0029      0.006     -0.477      0.633      -0.015       0.009\n",
       "BMI                 0.0019      0.012      0.162      0.872      -0.021       0.025\n",
       "heartRate          -0.0014      0.004     -0.354      0.723      -0.009       0.006\n",
       "glucose             0.0055      0.002      2.794      0.005       0.002       0.009\n",
       "===================================================================================\n",
       "\"\"\""
      ]
     },
     "execution_count": 7,
     "metadata": {},
     "output_type": "execute_result"
    }
   ],
   "source": [
    "import statsmodels.api as sm\n",
    "\n",
    "x     =  sm.add_constant(x)\n",
    "\n",
    "model =  sm   .Logit(y,x)   .fit()\n",
    "\n",
    "model.summary()\n"
   ]
  },
  {
   "cell_type": "markdown",
   "metadata": {},
   "source": [
    "> Comments\n",
    "\n",
    "        * LLR p-value = 7.9 e-76\n",
    "        * Insig Cols ----  education , currentSmoker , BPMeds , diabetes , diaBP , BMI , heartRate"
   ]
  },
  {
   "cell_type": "markdown",
   "metadata": {},
   "source": [
    "<a id='section_2'></a>\n",
    "## 2. **Drop insig Cols**"
   ]
  },
  {
   "cell_type": "code",
   "execution_count": 8,
   "metadata": {},
   "outputs": [],
   "source": [
    "x .drop ( [ 'education', 'currentSmoker', 'BPMeds', 'diabetes', 'diaBP', 'BMI', 'heartRate' ] , \n",
    "             axis=1 , inplace =True )"
   ]
  },
  {
   "cell_type": "markdown",
   "metadata": {},
   "source": [
    "<a id='section_3'></a>\n",
    "## 3. **Re-Logit**"
   ]
  },
  {
   "cell_type": "code",
   "execution_count": 9,
   "metadata": {},
   "outputs": [
    {
     "name": "stdout",
     "output_type": "stream",
     "text": [
      "Optimization terminated successfully.\n",
      "         Current function value: 0.379175\n",
      "         Iterations 7\n"
     ]
    },
    {
     "data": {
      "text/html": [
       "<table class=\"simpletable\">\n",
       "<caption>Logit Regression Results</caption>\n",
       "<tr>\n",
       "  <th>Dep. Variable:</th>      <td>TenYearCHD</td>    <th>  No. Observations:  </th>  <td>  4240</td>  \n",
       "</tr>\n",
       "<tr>\n",
       "  <th>Model:</th>                 <td>Logit</td>      <th>  Df Residuals:      </th>  <td>  4231</td>  \n",
       "</tr>\n",
       "<tr>\n",
       "  <th>Method:</th>                 <td>MLE</td>       <th>  Df Model:          </th>  <td>     8</td>  \n",
       "</tr>\n",
       "<tr>\n",
       "  <th>Date:</th>            <td>Sun, 27 Jun 2021</td> <th>  Pseudo R-squ.:     </th>  <td>0.1099</td>  \n",
       "</tr>\n",
       "<tr>\n",
       "  <th>Time:</th>                <td>22:38:41</td>     <th>  Log-Likelihood:    </th> <td> -1607.7</td> \n",
       "</tr>\n",
       "<tr>\n",
       "  <th>converged:</th>             <td>True</td>       <th>  LL-Null:           </th> <td> -1806.1</td> \n",
       "</tr>\n",
       "<tr>\n",
       "  <th>Covariance Type:</th>     <td>nonrobust</td>    <th>  LLR p-value:       </th> <td>9.050e-81</td>\n",
       "</tr>\n",
       "</table>\n",
       "<table class=\"simpletable\">\n",
       "<tr>\n",
       "         <td></td>            <th>coef</th>     <th>std err</th>      <th>z</th>      <th>P>|z|</th>  <th>[0.025</th>    <th>0.975]</th>  \n",
       "</tr>\n",
       "<tr>\n",
       "  <th>const</th>           <td>   -8.3476</td> <td>    0.479</td> <td>  -17.437</td> <td> 0.000</td> <td>   -9.286</td> <td>   -7.409</td>\n",
       "</tr>\n",
       "<tr>\n",
       "  <th>male</th>            <td>    0.5068</td> <td>    0.098</td> <td>    5.158</td> <td> 0.000</td> <td>    0.314</td> <td>    0.699</td>\n",
       "</tr>\n",
       "<tr>\n",
       "  <th>age</th>             <td>    0.0632</td> <td>    0.006</td> <td>   10.583</td> <td> 0.000</td> <td>    0.051</td> <td>    0.075</td>\n",
       "</tr>\n",
       "<tr>\n",
       "  <th>cigsPerDay</th>      <td>    0.0210</td> <td>    0.004</td> <td>    5.476</td> <td> 0.000</td> <td>    0.014</td> <td>    0.029</td>\n",
       "</tr>\n",
       "<tr>\n",
       "  <th>prevalentStroke</th> <td>    1.0220</td> <td>    0.438</td> <td>    2.334</td> <td> 0.020</td> <td>    0.164</td> <td>    1.880</td>\n",
       "</tr>\n",
       "<tr>\n",
       "  <th>prevalentHyp</th>    <td>    0.2361</td> <td>    0.125</td> <td>    1.881</td> <td> 0.060</td> <td>   -0.010</td> <td>    0.482</td>\n",
       "</tr>\n",
       "<tr>\n",
       "  <th>totChol</th>         <td>    0.0017</td> <td>    0.001</td> <td>    1.702</td> <td> 0.089</td> <td>   -0.000</td> <td>    0.004</td>\n",
       "</tr>\n",
       "<tr>\n",
       "  <th>sysBP</th>           <td>    0.0135</td> <td>    0.003</td> <td>    5.060</td> <td> 0.000</td> <td>    0.008</td> <td>    0.019</td>\n",
       "</tr>\n",
       "<tr>\n",
       "  <th>glucose</th>         <td>    0.0068</td> <td>    0.002</td> <td>    4.388</td> <td> 0.000</td> <td>    0.004</td> <td>    0.010</td>\n",
       "</tr>\n",
       "</table>"
      ],
      "text/plain": [
       "<class 'statsmodels.iolib.summary.Summary'>\n",
       "\"\"\"\n",
       "                           Logit Regression Results                           \n",
       "==============================================================================\n",
       "Dep. Variable:             TenYearCHD   No. Observations:                 4240\n",
       "Model:                          Logit   Df Residuals:                     4231\n",
       "Method:                           MLE   Df Model:                            8\n",
       "Date:                Sun, 27 Jun 2021   Pseudo R-squ.:                  0.1099\n",
       "Time:                        22:38:41   Log-Likelihood:                -1607.7\n",
       "converged:                       True   LL-Null:                       -1806.1\n",
       "Covariance Type:            nonrobust   LLR p-value:                 9.050e-81\n",
       "===================================================================================\n",
       "                      coef    std err          z      P>|z|      [0.025      0.975]\n",
       "-----------------------------------------------------------------------------------\n",
       "const              -8.3476      0.479    -17.437      0.000      -9.286      -7.409\n",
       "male                0.5068      0.098      5.158      0.000       0.314       0.699\n",
       "age                 0.0632      0.006     10.583      0.000       0.051       0.075\n",
       "cigsPerDay          0.0210      0.004      5.476      0.000       0.014       0.029\n",
       "prevalentStroke     1.0220      0.438      2.334      0.020       0.164       1.880\n",
       "prevalentHyp        0.2361      0.125      1.881      0.060      -0.010       0.482\n",
       "totChol             0.0017      0.001      1.702      0.089      -0.000       0.004\n",
       "sysBP               0.0135      0.003      5.060      0.000       0.008       0.019\n",
       "glucose             0.0068      0.002      4.388      0.000       0.004       0.010\n",
       "===================================================================================\n",
       "\"\"\""
      ]
     },
     "execution_count": 9,
     "metadata": {},
     "output_type": "execute_result"
    }
   ],
   "source": [
    "model  =  sm   .Logit(y,x)   .fit()\n",
    "\n",
    "model.summary()\n"
   ]
  },
  {
   "cell_type": "markdown",
   "metadata": {},
   "source": [
    "> Comments\n",
    "    \n",
    "        * LLR p-value decreases  from  e-76  to  e-81 \n",
    "        * Overall model more sig"
   ]
  },
  {
   "cell_type": "markdown",
   "metadata": {},
   "source": [
    "<a id='section_4'></a>\n",
    "## 4. **Coeff Interpret**"
   ]
  },
  {
   "cell_type": "code",
   "execution_count": 10,
   "metadata": {},
   "outputs": [
    {
     "data": {
      "text/plain": [
       "const             -8.347633\n",
       "male               0.506822\n",
       "age                0.063176\n",
       "cigsPerDay         0.021029\n",
       "prevalentStroke    1.021954\n",
       "prevalentHyp       0.236061\n",
       "totChol            0.001731\n",
       "sysBP              0.013503\n",
       "glucose            0.006779\n",
       "dtype: float64"
      ]
     },
     "execution_count": 10,
     "metadata": {},
     "output_type": "execute_result"
    }
   ],
   "source": [
    "model.params"
   ]
  },
  {
   "cell_type": "markdown",
   "metadata": {},
   "source": [
    "> Comments\n",
    "    \n",
    "        *  OBS for a Num Col\n",
    "        \n",
    "              * When age incs by 1 unit ..... Log (Odds) incs by 0.06 unit \n",
    "              * When age incs by 1 unit ..... Odds of having CHD incs by 0.063 unit | 6.3 %\n",
    "              \n",
    "        *  OBS for a Cat Col\n",
    "        \n",
    "               * When Gender = 'Male' ..... Log (Odds) incs by 0.50 unit\n",
    "               * When Gender = 'Male' ..... Odds of having CHD incs by 0.50 unit | 50 %"
   ]
  }
 ],
 "metadata": {
  "kernelspec": {
   "display_name": "Python 3",
   "language": "python",
   "name": "python3"
  },
  "language_info": {
   "codemirror_mode": {
    "name": "ipython",
    "version": 3
   },
   "file_extension": ".py",
   "mimetype": "text/x-python",
   "name": "python",
   "nbconvert_exporter": "python",
   "pygments_lexer": "ipython3",
   "version": "3.7.4"
  }
 },
 "nbformat": 4,
 "nbformat_minor": 4
}
