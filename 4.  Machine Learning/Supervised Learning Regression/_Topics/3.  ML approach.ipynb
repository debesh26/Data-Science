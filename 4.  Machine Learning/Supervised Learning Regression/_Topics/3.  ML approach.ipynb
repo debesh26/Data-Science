{
 "cells": [
  {
   "cell_type": "markdown",
   "metadata": {},
   "source": [
    "# **Table of Contents**\n",
    "* [Step 1 : Train-Test Split](#section_a)\n",
    "* [Step 2 : Model's Fit](#section_b)\n",
    "* [Step 3 : Model's Validation](#section_c)"
   ]
  },
  {
   "cell_type": "code",
   "execution_count": 1,
   "metadata": {},
   "outputs": [],
   "source": [
    "import numpy             as np\n",
    "import pandas            as pd\n",
    "import matplotlib.pyplot as plt\n",
    "import seaborn           as sns\n",
    "\n",
    "\n",
    "import warnings\n",
    "warnings.simplefilter ('ignore')"
   ]
  },
  {
   "cell_type": "code",
   "execution_count": 2,
   "metadata": {},
   "outputs": [],
   "source": [
    "from  sklearn.datasets  import  load_boston\n",
    "\n",
    "bos =  load_boston()\n",
    "\n",
    "df  =  pd.DataFrame ( bos.data , columns =bos.feature_names )\n",
    "\n",
    "x   =  df.copy()\n",
    "y   =  bos.target"
   ]
  },
  {
   "cell_type": "markdown",
   "metadata": {},
   "source": [
    "<a id='section_a'></a>\n",
    "# Step 1. **Train-Test Split**"
   ]
  },
  {
   "cell_type": "code",
   "execution_count": 3,
   "metadata": {},
   "outputs": [],
   "source": [
    "from sklearn.model_selection import train_test_split\n",
    "\n",
    "x_train, x_test, y_train, y_test   =   train_test_split (x, y, test_size=0.3, random_state=42)\n"
   ]
  },
  {
   "cell_type": "code",
   "execution_count": 4,
   "metadata": {},
   "outputs": [],
   "source": [
    "from sklearn.linear_model import LinearRegression\n",
    "\n",
    "lr = LinearRegression()                                           # by default .... fit_intercept = True\n",
    "\n",
    "lr.fit (x_train , y_train)\n",
    "\n",
    "y_train_pred   =   lr.predict (x_train)                            \n",
    "y_test_pred    =   lr.predict (x_test)                  "
   ]
  },
  {
   "cell_type": "markdown",
   "metadata": {},
   "source": [
    "<a id='section_b'></a>\n",
    "# Step 2 - **Model's Fit**"
   ]
  },
  {
   "cell_type": "code",
   "execution_count": 5,
   "metadata": {},
   "outputs": [
    {
     "name": "stdout",
     "output_type": "stream",
     "text": [
      "4.748208239685938\n",
      "4.6386899261728445\n"
     ]
    }
   ],
   "source": [
    "from   sklearn.metrics   import   mean_squared_error\n",
    "\n",
    "                   \n",
    "print  (  ( mean_squared_error  ( y_train , y_train_pred )) **0.5    )                                 \n",
    "print  (  ( mean_squared_error  ( y_test  , y_test_pred  )) **0.5    )"
   ]
  },
  {
   "cell_type": "markdown",
   "metadata": {},
   "source": [
    "> Rule\n",
    "\n",
    "\n",
    "        * If RMSE Train  sig  less  than  RMSE Test .....  then Overfit\n",
    "        * If RMSE Train  sig  more  than  RMSE Test .....  then Underfit"
   ]
  },
  {
   "cell_type": "markdown",
   "metadata": {},
   "source": [
    "> Comments :\n",
    "\n",
    "        * Overall Comparable results for Train & test\n",
    "        * Overall Underfitting , due to low performance , coz of less R2"
   ]
  },
  {
   "cell_type": "markdown",
   "metadata": {},
   "source": [
    "<a id='section_c'></a>\n",
    "# Step 3 - **Model's Validation**"
   ]
  },
  {
   "cell_type": "code",
   "execution_count": 6,
   "metadata": {},
   "outputs": [],
   "source": [
    "from sklearn.model_selection  import  KFold , cross_val_score\n",
    "\n",
    "kf  =  KFold ( n_splits =5 ,  shuffle =True ,  random_state =42 )"
   ]
  },
  {
   "cell_type": "code",
   "execution_count": 7,
   "metadata": {},
   "outputs": [
    {
     "name": "stdout",
     "output_type": "stream",
     "text": [
      "Bias Error =  0.3199952250620105\n",
      "Var Error =  0.14905888635487077\n"
     ]
    }
   ],
   "source": [
    "lr  =  LinearRegression()\n",
    "\n",
    "score  =  cross_val_score ( lr , x_train , y_train , cv=kf , scoring='r2' )\n",
    "\n",
    "\n",
    "print ('Bias Error = ', np.mean(1-score)      )\n",
    "print ('Var Error = ' , np.std (score,ddof=1) )"
   ]
  }
 ],
 "metadata": {
  "kernelspec": {
   "display_name": "Python 3",
   "language": "python",
   "name": "python3"
  },
  "language_info": {
   "codemirror_mode": {
    "name": "ipython",
    "version": 3
   },
   "file_extension": ".py",
   "mimetype": "text/x-python",
   "name": "python",
   "nbconvert_exporter": "python",
   "pygments_lexer": "ipython3",
   "version": "3.7.4"
  }
 },
 "nbformat": 4,
 "nbformat_minor": 4
}
