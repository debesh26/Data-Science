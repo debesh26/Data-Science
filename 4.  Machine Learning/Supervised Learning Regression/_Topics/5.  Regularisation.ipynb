{
 "cells": [
  {
   "cell_type": "markdown",
   "metadata": {},
   "source": [
    "# **Table of Contents**\n",
    "* [Deliberate Overfit](#section_20)\n",
    "    * [Add squared features](#section_21)\n",
    "    * [Scaling](#section_22)\n",
    "    * [Linear Reg , Score](#section_23)\n",
    "    <br><br>\n",
    "* [Regularisation](#section_24)\n",
    "    * [Lasso](#section_25)\n",
    "    * [Ridge](#section_26)\n",
    "    * [Elastic Net](#section_27)"
   ]
  },
  {
   "cell_type": "code",
   "execution_count": 1,
   "metadata": {},
   "outputs": [],
   "source": [
    "import numpy             as np\n",
    "import pandas            as pd\n",
    "import matplotlib.pyplot as plt\n",
    "import seaborn           as sns\n",
    "\n",
    "import warnings\n",
    "warnings.simplefilter ('ignore')"
   ]
  },
  {
   "cell_type": "code",
   "execution_count": 2,
   "metadata": {},
   "outputs": [],
   "source": [
    "from  sklearn.datasets  import  load_boston\n",
    "\n",
    "bos  =  load_boston()\n",
    "\n",
    "df   =  pd.DataFrame ( bos.data, columns =bos.feature_names)\n",
    "\n",
    "df['Price'] = bos.target"
   ]
  },
  {
   "cell_type": "code",
   "execution_count": 3,
   "metadata": {},
   "outputs": [
    {
     "data": {
      "text/html": [
       "<div>\n",
       "<style scoped>\n",
       "    .dataframe tbody tr th:only-of-type {\n",
       "        vertical-align: middle;\n",
       "    }\n",
       "\n",
       "    .dataframe tbody tr th {\n",
       "        vertical-align: top;\n",
       "    }\n",
       "\n",
       "    .dataframe thead th {\n",
       "        text-align: right;\n",
       "    }\n",
       "</style>\n",
       "<table border=\"1\" class=\"dataframe\">\n",
       "  <thead>\n",
       "    <tr style=\"text-align: right;\">\n",
       "      <th></th>\n",
       "      <th>CRIM</th>\n",
       "      <th>ZN</th>\n",
       "      <th>INDUS</th>\n",
       "      <th>CHAS</th>\n",
       "      <th>NOX</th>\n",
       "      <th>RM</th>\n",
       "      <th>AGE</th>\n",
       "      <th>DIS</th>\n",
       "      <th>RAD</th>\n",
       "      <th>TAX</th>\n",
       "      <th>PTRATIO</th>\n",
       "      <th>B</th>\n",
       "      <th>LSTAT</th>\n",
       "      <th>Price</th>\n",
       "    </tr>\n",
       "  </thead>\n",
       "  <tbody>\n",
       "    <tr>\n",
       "      <th>8</th>\n",
       "      <td>0.21124</td>\n",
       "      <td>12.5</td>\n",
       "      <td>7.87</td>\n",
       "      <td>0.0</td>\n",
       "      <td>0.524</td>\n",
       "      <td>5.631</td>\n",
       "      <td>100.0</td>\n",
       "      <td>6.0821</td>\n",
       "      <td>5.0</td>\n",
       "      <td>311.0</td>\n",
       "      <td>15.2</td>\n",
       "      <td>386.63</td>\n",
       "      <td>29.93</td>\n",
       "      <td>16.5</td>\n",
       "    </tr>\n",
       "    <tr>\n",
       "      <th>289</th>\n",
       "      <td>0.04297</td>\n",
       "      <td>52.5</td>\n",
       "      <td>5.32</td>\n",
       "      <td>0.0</td>\n",
       "      <td>0.405</td>\n",
       "      <td>6.565</td>\n",
       "      <td>22.9</td>\n",
       "      <td>7.3172</td>\n",
       "      <td>6.0</td>\n",
       "      <td>293.0</td>\n",
       "      <td>16.6</td>\n",
       "      <td>371.72</td>\n",
       "      <td>9.51</td>\n",
       "      <td>24.8</td>\n",
       "    </tr>\n",
       "    <tr>\n",
       "      <th>68</th>\n",
       "      <td>0.13554</td>\n",
       "      <td>12.5</td>\n",
       "      <td>6.07</td>\n",
       "      <td>0.0</td>\n",
       "      <td>0.409</td>\n",
       "      <td>5.594</td>\n",
       "      <td>36.8</td>\n",
       "      <td>6.4980</td>\n",
       "      <td>4.0</td>\n",
       "      <td>345.0</td>\n",
       "      <td>18.9</td>\n",
       "      <td>396.90</td>\n",
       "      <td>13.09</td>\n",
       "      <td>17.4</td>\n",
       "    </tr>\n",
       "    <tr>\n",
       "      <th>211</th>\n",
       "      <td>0.37578</td>\n",
       "      <td>0.0</td>\n",
       "      <td>10.59</td>\n",
       "      <td>1.0</td>\n",
       "      <td>0.489</td>\n",
       "      <td>5.404</td>\n",
       "      <td>88.6</td>\n",
       "      <td>3.6650</td>\n",
       "      <td>4.0</td>\n",
       "      <td>277.0</td>\n",
       "      <td>18.6</td>\n",
       "      <td>395.24</td>\n",
       "      <td>23.98</td>\n",
       "      <td>19.3</td>\n",
       "    </tr>\n",
       "    <tr>\n",
       "      <th>226</th>\n",
       "      <td>0.38214</td>\n",
       "      <td>0.0</td>\n",
       "      <td>6.20</td>\n",
       "      <td>0.0</td>\n",
       "      <td>0.504</td>\n",
       "      <td>8.040</td>\n",
       "      <td>86.5</td>\n",
       "      <td>3.2157</td>\n",
       "      <td>8.0</td>\n",
       "      <td>307.0</td>\n",
       "      <td>17.4</td>\n",
       "      <td>387.38</td>\n",
       "      <td>3.13</td>\n",
       "      <td>37.6</td>\n",
       "    </tr>\n",
       "  </tbody>\n",
       "</table>\n",
       "</div>"
      ],
      "text/plain": [
       "        CRIM    ZN  INDUS  CHAS    NOX     RM    AGE     DIS  RAD    TAX  \\\n",
       "8    0.21124  12.5   7.87   0.0  0.524  5.631  100.0  6.0821  5.0  311.0   \n",
       "289  0.04297  52.5   5.32   0.0  0.405  6.565   22.9  7.3172  6.0  293.0   \n",
       "68   0.13554  12.5   6.07   0.0  0.409  5.594   36.8  6.4980  4.0  345.0   \n",
       "211  0.37578   0.0  10.59   1.0  0.489  5.404   88.6  3.6650  4.0  277.0   \n",
       "226  0.38214   0.0   6.20   0.0  0.504  8.040   86.5  3.2157  8.0  307.0   \n",
       "\n",
       "     PTRATIO       B  LSTAT  Price  \n",
       "8       15.2  386.63  29.93   16.5  \n",
       "289     16.6  371.72   9.51   24.8  \n",
       "68      18.9  396.90  13.09   17.4  \n",
       "211     18.6  395.24  23.98   19.3  \n",
       "226     17.4  387.38   3.13   37.6  "
      ]
     },
     "execution_count": 3,
     "metadata": {},
     "output_type": "execute_result"
    }
   ],
   "source": [
    "df  =  df.sample (frac =1,  random_state =4)\n",
    "\n",
    "df.head()"
   ]
  },
  {
   "cell_type": "code",
   "execution_count": 4,
   "metadata": {},
   "outputs": [],
   "source": [
    "x  =  df.drop('Price', axis=1)\n",
    "y  =  df['Price']"
   ]
  },
  {
   "cell_type": "markdown",
   "metadata": {},
   "source": [
    "<a id='section_20'></a>\n",
    "# Part 1 - **Deliberate overfit**"
   ]
  },
  {
   "cell_type": "markdown",
   "metadata": {},
   "source": [
    "<a id='section_21'></a>\n",
    "## 1. **Add squared features**"
   ]
  },
  {
   "cell_type": "code",
   "execution_count": 5,
   "metadata": {},
   "outputs": [
    {
     "data": {
      "text/plain": [
       "['CRIM',\n",
       " 'ZN',\n",
       " 'INDUS',\n",
       " 'CHAS',\n",
       " 'NOX',\n",
       " 'RM',\n",
       " 'AGE',\n",
       " 'DIS',\n",
       " 'RAD',\n",
       " 'TAX',\n",
       " 'PTRATIO',\n",
       " 'B',\n",
       " 'LSTAT',\n",
       " 'CRIM 2',\n",
       " 'ZN 2',\n",
       " 'INDUS 2',\n",
       " 'NOX 2',\n",
       " 'RM 2',\n",
       " 'AGE 2',\n",
       " 'DIS 2',\n",
       " 'RAD 2',\n",
       " 'TAX 2',\n",
       " 'PTRATIO 2',\n",
       " 'B 2',\n",
       " 'LSTAT 2']"
      ]
     },
     "execution_count": 5,
     "metadata": {},
     "output_type": "execute_result"
    }
   ],
   "source": [
    "cols  =  list(x.columns)\n",
    "\n",
    "cols.remove('CHAS')\n",
    "\n",
    "for i in cols:\n",
    "    x[i + \" 2\"] = x[i]**2\n",
    "    \n",
    "cols = list(x.columns)\n",
    "\n",
    "cols"
   ]
  },
  {
   "cell_type": "markdown",
   "metadata": {},
   "source": [
    "<a id='section_22'></a>\n",
    "## 2. **Scaling**"
   ]
  },
  {
   "cell_type": "code",
   "execution_count": 6,
   "metadata": {},
   "outputs": [
    {
     "data": {
      "text/html": [
       "<div>\n",
       "<style scoped>\n",
       "    .dataframe tbody tr th:only-of-type {\n",
       "        vertical-align: middle;\n",
       "    }\n",
       "\n",
       "    .dataframe tbody tr th {\n",
       "        vertical-align: top;\n",
       "    }\n",
       "\n",
       "    .dataframe thead th {\n",
       "        text-align: right;\n",
       "    }\n",
       "</style>\n",
       "<table border=\"1\" class=\"dataframe\">\n",
       "  <thead>\n",
       "    <tr style=\"text-align: right;\">\n",
       "      <th></th>\n",
       "      <th>CRIM</th>\n",
       "      <th>ZN</th>\n",
       "      <th>INDUS</th>\n",
       "      <th>CHAS</th>\n",
       "      <th>NOX</th>\n",
       "      <th>RM</th>\n",
       "      <th>AGE</th>\n",
       "      <th>DIS</th>\n",
       "      <th>RAD</th>\n",
       "      <th>TAX</th>\n",
       "      <th>...</th>\n",
       "      <th>INDUS 2</th>\n",
       "      <th>NOX 2</th>\n",
       "      <th>RM 2</th>\n",
       "      <th>AGE 2</th>\n",
       "      <th>DIS 2</th>\n",
       "      <th>RAD 2</th>\n",
       "      <th>TAX 2</th>\n",
       "      <th>PTRATIO 2</th>\n",
       "      <th>B 2</th>\n",
       "      <th>LSTAT 2</th>\n",
       "    </tr>\n",
       "  </thead>\n",
       "  <tbody>\n",
       "    <tr>\n",
       "      <th>0</th>\n",
       "      <td>-0.395935</td>\n",
       "      <td>0.048772</td>\n",
       "      <td>-0.476654</td>\n",
       "      <td>-0.272599</td>\n",
       "      <td>-0.265154</td>\n",
       "      <td>-0.931206</td>\n",
       "      <td>1.117494</td>\n",
       "      <td>1.087196</td>\n",
       "      <td>-0.523001</td>\n",
       "      <td>-0.577519</td>\n",
       "      <td>...</td>\n",
       "      <td>-0.638096</td>\n",
       "      <td>-0.334436</td>\n",
       "      <td>-0.912972</td>\n",
       "      <td>1.307731</td>\n",
       "      <td>0.860217</td>\n",
       "      <td>-0.582762</td>\n",
       "      <td>-0.624199</td>\n",
       "      <td>-1.498432</td>\n",
       "      <td>0.333771</td>\n",
       "      <td>2.903851</td>\n",
       "    </tr>\n",
       "    <tr>\n",
       "      <th>1</th>\n",
       "      <td>-0.415517</td>\n",
       "      <td>1.765555</td>\n",
       "      <td>-0.848722</td>\n",
       "      <td>-0.272599</td>\n",
       "      <td>-1.293115</td>\n",
       "      <td>0.399425</td>\n",
       "      <td>-1.624226</td>\n",
       "      <td>1.674325</td>\n",
       "      <td>-0.408041</td>\n",
       "      <td>-0.684426</td>\n",
       "      <td>...</td>\n",
       "      <td>-0.834883</td>\n",
       "      <td>-1.129339</td>\n",
       "      <td>0.342857</td>\n",
       "      <td>-1.441853</td>\n",
       "      <td>1.643958</td>\n",
       "      <td>-0.537573</td>\n",
       "      <td>-0.693246</td>\n",
       "      <td>-0.914507</td>\n",
       "      <td>0.063200</td>\n",
       "      <td>-0.511193</td>\n",
       "    </tr>\n",
       "  </tbody>\n",
       "</table>\n",
       "<p>2 rows × 25 columns</p>\n",
       "</div>"
      ],
      "text/plain": [
       "       CRIM        ZN     INDUS      CHAS       NOX        RM       AGE  \\\n",
       "0 -0.395935  0.048772 -0.476654 -0.272599 -0.265154 -0.931206  1.117494   \n",
       "1 -0.415517  1.765555 -0.848722 -0.272599 -1.293115  0.399425 -1.624226   \n",
       "\n",
       "        DIS       RAD       TAX  ...   INDUS 2     NOX 2      RM 2     AGE 2  \\\n",
       "0  1.087196 -0.523001 -0.577519  ... -0.638096 -0.334436 -0.912972  1.307731   \n",
       "1  1.674325 -0.408041 -0.684426  ... -0.834883 -1.129339  0.342857 -1.441853   \n",
       "\n",
       "      DIS 2     RAD 2     TAX 2  PTRATIO 2       B 2   LSTAT 2  \n",
       "0  0.860217 -0.582762 -0.624199  -1.498432  0.333771  2.903851  \n",
       "1  1.643958 -0.537573 -0.693246  -0.914507  0.063200 -0.511193  \n",
       "\n",
       "[2 rows x 25 columns]"
      ]
     },
     "execution_count": 6,
     "metadata": {},
     "output_type": "execute_result"
    }
   ],
   "source": [
    "from sklearn.preprocessing import StandardScaler\n",
    "\n",
    "ss =  StandardScaler()\n",
    "\n",
    "x  =  ss.fit_transform (x)                               # x gets stored in form of array\n",
    "\n",
    "x  =  pd.DataFrame (x,  columns =cols)                   # x converted to dataframe\n",
    "\n",
    "x.head(2)"
   ]
  },
  {
   "cell_type": "markdown",
   "metadata": {},
   "source": [
    "<a id='section_23'></a>\n",
    "## 3. **Linear Reg , Score**"
   ]
  },
  {
   "cell_type": "code",
   "execution_count": 7,
   "metadata": {},
   "outputs": [],
   "source": [
    "from sklearn.model_selection import train_test_split\n",
    "\n",
    "x_train, x_test, y_train, y_test    =     train_test_split ( x, y,   test_size =0.3,    random_state =42)"
   ]
  },
  {
   "cell_type": "code",
   "execution_count": 8,
   "metadata": {},
   "outputs": [
    {
     "data": {
      "text/plain": [
       "LinearRegression()"
      ]
     },
     "execution_count": 8,
     "metadata": {},
     "output_type": "execute_result"
    }
   ],
   "source": [
    "from sklearn.linear_model import LinearRegression\n",
    "\n",
    "lr = LinearRegression()\n",
    "\n",
    "lr.fit (x_train, y_train)                                       "
   ]
  },
  {
   "cell_type": "code",
   "execution_count": 9,
   "metadata": {},
   "outputs": [],
   "source": [
    "y_train_pred  =  lr.predict (x_train)            \n",
    "y_test_pred   =  lr.predict (x_test)"
   ]
  },
  {
   "cell_type": "code",
   "execution_count": 10,
   "metadata": {},
   "outputs": [
    {
     "name": "stdout",
     "output_type": "stream",
     "text": [
      "0.8631575913052096\n",
      "0.6989384844461194\n"
     ]
    }
   ],
   "source": [
    "from   sklearn.metrics   import  r2_score\n",
    "\n",
    "print  (  r2_score (y_train,  y_train_pred)  )\n",
    "print  (  r2_score (y_test,   y_test_pred)   )"
   ]
  },
  {
   "cell_type": "markdown",
   "metadata": {},
   "source": [
    "> OBS :\n",
    "        \n",
    "        * Significant difference in scores of train vs test\n",
    "\n",
    "> Comments :\n",
    "        \n",
    "        * We have made the model complex by adding squared features\n",
    "        * The scores are significantly varying\n",
    "        * So, this is a case of overfitting."
   ]
  },
  {
   "cell_type": "markdown",
   "metadata": {},
   "source": [
    "<a id='section_24'></a>\n",
    "# Part 2 - **Regularisation**"
   ]
  },
  {
   "cell_type": "markdown",
   "metadata": {},
   "source": [
    "<a id='section_25'></a>\n",
    "# 1. **Lasso**"
   ]
  },
  {
   "cell_type": "code",
   "execution_count": 11,
   "metadata": {},
   "outputs": [],
   "source": [
    "from  sklearn.linear_model    import   Lasso  , LassoCV"
   ]
  },
  {
   "cell_type": "markdown",
   "metadata": {},
   "source": [
    "## i - **Find best alpha**"
   ]
  },
  {
   "cell_type": "code",
   "execution_count": 12,
   "metadata": {},
   "outputs": [],
   "source": [
    "i  =  []\n",
    "i  =  np.logspace (-3, -1, 100)                                           # arg        # -3 to -1"
   ]
  },
  {
   "cell_type": "code",
   "execution_count": 13,
   "metadata": {},
   "outputs": [
    {
     "data": {
      "text/plain": [
       "0.017073526474706915"
      ]
     },
     "execution_count": 13,
     "metadata": {},
     "output_type": "execute_result"
    }
   ],
   "source": [
    "lcv     =  LassoCV  ( alphas = i,    cv =3,    max_iter =2000 )              \n",
    "\n",
    "lcv.fit (x,y)                                                                  \n",
    "\n",
    "lcv.alpha_                                                                     "
   ]
  },
  {
   "cell_type": "markdown",
   "metadata": {},
   "source": [
    "## ii - **Use best alpha**"
   ]
  },
  {
   "cell_type": "code",
   "execution_count": 14,
   "metadata": {},
   "outputs": [],
   "source": [
    "lasso  =  Lasso ( alpha = 0.017 )                                                \n",
    "\n",
    "lasso.fit (x,y)                                                                \n",
    " \n",
    "res   =   pd.DataFrame ( lasso.coef_  ,  index = x.columns )                           \n",
    "#res                                                         "
   ]
  },
  {
   "cell_type": "markdown",
   "metadata": {},
   "source": [
    "OBS\n",
    "* Best result for Lasso\n",
    "* -ve coeffs denote inverse relation\n",
    "* In further analysis, drop those features whose coeff = 0"
   ]
  },
  {
   "cell_type": "markdown",
   "metadata": {},
   "source": [
    "## iii - **Score**"
   ]
  },
  {
   "cell_type": "code",
   "execution_count": 15,
   "metadata": {},
   "outputs": [
    {
     "data": {
      "text/plain": [
       "0.82543915955071"
      ]
     },
     "execution_count": 15,
     "metadata": {},
     "output_type": "execute_result"
    }
   ],
   "source": [
    "y_pred  =  lasso.predict(x)\n",
    "\n",
    "r2_score ( y , y_pred )"
   ]
  },
  {
   "cell_type": "markdown",
   "metadata": {},
   "source": [
    "<a id='section_26'></a>\n",
    "# 2. **Ridge**"
   ]
  },
  {
   "cell_type": "code",
   "execution_count": 16,
   "metadata": {},
   "outputs": [],
   "source": [
    "from  sklearn.linear_model    import   Ridge , RidgeCV"
   ]
  },
  {
   "cell_type": "markdown",
   "metadata": {},
   "source": [
    "## i - **Find best alpha**"
   ]
  },
  {
   "cell_type": "code",
   "execution_count": 17,
   "metadata": {},
   "outputs": [],
   "source": [
    "i  =  []\n",
    "i  =  np.logspace (-3, 1, 100)                                          "
   ]
  },
  {
   "cell_type": "code",
   "execution_count": 18,
   "metadata": {},
   "outputs": [
    {
     "data": {
      "text/plain": [
       "0.4229242874389499"
      ]
     },
     "execution_count": 18,
     "metadata": {},
     "output_type": "execute_result"
    }
   ],
   "source": [
    "rcv     =  RidgeCV  ( alphas = i ,    cv = 3 )                              \n",
    "\n",
    "rcv.fit (x,y)                                                                \n",
    "\n",
    "rcv.alpha_                                                                  "
   ]
  },
  {
   "cell_type": "markdown",
   "metadata": {},
   "source": [
    "## ii - **Use best alpha**"
   ]
  },
  {
   "cell_type": "code",
   "execution_count": 19,
   "metadata": {},
   "outputs": [],
   "source": [
    "ridge  =  Ridge ( alpha = 0.422 )                                                \n",
    "\n",
    "ridge.fit (x,y)                                                                 \n",
    " \n",
    "res = pd.DataFrame ( ridge.coef_ ,  index = x.columns )                          \n",
    "#res                                                        "
   ]
  },
  {
   "cell_type": "markdown",
   "metadata": {},
   "source": [
    "## iii - **Score**"
   ]
  },
  {
   "cell_type": "code",
   "execution_count": 20,
   "metadata": {},
   "outputs": [
    {
     "data": {
      "text/plain": [
       "0.8301329814370588"
      ]
     },
     "execution_count": 20,
     "metadata": {},
     "output_type": "execute_result"
    }
   ],
   "source": [
    "y_pred  =  ridge.predict(x)\n",
    "\n",
    "r2_score ( y , y_pred )"
   ]
  },
  {
   "cell_type": "markdown",
   "metadata": {},
   "source": [
    "<a id='section_27'></a>\n",
    "# 3. **Elastic Net**"
   ]
  },
  {
   "cell_type": "code",
   "execution_count": 21,
   "metadata": {},
   "outputs": [],
   "source": [
    "from  sklearn.linear_model  import  ElasticNet  , ElasticNetCV"
   ]
  },
  {
   "cell_type": "markdown",
   "metadata": {},
   "source": [
    "## i - **Find best alpha**"
   ]
  },
  {
   "cell_type": "code",
   "execution_count": 22,
   "metadata": {},
   "outputs": [],
   "source": [
    "i  =  []\n",
    "i  =  np.logspace (-3, -1, 100)                                            "
   ]
  },
  {
   "cell_type": "code",
   "execution_count": 23,
   "metadata": {},
   "outputs": [
    {
     "data": {
      "text/plain": [
       "0.0025353644939701114"
      ]
     },
     "execution_count": 23,
     "metadata": {},
     "output_type": "execute_result"
    }
   ],
   "source": [
    "ecv     =  ElasticNetCV  ( alphas = i  ,   cv = 3  ,   max_iter = 5000 )           \n",
    "\n",
    "ecv.fit (x,y)                                                                  \n",
    "\n",
    "ecv.alpha_                                                                     "
   ]
  },
  {
   "cell_type": "markdown",
   "metadata": {},
   "source": [
    ">Note\n",
    "\n",
    "    * l1_ratio is also a param.\n",
    "    * j  =  [ 0.5, 0.55, 0.6, 0.65, 0.7, 0.75, 0.8, 0.85, 0.9 ]   .... input     \n",
    "    * ecv.l1_ratio_    .........  output"
   ]
  },
  {
   "cell_type": "markdown",
   "metadata": {},
   "source": [
    "## ii - **Use best alpha**"
   ]
  },
  {
   "cell_type": "code",
   "execution_count": 24,
   "metadata": {},
   "outputs": [],
   "source": [
    "enet  =  ElasticNet ( alpha = 0.002  ,   max_iter = 5000 )                       \n",
    "\n",
    "enet.fit(x,y)\n",
    " \n",
    "res  =  pd.DataFrame ( enet.coef_  ,  index = x.columns )                         # Display the coeffs\n",
    "#res                                                        "
   ]
  },
  {
   "cell_type": "markdown",
   "metadata": {},
   "source": [
    "## iii - **Score**"
   ]
  },
  {
   "cell_type": "code",
   "execution_count": 25,
   "metadata": {},
   "outputs": [
    {
     "data": {
      "text/plain": [
       "0.8295074306016069"
      ]
     },
     "execution_count": 25,
     "metadata": {},
     "output_type": "execute_result"
    }
   ],
   "source": [
    "y_pred  =  enet.predict(x)\n",
    "\n",
    "r2_score   ( y , y_pred )"
   ]
  }
 ],
 "metadata": {
  "kernelspec": {
   "display_name": "Python 3",
   "language": "python",
   "name": "python3"
  },
  "language_info": {
   "codemirror_mode": {
    "name": "ipython",
    "version": 3
   },
   "file_extension": ".py",
   "mimetype": "text/x-python",
   "name": "python",
   "nbconvert_exporter": "python",
   "pygments_lexer": "ipython3",
   "version": "3.7.4"
  }
 },
 "nbformat": 4,
 "nbformat_minor": 4
}
