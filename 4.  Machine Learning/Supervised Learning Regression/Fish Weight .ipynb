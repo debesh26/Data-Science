{
 "cells": [
  {
   "cell_type": "markdown",
   "metadata": {},
   "source": [
    "# **Table of Contents**\n",
    "* [Explore & Wrangle](#section_20)\n",
    "* [Assumptions Testing](#section_21)\n",
    "\n",
    "* [Model Building](#section_22)\n",
    "    * [LiR](#section_23)\n",
    "    * [RF](#section_24)\n",
    "    <br><br>\n",
    "* [Model Selection](#section_25)\n",
    "    * [Fitting](#section_26)\n",
    "    * [Validation](#section_27)\n",
    "    * [Best Model](#section_28)"
   ]
  },
  {
   "cell_type": "code",
   "execution_count": 1,
   "metadata": {
    "executionInfo": {
     "elapsed": 3139,
     "status": "ok",
     "timestamp": 1601875480084,
     "user": {
      "displayName": "Mahesh Anand",
      "photoUrl": "https://lh3.googleusercontent.com/a-/AOh14GiAxRvO4nLPhI4SJLaIoUVmhr8lm1tddyCLyKOj=s64",
      "userId": "06788086636039591358"
     },
     "user_tz": -330
    },
    "id": "rNIDikRVO8vW"
   },
   "outputs": [],
   "source": [
    "import numpy             as np\n",
    "import pandas            as pd\n",
    "import matplotlib.pyplot as plt\n",
    "import seaborn           as sns\n",
    "\n",
    "import warnings\n",
    "warnings.filterwarnings(\"ignore\")\n",
    "\n",
    "\n",
    "from   sklearn.linear_model     import   LinearRegression\n",
    "from   sklearn.ensemble         import   RandomForestRegressor\n",
    "\n",
    "from   sklearn.model_selection  import   train_test_split , KFold , cross_val_score , GridSearchCV\n",
    "from   sklearn.metrics          import   mean_squared_error"
   ]
  },
  {
   "cell_type": "markdown",
   "metadata": {},
   "source": [
    "<a id='section_20'></a>\n",
    "# Part 1 - **Explore & Wrangle**"
   ]
  },
  {
   "cell_type": "code",
   "execution_count": 2,
   "metadata": {
    "colab": {
     "base_uri": "https://localhost:8080/",
     "height": 34
    },
    "executionInfo": {
     "elapsed": 48634,
     "status": "ok",
     "timestamp": 1601875525605,
     "user": {
      "displayName": "Mahesh Anand",
      "photoUrl": "https://lh3.googleusercontent.com/a-/AOh14GiAxRvO4nLPhI4SJLaIoUVmhr8lm1tddyCLyKOj=s64",
      "userId": "06788086636039591358"
     },
     "user_tz": -330
    },
    "id": "hYZghmpTEV94",
    "outputId": "4f1a55c1-0b0c-4c2e-bc71-be67684f026c"
   },
   "outputs": [
    {
     "data": {
      "text/html": [
       "<div>\n",
       "<style scoped>\n",
       "    .dataframe tbody tr th:only-of-type {\n",
       "        vertical-align: middle;\n",
       "    }\n",
       "\n",
       "    .dataframe tbody tr th {\n",
       "        vertical-align: top;\n",
       "    }\n",
       "\n",
       "    .dataframe thead th {\n",
       "        text-align: right;\n",
       "    }\n",
       "</style>\n",
       "<table border=\"1\" class=\"dataframe\">\n",
       "  <thead>\n",
       "    <tr style=\"text-align: right;\">\n",
       "      <th></th>\n",
       "      <th>Species</th>\n",
       "      <th>Weight</th>\n",
       "      <th>V_length</th>\n",
       "      <th>D_length</th>\n",
       "      <th>C_length</th>\n",
       "      <th>Height</th>\n",
       "      <th>Width</th>\n",
       "    </tr>\n",
       "  </thead>\n",
       "  <tbody>\n",
       "    <tr>\n",
       "      <th>79</th>\n",
       "      <td>Perch</td>\n",
       "      <td>80.0</td>\n",
       "      <td>17.2</td>\n",
       "      <td>19.0</td>\n",
       "      <td>20.2</td>\n",
       "      <td>5.6358</td>\n",
       "      <td>3.0502</td>\n",
       "    </tr>\n",
       "    <tr>\n",
       "      <th>114</th>\n",
       "      <td>Perch</td>\n",
       "      <td>700.0</td>\n",
       "      <td>34.5</td>\n",
       "      <td>37.0</td>\n",
       "      <td>39.4</td>\n",
       "      <td>10.8350</td>\n",
       "      <td>6.2646</td>\n",
       "    </tr>\n",
       "    <tr>\n",
       "      <th>72</th>\n",
       "      <td>Perch</td>\n",
       "      <td>5.9</td>\n",
       "      <td>7.5</td>\n",
       "      <td>8.4</td>\n",
       "      <td>8.8</td>\n",
       "      <td>2.1120</td>\n",
       "      <td>1.4080</td>\n",
       "    </tr>\n",
       "    <tr>\n",
       "      <th>115</th>\n",
       "      <td>Perch</td>\n",
       "      <td>690.0</td>\n",
       "      <td>34.6</td>\n",
       "      <td>37.0</td>\n",
       "      <td>39.3</td>\n",
       "      <td>10.5717</td>\n",
       "      <td>6.3666</td>\n",
       "    </tr>\n",
       "    <tr>\n",
       "      <th>25</th>\n",
       "      <td>Bream</td>\n",
       "      <td>725.0</td>\n",
       "      <td>31.8</td>\n",
       "      <td>35.0</td>\n",
       "      <td>40.9</td>\n",
       "      <td>16.3600</td>\n",
       "      <td>6.0532</td>\n",
       "    </tr>\n",
       "  </tbody>\n",
       "</table>\n",
       "</div>"
      ],
      "text/plain": [
       "    Species  Weight  V_length  D_length  C_length   Height   Width\n",
       "79    Perch    80.0      17.2      19.0      20.2   5.6358  3.0502\n",
       "114   Perch   700.0      34.5      37.0      39.4  10.8350  6.2646\n",
       "72    Perch     5.9       7.5       8.4       8.8   2.1120  1.4080\n",
       "115   Perch   690.0      34.6      37.0      39.3  10.5717  6.3666\n",
       "25    Bream   725.0      31.8      35.0      40.9  16.3600  6.0532"
      ]
     },
     "execution_count": 2,
     "metadata": {},
     "output_type": "execute_result"
    }
   ],
   "source": [
    "df  =  pd.read_csv ('datasets/Fish Weight.csv')\n",
    "\n",
    "df.sample(5)"
   ]
  },
  {
   "cell_type": "markdown",
   "metadata": {},
   "source": [
    "**Target Col -- Weight**"
   ]
  },
  {
   "cell_type": "code",
   "execution_count": 3,
   "metadata": {
    "colab": {
     "base_uri": "https://localhost:8080/",
     "height": 204
    },
    "executionInfo": {
     "elapsed": 1201,
     "status": "ok",
     "timestamp": 1601881459643,
     "user": {
      "displayName": "Mahesh Anand",
      "photoUrl": "https://lh3.googleusercontent.com/a-/AOh14GiAxRvO4nLPhI4SJLaIoUVmhr8lm1tddyCLyKOj=s64",
      "userId": "06788086636039591358"
     },
     "user_tz": -330
    },
    "id": "McjSDHAdiXbD",
    "outputId": "3163f583-e44c-4d13-e0e8-afa617780af3"
   },
   "outputs": [],
   "source": [
    "df.drop ( ['Species'] , axis=1 , inplace=True )"
   ]
  },
  {
   "cell_type": "code",
   "execution_count": 4,
   "metadata": {
    "colab": {
     "base_uri": "https://localhost:8080/",
     "height": 34
    },
    "executionInfo": {
     "elapsed": 1433,
     "status": "ok",
     "timestamp": 1601876016896,
     "user": {
      "displayName": "Mahesh Anand",
      "photoUrl": "https://lh3.googleusercontent.com/a-/AOh14GiAxRvO4nLPhI4SJLaIoUVmhr8lm1tddyCLyKOj=s64",
      "userId": "06788086636039591358"
     },
     "user_tz": -330
    },
    "id": "9Je6Mqm8z84A",
    "outputId": "260b4819-7159-441d-900c-4a6744f8d2e1"
   },
   "outputs": [
    {
     "data": {
      "text/plain": [
       "(159, 6)"
      ]
     },
     "execution_count": 4,
     "metadata": {},
     "output_type": "execute_result"
    }
   ],
   "source": [
    "df.shape"
   ]
  },
  {
   "cell_type": "code",
   "execution_count": 5,
   "metadata": {},
   "outputs": [
    {
     "data": {
      "text/plain": [
       "Weight      0\n",
       "V_length    0\n",
       "D_length    0\n",
       "C_length    0\n",
       "Height      0\n",
       "Width       0\n",
       "dtype: int64"
      ]
     },
     "execution_count": 5,
     "metadata": {},
     "output_type": "execute_result"
    }
   ],
   "source": [
    "df.isnull().sum()"
   ]
  },
  {
   "cell_type": "markdown",
   "metadata": {},
   "source": [
    "<a id='section_21'></a>\n",
    "# Part 2 - **Assumption Testing**"
   ]
  },
  {
   "cell_type": "code",
   "execution_count": 6,
   "metadata": {},
   "outputs": [],
   "source": [
    "import statsmodels.api as sm\n",
    "\n",
    "y  =  df['Weight']\n",
    "x  =  df.drop('Weight', axis=1)\n",
    "xc =  sm.add_constant(x)\n",
    "\n",
    "model = sm.OLS(y,xc).fit()"
   ]
  },
  {
   "cell_type": "markdown",
   "metadata": {},
   "source": [
    "## **1. Normality of residuals**"
   ]
  },
  {
   "cell_type": "code",
   "execution_count": 7,
   "metadata": {},
   "outputs": [],
   "source": [
    "residuals  =  model.resid"
   ]
  },
  {
   "cell_type": "code",
   "execution_count": 8,
   "metadata": {},
   "outputs": [
    {
     "data": {
      "image/png": "[encoded data removed]",
      "text/plain": [
       "<Figure size 432x288 with 1 Axes>"
      ]
     },
     "metadata": {
      "needs_background": "light"
     },
     "output_type": "display_data"
    }
   ],
   "source": [
    "sns.distplot (residuals) ;"
   ]
  },
  {
   "cell_type": "code",
   "execution_count": 9,
   "metadata": {},
   "outputs": [
    {
     "data": {
      "image/png": "[encoded data removed]",
      "text/plain": [
       "<Figure size 432x288 with 1 Axes>"
      ]
     },
     "metadata": {
      "needs_background": "light"
     },
     "output_type": "display_data"
    }
   ],
   "source": [
    "import scipy.stats  as stats\n",
    "\n",
    "stats.probplot (residuals ,  plot=plt)\n",
    "plt.show()"
   ]
  },
  {
   "cell_type": "code",
   "execution_count": 10,
   "metadata": {},
   "outputs": [
    {
     "data": {
      "text/plain": [
       "(29.173861156680786, 4.623560468930421e-07)"
      ]
     },
     "execution_count": 10,
     "metadata": {},
     "output_type": "execute_result"
    }
   ],
   "source": [
    "stats.jarque_bera (residuals)"
   ]
  },
  {
   "cell_type": "markdown",
   "metadata": {},
   "source": [
    ">Comments :\n",
    "\n",
    "        * test statistic , p-value\n",
    "        * Residuals not normal\n",
    "        * To achieve normal dist of residuals , apply boxcox transformation on target col."
   ]
  },
  {
   "cell_type": "code",
   "execution_count": 11,
   "metadata": {},
   "outputs": [],
   "source": [
    "df ['Weight']  , lmb   =   stats.boxcox ( df ['Weight'] )   "
   ]
  },
  {
   "cell_type": "markdown",
   "metadata": {},
   "source": [
    "## **2. Low Multi-collinearity**"
   ]
  },
  {
   "cell_type": "code",
   "execution_count": 12,
   "metadata": {},
   "outputs": [
    {
     "data": {
      "text/html": [
       "<div>\n",
       "<style scoped>\n",
       "    .dataframe tbody tr th:only-of-type {\n",
       "        vertical-align: middle;\n",
       "    }\n",
       "\n",
       "    .dataframe tbody tr th {\n",
       "        vertical-align: top;\n",
       "    }\n",
       "\n",
       "    .dataframe thead th {\n",
       "        text-align: right;\n",
       "    }\n",
       "</style>\n",
       "<table border=\"1\" class=\"dataframe\">\n",
       "  <thead>\n",
       "    <tr style=\"text-align: right;\">\n",
       "      <th></th>\n",
       "      <th>VIF</th>\n",
       "    </tr>\n",
       "  </thead>\n",
       "  <tbody>\n",
       "    <tr>\n",
       "      <th>D_length</th>\n",
       "      <td>2084.257828</td>\n",
       "    </tr>\n",
       "    <tr>\n",
       "      <th>V_length</th>\n",
       "      <td>1681.496487</td>\n",
       "    </tr>\n",
       "    <tr>\n",
       "      <th>C_length</th>\n",
       "      <td>422.468251</td>\n",
       "    </tr>\n",
       "    <tr>\n",
       "      <th>Height</th>\n",
       "      <td>14.570087</td>\n",
       "    </tr>\n",
       "    <tr>\n",
       "      <th>Width</th>\n",
       "      <td>12.275361</td>\n",
       "    </tr>\n",
       "    <tr>\n",
       "      <th>const</th>\n",
       "      <td>9.159520</td>\n",
       "    </tr>\n",
       "  </tbody>\n",
       "</table>\n",
       "</div>"
      ],
      "text/plain": [
       "                  VIF\n",
       "D_length  2084.257828\n",
       "V_length  1681.496487\n",
       "C_length   422.468251\n",
       "Height      14.570087\n",
       "Width       12.275361\n",
       "const        9.159520"
      ]
     },
     "execution_count": 12,
     "metadata": {},
     "output_type": "execute_result"
    }
   ],
   "source": [
    "from   statsmodels.stats.outliers_influence   import   variance_inflation_factor   as   vif\n",
    "\n",
    "score  =  [   vif (xc.values, i)        for i in  range(xc.shape[1])     ]\n",
    "\n",
    "MC     =  pd.DataFrame (  {'VIF':score}  ,   index = xc.columns  )\n",
    "\n",
    "MC.sort_values (by='VIF',ascending=False)"
   ]
  },
  {
   "cell_type": "markdown",
   "metadata": {},
   "source": [
    "> Comments :\n",
    "    \n",
    "        * Drop cols 1 by 1 , according to highest VIF value\n",
    "        * After each drop , fit & recheck VIF\n",
    "        * Process is continued untill there is no relationship between input variables."
   ]
  },
  {
   "cell_type": "code",
   "execution_count": 13,
   "metadata": {},
   "outputs": [],
   "source": [
    "df .drop ( ['D_length' , 'V_length'] , axis=1 , inplace=True )"
   ]
  },
  {
   "cell_type": "code",
   "execution_count": 14,
   "metadata": {},
   "outputs": [],
   "source": [
    "import statsmodels.api as sm\n",
    "\n",
    "y  =  df['Weight']\n",
    "x  =  df.drop('Weight', axis=1)\n",
    "xc =  sm.add_constant(x)\n",
    "\n",
    "model = sm.OLS(y,xc).fit()"
   ]
  },
  {
   "cell_type": "code",
   "execution_count": 15,
   "metadata": {},
   "outputs": [],
   "source": [
    "residuals  =  model.resid"
   ]
  },
  {
   "cell_type": "markdown",
   "metadata": {},
   "source": [
    "## **3. Homo-scedasticity**"
   ]
  },
  {
   "cell_type": "code",
   "execution_count": 16,
   "metadata": {},
   "outputs": [
    {
     "data": {
      "text/plain": [
       "(0.7373921885259579, 0.9058489138193742, 'increasing')"
      ]
     },
     "execution_count": 16,
     "metadata": {},
     "output_type": "execute_result"
    }
   ],
   "source": [
    "import statsmodels.stats.api as sms\n",
    "\n",
    "sms.het_goldfeldquandt ( y=residuals , x=xc )"
   ]
  },
  {
   "cell_type": "markdown",
   "metadata": {},
   "source": [
    "> Comments :\n",
    "        \n",
    "        * H0 : Equal var of residuals ... (Homo)\n",
    "        * H1 : Unequal var of residuals  ... (Hetero)\n",
    "        * Output : test_statistic , p-value \n",
    "> Obs :\n",
    "        \n",
    "        * P > alpha\n",
    "        * Accept Null\n",
    "        * Homo-scedastic"
   ]
  },
  {
   "cell_type": "markdown",
   "metadata": {},
   "source": [
    "## **4. No Auto-correlation**"
   ]
  },
  {
   "cell_type": "code",
   "execution_count": 17,
   "metadata": {},
   "outputs": [
    {
     "data": {
      "text/plain": [
       "1.6430641639820591"
      ]
     },
     "execution_count": 17,
     "metadata": {},
     "output_type": "execute_result"
    }
   ],
   "source": [
    "from  statsmodels.stats.stattools  import  durbin_watson\n",
    "\n",
    "durbin_watson (residuals)"
   ]
  },
  {
   "cell_type": "markdown",
   "metadata": {},
   "source": [
    "* Obs\n",
    "    - Low auto-corr"
   ]
  },
  {
   "cell_type": "markdown",
   "metadata": {},
   "source": [
    "## **5. Linearity**"
   ]
  },
  {
   "cell_type": "code",
   "execution_count": 18,
   "metadata": {},
   "outputs": [
    {
     "data": {
      "text/plain": [
       "(3.1385785758603806, 5.913478397122869e-07)"
      ]
     },
     "execution_count": 18,
     "metadata": {},
     "output_type": "execute_result"
    }
   ],
   "source": [
    "import statsmodels.stats.api  as  sms\n",
    "\n",
    "sms.diagnostic.linear_rainbow (model)"
   ]
  },
  {
   "cell_type": "markdown",
   "metadata": {},
   "source": [
    "> Comments :\n",
    "        \n",
    "        * H0 : Reg is Linear\n",
    "        * H1 : Reg is not Linear.\n",
    "        * Output : test_statistic , p-value \n",
    "> Obs :\n",
    "        \n",
    "        * P < alpha\n",
    "        * Reject Null\n",
    "        * Reg is not Linear"
   ]
  },
  {
   "cell_type": "markdown",
   "metadata": {},
   "source": [
    "<a id='section_22'></a>\n",
    "# Part 3 - **Model Building**"
   ]
  },
  {
   "cell_type": "code",
   "execution_count": 19,
   "metadata": {},
   "outputs": [],
   "source": [
    "x  =  df.drop ('Weight' , axis=1)\n",
    "y  =  df ['Weight']\n",
    "\n",
    "x_train , x_test , y_train , y_test   =   train_test_split (x, y, test_size=0.3, random_state=42)"
   ]
  },
  {
   "cell_type": "markdown",
   "metadata": {},
   "source": [
    "<a id='section_23'></a>\n",
    "## **1 - LiR**"
   ]
  },
  {
   "cell_type": "code",
   "execution_count": 20,
   "metadata": {},
   "outputs": [
    {
     "data": {
      "text/plain": [
       "LinearRegression()"
      ]
     },
     "execution_count": 20,
     "metadata": {},
     "output_type": "execute_result"
    }
   ],
   "source": [
    "lr = LinearRegression()                                       \n",
    "\n",
    "lr.fit (x_train , y_train)             "
   ]
  },
  {
   "cell_type": "markdown",
   "metadata": {},
   "source": [
    "<a id='section_24'></a>\n",
    "## **2 - RF**"
   ]
  },
  {
   "cell_type": "code",
   "execution_count": 21,
   "metadata": {},
   "outputs": [],
   "source": [
    "kf  =  KFold ( n_splits =3 ,  shuffle =True ,  random_state =42 )"
   ]
  },
  {
   "cell_type": "code",
   "execution_count": 22,
   "metadata": {},
   "outputs": [
    {
     "data": {
      "text/plain": [
       "{'max_depth': 6, 'n_estimators': 3}"
      ]
     },
     "execution_count": 22,
     "metadata": {},
     "output_type": "execute_result"
    }
   ],
   "source": [
    "RF    =  RandomForestRegressor()\n",
    "\n",
    "param =  { 'n_estimators':np.arange(1,15) , 'max_depth':np.arange(1,10) }\n",
    "\n",
    "GS    =  GridSearchCV (RF , param , cv=kf , scoring='r2')\n",
    "\n",
    "GS.fit (x_train , y_train)\n",
    "\n",
    "GS.best_params_"
   ]
  },
  {
   "cell_type": "code",
   "execution_count": 23,
   "metadata": {},
   "outputs": [
    {
     "data": {
      "text/plain": [
       "RandomForestRegressor(max_depth=6, n_estimators=3, random_state=0)"
      ]
     },
     "execution_count": 23,
     "metadata": {},
     "output_type": "execute_result"
    }
   ],
   "source": [
    "RF = RandomForestRegressor ( n_estimators=3 , max_depth = 6 , random_state=0)  \n",
    "\n",
    "RF.fit (x_train , y_train)"
   ]
  },
  {
   "cell_type": "markdown",
   "metadata": {},
   "source": [
    "<a id='section_25'></a>\n",
    "# Part 4 - **Model Selection**"
   ]
  },
  {
   "cell_type": "code",
   "execution_count": 24,
   "metadata": {},
   "outputs": [],
   "source": [
    "models = []\n",
    "\n",
    "models.append  (( 'LiR'     ,  lr      ))\n",
    "models.append  (( 'RF'      ,  RF      ))"
   ]
  },
  {
   "cell_type": "markdown",
   "metadata": {},
   "source": [
    "<a id='section_26'></a>\n",
    "### **Fitting**"
   ]
  },
  {
   "cell_type": "code",
   "execution_count": 25,
   "metadata": {},
   "outputs": [
    {
     "name": "stdout",
     "output_type": "stream",
     "text": [
      "LiR\n",
      "0.6931803111360729\n",
      "0.7542671574801487\n",
      "RF\n",
      "0.522975126835873\n",
      "0.9059357098996982\n"
     ]
    }
   ],
   "source": [
    "result = []\n",
    "\n",
    "for i,j in models:\n",
    "\n",
    "    print(i)\n",
    "    \n",
    "    y_train_pred  =  j.predict (x_train)\n",
    "    y_test_pred   =  j.predict (x_test)\n",
    "                   \n",
    "    print  (  ( mean_squared_error  ( y_train , y_train_pred )) **0.5    )                                 \n",
    "    print  (  ( mean_squared_error  ( y_test  , y_test_pred  )) **0.5    )"
   ]
  },
  {
   "cell_type": "markdown",
   "metadata": {},
   "source": [
    "<a id='section_27'></a>\n",
    "### **Validation**"
   ]
  },
  {
   "cell_type": "code",
   "execution_count": 26,
   "metadata": {},
   "outputs": [
    {
     "data": {
      "text/html": [
       "<div>\n",
       "<style scoped>\n",
       "    .dataframe tbody tr th:only-of-type {\n",
       "        vertical-align: middle;\n",
       "    }\n",
       "\n",
       "    .dataframe tbody tr th {\n",
       "        vertical-align: top;\n",
       "    }\n",
       "\n",
       "    .dataframe thead th {\n",
       "        text-align: right;\n",
       "    }\n",
       "</style>\n",
       "<table border=\"1\" class=\"dataframe\">\n",
       "  <thead>\n",
       "    <tr style=\"text-align: right;\">\n",
       "      <th></th>\n",
       "      <th>Name</th>\n",
       "      <th>BE</th>\n",
       "      <th>VE</th>\n",
       "    </tr>\n",
       "  </thead>\n",
       "  <tbody>\n",
       "    <tr>\n",
       "      <th>0</th>\n",
       "      <td>LiR</td>\n",
       "      <td>0.014599</td>\n",
       "      <td>0.006537</td>\n",
       "    </tr>\n",
       "    <tr>\n",
       "      <th>1</th>\n",
       "      <td>RF</td>\n",
       "      <td>0.040801</td>\n",
       "      <td>0.009696</td>\n",
       "    </tr>\n",
       "  </tbody>\n",
       "</table>\n",
       "</div>"
      ],
      "text/plain": [
       "  Name        BE        VE\n",
       "0  LiR  0.014599  0.006537\n",
       "1   RF  0.040801  0.009696"
      ]
     },
     "execution_count": 26,
     "metadata": {},
     "output_type": "execute_result"
    }
   ],
   "source": [
    "result = []\n",
    "\n",
    "for  i,j  in  models:\n",
    "    \n",
    "    score = cross_val_score ( j , x_train , y_train , cv =kf, scoring ='r2' )\n",
    "    \n",
    "    result.append ( { 'Name': i   ,   'BE': np.mean(1-score)   ,   'VE': np.std(score,ddof=1)  } )                \n",
    "\n",
    "\n",
    "table = pd.DataFrame(result)\n",
    "table"
   ]
  },
  {
   "cell_type": "markdown",
   "metadata": {},
   "source": [
    "<a id='section_28'></a>\n",
    "### **Best Model**"
   ]
  },
  {
   "cell_type": "markdown",
   "metadata": {},
   "source": [
    "## *Linear Regressor*"
   ]
  }
 ],
 "metadata": {
  "colab": {
   "collapsed_sections": [],
   "name": "Case_study_Sports_Analytics_Baseball.ipynb",
   "provenance": []
  },
  "kernelspec": {
   "display_name": "Python 3",
   "language": "python",
   "name": "python3"
  },
  "language_info": {
   "codemirror_mode": {
    "name": "ipython",
    "version": 3
   },
   "file_extension": ".py",
   "mimetype": "text/x-python",
   "name": "python",
   "nbconvert_exporter": "python",
   "pygments_lexer": "ipython3",
   "version": "3.7.4"
  }
 },
 "nbformat": 4,
 "nbformat_minor": 4
}
