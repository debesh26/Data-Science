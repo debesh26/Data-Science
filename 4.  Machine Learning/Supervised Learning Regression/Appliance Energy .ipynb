{
 "cells": [
  {
   "cell_type": "markdown",
   "metadata": {},
   "source": [
    "# **Table of Contents**\n",
    "* [Explore & Wrangle](#section_10)\n",
    "* [Assumptions Testing](#section_11)\n",
    "\n",
    "* [Model Building](#section_12)\n",
    "    * [LiR](#section_13)\n",
    "    * [RF](#section_14)\n",
    "    <br><br>\n",
    "* [Model Selection](#section_15)\n",
    "    * [Fitting](#section_16)\n",
    "    * [Validation](#section_17)\n",
    "    * [Best Model](#section_18)"
   ]
  },
  {
   "cell_type": "code",
   "execution_count": 1,
   "metadata": {
    "executionInfo": {
     "elapsed": 3139,
     "status": "ok",
     "timestamp": 1601875480084,
     "user": {
      "displayName": "Mahesh Anand",
      "photoUrl": "https://lh3.googleusercontent.com/a-/AOh14GiAxRvO4nLPhI4SJLaIoUVmhr8lm1tddyCLyKOj=s64",
      "userId": "06788086636039591358"
     },
     "user_tz": -330
    },
    "id": "rNIDikRVO8vW"
   },
   "outputs": [],
   "source": [
    "import numpy             as np\n",
    "import pandas            as pd\n",
    "import matplotlib.pyplot as plt\n",
    "import seaborn           as sns\n",
    "\n",
    "import warnings\n",
    "warnings.filterwarnings(\"ignore\")\n",
    "\n",
    "import scipy.stats       as stats\n",
    "\n",
    "from   sklearn.linear_model     import   LinearRegression\n",
    "from   sklearn.ensemble         import   RandomForestRegressor\n",
    "\n",
    "from   sklearn.model_selection  import   train_test_split , KFold , cross_val_score , RandomizedSearchCV\n",
    "from   sklearn.metrics          import   mean_squared_error"
   ]
  },
  {
   "cell_type": "markdown",
   "metadata": {},
   "source": [
    "<a id='section_10'></a>\n",
    "# Part 1 - **Explore & Wrangle**"
   ]
  },
  {
   "cell_type": "code",
   "execution_count": 2,
   "metadata": {
    "colab": {
     "base_uri": "https://localhost:8080/",
     "height": 34
    },
    "executionInfo": {
     "elapsed": 48634,
     "status": "ok",
     "timestamp": 1601875525605,
     "user": {
      "displayName": "Mahesh Anand",
      "photoUrl": "https://lh3.googleusercontent.com/a-/AOh14GiAxRvO4nLPhI4SJLaIoUVmhr8lm1tddyCLyKOj=s64",
      "userId": "06788086636039591358"
     },
     "user_tz": -330
    },
    "id": "hYZghmpTEV94",
    "outputId": "4f1a55c1-0b0c-4c2e-bc71-be67684f026c"
   },
   "outputs": [
    {
     "data": {
      "text/html": [
       "<div>\n",
       "<style scoped>\n",
       "    .dataframe tbody tr th:only-of-type {\n",
       "        vertical-align: middle;\n",
       "    }\n",
       "\n",
       "    .dataframe tbody tr th {\n",
       "        vertical-align: top;\n",
       "    }\n",
       "\n",
       "    .dataframe thead th {\n",
       "        text-align: right;\n",
       "    }\n",
       "</style>\n",
       "<table border=\"1\" class=\"dataframe\">\n",
       "  <thead>\n",
       "    <tr style=\"text-align: right;\">\n",
       "      <th></th>\n",
       "      <th>AE</th>\n",
       "      <th>lights</th>\n",
       "      <th>T1</th>\n",
       "      <th>RH_1</th>\n",
       "      <th>T2</th>\n",
       "      <th>RH_2</th>\n",
       "      <th>T3</th>\n",
       "      <th>RH_3</th>\n",
       "      <th>T4</th>\n",
       "      <th>RH_4</th>\n",
       "      <th>T5</th>\n",
       "      <th>RH_5</th>\n",
       "      <th>T6</th>\n",
       "      <th>RH_6</th>\n",
       "      <th>T7</th>\n",
       "      <th>RH_7</th>\n",
       "      <th>T8</th>\n",
       "      <th>RH_8</th>\n",
       "      <th>T9</th>\n",
       "      <th>RH_9</th>\n",
       "      <th>T_out</th>\n",
       "      <th>Press_mm_hg</th>\n",
       "      <th>RH_out</th>\n",
       "      <th>Windspeed</th>\n",
       "      <th>Visibility</th>\n",
       "    </tr>\n",
       "  </thead>\n",
       "  <tbody>\n",
       "    <tr>\n",
       "      <th>511</th>\n",
       "      <td>50</td>\n",
       "      <td>0</td>\n",
       "      <td>24.890000</td>\n",
       "      <td>38.863333</td>\n",
       "      <td>23.963333</td>\n",
       "      <td>37.626667</td>\n",
       "      <td>25.39</td>\n",
       "      <td>37.59</td>\n",
       "      <td>24.39</td>\n",
       "      <td>37.500000</td>\n",
       "      <td>22.70</td>\n",
       "      <td>58.133333</td>\n",
       "      <td>15.000000</td>\n",
       "      <td>12.516000</td>\n",
       "      <td>23.70</td>\n",
       "      <td>37.114286</td>\n",
       "      <td>25.1</td>\n",
       "      <td>43.116000</td>\n",
       "      <td>22.39</td>\n",
       "      <td>40.340000</td>\n",
       "      <td>16.333333</td>\n",
       "      <td>751.666667</td>\n",
       "      <td>68.666667</td>\n",
       "      <td>1.000000</td>\n",
       "      <td>40.000000</td>\n",
       "    </tr>\n",
       "    <tr>\n",
       "      <th>339</th>\n",
       "      <td>50</td>\n",
       "      <td>0</td>\n",
       "      <td>23.790000</td>\n",
       "      <td>37.700000</td>\n",
       "      <td>21.700000</td>\n",
       "      <td>39.090000</td>\n",
       "      <td>24.50</td>\n",
       "      <td>38.09</td>\n",
       "      <td>23.60</td>\n",
       "      <td>36.590000</td>\n",
       "      <td>21.10</td>\n",
       "      <td>48.326667</td>\n",
       "      <td>10.784286</td>\n",
       "      <td>23.422857</td>\n",
       "      <td>22.79</td>\n",
       "      <td>34.090000</td>\n",
       "      <td>23.7</td>\n",
       "      <td>43.126667</td>\n",
       "      <td>21.79</td>\n",
       "      <td>43.290000</td>\n",
       "      <td>12.100000</td>\n",
       "      <td>752.100000</td>\n",
       "      <td>65.000000</td>\n",
       "      <td>1.000000</td>\n",
       "      <td>40.000000</td>\n",
       "    </tr>\n",
       "    <tr>\n",
       "      <th>46</th>\n",
       "      <td>50</td>\n",
       "      <td>0</td>\n",
       "      <td>20.856667</td>\n",
       "      <td>37.223333</td>\n",
       "      <td>19.200000</td>\n",
       "      <td>36.966667</td>\n",
       "      <td>20.50</td>\n",
       "      <td>37.09</td>\n",
       "      <td>19.70</td>\n",
       "      <td>35.200000</td>\n",
       "      <td>19.39</td>\n",
       "      <td>67.240000</td>\n",
       "      <td>1.323333</td>\n",
       "      <td>64.656667</td>\n",
       "      <td>18.70</td>\n",
       "      <td>34.805714</td>\n",
       "      <td>20.6</td>\n",
       "      <td>42.863333</td>\n",
       "      <td>17.70</td>\n",
       "      <td>38.656667</td>\n",
       "      <td>2.033333</td>\n",
       "      <td>750.733333</td>\n",
       "      <td>81.000000</td>\n",
       "      <td>2.666667</td>\n",
       "      <td>21.333333</td>\n",
       "    </tr>\n",
       "    <tr>\n",
       "      <th>987</th>\n",
       "      <td>40</td>\n",
       "      <td>10</td>\n",
       "      <td>20.790000</td>\n",
       "      <td>40.200000</td>\n",
       "      <td>19.200000</td>\n",
       "      <td>41.590000</td>\n",
       "      <td>20.60</td>\n",
       "      <td>38.53</td>\n",
       "      <td>19.39</td>\n",
       "      <td>39.400000</td>\n",
       "      <td>19.00</td>\n",
       "      <td>46.730000</td>\n",
       "      <td>8.033333</td>\n",
       "      <td>86.263333</td>\n",
       "      <td>18.50</td>\n",
       "      <td>35.590000</td>\n",
       "      <td>20.7</td>\n",
       "      <td>48.933333</td>\n",
       "      <td>18.00</td>\n",
       "      <td>41.163333</td>\n",
       "      <td>8.400000</td>\n",
       "      <td>749.333333</td>\n",
       "      <td>85.000000</td>\n",
       "      <td>8.000000</td>\n",
       "      <td>40.000000</td>\n",
       "    </tr>\n",
       "    <tr>\n",
       "      <th>466</th>\n",
       "      <td>230</td>\n",
       "      <td>10</td>\n",
       "      <td>22.790000</td>\n",
       "      <td>28.193333</td>\n",
       "      <td>22.000000</td>\n",
       "      <td>26.360000</td>\n",
       "      <td>22.50</td>\n",
       "      <td>34.56</td>\n",
       "      <td>22.50</td>\n",
       "      <td>29.421429</td>\n",
       "      <td>20.29</td>\n",
       "      <td>35.433333</td>\n",
       "      <td>15.963333</td>\n",
       "      <td>1.000000</td>\n",
       "      <td>22.70</td>\n",
       "      <td>26.890000</td>\n",
       "      <td>22.2</td>\n",
       "      <td>32.663333</td>\n",
       "      <td>20.20</td>\n",
       "      <td>34.363333</td>\n",
       "      <td>15.466667</td>\n",
       "      <td>765.233333</td>\n",
       "      <td>31.666667</td>\n",
       "      <td>6.333333</td>\n",
       "      <td>40.000000</td>\n",
       "    </tr>\n",
       "  </tbody>\n",
       "</table>\n",
       "</div>"
      ],
      "text/plain": [
       "      AE  lights         T1       RH_1         T2       RH_2     T3   RH_3  \\\n",
       "511   50       0  24.890000  38.863333  23.963333  37.626667  25.39  37.59   \n",
       "339   50       0  23.790000  37.700000  21.700000  39.090000  24.50  38.09   \n",
       "46    50       0  20.856667  37.223333  19.200000  36.966667  20.50  37.09   \n",
       "987   40      10  20.790000  40.200000  19.200000  41.590000  20.60  38.53   \n",
       "466  230      10  22.790000  28.193333  22.000000  26.360000  22.50  34.56   \n",
       "\n",
       "        T4       RH_4     T5       RH_5         T6       RH_6     T7  \\\n",
       "511  24.39  37.500000  22.70  58.133333  15.000000  12.516000  23.70   \n",
       "339  23.60  36.590000  21.10  48.326667  10.784286  23.422857  22.79   \n",
       "46   19.70  35.200000  19.39  67.240000   1.323333  64.656667  18.70   \n",
       "987  19.39  39.400000  19.00  46.730000   8.033333  86.263333  18.50   \n",
       "466  22.50  29.421429  20.29  35.433333  15.963333   1.000000  22.70   \n",
       "\n",
       "          RH_7    T8       RH_8     T9       RH_9      T_out  Press_mm_hg  \\\n",
       "511  37.114286  25.1  43.116000  22.39  40.340000  16.333333   751.666667   \n",
       "339  34.090000  23.7  43.126667  21.79  43.290000  12.100000   752.100000   \n",
       "46   34.805714  20.6  42.863333  17.70  38.656667   2.033333   750.733333   \n",
       "987  35.590000  20.7  48.933333  18.00  41.163333   8.400000   749.333333   \n",
       "466  26.890000  22.2  32.663333  20.20  34.363333  15.466667   765.233333   \n",
       "\n",
       "        RH_out  Windspeed  Visibility  \n",
       "511  68.666667   1.000000   40.000000  \n",
       "339  65.000000   1.000000   40.000000  \n",
       "46   81.000000   2.666667   21.333333  \n",
       "987  85.000000   8.000000   40.000000  \n",
       "466  31.666667   6.333333   40.000000  "
      ]
     },
     "execution_count": 2,
     "metadata": {},
     "output_type": "execute_result"
    }
   ],
   "source": [
    "df  =  pd.read_csv ('datasets/Appliance Energy.csv')\n",
    "\n",
    "pd.set_option      ('display.max_columns' , None)\n",
    "\n",
    "df.sample(5)"
   ]
  },
  {
   "cell_type": "markdown",
   "metadata": {},
   "source": [
    "**Target Col -- AE**"
   ]
  },
  {
   "cell_type": "code",
   "execution_count": 3,
   "metadata": {
    "colab": {
     "base_uri": "https://localhost:8080/",
     "height": 34
    },
    "executionInfo": {
     "elapsed": 1433,
     "status": "ok",
     "timestamp": 1601876016896,
     "user": {
      "displayName": "Mahesh Anand",
      "photoUrl": "https://lh3.googleusercontent.com/a-/AOh14GiAxRvO4nLPhI4SJLaIoUVmhr8lm1tddyCLyKOj=s64",
      "userId": "06788086636039591358"
     },
     "user_tz": -330
    },
    "id": "9Je6Mqm8z84A",
    "outputId": "260b4819-7159-441d-900c-4a6744f8d2e1"
   },
   "outputs": [
    {
     "data": {
      "text/plain": [
       "(1000, 25)"
      ]
     },
     "execution_count": 3,
     "metadata": {},
     "output_type": "execute_result"
    }
   ],
   "source": [
    "df.shape"
   ]
  },
  {
   "cell_type": "code",
   "execution_count": 4,
   "metadata": {},
   "outputs": [
    {
     "data": {
      "text/plain": [
       "AE             0\n",
       "lights         0\n",
       "T1             0\n",
       "RH_1           0\n",
       "T2             0\n",
       "RH_2           0\n",
       "T3             0\n",
       "RH_3           0\n",
       "T4             0\n",
       "RH_4           0\n",
       "T5             0\n",
       "RH_5           0\n",
       "T6             0\n",
       "RH_6           0\n",
       "T7             0\n",
       "RH_7           0\n",
       "T8             0\n",
       "RH_8           0\n",
       "T9             0\n",
       "RH_9           0\n",
       "T_out          0\n",
       "Press_mm_hg    0\n",
       "RH_out         0\n",
       "Windspeed      0\n",
       "Visibility     0\n",
       "dtype: int64"
      ]
     },
     "execution_count": 4,
     "metadata": {},
     "output_type": "execute_result"
    }
   ],
   "source": [
    "df.isnull().sum()"
   ]
  },
  {
   "cell_type": "markdown",
   "metadata": {},
   "source": [
    "<a id='section_11'></a>\n",
    "# Part 2 - **Assumption Testing**"
   ]
  },
  {
   "cell_type": "code",
   "execution_count": 5,
   "metadata": {},
   "outputs": [],
   "source": [
    "import statsmodels.api as sm\n",
    "\n",
    "y  =  df['AE']\n",
    "x  =  df.drop('AE', axis=1)\n",
    "xc =  sm.add_constant(x)\n",
    "\n",
    "model = sm.OLS(y,xc).fit()"
   ]
  },
  {
   "cell_type": "markdown",
   "metadata": {},
   "source": [
    "## **1. Normality of residuals**"
   ]
  },
  {
   "cell_type": "code",
   "execution_count": 6,
   "metadata": {},
   "outputs": [],
   "source": [
    "residuals  =  model.resid"
   ]
  },
  {
   "cell_type": "code",
   "execution_count": 7,
   "metadata": {},
   "outputs": [
    {
     "data": {
      "image/png": "[encoded data removed]",
      "text/plain": [
       "<Figure size 432x288 with 1 Axes>"
      ]
     },
     "metadata": {
      "needs_background": "light"
     },
     "output_type": "display_data"
    }
   ],
   "source": [
    "sns.distplot (residuals) ;"
   ]
  },
  {
   "cell_type": "code",
   "execution_count": 8,
   "metadata": {},
   "outputs": [
    {
     "data": {
      "image/png": "[encoded data removed]",
      "text/plain": [
       "<Figure size 432x288 with 1 Axes>"
      ]
     },
     "metadata": {
      "needs_background": "light"
     },
     "output_type": "display_data"
    }
   ],
   "source": [
    "stats.probplot (residuals ,  plot=plt)\n",
    "plt.show()"
   ]
  },
  {
   "cell_type": "markdown",
   "metadata": {},
   "source": [
    ">Comments :\n",
    "\n",
    "        * Residuals not normal\n",
    "        * To achieve normal dist of residuals , apply boxcox transformation on target col."
   ]
  },
  {
   "cell_type": "code",
   "execution_count": 9,
   "metadata": {},
   "outputs": [],
   "source": [
    "df ['AE']  , lmb   =   stats.boxcox ( df ['AE'] )   "
   ]
  },
  {
   "cell_type": "markdown",
   "metadata": {},
   "source": [
    "## **2. Low Multi-collinearity**"
   ]
  },
  {
   "cell_type": "code",
   "execution_count": 10,
   "metadata": {},
   "outputs": [
    {
     "data": {
      "text/html": [
       "<div>\n",
       "<style scoped>\n",
       "    .dataframe tbody tr th:only-of-type {\n",
       "        vertical-align: middle;\n",
       "    }\n",
       "\n",
       "    .dataframe tbody tr th {\n",
       "        vertical-align: top;\n",
       "    }\n",
       "\n",
       "    .dataframe thead th {\n",
       "        text-align: right;\n",
       "    }\n",
       "</style>\n",
       "<table border=\"1\" class=\"dataframe\">\n",
       "  <thead>\n",
       "    <tr style=\"text-align: right;\">\n",
       "      <th></th>\n",
       "      <th>VIF</th>\n",
       "    </tr>\n",
       "  </thead>\n",
       "  <tbody>\n",
       "    <tr>\n",
       "      <th>const</th>\n",
       "      <td>18687.979022</td>\n",
       "    </tr>\n",
       "    <tr>\n",
       "      <th>T6</th>\n",
       "      <td>31.557303</td>\n",
       "    </tr>\n",
       "    <tr>\n",
       "      <th>T_out</th>\n",
       "      <td>29.607459</td>\n",
       "    </tr>\n",
       "    <tr>\n",
       "      <th>T2</th>\n",
       "      <td>28.568146</td>\n",
       "    </tr>\n",
       "    <tr>\n",
       "      <th>T9</th>\n",
       "      <td>27.389719</td>\n",
       "    </tr>\n",
       "    <tr>\n",
       "      <th>RH_2</th>\n",
       "      <td>24.640905</td>\n",
       "    </tr>\n",
       "    <tr>\n",
       "      <th>RH_1</th>\n",
       "      <td>19.924645</td>\n",
       "    </tr>\n",
       "    <tr>\n",
       "      <th>T1</th>\n",
       "      <td>18.989872</td>\n",
       "    </tr>\n",
       "    <tr>\n",
       "      <th>RH_4</th>\n",
       "      <td>17.301934</td>\n",
       "    </tr>\n",
       "    <tr>\n",
       "      <th>T7</th>\n",
       "      <td>15.784752</td>\n",
       "    </tr>\n",
       "    <tr>\n",
       "      <th>RH_7</th>\n",
       "      <td>10.631376</td>\n",
       "    </tr>\n",
       "    <tr>\n",
       "      <th>T4</th>\n",
       "      <td>9.911569</td>\n",
       "    </tr>\n",
       "    <tr>\n",
       "      <th>RH_3</th>\n",
       "      <td>9.683370</td>\n",
       "    </tr>\n",
       "    <tr>\n",
       "      <th>T3</th>\n",
       "      <td>9.606156</td>\n",
       "    </tr>\n",
       "    <tr>\n",
       "      <th>RH_6</th>\n",
       "      <td>9.470142</td>\n",
       "    </tr>\n",
       "    <tr>\n",
       "      <th>RH_8</th>\n",
       "      <td>9.279282</td>\n",
       "    </tr>\n",
       "    <tr>\n",
       "      <th>T5</th>\n",
       "      <td>9.160280</td>\n",
       "    </tr>\n",
       "    <tr>\n",
       "      <th>T8</th>\n",
       "      <td>8.043649</td>\n",
       "    </tr>\n",
       "    <tr>\n",
       "      <th>RH_out</th>\n",
       "      <td>6.851547</td>\n",
       "    </tr>\n",
       "    <tr>\n",
       "      <th>RH_9</th>\n",
       "      <td>6.536481</td>\n",
       "    </tr>\n",
       "    <tr>\n",
       "      <th>RH_5</th>\n",
       "      <td>1.583488</td>\n",
       "    </tr>\n",
       "    <tr>\n",
       "      <th>Windspeed</th>\n",
       "      <td>1.581254</td>\n",
       "    </tr>\n",
       "    <tr>\n",
       "      <th>Press_mm_hg</th>\n",
       "      <td>1.532554</td>\n",
       "    </tr>\n",
       "    <tr>\n",
       "      <th>lights</th>\n",
       "      <td>1.373152</td>\n",
       "    </tr>\n",
       "    <tr>\n",
       "      <th>Visibility</th>\n",
       "      <td>1.073685</td>\n",
       "    </tr>\n",
       "  </tbody>\n",
       "</table>\n",
       "</div>"
      ],
      "text/plain": [
       "                      VIF\n",
       "const        18687.979022\n",
       "T6              31.557303\n",
       "T_out           29.607459\n",
       "T2              28.568146\n",
       "T9              27.389719\n",
       "RH_2            24.640905\n",
       "RH_1            19.924645\n",
       "T1              18.989872\n",
       "RH_4            17.301934\n",
       "T7              15.784752\n",
       "RH_7            10.631376\n",
       "T4               9.911569\n",
       "RH_3             9.683370\n",
       "T3               9.606156\n",
       "RH_6             9.470142\n",
       "RH_8             9.279282\n",
       "T5               9.160280\n",
       "T8               8.043649\n",
       "RH_out           6.851547\n",
       "RH_9             6.536481\n",
       "RH_5             1.583488\n",
       "Windspeed        1.581254\n",
       "Press_mm_hg      1.532554\n",
       "lights           1.373152\n",
       "Visibility       1.073685"
      ]
     },
     "execution_count": 10,
     "metadata": {},
     "output_type": "execute_result"
    }
   ],
   "source": [
    "from   statsmodels.stats.outliers_influence   import   variance_inflation_factor   as   vif\n",
    "\n",
    "score  =  [   vif (xc.values, i)        for i in  range(xc.shape[1])     ]\n",
    "\n",
    "MC     =  pd.DataFrame (  {'VIF':score}  ,   index = xc.columns  )\n",
    "\n",
    "MC.sort_values (by='VIF',ascending=False)"
   ]
  },
  {
   "cell_type": "markdown",
   "metadata": {},
   "source": [
    "> Comments :\n",
    "    \n",
    "        * Drop cols 1 by 1 , according to highest VIF value\n",
    "        * After each drop , fit & recheck VIF\n",
    "        * Process is continued untill there is no relationship between input variables."
   ]
  },
  {
   "cell_type": "code",
   "execution_count": 11,
   "metadata": {},
   "outputs": [],
   "source": [
    "df .drop ( ['T6' ,'T_out' ,'T2' , 'T9' , 'RH_2' , 'RH_1' , 'T1' , 'RH_4' , 'T7' , 'RH_7'] , axis=1 , inplace=True )"
   ]
  },
  {
   "cell_type": "code",
   "execution_count": 12,
   "metadata": {},
   "outputs": [],
   "source": [
    "import statsmodels.api as sm\n",
    "\n",
    "y  =  df['AE']\n",
    "x  =  df.drop('AE', axis=1)\n",
    "xc =  sm.add_constant(x)\n",
    "\n",
    "model = sm.OLS(y,xc).fit()"
   ]
  },
  {
   "cell_type": "code",
   "execution_count": 13,
   "metadata": {},
   "outputs": [],
   "source": [
    "residuals  =  model.resid"
   ]
  },
  {
   "cell_type": "markdown",
   "metadata": {},
   "source": [
    "## **3. Homo-scedasticity**"
   ]
  },
  {
   "cell_type": "code",
   "execution_count": 14,
   "metadata": {},
   "outputs": [
    {
     "data": {
      "text/plain": [
       "(0.9638583963334968, 0.6573044403209587, 'increasing')"
      ]
     },
     "execution_count": 14,
     "metadata": {},
     "output_type": "execute_result"
    }
   ],
   "source": [
    "import statsmodels.stats.api as sms\n",
    "\n",
    "sms.het_goldfeldquandt ( y=residuals , x=xc )"
   ]
  },
  {
   "cell_type": "markdown",
   "metadata": {},
   "source": [
    "> Comments :\n",
    "        \n",
    "        * H0 : Equal var of residuals\n",
    "        * H1 : Unequal var of residuals \n",
    "        * Output : test_statistic , p-value \n",
    "> Obs :\n",
    "        \n",
    "        * P > alpha\n",
    "        * Accept Null\n",
    "        * Homo - scedastic"
   ]
  },
  {
   "cell_type": "markdown",
   "metadata": {},
   "source": [
    "## **4. No Auto-correlation**"
   ]
  },
  {
   "cell_type": "code",
   "execution_count": 15,
   "metadata": {},
   "outputs": [
    {
     "data": {
      "text/plain": [
       "1.9335629899524787"
      ]
     },
     "execution_count": 15,
     "metadata": {},
     "output_type": "execute_result"
    }
   ],
   "source": [
    "from  statsmodels.stats.stattools  import  durbin_watson\n",
    "\n",
    "durbin_watson (residuals)"
   ]
  },
  {
   "cell_type": "markdown",
   "metadata": {},
   "source": [
    "* Obs\n",
    "    - No auto-corr"
   ]
  },
  {
   "cell_type": "markdown",
   "metadata": {},
   "source": [
    "## **5. Linearity**"
   ]
  },
  {
   "cell_type": "code",
   "execution_count": 16,
   "metadata": {},
   "outputs": [
    {
     "data": {
      "text/plain": [
       "(0.8111714973061543, 0.9898373433898404)"
      ]
     },
     "execution_count": 16,
     "metadata": {},
     "output_type": "execute_result"
    }
   ],
   "source": [
    "import statsmodels.stats.api  as  sms\n",
    "\n",
    "sms.diagnostic.linear_rainbow (model)"
   ]
  },
  {
   "cell_type": "markdown",
   "metadata": {},
   "source": [
    "> Comments :\n",
    "        \n",
    "        * H0 : Reg is Linear\n",
    "        * H1 : Reg is not Linear.\n",
    "        * Output : test_statistic , p-value \n",
    "> Obs :\n",
    "        \n",
    "        * P > alpha\n",
    "        * Accept Null\n",
    "        * Reg is Linear"
   ]
  },
  {
   "cell_type": "markdown",
   "metadata": {},
   "source": [
    "<a id='section_12'></a>\n",
    "# Part 3 - **Model Building**"
   ]
  },
  {
   "cell_type": "code",
   "execution_count": 17,
   "metadata": {},
   "outputs": [],
   "source": [
    "x  =  df.drop ('AE' , axis=1)\n",
    "y  =  df ['AE']\n",
    "\n",
    "x_train , x_test , y_train , y_test   =   train_test_split (x, y, test_size=0.3, random_state=42)"
   ]
  },
  {
   "cell_type": "markdown",
   "metadata": {},
   "source": [
    "<a id='section_13'></a>\n",
    "## **1 - LiR**"
   ]
  },
  {
   "cell_type": "code",
   "execution_count": 18,
   "metadata": {},
   "outputs": [
    {
     "data": {
      "text/plain": [
       "LinearRegression()"
      ]
     },
     "execution_count": 18,
     "metadata": {},
     "output_type": "execute_result"
    }
   ],
   "source": [
    "lr = LinearRegression()                                       \n",
    "\n",
    "lr.fit (x_train , y_train)             "
   ]
  },
  {
   "cell_type": "markdown",
   "metadata": {},
   "source": [
    "<a id='section_14'></a>\n",
    "## **2 - RF**"
   ]
  },
  {
   "cell_type": "code",
   "execution_count": 19,
   "metadata": {},
   "outputs": [],
   "source": [
    "kf  =  KFold ( n_splits =3 ,  shuffle =True ,  random_state =42 )"
   ]
  },
  {
   "cell_type": "code",
   "execution_count": 20,
   "metadata": {},
   "outputs": [
    {
     "data": {
      "text/plain": [
       "{'n_estimators': 23, 'max_depth': 12}"
      ]
     },
     "execution_count": 20,
     "metadata": {},
     "output_type": "execute_result"
    }
   ],
   "source": [
    "RF    =  RandomForestRegressor()\n",
    "\n",
    "param =  { 'n_estimators':np.arange(1,30) , 'max_depth':np.arange(1,20) }\n",
    "\n",
    "GS    =  RandomizedSearchCV (RF , param , cv=kf , scoring='r2')\n",
    "\n",
    "GS.fit (x_train , y_train)\n",
    "\n",
    "GS.best_params_"
   ]
  },
  {
   "cell_type": "code",
   "execution_count": 21,
   "metadata": {},
   "outputs": [
    {
     "data": {
      "text/plain": [
       "RandomForestRegressor(max_depth=7, n_estimators=18, random_state=0)"
      ]
     },
     "execution_count": 21,
     "metadata": {},
     "output_type": "execute_result"
    }
   ],
   "source": [
    "RF = RandomForestRegressor ( n_estimators=23 , max_depth =12 , random_state=0)  \n",
    "\n",
    "RF.fit (x_train , y_train)"
   ]
  },
  {
   "cell_type": "markdown",
   "metadata": {},
   "source": [
    "<a id='section_15'></a>\n",
    "# Part 4 - **Model Selection**"
   ]
  },
  {
   "cell_type": "code",
   "execution_count": 22,
   "metadata": {},
   "outputs": [],
   "source": [
    "models = []\n",
    "\n",
    "models.append  (( 'LiR'     ,  lr      ))\n",
    "models.append  (( 'RF'      ,  RF      ))"
   ]
  },
  {
   "cell_type": "markdown",
   "metadata": {},
   "source": [
    "<a id='section_16'></a>\n",
    "### **Fitting**"
   ]
  },
  {
   "cell_type": "code",
   "execution_count": 23,
   "metadata": {},
   "outputs": [
    {
     "name": "stdout",
     "output_type": "stream",
     "text": [
      "LiR\n",
      "0.048863466140929616\n",
      "0.0536248926105333\n",
      "RF\n",
      "0.03414370158245353\n",
      "0.05392269784154538\n"
     ]
    }
   ],
   "source": [
    "result = []\n",
    "\n",
    "for i,j in models:\n",
    "\n",
    "    print(i)\n",
    "    \n",
    "    y_train_pred  =  j.predict (x_train)\n",
    "    y_test_pred   =  j.predict (x_test)\n",
    "                   \n",
    "    print  (  ( mean_squared_error  ( y_train , y_train_pred )) **0.5    )                                 \n",
    "    print  (  ( mean_squared_error  ( y_test  , y_test_pred  )) **0.5    )"
   ]
  },
  {
   "cell_type": "markdown",
   "metadata": {},
   "source": [
    "<a id='section_17'></a>\n",
    "### **Validation**"
   ]
  },
  {
   "cell_type": "code",
   "execution_count": 24,
   "metadata": {},
   "outputs": [
    {
     "data": {
      "text/html": [
       "<div>\n",
       "<style scoped>\n",
       "    .dataframe tbody tr th:only-of-type {\n",
       "        vertical-align: middle;\n",
       "    }\n",
       "\n",
       "    .dataframe tbody tr th {\n",
       "        vertical-align: top;\n",
       "    }\n",
       "\n",
       "    .dataframe thead th {\n",
       "        text-align: right;\n",
       "    }\n",
       "</style>\n",
       "<table border=\"1\" class=\"dataframe\">\n",
       "  <thead>\n",
       "    <tr style=\"text-align: right;\">\n",
       "      <th></th>\n",
       "      <th>Name</th>\n",
       "      <th>BE</th>\n",
       "      <th>VE</th>\n",
       "    </tr>\n",
       "  </thead>\n",
       "  <tbody>\n",
       "    <tr>\n",
       "      <th>0</th>\n",
       "      <td>LiR</td>\n",
       "      <td>0.751104</td>\n",
       "      <td>0.087709</td>\n",
       "    </tr>\n",
       "    <tr>\n",
       "      <th>1</th>\n",
       "      <td>RF</td>\n",
       "      <td>0.800080</td>\n",
       "      <td>0.085103</td>\n",
       "    </tr>\n",
       "  </tbody>\n",
       "</table>\n",
       "</div>"
      ],
      "text/plain": [
       "  Name        BE        VE\n",
       "0  LiR  0.751104  0.087709\n",
       "1   RF  0.800080  0.085103"
      ]
     },
     "execution_count": 24,
     "metadata": {},
     "output_type": "execute_result"
    }
   ],
   "source": [
    "result = []\n",
    "\n",
    "for  i,j  in  models:\n",
    "    \n",
    "    score = cross_val_score ( j , x_train , y_train , cv =kf, scoring ='r2' )\n",
    "    \n",
    "    result.append ( { 'Name': i   ,   'BE': np.mean(1-score)   ,   'VE': np.std(score,ddof=1)  } )                \n",
    "\n",
    "\n",
    "table = pd.DataFrame(result)\n",
    "table"
   ]
  },
  {
   "cell_type": "markdown",
   "metadata": {},
   "source": [
    "<a id='section_18'></a>\n",
    "### **Best Model**"
   ]
  },
  {
   "cell_type": "markdown",
   "metadata": {},
   "source": [
    "## *Linear Regression*"
   ]
  }
 ],
 "metadata": {
  "colab": {
   "collapsed_sections": [],
   "name": "Case_study_Sports_Analytics_Baseball.ipynb",
   "provenance": []
  },
  "kernelspec": {
   "display_name": "Python 3",
   "language": "python",
   "name": "python3"
  },
  "language_info": {
   "codemirror_mode": {
    "name": "ipython",
    "version": 3
   },
   "file_extension": ".py",
   "mimetype": "text/x-python",
   "name": "python",
   "nbconvert_exporter": "python",
   "pygments_lexer": "ipython3",
   "version": "3.7.4"
  }
 },
 "nbformat": 4,
 "nbformat_minor": 4
}
